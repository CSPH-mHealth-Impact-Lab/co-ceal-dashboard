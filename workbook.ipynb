{
 "cells": [
  {
   "cell_type": "code",
   "execution_count": 1,
   "metadata": {},
   "outputs": [
    {
     "data": {
      "text/plain": [
       "True"
      ]
     },
     "execution_count": 1,
     "metadata": {},
     "output_type": "execute_result"
    }
   ],
   "source": [
    "import dash_bootstrap_components as dbc\n",
    "from dash import html, dcc, callback, Input, Output\n",
    "import dash\n",
    "import pandas as pd\n",
    "from custom_functions.custom_functions import *\n",
    "import os\n",
    "from dotenv import load_dotenv\n",
    "import plotly.express as px\n",
    "load_dotenv()"
   ]
  },
  {
   "cell_type": "code",
   "execution_count": 2,
   "metadata": {},
   "outputs": [],
   "source": [
    "wave2_df = pd.read_excel(\"data/wave_2.xlsx\",engine='openpyxl')\n",
    "\n",
    "displayModeBar_str = os.environ.get(\"displayModeBar\", \"True\")\n",
    "displayModeBar = displayModeBar_str.lower() == \"true\"\n",
    "displaylogo_str = os.environ.get(\"displaylogo\", \"True\")\n",
    "displaylogo = displaylogo_str.lower() == \"true\""
   ]
  },
  {
   "cell_type": "code",
   "execution_count": 3,
   "metadata": {},
   "outputs": [
    {
     "data": {
      "text/plain": [
       "Community\n",
       "SLV Rural Latina/o/x                          194\n",
       "DENVER Urban AA/Black                         187\n",
       "FT MORGAN/GREELEY Rural AA/Black              185\n",
       "DENVER Urban Latina/o/x                       142\n",
       "PUEBLO Urban Latina/o/x                       100\n",
       "DENVER Urban American Indian/Alaska Native     61\n",
       "Name: count, dtype: int64"
      ]
     },
     "execution_count": 3,
     "metadata": {},
     "output_type": "execute_result"
    }
   ],
   "source": [
    "wave2_df['Community'].value_counts(dropna=False)"
   ]
  },
  {
   "cell_type": "code",
   "execution_count": 4,
   "metadata": {},
   "outputs": [
    {
     "data": {
      "text/plain": [
       "Are you Hispanic or Latino? \n",
       "Yes                     439\n",
       "No                      420\n",
       "Prefer not to answer      9\n",
       "NaN                       1\n",
       "Name: count, dtype: int64"
      ]
     },
     "execution_count": 4,
     "metadata": {},
     "output_type": "execute_result"
    }
   ],
   "source": [
    "wave2_df['Are you Hispanic or Latino? '].value_counts(dropna=False)"
   ]
  },
  {
   "cell_type": "code",
   "execution_count": 5,
   "metadata": {},
   "outputs": [],
   "source": [
    "wave2_df['Are you Hispanic or Latino? '].fillna('Unknown',inplace=True)"
   ]
  },
  {
   "cell_type": "code",
   "execution_count": 90,
   "metadata": {},
   "outputs": [
    {
     "data": {
      "application/vnd.plotly.v1+json": {
       "config": {
        "plotlyServerURL": "https://plot.ly"
       },
       "data": [
        {
         "branchvalues": "total",
         "domain": {
          "x": [
           0,
           1
          ],
          "y": [
           0,
           1
          ]
         },
         "hovertemplate": "labels=%{label}<br>counter_column=%{value}<br>parent=%{parent}<br>id=%{id}<extra></extra>",
         "ids": [
          "DENVER Urban AA/Black/No",
          "DENVER Urban American Indian/Alaska Native/No",
          "DENVER Urban Latina/o/x/No",
          "FT MORGAN/GREELEY Rural AA/Black/No",
          "PUEBLO Urban Latina/o/x/No",
          "SLV Rural Latina/o/x/No",
          "DENVER Urban AA/Black/Prefer not to answer",
          "DENVER Urban American Indian/Alaska Native/Prefer not to answer",
          "DENVER Urban Latina/o/x/Prefer not to answer",
          "PUEBLO Urban Latina/o/x/Prefer not to answer",
          "SLV Rural Latina/o/x/Prefer not to answer",
          "DENVER Urban AA/Black/Unknown",
          "DENVER Urban AA/Black/Yes",
          "DENVER Urban American Indian/Alaska Native/Yes",
          "DENVER Urban Latina/o/x/Yes",
          "FT MORGAN/GREELEY Rural AA/Black/Yes",
          "PUEBLO Urban Latina/o/x/Yes",
          "SLV Rural Latina/o/x/Yes",
          "DENVER Urban AA/Black",
          "DENVER Urban American Indian/Alaska Native",
          "DENVER Urban Latina/o/x",
          "FT MORGAN/GREELEY Rural AA/Black",
          "PUEBLO Urban Latina/o/x",
          "SLV Rural Latina/o/x"
         ],
         "labels": [
          "No",
          "No",
          "No",
          "No",
          "No",
          "No",
          "Prefer not to answer",
          "Prefer not to answer",
          "Prefer not to answer",
          "Prefer not to answer",
          "Prefer not to answer",
          "Unknown",
          "Yes",
          "Yes",
          "Yes",
          "Yes",
          "Yes",
          "Yes",
          "DENVER Urban AA/Black",
          "DENVER Urban American Indian/Alaska Native",
          "DENVER Urban Latina/o/x",
          "FT MORGAN/GREELEY Rural AA/Black",
          "PUEBLO Urban Latina/o/x",
          "SLV Rural Latina/o/x"
         ],
         "name": "",
         "parents": [
          "DENVER Urban AA/Black",
          "DENVER Urban American Indian/Alaska Native",
          "DENVER Urban Latina/o/x",
          "FT MORGAN/GREELEY Rural AA/Black",
          "PUEBLO Urban Latina/o/x",
          "SLV Rural Latina/o/x",
          "DENVER Urban AA/Black",
          "DENVER Urban American Indian/Alaska Native",
          "DENVER Urban Latina/o/x",
          "PUEBLO Urban Latina/o/x",
          "SLV Rural Latina/o/x",
          "DENVER Urban AA/Black",
          "DENVER Urban AA/Black",
          "DENVER Urban American Indian/Alaska Native",
          "DENVER Urban Latina/o/x",
          "FT MORGAN/GREELEY Rural AA/Black",
          "PUEBLO Urban Latina/o/x",
          "SLV Rural Latina/o/x",
          "",
          "",
          "",
          "",
          "",
          ""
         ],
         "type": "sunburst",
         "values": [
          176,
          45,
          2,
          183,
          8,
          6,
          3,
          1,
          1,
          2,
          2,
          1,
          7,
          15,
          139,
          2,
          90,
          186,
          187,
          61,
          142,
          185,
          100,
          194
         ]
        }
       ],
       "layout": {
        "legend": {
         "tracegroupgap": 0
        },
        "margin": {
         "t": 60
        },
        "template": {
         "data": {
          "bar": [
           {
            "error_x": {
             "color": "#2a3f5f"
            },
            "error_y": {
             "color": "#2a3f5f"
            },
            "marker": {
             "line": {
              "color": "#E5ECF6",
              "width": 0.5
             },
             "pattern": {
              "fillmode": "overlay",
              "size": 10,
              "solidity": 0.2
             }
            },
            "type": "bar"
           }
          ],
          "barpolar": [
           {
            "marker": {
             "line": {
              "color": "#E5ECF6",
              "width": 0.5
             },
             "pattern": {
              "fillmode": "overlay",
              "size": 10,
              "solidity": 0.2
             }
            },
            "type": "barpolar"
           }
          ],
          "carpet": [
           {
            "aaxis": {
             "endlinecolor": "#2a3f5f",
             "gridcolor": "white",
             "linecolor": "white",
             "minorgridcolor": "white",
             "startlinecolor": "#2a3f5f"
            },
            "baxis": {
             "endlinecolor": "#2a3f5f",
             "gridcolor": "white",
             "linecolor": "white",
             "minorgridcolor": "white",
             "startlinecolor": "#2a3f5f"
            },
            "type": "carpet"
           }
          ],
          "choropleth": [
           {
            "colorbar": {
             "outlinewidth": 0,
             "ticks": ""
            },
            "type": "choropleth"
           }
          ],
          "contour": [
           {
            "colorbar": {
             "outlinewidth": 0,
             "ticks": ""
            },
            "colorscale": [
             [
              0,
              "#0d0887"
             ],
             [
              0.1111111111111111,
              "#46039f"
             ],
             [
              0.2222222222222222,
              "#7201a8"
             ],
             [
              0.3333333333333333,
              "#9c179e"
             ],
             [
              0.4444444444444444,
              "#bd3786"
             ],
             [
              0.5555555555555556,
              "#d8576b"
             ],
             [
              0.6666666666666666,
              "#ed7953"
             ],
             [
              0.7777777777777778,
              "#fb9f3a"
             ],
             [
              0.8888888888888888,
              "#fdca26"
             ],
             [
              1,
              "#f0f921"
             ]
            ],
            "type": "contour"
           }
          ],
          "contourcarpet": [
           {
            "colorbar": {
             "outlinewidth": 0,
             "ticks": ""
            },
            "type": "contourcarpet"
           }
          ],
          "heatmap": [
           {
            "colorbar": {
             "outlinewidth": 0,
             "ticks": ""
            },
            "colorscale": [
             [
              0,
              "#0d0887"
             ],
             [
              0.1111111111111111,
              "#46039f"
             ],
             [
              0.2222222222222222,
              "#7201a8"
             ],
             [
              0.3333333333333333,
              "#9c179e"
             ],
             [
              0.4444444444444444,
              "#bd3786"
             ],
             [
              0.5555555555555556,
              "#d8576b"
             ],
             [
              0.6666666666666666,
              "#ed7953"
             ],
             [
              0.7777777777777778,
              "#fb9f3a"
             ],
             [
              0.8888888888888888,
              "#fdca26"
             ],
             [
              1,
              "#f0f921"
             ]
            ],
            "type": "heatmap"
           }
          ],
          "heatmapgl": [
           {
            "colorbar": {
             "outlinewidth": 0,
             "ticks": ""
            },
            "colorscale": [
             [
              0,
              "#0d0887"
             ],
             [
              0.1111111111111111,
              "#46039f"
             ],
             [
              0.2222222222222222,
              "#7201a8"
             ],
             [
              0.3333333333333333,
              "#9c179e"
             ],
             [
              0.4444444444444444,
              "#bd3786"
             ],
             [
              0.5555555555555556,
              "#d8576b"
             ],
             [
              0.6666666666666666,
              "#ed7953"
             ],
             [
              0.7777777777777778,
              "#fb9f3a"
             ],
             [
              0.8888888888888888,
              "#fdca26"
             ],
             [
              1,
              "#f0f921"
             ]
            ],
            "type": "heatmapgl"
           }
          ],
          "histogram": [
           {
            "marker": {
             "pattern": {
              "fillmode": "overlay",
              "size": 10,
              "solidity": 0.2
             }
            },
            "type": "histogram"
           }
          ],
          "histogram2d": [
           {
            "colorbar": {
             "outlinewidth": 0,
             "ticks": ""
            },
            "colorscale": [
             [
              0,
              "#0d0887"
             ],
             [
              0.1111111111111111,
              "#46039f"
             ],
             [
              0.2222222222222222,
              "#7201a8"
             ],
             [
              0.3333333333333333,
              "#9c179e"
             ],
             [
              0.4444444444444444,
              "#bd3786"
             ],
             [
              0.5555555555555556,
              "#d8576b"
             ],
             [
              0.6666666666666666,
              "#ed7953"
             ],
             [
              0.7777777777777778,
              "#fb9f3a"
             ],
             [
              0.8888888888888888,
              "#fdca26"
             ],
             [
              1,
              "#f0f921"
             ]
            ],
            "type": "histogram2d"
           }
          ],
          "histogram2dcontour": [
           {
            "colorbar": {
             "outlinewidth": 0,
             "ticks": ""
            },
            "colorscale": [
             [
              0,
              "#0d0887"
             ],
             [
              0.1111111111111111,
              "#46039f"
             ],
             [
              0.2222222222222222,
              "#7201a8"
             ],
             [
              0.3333333333333333,
              "#9c179e"
             ],
             [
              0.4444444444444444,
              "#bd3786"
             ],
             [
              0.5555555555555556,
              "#d8576b"
             ],
             [
              0.6666666666666666,
              "#ed7953"
             ],
             [
              0.7777777777777778,
              "#fb9f3a"
             ],
             [
              0.8888888888888888,
              "#fdca26"
             ],
             [
              1,
              "#f0f921"
             ]
            ],
            "type": "histogram2dcontour"
           }
          ],
          "mesh3d": [
           {
            "colorbar": {
             "outlinewidth": 0,
             "ticks": ""
            },
            "type": "mesh3d"
           }
          ],
          "parcoords": [
           {
            "line": {
             "colorbar": {
              "outlinewidth": 0,
              "ticks": ""
             }
            },
            "type": "parcoords"
           }
          ],
          "pie": [
           {
            "automargin": true,
            "type": "pie"
           }
          ],
          "scatter": [
           {
            "fillpattern": {
             "fillmode": "overlay",
             "size": 10,
             "solidity": 0.2
            },
            "type": "scatter"
           }
          ],
          "scatter3d": [
           {
            "line": {
             "colorbar": {
              "outlinewidth": 0,
              "ticks": ""
             }
            },
            "marker": {
             "colorbar": {
              "outlinewidth": 0,
              "ticks": ""
             }
            },
            "type": "scatter3d"
           }
          ],
          "scattercarpet": [
           {
            "marker": {
             "colorbar": {
              "outlinewidth": 0,
              "ticks": ""
             }
            },
            "type": "scattercarpet"
           }
          ],
          "scattergeo": [
           {
            "marker": {
             "colorbar": {
              "outlinewidth": 0,
              "ticks": ""
             }
            },
            "type": "scattergeo"
           }
          ],
          "scattergl": [
           {
            "marker": {
             "colorbar": {
              "outlinewidth": 0,
              "ticks": ""
             }
            },
            "type": "scattergl"
           }
          ],
          "scattermapbox": [
           {
            "marker": {
             "colorbar": {
              "outlinewidth": 0,
              "ticks": ""
             }
            },
            "type": "scattermapbox"
           }
          ],
          "scatterpolar": [
           {
            "marker": {
             "colorbar": {
              "outlinewidth": 0,
              "ticks": ""
             }
            },
            "type": "scatterpolar"
           }
          ],
          "scatterpolargl": [
           {
            "marker": {
             "colorbar": {
              "outlinewidth": 0,
              "ticks": ""
             }
            },
            "type": "scatterpolargl"
           }
          ],
          "scatterternary": [
           {
            "marker": {
             "colorbar": {
              "outlinewidth": 0,
              "ticks": ""
             }
            },
            "type": "scatterternary"
           }
          ],
          "surface": [
           {
            "colorbar": {
             "outlinewidth": 0,
             "ticks": ""
            },
            "colorscale": [
             [
              0,
              "#0d0887"
             ],
             [
              0.1111111111111111,
              "#46039f"
             ],
             [
              0.2222222222222222,
              "#7201a8"
             ],
             [
              0.3333333333333333,
              "#9c179e"
             ],
             [
              0.4444444444444444,
              "#bd3786"
             ],
             [
              0.5555555555555556,
              "#d8576b"
             ],
             [
              0.6666666666666666,
              "#ed7953"
             ],
             [
              0.7777777777777778,
              "#fb9f3a"
             ],
             [
              0.8888888888888888,
              "#fdca26"
             ],
             [
              1,
              "#f0f921"
             ]
            ],
            "type": "surface"
           }
          ],
          "table": [
           {
            "cells": {
             "fill": {
              "color": "#EBF0F8"
             },
             "line": {
              "color": "white"
             }
            },
            "header": {
             "fill": {
              "color": "#C8D4E3"
             },
             "line": {
              "color": "white"
             }
            },
            "type": "table"
           }
          ]
         },
         "layout": {
          "annotationdefaults": {
           "arrowcolor": "#2a3f5f",
           "arrowhead": 0,
           "arrowwidth": 1
          },
          "autotypenumbers": "strict",
          "coloraxis": {
           "colorbar": {
            "outlinewidth": 0,
            "ticks": ""
           }
          },
          "colorscale": {
           "diverging": [
            [
             0,
             "#8e0152"
            ],
            [
             0.1,
             "#c51b7d"
            ],
            [
             0.2,
             "#de77ae"
            ],
            [
             0.3,
             "#f1b6da"
            ],
            [
             0.4,
             "#fde0ef"
            ],
            [
             0.5,
             "#f7f7f7"
            ],
            [
             0.6,
             "#e6f5d0"
            ],
            [
             0.7,
             "#b8e186"
            ],
            [
             0.8,
             "#7fbc41"
            ],
            [
             0.9,
             "#4d9221"
            ],
            [
             1,
             "#276419"
            ]
           ],
           "sequential": [
            [
             0,
             "#0d0887"
            ],
            [
             0.1111111111111111,
             "#46039f"
            ],
            [
             0.2222222222222222,
             "#7201a8"
            ],
            [
             0.3333333333333333,
             "#9c179e"
            ],
            [
             0.4444444444444444,
             "#bd3786"
            ],
            [
             0.5555555555555556,
             "#d8576b"
            ],
            [
             0.6666666666666666,
             "#ed7953"
            ],
            [
             0.7777777777777778,
             "#fb9f3a"
            ],
            [
             0.8888888888888888,
             "#fdca26"
            ],
            [
             1,
             "#f0f921"
            ]
           ],
           "sequentialminus": [
            [
             0,
             "#0d0887"
            ],
            [
             0.1111111111111111,
             "#46039f"
            ],
            [
             0.2222222222222222,
             "#7201a8"
            ],
            [
             0.3333333333333333,
             "#9c179e"
            ],
            [
             0.4444444444444444,
             "#bd3786"
            ],
            [
             0.5555555555555556,
             "#d8576b"
            ],
            [
             0.6666666666666666,
             "#ed7953"
            ],
            [
             0.7777777777777778,
             "#fb9f3a"
            ],
            [
             0.8888888888888888,
             "#fdca26"
            ],
            [
             1,
             "#f0f921"
            ]
           ]
          },
          "colorway": [
           "#636efa",
           "#EF553B",
           "#00cc96",
           "#ab63fa",
           "#FFA15A",
           "#19d3f3",
           "#FF6692",
           "#B6E880",
           "#FF97FF",
           "#FECB52"
          ],
          "font": {
           "color": "#2a3f5f"
          },
          "geo": {
           "bgcolor": "white",
           "lakecolor": "white",
           "landcolor": "#E5ECF6",
           "showlakes": true,
           "showland": true,
           "subunitcolor": "white"
          },
          "hoverlabel": {
           "align": "left"
          },
          "hovermode": "closest",
          "mapbox": {
           "style": "light"
          },
          "paper_bgcolor": "white",
          "plot_bgcolor": "#E5ECF6",
          "polar": {
           "angularaxis": {
            "gridcolor": "white",
            "linecolor": "white",
            "ticks": ""
           },
           "bgcolor": "#E5ECF6",
           "radialaxis": {
            "gridcolor": "white",
            "linecolor": "white",
            "ticks": ""
           }
          },
          "scene": {
           "xaxis": {
            "backgroundcolor": "#E5ECF6",
            "gridcolor": "white",
            "gridwidth": 2,
            "linecolor": "white",
            "showbackground": true,
            "ticks": "",
            "zerolinecolor": "white"
           },
           "yaxis": {
            "backgroundcolor": "#E5ECF6",
            "gridcolor": "white",
            "gridwidth": 2,
            "linecolor": "white",
            "showbackground": true,
            "ticks": "",
            "zerolinecolor": "white"
           },
           "zaxis": {
            "backgroundcolor": "#E5ECF6",
            "gridcolor": "white",
            "gridwidth": 2,
            "linecolor": "white",
            "showbackground": true,
            "ticks": "",
            "zerolinecolor": "white"
           }
          },
          "shapedefaults": {
           "line": {
            "color": "#2a3f5f"
           }
          },
          "ternary": {
           "aaxis": {
            "gridcolor": "white",
            "linecolor": "white",
            "ticks": ""
           },
           "baxis": {
            "gridcolor": "white",
            "linecolor": "white",
            "ticks": ""
           },
           "bgcolor": "#E5ECF6",
           "caxis": {
            "gridcolor": "white",
            "linecolor": "white",
            "ticks": ""
           }
          },
          "title": {
           "x": 0.05
          },
          "xaxis": {
           "automargin": true,
           "gridcolor": "white",
           "linecolor": "white",
           "ticks": "",
           "title": {
            "standoff": 15
           },
           "zerolinecolor": "white",
           "zerolinewidth": 2
          },
          "yaxis": {
           "automargin": true,
           "gridcolor": "white",
           "linecolor": "white",
           "ticks": "",
           "title": {
            "standoff": 15
           },
           "zerolinecolor": "white",
           "zerolinewidth": 2
          }
         }
        }
       }
      }
     },
     "metadata": {},
     "output_type": "display_data"
    }
   ],
   "source": [
    "px.sunburst(wave2_df, path=['Community','Are you Hispanic or Latino? '], values='counter_column', branchvalues='total')"
   ]
  },
  {
   "cell_type": "code",
   "execution_count": 51,
   "metadata": {},
   "outputs": [
    {
     "data": {
      "application/vnd.plotly.v1+json": {
       "config": {
        "plotlyServerURL": "https://plot.ly"
       },
       "data": [
        {
         "branchvalues": "total",
         "labels": [
          "Eve",
          "Cain",
          "Seth",
          "Enos",
          "Noam",
          "Abel",
          "Awan",
          "Enoch",
          "Azura"
         ],
         "parents": [
          "",
          "Eve",
          "Eve",
          "Seth",
          "Seth",
          "Eve",
          "Eve",
          "Awan",
          "Eve"
         ],
         "type": "sunburst",
         "values": [
          65,
          14,
          12,
          10,
          2,
          6,
          6,
          4,
          4
         ]
        }
       ],
       "layout": {
        "margin": {
         "b": 0,
         "l": 0,
         "r": 0,
         "t": 0
        },
        "template": {
         "data": {
          "bar": [
           {
            "error_x": {
             "color": "#2a3f5f"
            },
            "error_y": {
             "color": "#2a3f5f"
            },
            "marker": {
             "line": {
              "color": "#E5ECF6",
              "width": 0.5
             },
             "pattern": {
              "fillmode": "overlay",
              "size": 10,
              "solidity": 0.2
             }
            },
            "type": "bar"
           }
          ],
          "barpolar": [
           {
            "marker": {
             "line": {
              "color": "#E5ECF6",
              "width": 0.5
             },
             "pattern": {
              "fillmode": "overlay",
              "size": 10,
              "solidity": 0.2
             }
            },
            "type": "barpolar"
           }
          ],
          "carpet": [
           {
            "aaxis": {
             "endlinecolor": "#2a3f5f",
             "gridcolor": "white",
             "linecolor": "white",
             "minorgridcolor": "white",
             "startlinecolor": "#2a3f5f"
            },
            "baxis": {
             "endlinecolor": "#2a3f5f",
             "gridcolor": "white",
             "linecolor": "white",
             "minorgridcolor": "white",
             "startlinecolor": "#2a3f5f"
            },
            "type": "carpet"
           }
          ],
          "choropleth": [
           {
            "colorbar": {
             "outlinewidth": 0,
             "ticks": ""
            },
            "type": "choropleth"
           }
          ],
          "contour": [
           {
            "colorbar": {
             "outlinewidth": 0,
             "ticks": ""
            },
            "colorscale": [
             [
              0,
              "#0d0887"
             ],
             [
              0.1111111111111111,
              "#46039f"
             ],
             [
              0.2222222222222222,
              "#7201a8"
             ],
             [
              0.3333333333333333,
              "#9c179e"
             ],
             [
              0.4444444444444444,
              "#bd3786"
             ],
             [
              0.5555555555555556,
              "#d8576b"
             ],
             [
              0.6666666666666666,
              "#ed7953"
             ],
             [
              0.7777777777777778,
              "#fb9f3a"
             ],
             [
              0.8888888888888888,
              "#fdca26"
             ],
             [
              1,
              "#f0f921"
             ]
            ],
            "type": "contour"
           }
          ],
          "contourcarpet": [
           {
            "colorbar": {
             "outlinewidth": 0,
             "ticks": ""
            },
            "type": "contourcarpet"
           }
          ],
          "heatmap": [
           {
            "colorbar": {
             "outlinewidth": 0,
             "ticks": ""
            },
            "colorscale": [
             [
              0,
              "#0d0887"
             ],
             [
              0.1111111111111111,
              "#46039f"
             ],
             [
              0.2222222222222222,
              "#7201a8"
             ],
             [
              0.3333333333333333,
              "#9c179e"
             ],
             [
              0.4444444444444444,
              "#bd3786"
             ],
             [
              0.5555555555555556,
              "#d8576b"
             ],
             [
              0.6666666666666666,
              "#ed7953"
             ],
             [
              0.7777777777777778,
              "#fb9f3a"
             ],
             [
              0.8888888888888888,
              "#fdca26"
             ],
             [
              1,
              "#f0f921"
             ]
            ],
            "type": "heatmap"
           }
          ],
          "heatmapgl": [
           {
            "colorbar": {
             "outlinewidth": 0,
             "ticks": ""
            },
            "colorscale": [
             [
              0,
              "#0d0887"
             ],
             [
              0.1111111111111111,
              "#46039f"
             ],
             [
              0.2222222222222222,
              "#7201a8"
             ],
             [
              0.3333333333333333,
              "#9c179e"
             ],
             [
              0.4444444444444444,
              "#bd3786"
             ],
             [
              0.5555555555555556,
              "#d8576b"
             ],
             [
              0.6666666666666666,
              "#ed7953"
             ],
             [
              0.7777777777777778,
              "#fb9f3a"
             ],
             [
              0.8888888888888888,
              "#fdca26"
             ],
             [
              1,
              "#f0f921"
             ]
            ],
            "type": "heatmapgl"
           }
          ],
          "histogram": [
           {
            "marker": {
             "pattern": {
              "fillmode": "overlay",
              "size": 10,
              "solidity": 0.2
             }
            },
            "type": "histogram"
           }
          ],
          "histogram2d": [
           {
            "colorbar": {
             "outlinewidth": 0,
             "ticks": ""
            },
            "colorscale": [
             [
              0,
              "#0d0887"
             ],
             [
              0.1111111111111111,
              "#46039f"
             ],
             [
              0.2222222222222222,
              "#7201a8"
             ],
             [
              0.3333333333333333,
              "#9c179e"
             ],
             [
              0.4444444444444444,
              "#bd3786"
             ],
             [
              0.5555555555555556,
              "#d8576b"
             ],
             [
              0.6666666666666666,
              "#ed7953"
             ],
             [
              0.7777777777777778,
              "#fb9f3a"
             ],
             [
              0.8888888888888888,
              "#fdca26"
             ],
             [
              1,
              "#f0f921"
             ]
            ],
            "type": "histogram2d"
           }
          ],
          "histogram2dcontour": [
           {
            "colorbar": {
             "outlinewidth": 0,
             "ticks": ""
            },
            "colorscale": [
             [
              0,
              "#0d0887"
             ],
             [
              0.1111111111111111,
              "#46039f"
             ],
             [
              0.2222222222222222,
              "#7201a8"
             ],
             [
              0.3333333333333333,
              "#9c179e"
             ],
             [
              0.4444444444444444,
              "#bd3786"
             ],
             [
              0.5555555555555556,
              "#d8576b"
             ],
             [
              0.6666666666666666,
              "#ed7953"
             ],
             [
              0.7777777777777778,
              "#fb9f3a"
             ],
             [
              0.8888888888888888,
              "#fdca26"
             ],
             [
              1,
              "#f0f921"
             ]
            ],
            "type": "histogram2dcontour"
           }
          ],
          "mesh3d": [
           {
            "colorbar": {
             "outlinewidth": 0,
             "ticks": ""
            },
            "type": "mesh3d"
           }
          ],
          "parcoords": [
           {
            "line": {
             "colorbar": {
              "outlinewidth": 0,
              "ticks": ""
             }
            },
            "type": "parcoords"
           }
          ],
          "pie": [
           {
            "automargin": true,
            "type": "pie"
           }
          ],
          "scatter": [
           {
            "fillpattern": {
             "fillmode": "overlay",
             "size": 10,
             "solidity": 0.2
            },
            "type": "scatter"
           }
          ],
          "scatter3d": [
           {
            "line": {
             "colorbar": {
              "outlinewidth": 0,
              "ticks": ""
             }
            },
            "marker": {
             "colorbar": {
              "outlinewidth": 0,
              "ticks": ""
             }
            },
            "type": "scatter3d"
           }
          ],
          "scattercarpet": [
           {
            "marker": {
             "colorbar": {
              "outlinewidth": 0,
              "ticks": ""
             }
            },
            "type": "scattercarpet"
           }
          ],
          "scattergeo": [
           {
            "marker": {
             "colorbar": {
              "outlinewidth": 0,
              "ticks": ""
             }
            },
            "type": "scattergeo"
           }
          ],
          "scattergl": [
           {
            "marker": {
             "colorbar": {
              "outlinewidth": 0,
              "ticks": ""
             }
            },
            "type": "scattergl"
           }
          ],
          "scattermapbox": [
           {
            "marker": {
             "colorbar": {
              "outlinewidth": 0,
              "ticks": ""
             }
            },
            "type": "scattermapbox"
           }
          ],
          "scatterpolar": [
           {
            "marker": {
             "colorbar": {
              "outlinewidth": 0,
              "ticks": ""
             }
            },
            "type": "scatterpolar"
           }
          ],
          "scatterpolargl": [
           {
            "marker": {
             "colorbar": {
              "outlinewidth": 0,
              "ticks": ""
             }
            },
            "type": "scatterpolargl"
           }
          ],
          "scatterternary": [
           {
            "marker": {
             "colorbar": {
              "outlinewidth": 0,
              "ticks": ""
             }
            },
            "type": "scatterternary"
           }
          ],
          "surface": [
           {
            "colorbar": {
             "outlinewidth": 0,
             "ticks": ""
            },
            "colorscale": [
             [
              0,
              "#0d0887"
             ],
             [
              0.1111111111111111,
              "#46039f"
             ],
             [
              0.2222222222222222,
              "#7201a8"
             ],
             [
              0.3333333333333333,
              "#9c179e"
             ],
             [
              0.4444444444444444,
              "#bd3786"
             ],
             [
              0.5555555555555556,
              "#d8576b"
             ],
             [
              0.6666666666666666,
              "#ed7953"
             ],
             [
              0.7777777777777778,
              "#fb9f3a"
             ],
             [
              0.8888888888888888,
              "#fdca26"
             ],
             [
              1,
              "#f0f921"
             ]
            ],
            "type": "surface"
           }
          ],
          "table": [
           {
            "cells": {
             "fill": {
              "color": "#EBF0F8"
             },
             "line": {
              "color": "white"
             }
            },
            "header": {
             "fill": {
              "color": "#C8D4E3"
             },
             "line": {
              "color": "white"
             }
            },
            "type": "table"
           }
          ]
         },
         "layout": {
          "annotationdefaults": {
           "arrowcolor": "#2a3f5f",
           "arrowhead": 0,
           "arrowwidth": 1
          },
          "autotypenumbers": "strict",
          "coloraxis": {
           "colorbar": {
            "outlinewidth": 0,
            "ticks": ""
           }
          },
          "colorscale": {
           "diverging": [
            [
             0,
             "#8e0152"
            ],
            [
             0.1,
             "#c51b7d"
            ],
            [
             0.2,
             "#de77ae"
            ],
            [
             0.3,
             "#f1b6da"
            ],
            [
             0.4,
             "#fde0ef"
            ],
            [
             0.5,
             "#f7f7f7"
            ],
            [
             0.6,
             "#e6f5d0"
            ],
            [
             0.7,
             "#b8e186"
            ],
            [
             0.8,
             "#7fbc41"
            ],
            [
             0.9,
             "#4d9221"
            ],
            [
             1,
             "#276419"
            ]
           ],
           "sequential": [
            [
             0,
             "#0d0887"
            ],
            [
             0.1111111111111111,
             "#46039f"
            ],
            [
             0.2222222222222222,
             "#7201a8"
            ],
            [
             0.3333333333333333,
             "#9c179e"
            ],
            [
             0.4444444444444444,
             "#bd3786"
            ],
            [
             0.5555555555555556,
             "#d8576b"
            ],
            [
             0.6666666666666666,
             "#ed7953"
            ],
            [
             0.7777777777777778,
             "#fb9f3a"
            ],
            [
             0.8888888888888888,
             "#fdca26"
            ],
            [
             1,
             "#f0f921"
            ]
           ],
           "sequentialminus": [
            [
             0,
             "#0d0887"
            ],
            [
             0.1111111111111111,
             "#46039f"
            ],
            [
             0.2222222222222222,
             "#7201a8"
            ],
            [
             0.3333333333333333,
             "#9c179e"
            ],
            [
             0.4444444444444444,
             "#bd3786"
            ],
            [
             0.5555555555555556,
             "#d8576b"
            ],
            [
             0.6666666666666666,
             "#ed7953"
            ],
            [
             0.7777777777777778,
             "#fb9f3a"
            ],
            [
             0.8888888888888888,
             "#fdca26"
            ],
            [
             1,
             "#f0f921"
            ]
           ]
          },
          "colorway": [
           "#636efa",
           "#EF553B",
           "#00cc96",
           "#ab63fa",
           "#FFA15A",
           "#19d3f3",
           "#FF6692",
           "#B6E880",
           "#FF97FF",
           "#FECB52"
          ],
          "font": {
           "color": "#2a3f5f"
          },
          "geo": {
           "bgcolor": "white",
           "lakecolor": "white",
           "landcolor": "#E5ECF6",
           "showlakes": true,
           "showland": true,
           "subunitcolor": "white"
          },
          "hoverlabel": {
           "align": "left"
          },
          "hovermode": "closest",
          "mapbox": {
           "style": "light"
          },
          "paper_bgcolor": "white",
          "plot_bgcolor": "#E5ECF6",
          "polar": {
           "angularaxis": {
            "gridcolor": "white",
            "linecolor": "white",
            "ticks": ""
           },
           "bgcolor": "#E5ECF6",
           "radialaxis": {
            "gridcolor": "white",
            "linecolor": "white",
            "ticks": ""
           }
          },
          "scene": {
           "xaxis": {
            "backgroundcolor": "#E5ECF6",
            "gridcolor": "white",
            "gridwidth": 2,
            "linecolor": "white",
            "showbackground": true,
            "ticks": "",
            "zerolinecolor": "white"
           },
           "yaxis": {
            "backgroundcolor": "#E5ECF6",
            "gridcolor": "white",
            "gridwidth": 2,
            "linecolor": "white",
            "showbackground": true,
            "ticks": "",
            "zerolinecolor": "white"
           },
           "zaxis": {
            "backgroundcolor": "#E5ECF6",
            "gridcolor": "white",
            "gridwidth": 2,
            "linecolor": "white",
            "showbackground": true,
            "ticks": "",
            "zerolinecolor": "white"
           }
          },
          "shapedefaults": {
           "line": {
            "color": "#2a3f5f"
           }
          },
          "ternary": {
           "aaxis": {
            "gridcolor": "white",
            "linecolor": "white",
            "ticks": ""
           },
           "baxis": {
            "gridcolor": "white",
            "linecolor": "white",
            "ticks": ""
           },
           "bgcolor": "#E5ECF6",
           "caxis": {
            "gridcolor": "white",
            "linecolor": "white",
            "ticks": ""
           }
          },
          "title": {
           "x": 0.05
          },
          "xaxis": {
           "automargin": true,
           "gridcolor": "white",
           "linecolor": "white",
           "ticks": "",
           "title": {
            "standoff": 15
           },
           "zerolinecolor": "white",
           "zerolinewidth": 2
          },
          "yaxis": {
           "automargin": true,
           "gridcolor": "white",
           "linecolor": "white",
           "ticks": "",
           "title": {
            "standoff": 15
           },
           "zerolinecolor": "white",
           "zerolinewidth": 2
          }
         }
        }
       }
      }
     },
     "metadata": {},
     "output_type": "display_data"
    }
   ],
   "source": [
    "fig =go.Figure(go.Sunburst(\n",
    "    labels=[ \"Eve\", \"Cain\", \"Seth\", \"Enos\", \"Noam\", \"Abel\", \"Awan\", \"Enoch\", \"Azura\"],\n",
    "    parents=[\"\",    \"Eve\",  \"Eve\",  \"Seth\", \"Seth\", \"Eve\",  \"Eve\",  \"Awan\",  \"Eve\" ],\n",
    "    values=[  65,    14,     12,     10,     2,      6,      6,      4,       4],\n",
    "    branchvalues=\"total\",\n",
    "))\n",
    "fig.update_layout(margin = dict(t=0, l=0, r=0, b=0))\n",
    "\n",
    "fig.show()"
   ]
  },
  {
   "cell_type": "code",
   "execution_count": 116,
   "metadata": {},
   "outputs": [
    {
     "data": {
      "application/vnd.plotly.v1+json": {
       "config": {
        "plotlyServerURL": "https://plot.ly"
       },
       "data": [
        {
         "branchvalues": "total",
         "customdata": [
          [
           176
          ],
          [
           45
          ],
          [
           2
          ],
          [
           183
          ],
          [
           8
          ],
          [
           6
          ],
          [
           3
          ],
          [
           1
          ],
          [
           1
          ],
          [
           2
          ],
          [
           2
          ],
          [
           1
          ],
          [
           7
          ],
          [
           15
          ],
          [
           139
          ],
          [
           2
          ],
          [
           90
          ],
          [
           186
          ],
          [
           187
          ],
          [
           61
          ],
          [
           142
          ],
          [
           185
          ],
          [
           100
          ],
          [
           194
          ],
          [
           869
          ]
         ],
         "domain": {
          "x": [
           0,
           1
          ],
          "y": [
           0,
           1
          ]
         },
         "hovertemplate": "labels=%{label}<br>counter_column=%{customdata[0]}<br>parent=%{parent}<br>id=%{id}<extra></extra>",
         "ids": [
          "Total/DENVER Urban AA/Black/No",
          "Total/DENVER Urban American Indian/Alaska Native/No",
          "Total/DENVER Urban Latina/o/x/No",
          "Total/FT MORGAN/GREELEY Rural AA/Black/No",
          "Total/PUEBLO Urban Latina/o/x/No",
          "Total/SLV Rural Latina/o/x/No",
          "Total/DENVER Urban AA/Black/Prefer not to answer",
          "Total/DENVER Urban American Indian/Alaska Native/Prefer not to answer",
          "Total/DENVER Urban Latina/o/x/Prefer not to answer",
          "Total/PUEBLO Urban Latina/o/x/Prefer not to answer",
          "Total/SLV Rural Latina/o/x/Prefer not to answer",
          "Total/DENVER Urban AA/Black/Unknown",
          "Total/DENVER Urban AA/Black/Yes",
          "Total/DENVER Urban American Indian/Alaska Native/Yes",
          "Total/DENVER Urban Latina/o/x/Yes",
          "Total/FT MORGAN/GREELEY Rural AA/Black/Yes",
          "Total/PUEBLO Urban Latina/o/x/Yes",
          "Total/SLV Rural Latina/o/x/Yes",
          "Total/DENVER Urban AA/Black",
          "Total/DENVER Urban American Indian/Alaska Native",
          "Total/DENVER Urban Latina/o/x",
          "Total/FT MORGAN/GREELEY Rural AA/Black",
          "Total/PUEBLO Urban Latina/o/x",
          "Total/SLV Rural Latina/o/x",
          "Total"
         ],
         "labels": [
          "No",
          "No",
          "No",
          "No",
          "No",
          "No",
          "Prefer not to answer",
          "Prefer not to answer",
          "Prefer not to answer",
          "Prefer not to answer",
          "Prefer not to answer",
          "Unknown",
          "Yes",
          "Yes",
          "Yes",
          "Yes",
          "Yes",
          "Yes",
          "DENVER Urban AA/Black",
          "DENVER Urban American Indian/Alaska Native",
          "DENVER Urban Latina/o/x",
          "FT MORGAN/GREELEY Rural AA/Black",
          "PUEBLO Urban Latina/o/x",
          "SLV Rural Latina/o/x",
          "Total"
         ],
         "name": "",
         "parents": [
          "Total/DENVER Urban AA/Black",
          "Total/DENVER Urban American Indian/Alaska Native",
          "Total/DENVER Urban Latina/o/x",
          "Total/FT MORGAN/GREELEY Rural AA/Black",
          "Total/PUEBLO Urban Latina/o/x",
          "Total/SLV Rural Latina/o/x",
          "Total/DENVER Urban AA/Black",
          "Total/DENVER Urban American Indian/Alaska Native",
          "Total/DENVER Urban Latina/o/x",
          "Total/PUEBLO Urban Latina/o/x",
          "Total/SLV Rural Latina/o/x",
          "Total/DENVER Urban AA/Black",
          "Total/DENVER Urban AA/Black",
          "Total/DENVER Urban American Indian/Alaska Native",
          "Total/DENVER Urban Latina/o/x",
          "Total/FT MORGAN/GREELEY Rural AA/Black",
          "Total/PUEBLO Urban Latina/o/x",
          "Total/SLV Rural Latina/o/x",
          "Total",
          "Total",
          "Total",
          "Total",
          "Total",
          "Total",
          ""
         ],
         "root": {
          "color": "cyan"
         },
         "texttemplate": "%{label}<br>Count: %{value}",
         "type": "icicle",
         "values": [
          176,
          45,
          2,
          183,
          8,
          6,
          3,
          1,
          1,
          2,
          2,
          1,
          7,
          15,
          139,
          2,
          90,
          186,
          187,
          61,
          142,
          185,
          100,
          194,
          869
         ]
        }
       ],
       "layout": {
        "legend": {
         "tracegroupgap": 0
        },
        "margin": {
         "b": 25,
         "l": 25,
         "r": 25,
         "t": 50
        },
        "template": {
         "data": {
          "bar": [
           {
            "error_x": {
             "color": "#2a3f5f"
            },
            "error_y": {
             "color": "#2a3f5f"
            },
            "marker": {
             "line": {
              "color": "#E5ECF6",
              "width": 0.5
             },
             "pattern": {
              "fillmode": "overlay",
              "size": 10,
              "solidity": 0.2
             }
            },
            "type": "bar"
           }
          ],
          "barpolar": [
           {
            "marker": {
             "line": {
              "color": "#E5ECF6",
              "width": 0.5
             },
             "pattern": {
              "fillmode": "overlay",
              "size": 10,
              "solidity": 0.2
             }
            },
            "type": "barpolar"
           }
          ],
          "carpet": [
           {
            "aaxis": {
             "endlinecolor": "#2a3f5f",
             "gridcolor": "white",
             "linecolor": "white",
             "minorgridcolor": "white",
             "startlinecolor": "#2a3f5f"
            },
            "baxis": {
             "endlinecolor": "#2a3f5f",
             "gridcolor": "white",
             "linecolor": "white",
             "minorgridcolor": "white",
             "startlinecolor": "#2a3f5f"
            },
            "type": "carpet"
           }
          ],
          "choropleth": [
           {
            "colorbar": {
             "outlinewidth": 0,
             "ticks": ""
            },
            "type": "choropleth"
           }
          ],
          "contour": [
           {
            "colorbar": {
             "outlinewidth": 0,
             "ticks": ""
            },
            "colorscale": [
             [
              0,
              "#0d0887"
             ],
             [
              0.1111111111111111,
              "#46039f"
             ],
             [
              0.2222222222222222,
              "#7201a8"
             ],
             [
              0.3333333333333333,
              "#9c179e"
             ],
             [
              0.4444444444444444,
              "#bd3786"
             ],
             [
              0.5555555555555556,
              "#d8576b"
             ],
             [
              0.6666666666666666,
              "#ed7953"
             ],
             [
              0.7777777777777778,
              "#fb9f3a"
             ],
             [
              0.8888888888888888,
              "#fdca26"
             ],
             [
              1,
              "#f0f921"
             ]
            ],
            "type": "contour"
           }
          ],
          "contourcarpet": [
           {
            "colorbar": {
             "outlinewidth": 0,
             "ticks": ""
            },
            "type": "contourcarpet"
           }
          ],
          "heatmap": [
           {
            "colorbar": {
             "outlinewidth": 0,
             "ticks": ""
            },
            "colorscale": [
             [
              0,
              "#0d0887"
             ],
             [
              0.1111111111111111,
              "#46039f"
             ],
             [
              0.2222222222222222,
              "#7201a8"
             ],
             [
              0.3333333333333333,
              "#9c179e"
             ],
             [
              0.4444444444444444,
              "#bd3786"
             ],
             [
              0.5555555555555556,
              "#d8576b"
             ],
             [
              0.6666666666666666,
              "#ed7953"
             ],
             [
              0.7777777777777778,
              "#fb9f3a"
             ],
             [
              0.8888888888888888,
              "#fdca26"
             ],
             [
              1,
              "#f0f921"
             ]
            ],
            "type": "heatmap"
           }
          ],
          "heatmapgl": [
           {
            "colorbar": {
             "outlinewidth": 0,
             "ticks": ""
            },
            "colorscale": [
             [
              0,
              "#0d0887"
             ],
             [
              0.1111111111111111,
              "#46039f"
             ],
             [
              0.2222222222222222,
              "#7201a8"
             ],
             [
              0.3333333333333333,
              "#9c179e"
             ],
             [
              0.4444444444444444,
              "#bd3786"
             ],
             [
              0.5555555555555556,
              "#d8576b"
             ],
             [
              0.6666666666666666,
              "#ed7953"
             ],
             [
              0.7777777777777778,
              "#fb9f3a"
             ],
             [
              0.8888888888888888,
              "#fdca26"
             ],
             [
              1,
              "#f0f921"
             ]
            ],
            "type": "heatmapgl"
           }
          ],
          "histogram": [
           {
            "marker": {
             "pattern": {
              "fillmode": "overlay",
              "size": 10,
              "solidity": 0.2
             }
            },
            "type": "histogram"
           }
          ],
          "histogram2d": [
           {
            "colorbar": {
             "outlinewidth": 0,
             "ticks": ""
            },
            "colorscale": [
             [
              0,
              "#0d0887"
             ],
             [
              0.1111111111111111,
              "#46039f"
             ],
             [
              0.2222222222222222,
              "#7201a8"
             ],
             [
              0.3333333333333333,
              "#9c179e"
             ],
             [
              0.4444444444444444,
              "#bd3786"
             ],
             [
              0.5555555555555556,
              "#d8576b"
             ],
             [
              0.6666666666666666,
              "#ed7953"
             ],
             [
              0.7777777777777778,
              "#fb9f3a"
             ],
             [
              0.8888888888888888,
              "#fdca26"
             ],
             [
              1,
              "#f0f921"
             ]
            ],
            "type": "histogram2d"
           }
          ],
          "histogram2dcontour": [
           {
            "colorbar": {
             "outlinewidth": 0,
             "ticks": ""
            },
            "colorscale": [
             [
              0,
              "#0d0887"
             ],
             [
              0.1111111111111111,
              "#46039f"
             ],
             [
              0.2222222222222222,
              "#7201a8"
             ],
             [
              0.3333333333333333,
              "#9c179e"
             ],
             [
              0.4444444444444444,
              "#bd3786"
             ],
             [
              0.5555555555555556,
              "#d8576b"
             ],
             [
              0.6666666666666666,
              "#ed7953"
             ],
             [
              0.7777777777777778,
              "#fb9f3a"
             ],
             [
              0.8888888888888888,
              "#fdca26"
             ],
             [
              1,
              "#f0f921"
             ]
            ],
            "type": "histogram2dcontour"
           }
          ],
          "mesh3d": [
           {
            "colorbar": {
             "outlinewidth": 0,
             "ticks": ""
            },
            "type": "mesh3d"
           }
          ],
          "parcoords": [
           {
            "line": {
             "colorbar": {
              "outlinewidth": 0,
              "ticks": ""
             }
            },
            "type": "parcoords"
           }
          ],
          "pie": [
           {
            "automargin": true,
            "type": "pie"
           }
          ],
          "scatter": [
           {
            "fillpattern": {
             "fillmode": "overlay",
             "size": 10,
             "solidity": 0.2
            },
            "type": "scatter"
           }
          ],
          "scatter3d": [
           {
            "line": {
             "colorbar": {
              "outlinewidth": 0,
              "ticks": ""
             }
            },
            "marker": {
             "colorbar": {
              "outlinewidth": 0,
              "ticks": ""
             }
            },
            "type": "scatter3d"
           }
          ],
          "scattercarpet": [
           {
            "marker": {
             "colorbar": {
              "outlinewidth": 0,
              "ticks": ""
             }
            },
            "type": "scattercarpet"
           }
          ],
          "scattergeo": [
           {
            "marker": {
             "colorbar": {
              "outlinewidth": 0,
              "ticks": ""
             }
            },
            "type": "scattergeo"
           }
          ],
          "scattergl": [
           {
            "marker": {
             "colorbar": {
              "outlinewidth": 0,
              "ticks": ""
             }
            },
            "type": "scattergl"
           }
          ],
          "scattermapbox": [
           {
            "marker": {
             "colorbar": {
              "outlinewidth": 0,
              "ticks": ""
             }
            },
            "type": "scattermapbox"
           }
          ],
          "scatterpolar": [
           {
            "marker": {
             "colorbar": {
              "outlinewidth": 0,
              "ticks": ""
             }
            },
            "type": "scatterpolar"
           }
          ],
          "scatterpolargl": [
           {
            "marker": {
             "colorbar": {
              "outlinewidth": 0,
              "ticks": ""
             }
            },
            "type": "scatterpolargl"
           }
          ],
          "scatterternary": [
           {
            "marker": {
             "colorbar": {
              "outlinewidth": 0,
              "ticks": ""
             }
            },
            "type": "scatterternary"
           }
          ],
          "surface": [
           {
            "colorbar": {
             "outlinewidth": 0,
             "ticks": ""
            },
            "colorscale": [
             [
              0,
              "#0d0887"
             ],
             [
              0.1111111111111111,
              "#46039f"
             ],
             [
              0.2222222222222222,
              "#7201a8"
             ],
             [
              0.3333333333333333,
              "#9c179e"
             ],
             [
              0.4444444444444444,
              "#bd3786"
             ],
             [
              0.5555555555555556,
              "#d8576b"
             ],
             [
              0.6666666666666666,
              "#ed7953"
             ],
             [
              0.7777777777777778,
              "#fb9f3a"
             ],
             [
              0.8888888888888888,
              "#fdca26"
             ],
             [
              1,
              "#f0f921"
             ]
            ],
            "type": "surface"
           }
          ],
          "table": [
           {
            "cells": {
             "fill": {
              "color": "#EBF0F8"
             },
             "line": {
              "color": "white"
             }
            },
            "header": {
             "fill": {
              "color": "#C8D4E3"
             },
             "line": {
              "color": "white"
             }
            },
            "type": "table"
           }
          ]
         },
         "layout": {
          "annotationdefaults": {
           "arrowcolor": "#2a3f5f",
           "arrowhead": 0,
           "arrowwidth": 1
          },
          "autotypenumbers": "strict",
          "coloraxis": {
           "colorbar": {
            "outlinewidth": 0,
            "ticks": ""
           }
          },
          "colorscale": {
           "diverging": [
            [
             0,
             "#8e0152"
            ],
            [
             0.1,
             "#c51b7d"
            ],
            [
             0.2,
             "#de77ae"
            ],
            [
             0.3,
             "#f1b6da"
            ],
            [
             0.4,
             "#fde0ef"
            ],
            [
             0.5,
             "#f7f7f7"
            ],
            [
             0.6,
             "#e6f5d0"
            ],
            [
             0.7,
             "#b8e186"
            ],
            [
             0.8,
             "#7fbc41"
            ],
            [
             0.9,
             "#4d9221"
            ],
            [
             1,
             "#276419"
            ]
           ],
           "sequential": [
            [
             0,
             "#0d0887"
            ],
            [
             0.1111111111111111,
             "#46039f"
            ],
            [
             0.2222222222222222,
             "#7201a8"
            ],
            [
             0.3333333333333333,
             "#9c179e"
            ],
            [
             0.4444444444444444,
             "#bd3786"
            ],
            [
             0.5555555555555556,
             "#d8576b"
            ],
            [
             0.6666666666666666,
             "#ed7953"
            ],
            [
             0.7777777777777778,
             "#fb9f3a"
            ],
            [
             0.8888888888888888,
             "#fdca26"
            ],
            [
             1,
             "#f0f921"
            ]
           ],
           "sequentialminus": [
            [
             0,
             "#0d0887"
            ],
            [
             0.1111111111111111,
             "#46039f"
            ],
            [
             0.2222222222222222,
             "#7201a8"
            ],
            [
             0.3333333333333333,
             "#9c179e"
            ],
            [
             0.4444444444444444,
             "#bd3786"
            ],
            [
             0.5555555555555556,
             "#d8576b"
            ],
            [
             0.6666666666666666,
             "#ed7953"
            ],
            [
             0.7777777777777778,
             "#fb9f3a"
            ],
            [
             0.8888888888888888,
             "#fdca26"
            ],
            [
             1,
             "#f0f921"
            ]
           ]
          },
          "colorway": [
           "#636efa",
           "#EF553B",
           "#00cc96",
           "#ab63fa",
           "#FFA15A",
           "#19d3f3",
           "#FF6692",
           "#B6E880",
           "#FF97FF",
           "#FECB52"
          ],
          "font": {
           "color": "#2a3f5f"
          },
          "geo": {
           "bgcolor": "white",
           "lakecolor": "white",
           "landcolor": "#E5ECF6",
           "showlakes": true,
           "showland": true,
           "subunitcolor": "white"
          },
          "hoverlabel": {
           "align": "left"
          },
          "hovermode": "closest",
          "mapbox": {
           "style": "light"
          },
          "paper_bgcolor": "white",
          "plot_bgcolor": "#E5ECF6",
          "polar": {
           "angularaxis": {
            "gridcolor": "white",
            "linecolor": "white",
            "ticks": ""
           },
           "bgcolor": "#E5ECF6",
           "radialaxis": {
            "gridcolor": "white",
            "linecolor": "white",
            "ticks": ""
           }
          },
          "scene": {
           "xaxis": {
            "backgroundcolor": "#E5ECF6",
            "gridcolor": "white",
            "gridwidth": 2,
            "linecolor": "white",
            "showbackground": true,
            "ticks": "",
            "zerolinecolor": "white"
           },
           "yaxis": {
            "backgroundcolor": "#E5ECF6",
            "gridcolor": "white",
            "gridwidth": 2,
            "linecolor": "white",
            "showbackground": true,
            "ticks": "",
            "zerolinecolor": "white"
           },
           "zaxis": {
            "backgroundcolor": "#E5ECF6",
            "gridcolor": "white",
            "gridwidth": 2,
            "linecolor": "white",
            "showbackground": true,
            "ticks": "",
            "zerolinecolor": "white"
           }
          },
          "shapedefaults": {
           "line": {
            "color": "#2a3f5f"
           }
          },
          "ternary": {
           "aaxis": {
            "gridcolor": "white",
            "linecolor": "white",
            "ticks": ""
           },
           "baxis": {
            "gridcolor": "white",
            "linecolor": "white",
            "ticks": ""
           },
           "bgcolor": "#E5ECF6",
           "caxis": {
            "gridcolor": "white",
            "linecolor": "white",
            "ticks": ""
           }
          },
          "title": {
           "x": 0.05
          },
          "xaxis": {
           "automargin": true,
           "gridcolor": "white",
           "linecolor": "white",
           "ticks": "",
           "title": {
            "standoff": 15
           },
           "zerolinecolor": "white",
           "zerolinewidth": 2
          },
          "yaxis": {
           "automargin": true,
           "gridcolor": "white",
           "linecolor": "white",
           "ticks": "",
           "title": {
            "standoff": 15
           },
           "zerolinecolor": "white",
           "zerolinewidth": 2
          }
         }
        }
       }
      }
     },
     "metadata": {},
     "output_type": "display_data"
    }
   ],
   "source": [
    "fig = px.icicle(wave2_df, path=[px.Constant(\"Total\"), 'Community','Are you Hispanic or Latino? '], values='counter_column', \n",
    "                hover_data=['counter_column'])\n",
    "fig.update_traces(root_color=\"cyan\")\n",
    "fig.update_traces(texttemplate=\"%{label}<br>Count: %{value}\")\n",
    "fig.update_layout(margin = dict(t=50, l=25, r=25, b=25))"
   ]
  },
  {
   "cell_type": "code",
   "execution_count": 129,
   "metadata": {},
   "outputs": [
    {
     "data": {
      "application/vnd.plotly.v1+json": {
       "config": {
        "plotlyServerURL": "https://plot.ly"
       },
       "data": [
        {
         "branchvalues": "total",
         "customdata": [
          [
           7
          ],
          [
           15
          ],
          [
           139
          ],
          [
           2
          ],
          [
           90
          ],
          [
           186
          ],
          [
           176
          ],
          [
           45
          ],
          [
           2
          ],
          [
           183
          ],
          [
           8
          ],
          [
           6
          ],
          [
           3
          ],
          [
           1
          ],
          [
           1
          ],
          [
           2
          ],
          [
           2
          ],
          [
           1
          ],
          [
           187
          ],
          [
           61
          ],
          [
           142
          ],
          [
           185
          ],
          [
           100
          ],
          [
           194
          ],
          [
           869
          ]
         ],
         "domain": {
          "x": [
           0,
           1
          ],
          "y": [
           0,
           1
          ]
         },
         "hovertemplate": "labels=%{label}<br>counter_column=%{customdata[0]}<br>parent=%{parent}<br>id=%{id}<extra></extra>",
         "ids": [
          "Total/DENVER Urban AA/Black/Hispanic",
          "Total/DENVER Urban American Indian/Alaska Native/Hispanic",
          "Total/DENVER Urban Latina/o/x/Hispanic",
          "Total/FT MORGAN/GREELEY Rural AA/Black/Hispanic",
          "Total/PUEBLO Urban Latina/o/x/Hispanic",
          "Total/SLV Rural Latina/o/x/Hispanic",
          "Total/DENVER Urban AA/Black/Not Hispanic or Latino",
          "Total/DENVER Urban American Indian/Alaska Native/Not Hispanic or Latino",
          "Total/DENVER Urban Latina/o/x/Not Hispanic or Latino",
          "Total/FT MORGAN/GREELEY Rural AA/Black/Not Hispanic or Latino",
          "Total/PUEBLO Urban Latina/o/x/Not Hispanic or Latino",
          "Total/SLV Rural Latina/o/x/Not Hispanic or Latino",
          "Total/DENVER Urban AA/Black/Prefer not to answer",
          "Total/DENVER Urban American Indian/Alaska Native/Prefer not to answer",
          "Total/DENVER Urban Latina/o/x/Prefer not to answer",
          "Total/PUEBLO Urban Latina/o/x/Prefer not to answer",
          "Total/SLV Rural Latina/o/x/Prefer not to answer",
          "Total/DENVER Urban AA/Black/Unknown",
          "Total/DENVER Urban AA/Black",
          "Total/DENVER Urban American Indian/Alaska Native",
          "Total/DENVER Urban Latina/o/x",
          "Total/FT MORGAN/GREELEY Rural AA/Black",
          "Total/PUEBLO Urban Latina/o/x",
          "Total/SLV Rural Latina/o/x",
          "Total"
         ],
         "labels": [
          "Hispanic",
          "Hispanic",
          "Hispanic",
          "Hispanic",
          "Hispanic",
          "Hispanic",
          "Not Hispanic or Latino",
          "Not Hispanic or Latino",
          "Not Hispanic or Latino",
          "Not Hispanic or Latino",
          "Not Hispanic or Latino",
          "Not Hispanic or Latino",
          "Prefer not to answer",
          "Prefer not to answer",
          "Prefer not to answer",
          "Prefer not to answer",
          "Prefer not to answer",
          "Unknown",
          "DENVER Urban AA/Black",
          "DENVER Urban American Indian/Alaska Native",
          "DENVER Urban Latina/o/x",
          "FT MORGAN/GREELEY Rural AA/Black",
          "PUEBLO Urban Latina/o/x",
          "SLV Rural Latina/o/x",
          "Total"
         ],
         "name": "",
         "parents": [
          "Total/DENVER Urban AA/Black",
          "Total/DENVER Urban American Indian/Alaska Native",
          "Total/DENVER Urban Latina/o/x",
          "Total/FT MORGAN/GREELEY Rural AA/Black",
          "Total/PUEBLO Urban Latina/o/x",
          "Total/SLV Rural Latina/o/x",
          "Total/DENVER Urban AA/Black",
          "Total/DENVER Urban American Indian/Alaska Native",
          "Total/DENVER Urban Latina/o/x",
          "Total/FT MORGAN/GREELEY Rural AA/Black",
          "Total/PUEBLO Urban Latina/o/x",
          "Total/SLV Rural Latina/o/x",
          "Total/DENVER Urban AA/Black",
          "Total/DENVER Urban American Indian/Alaska Native",
          "Total/DENVER Urban Latina/o/x",
          "Total/PUEBLO Urban Latina/o/x",
          "Total/SLV Rural Latina/o/x",
          "Total/DENVER Urban AA/Black",
          "Total",
          "Total",
          "Total",
          "Total",
          "Total",
          "Total",
          ""
         ],
         "root": {
          "color": "cyan"
         },
         "texttemplate": "%{label}<br>Count: %{value}",
         "type": "treemap",
         "values": [
          7,
          15,
          139,
          2,
          90,
          186,
          176,
          45,
          2,
          183,
          8,
          6,
          3,
          1,
          1,
          2,
          2,
          1,
          187,
          61,
          142,
          185,
          100,
          194,
          869
         ]
        }
       ],
       "layout": {
        "legend": {
         "tracegroupgap": 0
        },
        "margin": {
         "b": 25,
         "l": 25,
         "r": 25,
         "t": 50
        },
        "template": {
         "data": {
          "bar": [
           {
            "error_x": {
             "color": "#2a3f5f"
            },
            "error_y": {
             "color": "#2a3f5f"
            },
            "marker": {
             "line": {
              "color": "#E5ECF6",
              "width": 0.5
             },
             "pattern": {
              "fillmode": "overlay",
              "size": 10,
              "solidity": 0.2
             }
            },
            "type": "bar"
           }
          ],
          "barpolar": [
           {
            "marker": {
             "line": {
              "color": "#E5ECF6",
              "width": 0.5
             },
             "pattern": {
              "fillmode": "overlay",
              "size": 10,
              "solidity": 0.2
             }
            },
            "type": "barpolar"
           }
          ],
          "carpet": [
           {
            "aaxis": {
             "endlinecolor": "#2a3f5f",
             "gridcolor": "white",
             "linecolor": "white",
             "minorgridcolor": "white",
             "startlinecolor": "#2a3f5f"
            },
            "baxis": {
             "endlinecolor": "#2a3f5f",
             "gridcolor": "white",
             "linecolor": "white",
             "minorgridcolor": "white",
             "startlinecolor": "#2a3f5f"
            },
            "type": "carpet"
           }
          ],
          "choropleth": [
           {
            "colorbar": {
             "outlinewidth": 0,
             "ticks": ""
            },
            "type": "choropleth"
           }
          ],
          "contour": [
           {
            "colorbar": {
             "outlinewidth": 0,
             "ticks": ""
            },
            "colorscale": [
             [
              0,
              "#0d0887"
             ],
             [
              0.1111111111111111,
              "#46039f"
             ],
             [
              0.2222222222222222,
              "#7201a8"
             ],
             [
              0.3333333333333333,
              "#9c179e"
             ],
             [
              0.4444444444444444,
              "#bd3786"
             ],
             [
              0.5555555555555556,
              "#d8576b"
             ],
             [
              0.6666666666666666,
              "#ed7953"
             ],
             [
              0.7777777777777778,
              "#fb9f3a"
             ],
             [
              0.8888888888888888,
              "#fdca26"
             ],
             [
              1,
              "#f0f921"
             ]
            ],
            "type": "contour"
           }
          ],
          "contourcarpet": [
           {
            "colorbar": {
             "outlinewidth": 0,
             "ticks": ""
            },
            "type": "contourcarpet"
           }
          ],
          "heatmap": [
           {
            "colorbar": {
             "outlinewidth": 0,
             "ticks": ""
            },
            "colorscale": [
             [
              0,
              "#0d0887"
             ],
             [
              0.1111111111111111,
              "#46039f"
             ],
             [
              0.2222222222222222,
              "#7201a8"
             ],
             [
              0.3333333333333333,
              "#9c179e"
             ],
             [
              0.4444444444444444,
              "#bd3786"
             ],
             [
              0.5555555555555556,
              "#d8576b"
             ],
             [
              0.6666666666666666,
              "#ed7953"
             ],
             [
              0.7777777777777778,
              "#fb9f3a"
             ],
             [
              0.8888888888888888,
              "#fdca26"
             ],
             [
              1,
              "#f0f921"
             ]
            ],
            "type": "heatmap"
           }
          ],
          "heatmapgl": [
           {
            "colorbar": {
             "outlinewidth": 0,
             "ticks": ""
            },
            "colorscale": [
             [
              0,
              "#0d0887"
             ],
             [
              0.1111111111111111,
              "#46039f"
             ],
             [
              0.2222222222222222,
              "#7201a8"
             ],
             [
              0.3333333333333333,
              "#9c179e"
             ],
             [
              0.4444444444444444,
              "#bd3786"
             ],
             [
              0.5555555555555556,
              "#d8576b"
             ],
             [
              0.6666666666666666,
              "#ed7953"
             ],
             [
              0.7777777777777778,
              "#fb9f3a"
             ],
             [
              0.8888888888888888,
              "#fdca26"
             ],
             [
              1,
              "#f0f921"
             ]
            ],
            "type": "heatmapgl"
           }
          ],
          "histogram": [
           {
            "marker": {
             "pattern": {
              "fillmode": "overlay",
              "size": 10,
              "solidity": 0.2
             }
            },
            "type": "histogram"
           }
          ],
          "histogram2d": [
           {
            "colorbar": {
             "outlinewidth": 0,
             "ticks": ""
            },
            "colorscale": [
             [
              0,
              "#0d0887"
             ],
             [
              0.1111111111111111,
              "#46039f"
             ],
             [
              0.2222222222222222,
              "#7201a8"
             ],
             [
              0.3333333333333333,
              "#9c179e"
             ],
             [
              0.4444444444444444,
              "#bd3786"
             ],
             [
              0.5555555555555556,
              "#d8576b"
             ],
             [
              0.6666666666666666,
              "#ed7953"
             ],
             [
              0.7777777777777778,
              "#fb9f3a"
             ],
             [
              0.8888888888888888,
              "#fdca26"
             ],
             [
              1,
              "#f0f921"
             ]
            ],
            "type": "histogram2d"
           }
          ],
          "histogram2dcontour": [
           {
            "colorbar": {
             "outlinewidth": 0,
             "ticks": ""
            },
            "colorscale": [
             [
              0,
              "#0d0887"
             ],
             [
              0.1111111111111111,
              "#46039f"
             ],
             [
              0.2222222222222222,
              "#7201a8"
             ],
             [
              0.3333333333333333,
              "#9c179e"
             ],
             [
              0.4444444444444444,
              "#bd3786"
             ],
             [
              0.5555555555555556,
              "#d8576b"
             ],
             [
              0.6666666666666666,
              "#ed7953"
             ],
             [
              0.7777777777777778,
              "#fb9f3a"
             ],
             [
              0.8888888888888888,
              "#fdca26"
             ],
             [
              1,
              "#f0f921"
             ]
            ],
            "type": "histogram2dcontour"
           }
          ],
          "mesh3d": [
           {
            "colorbar": {
             "outlinewidth": 0,
             "ticks": ""
            },
            "type": "mesh3d"
           }
          ],
          "parcoords": [
           {
            "line": {
             "colorbar": {
              "outlinewidth": 0,
              "ticks": ""
             }
            },
            "type": "parcoords"
           }
          ],
          "pie": [
           {
            "automargin": true,
            "type": "pie"
           }
          ],
          "scatter": [
           {
            "fillpattern": {
             "fillmode": "overlay",
             "size": 10,
             "solidity": 0.2
            },
            "type": "scatter"
           }
          ],
          "scatter3d": [
           {
            "line": {
             "colorbar": {
              "outlinewidth": 0,
              "ticks": ""
             }
            },
            "marker": {
             "colorbar": {
              "outlinewidth": 0,
              "ticks": ""
             }
            },
            "type": "scatter3d"
           }
          ],
          "scattercarpet": [
           {
            "marker": {
             "colorbar": {
              "outlinewidth": 0,
              "ticks": ""
             }
            },
            "type": "scattercarpet"
           }
          ],
          "scattergeo": [
           {
            "marker": {
             "colorbar": {
              "outlinewidth": 0,
              "ticks": ""
             }
            },
            "type": "scattergeo"
           }
          ],
          "scattergl": [
           {
            "marker": {
             "colorbar": {
              "outlinewidth": 0,
              "ticks": ""
             }
            },
            "type": "scattergl"
           }
          ],
          "scattermapbox": [
           {
            "marker": {
             "colorbar": {
              "outlinewidth": 0,
              "ticks": ""
             }
            },
            "type": "scattermapbox"
           }
          ],
          "scatterpolar": [
           {
            "marker": {
             "colorbar": {
              "outlinewidth": 0,
              "ticks": ""
             }
            },
            "type": "scatterpolar"
           }
          ],
          "scatterpolargl": [
           {
            "marker": {
             "colorbar": {
              "outlinewidth": 0,
              "ticks": ""
             }
            },
            "type": "scatterpolargl"
           }
          ],
          "scatterternary": [
           {
            "marker": {
             "colorbar": {
              "outlinewidth": 0,
              "ticks": ""
             }
            },
            "type": "scatterternary"
           }
          ],
          "surface": [
           {
            "colorbar": {
             "outlinewidth": 0,
             "ticks": ""
            },
            "colorscale": [
             [
              0,
              "#0d0887"
             ],
             [
              0.1111111111111111,
              "#46039f"
             ],
             [
              0.2222222222222222,
              "#7201a8"
             ],
             [
              0.3333333333333333,
              "#9c179e"
             ],
             [
              0.4444444444444444,
              "#bd3786"
             ],
             [
              0.5555555555555556,
              "#d8576b"
             ],
             [
              0.6666666666666666,
              "#ed7953"
             ],
             [
              0.7777777777777778,
              "#fb9f3a"
             ],
             [
              0.8888888888888888,
              "#fdca26"
             ],
             [
              1,
              "#f0f921"
             ]
            ],
            "type": "surface"
           }
          ],
          "table": [
           {
            "cells": {
             "fill": {
              "color": "#EBF0F8"
             },
             "line": {
              "color": "white"
             }
            },
            "header": {
             "fill": {
              "color": "#C8D4E3"
             },
             "line": {
              "color": "white"
             }
            },
            "type": "table"
           }
          ]
         },
         "layout": {
          "annotationdefaults": {
           "arrowcolor": "#2a3f5f",
           "arrowhead": 0,
           "arrowwidth": 1
          },
          "autotypenumbers": "strict",
          "coloraxis": {
           "colorbar": {
            "outlinewidth": 0,
            "ticks": ""
           }
          },
          "colorscale": {
           "diverging": [
            [
             0,
             "#8e0152"
            ],
            [
             0.1,
             "#c51b7d"
            ],
            [
             0.2,
             "#de77ae"
            ],
            [
             0.3,
             "#f1b6da"
            ],
            [
             0.4,
             "#fde0ef"
            ],
            [
             0.5,
             "#f7f7f7"
            ],
            [
             0.6,
             "#e6f5d0"
            ],
            [
             0.7,
             "#b8e186"
            ],
            [
             0.8,
             "#7fbc41"
            ],
            [
             0.9,
             "#4d9221"
            ],
            [
             1,
             "#276419"
            ]
           ],
           "sequential": [
            [
             0,
             "#0d0887"
            ],
            [
             0.1111111111111111,
             "#46039f"
            ],
            [
             0.2222222222222222,
             "#7201a8"
            ],
            [
             0.3333333333333333,
             "#9c179e"
            ],
            [
             0.4444444444444444,
             "#bd3786"
            ],
            [
             0.5555555555555556,
             "#d8576b"
            ],
            [
             0.6666666666666666,
             "#ed7953"
            ],
            [
             0.7777777777777778,
             "#fb9f3a"
            ],
            [
             0.8888888888888888,
             "#fdca26"
            ],
            [
             1,
             "#f0f921"
            ]
           ],
           "sequentialminus": [
            [
             0,
             "#0d0887"
            ],
            [
             0.1111111111111111,
             "#46039f"
            ],
            [
             0.2222222222222222,
             "#7201a8"
            ],
            [
             0.3333333333333333,
             "#9c179e"
            ],
            [
             0.4444444444444444,
             "#bd3786"
            ],
            [
             0.5555555555555556,
             "#d8576b"
            ],
            [
             0.6666666666666666,
             "#ed7953"
            ],
            [
             0.7777777777777778,
             "#fb9f3a"
            ],
            [
             0.8888888888888888,
             "#fdca26"
            ],
            [
             1,
             "#f0f921"
            ]
           ]
          },
          "colorway": [
           "#636efa",
           "#EF553B",
           "#00cc96",
           "#ab63fa",
           "#FFA15A",
           "#19d3f3",
           "#FF6692",
           "#B6E880",
           "#FF97FF",
           "#FECB52"
          ],
          "font": {
           "color": "#2a3f5f"
          },
          "geo": {
           "bgcolor": "white",
           "lakecolor": "white",
           "landcolor": "#E5ECF6",
           "showlakes": true,
           "showland": true,
           "subunitcolor": "white"
          },
          "hoverlabel": {
           "align": "left"
          },
          "hovermode": "closest",
          "mapbox": {
           "style": "light"
          },
          "paper_bgcolor": "white",
          "plot_bgcolor": "#E5ECF6",
          "polar": {
           "angularaxis": {
            "gridcolor": "white",
            "linecolor": "white",
            "ticks": ""
           },
           "bgcolor": "#E5ECF6",
           "radialaxis": {
            "gridcolor": "white",
            "linecolor": "white",
            "ticks": ""
           }
          },
          "scene": {
           "xaxis": {
            "backgroundcolor": "#E5ECF6",
            "gridcolor": "white",
            "gridwidth": 2,
            "linecolor": "white",
            "showbackground": true,
            "ticks": "",
            "zerolinecolor": "white"
           },
           "yaxis": {
            "backgroundcolor": "#E5ECF6",
            "gridcolor": "white",
            "gridwidth": 2,
            "linecolor": "white",
            "showbackground": true,
            "ticks": "",
            "zerolinecolor": "white"
           },
           "zaxis": {
            "backgroundcolor": "#E5ECF6",
            "gridcolor": "white",
            "gridwidth": 2,
            "linecolor": "white",
            "showbackground": true,
            "ticks": "",
            "zerolinecolor": "white"
           }
          },
          "shapedefaults": {
           "line": {
            "color": "#2a3f5f"
           }
          },
          "ternary": {
           "aaxis": {
            "gridcolor": "white",
            "linecolor": "white",
            "ticks": ""
           },
           "baxis": {
            "gridcolor": "white",
            "linecolor": "white",
            "ticks": ""
           },
           "bgcolor": "#E5ECF6",
           "caxis": {
            "gridcolor": "white",
            "linecolor": "white",
            "ticks": ""
           }
          },
          "title": {
           "x": 0.05
          },
          "xaxis": {
           "automargin": true,
           "gridcolor": "white",
           "linecolor": "white",
           "ticks": "",
           "title": {
            "standoff": 15
           },
           "zerolinecolor": "white",
           "zerolinewidth": 2
          },
          "yaxis": {
           "automargin": true,
           "gridcolor": "white",
           "linecolor": "white",
           "ticks": "",
           "title": {
            "standoff": 15
           },
           "zerolinecolor": "white",
           "zerolinewidth": 2
          }
         }
        }
       }
      }
     },
     "metadata": {},
     "output_type": "display_data"
    }
   ],
   "source": [
    "fig = px.treemap(wave2_df, path=[px.Constant(\"Total\"), 'Community','Are you Hispanic or Latino? '], values='counter_column', \n",
    "                hover_data=['counter_column'])\n",
    "fig.update_traces(root_color=\"cyan\")\n",
    "fig.update_traces(texttemplate=\"%{label}<br>Count: %{value}\")\n",
    "fig.update_layout(margin = dict(t=50, l=25, r=25, b=25))"
   ]
  },
  {
   "cell_type": "code",
   "execution_count": 130,
   "metadata": {},
   "outputs": [
    {
     "data": {
      "text/plain": [
       "ceal_testbehavior\n",
       "1.0    627\n",
       "0.0    232\n",
       "NaN     10\n",
       "Name: count, dtype: int64"
      ]
     },
     "execution_count": 130,
     "metadata": {},
     "output_type": "execute_result"
    }
   ],
   "source": [
    "wave2_df['ceal_testbehavior'].value_counts(dropna=False)"
   ]
  },
  {
   "cell_type": "code",
   "execution_count": 132,
   "metadata": {},
   "outputs": [
    {
     "data": {
      "application/vnd.plotly.v1+json": {
       "config": {
        "plotlyServerURL": "https://plot.ly"
       },
       "data": [
        {
         "alignmentgroup": "True",
         "hovertemplate": "Community=%{x}<br>ceal_testbehavior=%{y}<extra></extra>",
         "legendgroup": "PUEBLO Urban Latina/o/x",
         "marker": {
          "color": "#636efa",
          "pattern": {
           "shape": ""
          }
         },
         "name": "PUEBLO Urban Latina/o/x",
         "offsetgroup": "PUEBLO Urban Latina/o/x",
         "orientation": "v",
         "showlegend": true,
         "textposition": "auto",
         "type": "bar",
         "x": [
          "PUEBLO Urban Latina/o/x",
          "PUEBLO Urban Latina/o/x",
          "PUEBLO Urban Latina/o/x",
          "PUEBLO Urban Latina/o/x",
          "PUEBLO Urban Latina/o/x",
          "PUEBLO Urban Latina/o/x",
          "PUEBLO Urban Latina/o/x",
          "PUEBLO Urban Latina/o/x",
          "PUEBLO Urban Latina/o/x",
          "PUEBLO Urban Latina/o/x",
          "PUEBLO Urban Latina/o/x",
          "PUEBLO Urban Latina/o/x",
          "PUEBLO Urban Latina/o/x",
          "PUEBLO Urban Latina/o/x",
          "PUEBLO Urban Latina/o/x",
          "PUEBLO Urban Latina/o/x",
          "PUEBLO Urban Latina/o/x",
          "PUEBLO Urban Latina/o/x",
          "PUEBLO Urban Latina/o/x",
          "PUEBLO Urban Latina/o/x",
          "PUEBLO Urban Latina/o/x",
          "PUEBLO Urban Latina/o/x",
          "PUEBLO Urban Latina/o/x",
          "PUEBLO Urban Latina/o/x",
          "PUEBLO Urban Latina/o/x",
          "PUEBLO Urban Latina/o/x",
          "PUEBLO Urban Latina/o/x",
          "PUEBLO Urban Latina/o/x",
          "PUEBLO Urban Latina/o/x",
          "PUEBLO Urban Latina/o/x",
          "PUEBLO Urban Latina/o/x",
          "PUEBLO Urban Latina/o/x",
          "PUEBLO Urban Latina/o/x",
          "PUEBLO Urban Latina/o/x",
          "PUEBLO Urban Latina/o/x",
          "PUEBLO Urban Latina/o/x",
          "PUEBLO Urban Latina/o/x",
          "PUEBLO Urban Latina/o/x",
          "PUEBLO Urban Latina/o/x",
          "PUEBLO Urban Latina/o/x",
          "PUEBLO Urban Latina/o/x",
          "PUEBLO Urban Latina/o/x",
          "PUEBLO Urban Latina/o/x",
          "PUEBLO Urban Latina/o/x",
          "PUEBLO Urban Latina/o/x",
          "PUEBLO Urban Latina/o/x",
          "PUEBLO Urban Latina/o/x",
          "PUEBLO Urban Latina/o/x",
          "PUEBLO Urban Latina/o/x",
          "PUEBLO Urban Latina/o/x",
          "PUEBLO Urban Latina/o/x",
          "PUEBLO Urban Latina/o/x",
          "PUEBLO Urban Latina/o/x",
          "PUEBLO Urban Latina/o/x",
          "PUEBLO Urban Latina/o/x",
          "PUEBLO Urban Latina/o/x",
          "PUEBLO Urban Latina/o/x",
          "PUEBLO Urban Latina/o/x",
          "PUEBLO Urban Latina/o/x",
          "PUEBLO Urban Latina/o/x",
          "PUEBLO Urban Latina/o/x",
          "PUEBLO Urban Latina/o/x",
          "PUEBLO Urban Latina/o/x",
          "PUEBLO Urban Latina/o/x",
          "PUEBLO Urban Latina/o/x",
          "PUEBLO Urban Latina/o/x",
          "PUEBLO Urban Latina/o/x",
          "PUEBLO Urban Latina/o/x",
          "PUEBLO Urban Latina/o/x",
          "PUEBLO Urban Latina/o/x",
          "PUEBLO Urban Latina/o/x",
          "PUEBLO Urban Latina/o/x",
          "PUEBLO Urban Latina/o/x",
          "PUEBLO Urban Latina/o/x",
          "PUEBLO Urban Latina/o/x",
          "PUEBLO Urban Latina/o/x",
          "PUEBLO Urban Latina/o/x",
          "PUEBLO Urban Latina/o/x",
          "PUEBLO Urban Latina/o/x",
          "PUEBLO Urban Latina/o/x",
          "PUEBLO Urban Latina/o/x",
          "PUEBLO Urban Latina/o/x",
          "PUEBLO Urban Latina/o/x",
          "PUEBLO Urban Latina/o/x",
          "PUEBLO Urban Latina/o/x",
          "PUEBLO Urban Latina/o/x",
          "PUEBLO Urban Latina/o/x",
          "PUEBLO Urban Latina/o/x",
          "PUEBLO Urban Latina/o/x",
          "PUEBLO Urban Latina/o/x",
          "PUEBLO Urban Latina/o/x",
          "PUEBLO Urban Latina/o/x",
          "PUEBLO Urban Latina/o/x",
          "PUEBLO Urban Latina/o/x",
          "PUEBLO Urban Latina/o/x",
          "PUEBLO Urban Latina/o/x",
          "PUEBLO Urban Latina/o/x",
          "PUEBLO Urban Latina/o/x",
          "PUEBLO Urban Latina/o/x",
          "PUEBLO Urban Latina/o/x"
         ],
         "xaxis": "x",
         "y": [
          1,
          1,
          1,
          1,
          0,
          1,
          1,
          1,
          0,
          0,
          1,
          0,
          1,
          1,
          1,
          1,
          0,
          1,
          1,
          1,
          1,
          0,
          1,
          1,
          1,
          1,
          1,
          1,
          1,
          1,
          1,
          1,
          1,
          1,
          1,
          1,
          1,
          1,
          1,
          1,
          1,
          0,
          1,
          0,
          1,
          1,
          0,
          1,
          1,
          1,
          1,
          1,
          0,
          0,
          1,
          1,
          1,
          1,
          0,
          1,
          1,
          1,
          0,
          1,
          0,
          1,
          1,
          1,
          0,
          1,
          1,
          1,
          1,
          0,
          1,
          1,
          1,
          1,
          1,
          1,
          1,
          1,
          1,
          1,
          0,
          1,
          1,
          1,
          1,
          0,
          1,
          0,
          0,
          1,
          1,
          1,
          1,
          0,
          0,
          1
         ],
         "yaxis": "y"
        },
        {
         "alignmentgroup": "True",
         "hovertemplate": "Community=%{x}<br>ceal_testbehavior=%{y}<extra></extra>",
         "legendgroup": "DENVER Urban AA/Black",
         "marker": {
          "color": "#EF553B",
          "pattern": {
           "shape": ""
          }
         },
         "name": "DENVER Urban AA/Black",
         "offsetgroup": "DENVER Urban AA/Black",
         "orientation": "v",
         "showlegend": true,
         "textposition": "auto",
         "type": "bar",
         "x": [
          "DENVER Urban AA/Black",
          "DENVER Urban AA/Black",
          "DENVER Urban AA/Black",
          "DENVER Urban AA/Black",
          "DENVER Urban AA/Black",
          "DENVER Urban AA/Black",
          "DENVER Urban AA/Black",
          "DENVER Urban AA/Black",
          "DENVER Urban AA/Black",
          "DENVER Urban AA/Black",
          "DENVER Urban AA/Black",
          "DENVER Urban AA/Black",
          "DENVER Urban AA/Black",
          "DENVER Urban AA/Black",
          "DENVER Urban AA/Black",
          "DENVER Urban AA/Black",
          "DENVER Urban AA/Black",
          "DENVER Urban AA/Black",
          "DENVER Urban AA/Black",
          "DENVER Urban AA/Black",
          "DENVER Urban AA/Black",
          "DENVER Urban AA/Black",
          "DENVER Urban AA/Black",
          "DENVER Urban AA/Black",
          "DENVER Urban AA/Black",
          "DENVER Urban AA/Black",
          "DENVER Urban AA/Black",
          "DENVER Urban AA/Black",
          "DENVER Urban AA/Black",
          "DENVER Urban AA/Black",
          "DENVER Urban AA/Black",
          "DENVER Urban AA/Black",
          "DENVER Urban AA/Black",
          "DENVER Urban AA/Black",
          "DENVER Urban AA/Black",
          "DENVER Urban AA/Black",
          "DENVER Urban AA/Black",
          "DENVER Urban AA/Black",
          "DENVER Urban AA/Black",
          "DENVER Urban AA/Black",
          "DENVER Urban AA/Black",
          "DENVER Urban AA/Black",
          "DENVER Urban AA/Black",
          "DENVER Urban AA/Black",
          "DENVER Urban AA/Black",
          "DENVER Urban AA/Black",
          "DENVER Urban AA/Black",
          "DENVER Urban AA/Black",
          "DENVER Urban AA/Black",
          "DENVER Urban AA/Black",
          "DENVER Urban AA/Black",
          "DENVER Urban AA/Black",
          "DENVER Urban AA/Black",
          "DENVER Urban AA/Black",
          "DENVER Urban AA/Black",
          "DENVER Urban AA/Black",
          "DENVER Urban AA/Black",
          "DENVER Urban AA/Black",
          "DENVER Urban AA/Black",
          "DENVER Urban AA/Black",
          "DENVER Urban AA/Black",
          "DENVER Urban AA/Black",
          "DENVER Urban AA/Black",
          "DENVER Urban AA/Black",
          "DENVER Urban AA/Black",
          "DENVER Urban AA/Black",
          "DENVER Urban AA/Black",
          "DENVER Urban AA/Black",
          "DENVER Urban AA/Black",
          "DENVER Urban AA/Black",
          "DENVER Urban AA/Black",
          "DENVER Urban AA/Black",
          "DENVER Urban AA/Black",
          "DENVER Urban AA/Black",
          "DENVER Urban AA/Black",
          "DENVER Urban AA/Black",
          "DENVER Urban AA/Black",
          "DENVER Urban AA/Black",
          "DENVER Urban AA/Black",
          "DENVER Urban AA/Black",
          "DENVER Urban AA/Black",
          "DENVER Urban AA/Black",
          "DENVER Urban AA/Black",
          "DENVER Urban AA/Black",
          "DENVER Urban AA/Black",
          "DENVER Urban AA/Black",
          "DENVER Urban AA/Black",
          "DENVER Urban AA/Black",
          "DENVER Urban AA/Black",
          "DENVER Urban AA/Black",
          "DENVER Urban AA/Black",
          "DENVER Urban AA/Black",
          "DENVER Urban AA/Black",
          "DENVER Urban AA/Black",
          "DENVER Urban AA/Black",
          "DENVER Urban AA/Black",
          "DENVER Urban AA/Black",
          "DENVER Urban AA/Black",
          "DENVER Urban AA/Black",
          "DENVER Urban AA/Black",
          "DENVER Urban AA/Black",
          "DENVER Urban AA/Black",
          "DENVER Urban AA/Black",
          "DENVER Urban AA/Black",
          "DENVER Urban AA/Black",
          "DENVER Urban AA/Black",
          "DENVER Urban AA/Black",
          "DENVER Urban AA/Black",
          "DENVER Urban AA/Black",
          "DENVER Urban AA/Black",
          "DENVER Urban AA/Black",
          "DENVER Urban AA/Black",
          "DENVER Urban AA/Black",
          "DENVER Urban AA/Black",
          "DENVER Urban AA/Black",
          "DENVER Urban AA/Black",
          "DENVER Urban AA/Black",
          "DENVER Urban AA/Black",
          "DENVER Urban AA/Black",
          "DENVER Urban AA/Black",
          "DENVER Urban AA/Black",
          "DENVER Urban AA/Black",
          "DENVER Urban AA/Black",
          "DENVER Urban AA/Black",
          "DENVER Urban AA/Black",
          "DENVER Urban AA/Black",
          "DENVER Urban AA/Black",
          "DENVER Urban AA/Black",
          "DENVER Urban AA/Black",
          "DENVER Urban AA/Black",
          "DENVER Urban AA/Black",
          "DENVER Urban AA/Black",
          "DENVER Urban AA/Black",
          "DENVER Urban AA/Black",
          "DENVER Urban AA/Black",
          "DENVER Urban AA/Black",
          "DENVER Urban AA/Black",
          "DENVER Urban AA/Black",
          "DENVER Urban AA/Black",
          "DENVER Urban AA/Black",
          "DENVER Urban AA/Black",
          "DENVER Urban AA/Black",
          "DENVER Urban AA/Black",
          "DENVER Urban AA/Black",
          "DENVER Urban AA/Black",
          "DENVER Urban AA/Black",
          "DENVER Urban AA/Black",
          "DENVER Urban AA/Black",
          "DENVER Urban AA/Black",
          "DENVER Urban AA/Black",
          "DENVER Urban AA/Black",
          "DENVER Urban AA/Black",
          "DENVER Urban AA/Black",
          "DENVER Urban AA/Black",
          "DENVER Urban AA/Black",
          "DENVER Urban AA/Black",
          "DENVER Urban AA/Black",
          "DENVER Urban AA/Black",
          "DENVER Urban AA/Black",
          "DENVER Urban AA/Black",
          "DENVER Urban AA/Black",
          "DENVER Urban AA/Black",
          "DENVER Urban AA/Black",
          "DENVER Urban AA/Black",
          "DENVER Urban AA/Black",
          "DENVER Urban AA/Black",
          "DENVER Urban AA/Black",
          "DENVER Urban AA/Black",
          "DENVER Urban AA/Black",
          "DENVER Urban AA/Black",
          "DENVER Urban AA/Black",
          "DENVER Urban AA/Black",
          "DENVER Urban AA/Black",
          "DENVER Urban AA/Black",
          "DENVER Urban AA/Black",
          "DENVER Urban AA/Black",
          "DENVER Urban AA/Black",
          "DENVER Urban AA/Black",
          "DENVER Urban AA/Black",
          "DENVER Urban AA/Black",
          "DENVER Urban AA/Black",
          "DENVER Urban AA/Black",
          "DENVER Urban AA/Black",
          "DENVER Urban AA/Black",
          "DENVER Urban AA/Black",
          "DENVER Urban AA/Black",
          "DENVER Urban AA/Black"
         ],
         "xaxis": "x",
         "y": [
          1,
          0,
          1,
          0,
          0,
          0,
          0,
          1,
          0,
          0,
          1,
          1,
          1,
          1,
          0,
          1,
          1,
          1,
          0,
          1,
          0,
          1,
          1,
          1,
          0,
          1,
          1,
          1,
          1,
          1,
          1,
          1,
          1,
          null,
          1,
          1,
          1,
          1,
          1,
          1,
          1,
          1,
          0,
          1,
          1,
          1,
          1,
          1,
          1,
          1,
          1,
          0,
          1,
          1,
          0,
          1,
          1,
          1,
          1,
          1,
          0,
          1,
          1,
          0,
          1,
          0,
          0,
          0,
          1,
          1,
          1,
          1,
          1,
          1,
          1,
          1,
          1,
          0,
          1,
          0,
          0,
          1,
          1,
          1,
          1,
          1,
          1,
          1,
          1,
          1,
          0,
          1,
          1,
          1,
          1,
          1,
          1,
          0,
          1,
          0,
          1,
          1,
          1,
          1,
          1,
          1,
          1,
          1,
          1,
          1,
          0,
          1,
          1,
          1,
          1,
          1,
          1,
          1,
          1,
          1,
          1,
          1,
          1,
          1,
          0,
          1,
          1,
          1,
          1,
          0,
          1,
          1,
          1,
          0,
          1,
          null,
          1,
          0,
          1,
          1,
          1,
          1,
          null,
          1,
          1,
          1,
          1,
          1,
          1,
          1,
          1,
          1,
          1,
          1,
          0,
          0,
          1,
          1,
          1,
          1,
          1,
          0,
          1,
          0,
          1,
          1,
          1,
          1,
          1,
          0,
          null,
          1,
          1,
          1,
          1,
          1,
          1,
          1,
          1,
          1,
          1,
          1,
          1,
          1,
          0,
          1,
          1
         ],
         "yaxis": "y"
        },
        {
         "alignmentgroup": "True",
         "hovertemplate": "Community=%{x}<br>ceal_testbehavior=%{y}<extra></extra>",
         "legendgroup": "SLV Rural Latina/o/x",
         "marker": {
          "color": "#00cc96",
          "pattern": {
           "shape": ""
          }
         },
         "name": "SLV Rural Latina/o/x",
         "offsetgroup": "SLV Rural Latina/o/x",
         "orientation": "v",
         "showlegend": true,
         "textposition": "auto",
         "type": "bar",
         "x": [
          "SLV Rural Latina/o/x",
          "SLV Rural Latina/o/x",
          "SLV Rural Latina/o/x",
          "SLV Rural Latina/o/x",
          "SLV Rural Latina/o/x",
          "SLV Rural Latina/o/x",
          "SLV Rural Latina/o/x",
          "SLV Rural Latina/o/x",
          "SLV Rural Latina/o/x",
          "SLV Rural Latina/o/x",
          "SLV Rural Latina/o/x",
          "SLV Rural Latina/o/x",
          "SLV Rural Latina/o/x",
          "SLV Rural Latina/o/x",
          "SLV Rural Latina/o/x",
          "SLV Rural Latina/o/x",
          "SLV Rural Latina/o/x",
          "SLV Rural Latina/o/x",
          "SLV Rural Latina/o/x",
          "SLV Rural Latina/o/x",
          "SLV Rural Latina/o/x",
          "SLV Rural Latina/o/x",
          "SLV Rural Latina/o/x",
          "SLV Rural Latina/o/x",
          "SLV Rural Latina/o/x",
          "SLV Rural Latina/o/x",
          "SLV Rural Latina/o/x",
          "SLV Rural Latina/o/x",
          "SLV Rural Latina/o/x",
          "SLV Rural Latina/o/x",
          "SLV Rural Latina/o/x",
          "SLV Rural Latina/o/x",
          "SLV Rural Latina/o/x",
          "SLV Rural Latina/o/x",
          "SLV Rural Latina/o/x",
          "SLV Rural Latina/o/x",
          "SLV Rural Latina/o/x",
          "SLV Rural Latina/o/x",
          "SLV Rural Latina/o/x",
          "SLV Rural Latina/o/x",
          "SLV Rural Latina/o/x",
          "SLV Rural Latina/o/x",
          "SLV Rural Latina/o/x",
          "SLV Rural Latina/o/x",
          "SLV Rural Latina/o/x",
          "SLV Rural Latina/o/x",
          "SLV Rural Latina/o/x",
          "SLV Rural Latina/o/x",
          "SLV Rural Latina/o/x",
          "SLV Rural Latina/o/x",
          "SLV Rural Latina/o/x",
          "SLV Rural Latina/o/x",
          "SLV Rural Latina/o/x",
          "SLV Rural Latina/o/x",
          "SLV Rural Latina/o/x",
          "SLV Rural Latina/o/x",
          "SLV Rural Latina/o/x",
          "SLV Rural Latina/o/x",
          "SLV Rural Latina/o/x",
          "SLV Rural Latina/o/x",
          "SLV Rural Latina/o/x",
          "SLV Rural Latina/o/x",
          "SLV Rural Latina/o/x",
          "SLV Rural Latina/o/x",
          "SLV Rural Latina/o/x",
          "SLV Rural Latina/o/x",
          "SLV Rural Latina/o/x",
          "SLV Rural Latina/o/x",
          "SLV Rural Latina/o/x",
          "SLV Rural Latina/o/x",
          "SLV Rural Latina/o/x",
          "SLV Rural Latina/o/x",
          "SLV Rural Latina/o/x",
          "SLV Rural Latina/o/x",
          "SLV Rural Latina/o/x",
          "SLV Rural Latina/o/x",
          "SLV Rural Latina/o/x",
          "SLV Rural Latina/o/x",
          "SLV Rural Latina/o/x",
          "SLV Rural Latina/o/x",
          "SLV Rural Latina/o/x",
          "SLV Rural Latina/o/x",
          "SLV Rural Latina/o/x",
          "SLV Rural Latina/o/x",
          "SLV Rural Latina/o/x",
          "SLV Rural Latina/o/x",
          "SLV Rural Latina/o/x",
          "SLV Rural Latina/o/x",
          "SLV Rural Latina/o/x",
          "SLV Rural Latina/o/x",
          "SLV Rural Latina/o/x",
          "SLV Rural Latina/o/x",
          "SLV Rural Latina/o/x",
          "SLV Rural Latina/o/x",
          "SLV Rural Latina/o/x",
          "SLV Rural Latina/o/x",
          "SLV Rural Latina/o/x",
          "SLV Rural Latina/o/x",
          "SLV Rural Latina/o/x",
          "SLV Rural Latina/o/x",
          "SLV Rural Latina/o/x",
          "SLV Rural Latina/o/x",
          "SLV Rural Latina/o/x",
          "SLV Rural Latina/o/x",
          "SLV Rural Latina/o/x",
          "SLV Rural Latina/o/x",
          "SLV Rural Latina/o/x",
          "SLV Rural Latina/o/x",
          "SLV Rural Latina/o/x",
          "SLV Rural Latina/o/x",
          "SLV Rural Latina/o/x",
          "SLV Rural Latina/o/x",
          "SLV Rural Latina/o/x",
          "SLV Rural Latina/o/x",
          "SLV Rural Latina/o/x",
          "SLV Rural Latina/o/x",
          "SLV Rural Latina/o/x",
          "SLV Rural Latina/o/x",
          "SLV Rural Latina/o/x",
          "SLV Rural Latina/o/x",
          "SLV Rural Latina/o/x",
          "SLV Rural Latina/o/x",
          "SLV Rural Latina/o/x",
          "SLV Rural Latina/o/x",
          "SLV Rural Latina/o/x",
          "SLV Rural Latina/o/x",
          "SLV Rural Latina/o/x",
          "SLV Rural Latina/o/x",
          "SLV Rural Latina/o/x",
          "SLV Rural Latina/o/x",
          "SLV Rural Latina/o/x",
          "SLV Rural Latina/o/x",
          "SLV Rural Latina/o/x",
          "SLV Rural Latina/o/x",
          "SLV Rural Latina/o/x",
          "SLV Rural Latina/o/x",
          "SLV Rural Latina/o/x",
          "SLV Rural Latina/o/x",
          "SLV Rural Latina/o/x",
          "SLV Rural Latina/o/x",
          "SLV Rural Latina/o/x",
          "SLV Rural Latina/o/x",
          "SLV Rural Latina/o/x",
          "SLV Rural Latina/o/x",
          "SLV Rural Latina/o/x",
          "SLV Rural Latina/o/x",
          "SLV Rural Latina/o/x",
          "SLV Rural Latina/o/x",
          "SLV Rural Latina/o/x",
          "SLV Rural Latina/o/x",
          "SLV Rural Latina/o/x",
          "SLV Rural Latina/o/x",
          "SLV Rural Latina/o/x",
          "SLV Rural Latina/o/x",
          "SLV Rural Latina/o/x",
          "SLV Rural Latina/o/x",
          "SLV Rural Latina/o/x",
          "SLV Rural Latina/o/x",
          "SLV Rural Latina/o/x",
          "SLV Rural Latina/o/x",
          "SLV Rural Latina/o/x",
          "SLV Rural Latina/o/x",
          "SLV Rural Latina/o/x",
          "SLV Rural Latina/o/x",
          "SLV Rural Latina/o/x",
          "SLV Rural Latina/o/x",
          "SLV Rural Latina/o/x",
          "SLV Rural Latina/o/x",
          "SLV Rural Latina/o/x",
          "SLV Rural Latina/o/x",
          "SLV Rural Latina/o/x",
          "SLV Rural Latina/o/x",
          "SLV Rural Latina/o/x",
          "SLV Rural Latina/o/x",
          "SLV Rural Latina/o/x",
          "SLV Rural Latina/o/x",
          "SLV Rural Latina/o/x",
          "SLV Rural Latina/o/x",
          "SLV Rural Latina/o/x",
          "SLV Rural Latina/o/x",
          "SLV Rural Latina/o/x",
          "SLV Rural Latina/o/x",
          "SLV Rural Latina/o/x",
          "SLV Rural Latina/o/x",
          "SLV Rural Latina/o/x",
          "SLV Rural Latina/o/x",
          "SLV Rural Latina/o/x",
          "SLV Rural Latina/o/x",
          "SLV Rural Latina/o/x",
          "SLV Rural Latina/o/x",
          "SLV Rural Latina/o/x",
          "SLV Rural Latina/o/x",
          "SLV Rural Latina/o/x",
          "SLV Rural Latina/o/x"
         ],
         "xaxis": "x",
         "y": [
          1,
          0,
          1,
          0,
          1,
          1,
          1,
          1,
          0,
          1,
          1,
          1,
          1,
          0,
          1,
          1,
          1,
          1,
          1,
          1,
          0,
          1,
          1,
          1,
          1,
          1,
          1,
          1,
          1,
          1,
          1,
          1,
          1,
          1,
          1,
          1,
          1,
          1,
          1,
          null,
          0,
          0,
          1,
          1,
          0,
          1,
          1,
          1,
          0,
          0,
          1,
          1,
          1,
          0,
          1,
          0,
          0,
          1,
          1,
          0,
          1,
          1,
          1,
          1,
          0,
          1,
          1,
          1,
          0,
          1,
          1,
          1,
          1,
          1,
          0,
          1,
          1,
          0,
          1,
          0,
          1,
          1,
          1,
          1,
          1,
          1,
          1,
          1,
          1,
          1,
          1,
          1,
          1,
          1,
          1,
          1,
          1,
          1,
          1,
          0,
          1,
          1,
          1,
          1,
          1,
          1,
          1,
          1,
          1,
          1,
          1,
          1,
          0,
          1,
          1,
          1,
          0,
          1,
          1,
          1,
          1,
          1,
          1,
          0,
          1,
          1,
          1,
          1,
          1,
          1,
          1,
          1,
          1,
          1,
          1,
          1,
          1,
          0,
          1,
          1,
          1,
          1,
          1,
          0,
          0,
          1,
          1,
          1,
          0,
          0,
          1,
          1,
          1,
          1,
          1,
          1,
          1,
          1,
          1,
          1,
          1,
          1,
          1,
          1,
          1,
          1,
          1,
          1,
          1,
          1,
          1,
          1,
          0,
          1,
          1,
          1,
          1,
          1,
          1,
          0,
          0,
          1,
          1,
          1,
          1,
          0,
          1,
          1,
          0,
          0,
          0,
          0,
          1,
          1
         ],
         "yaxis": "y"
        },
        {
         "alignmentgroup": "True",
         "hovertemplate": "Community=%{x}<br>ceal_testbehavior=%{y}<extra></extra>",
         "legendgroup": "FT MORGAN/GREELEY Rural AA/Black",
         "marker": {
          "color": "#ab63fa",
          "pattern": {
           "shape": ""
          }
         },
         "name": "FT MORGAN/GREELEY Rural AA/Black",
         "offsetgroup": "FT MORGAN/GREELEY Rural AA/Black",
         "orientation": "v",
         "showlegend": true,
         "textposition": "auto",
         "type": "bar",
         "x": [
          "FT MORGAN/GREELEY Rural AA/Black",
          "FT MORGAN/GREELEY Rural AA/Black",
          "FT MORGAN/GREELEY Rural AA/Black",
          "FT MORGAN/GREELEY Rural AA/Black",
          "FT MORGAN/GREELEY Rural AA/Black",
          "FT MORGAN/GREELEY Rural AA/Black",
          "FT MORGAN/GREELEY Rural AA/Black",
          "FT MORGAN/GREELEY Rural AA/Black",
          "FT MORGAN/GREELEY Rural AA/Black",
          "FT MORGAN/GREELEY Rural AA/Black",
          "FT MORGAN/GREELEY Rural AA/Black",
          "FT MORGAN/GREELEY Rural AA/Black",
          "FT MORGAN/GREELEY Rural AA/Black",
          "FT MORGAN/GREELEY Rural AA/Black",
          "FT MORGAN/GREELEY Rural AA/Black",
          "FT MORGAN/GREELEY Rural AA/Black",
          "FT MORGAN/GREELEY Rural AA/Black",
          "FT MORGAN/GREELEY Rural AA/Black",
          "FT MORGAN/GREELEY Rural AA/Black",
          "FT MORGAN/GREELEY Rural AA/Black",
          "FT MORGAN/GREELEY Rural AA/Black",
          "FT MORGAN/GREELEY Rural AA/Black",
          "FT MORGAN/GREELEY Rural AA/Black",
          "FT MORGAN/GREELEY Rural AA/Black",
          "FT MORGAN/GREELEY Rural AA/Black",
          "FT MORGAN/GREELEY Rural AA/Black",
          "FT MORGAN/GREELEY Rural AA/Black",
          "FT MORGAN/GREELEY Rural AA/Black",
          "FT MORGAN/GREELEY Rural AA/Black",
          "FT MORGAN/GREELEY Rural AA/Black",
          "FT MORGAN/GREELEY Rural AA/Black",
          "FT MORGAN/GREELEY Rural AA/Black",
          "FT MORGAN/GREELEY Rural AA/Black",
          "FT MORGAN/GREELEY Rural AA/Black",
          "FT MORGAN/GREELEY Rural AA/Black",
          "FT MORGAN/GREELEY Rural AA/Black",
          "FT MORGAN/GREELEY Rural AA/Black",
          "FT MORGAN/GREELEY Rural AA/Black",
          "FT MORGAN/GREELEY Rural AA/Black",
          "FT MORGAN/GREELEY Rural AA/Black",
          "FT MORGAN/GREELEY Rural AA/Black",
          "FT MORGAN/GREELEY Rural AA/Black",
          "FT MORGAN/GREELEY Rural AA/Black",
          "FT MORGAN/GREELEY Rural AA/Black",
          "FT MORGAN/GREELEY Rural AA/Black",
          "FT MORGAN/GREELEY Rural AA/Black",
          "FT MORGAN/GREELEY Rural AA/Black",
          "FT MORGAN/GREELEY Rural AA/Black",
          "FT MORGAN/GREELEY Rural AA/Black",
          "FT MORGAN/GREELEY Rural AA/Black",
          "FT MORGAN/GREELEY Rural AA/Black",
          "FT MORGAN/GREELEY Rural AA/Black",
          "FT MORGAN/GREELEY Rural AA/Black",
          "FT MORGAN/GREELEY Rural AA/Black",
          "FT MORGAN/GREELEY Rural AA/Black",
          "FT MORGAN/GREELEY Rural AA/Black",
          "FT MORGAN/GREELEY Rural AA/Black",
          "FT MORGAN/GREELEY Rural AA/Black",
          "FT MORGAN/GREELEY Rural AA/Black",
          "FT MORGAN/GREELEY Rural AA/Black",
          "FT MORGAN/GREELEY Rural AA/Black",
          "FT MORGAN/GREELEY Rural AA/Black",
          "FT MORGAN/GREELEY Rural AA/Black",
          "FT MORGAN/GREELEY Rural AA/Black",
          "FT MORGAN/GREELEY Rural AA/Black",
          "FT MORGAN/GREELEY Rural AA/Black",
          "FT MORGAN/GREELEY Rural AA/Black",
          "FT MORGAN/GREELEY Rural AA/Black",
          "FT MORGAN/GREELEY Rural AA/Black",
          "FT MORGAN/GREELEY Rural AA/Black",
          "FT MORGAN/GREELEY Rural AA/Black",
          "FT MORGAN/GREELEY Rural AA/Black",
          "FT MORGAN/GREELEY Rural AA/Black",
          "FT MORGAN/GREELEY Rural AA/Black",
          "FT MORGAN/GREELEY Rural AA/Black",
          "FT MORGAN/GREELEY Rural AA/Black",
          "FT MORGAN/GREELEY Rural AA/Black",
          "FT MORGAN/GREELEY Rural AA/Black",
          "FT MORGAN/GREELEY Rural AA/Black",
          "FT MORGAN/GREELEY Rural AA/Black",
          "FT MORGAN/GREELEY Rural AA/Black",
          "FT MORGAN/GREELEY Rural AA/Black",
          "FT MORGAN/GREELEY Rural AA/Black",
          "FT MORGAN/GREELEY Rural AA/Black",
          "FT MORGAN/GREELEY Rural AA/Black",
          "FT MORGAN/GREELEY Rural AA/Black",
          "FT MORGAN/GREELEY Rural AA/Black",
          "FT MORGAN/GREELEY Rural AA/Black",
          "FT MORGAN/GREELEY Rural AA/Black",
          "FT MORGAN/GREELEY Rural AA/Black",
          "FT MORGAN/GREELEY Rural AA/Black",
          "FT MORGAN/GREELEY Rural AA/Black",
          "FT MORGAN/GREELEY Rural AA/Black",
          "FT MORGAN/GREELEY Rural AA/Black",
          "FT MORGAN/GREELEY Rural AA/Black",
          "FT MORGAN/GREELEY Rural AA/Black",
          "FT MORGAN/GREELEY Rural AA/Black",
          "FT MORGAN/GREELEY Rural AA/Black",
          "FT MORGAN/GREELEY Rural AA/Black",
          "FT MORGAN/GREELEY Rural AA/Black",
          "FT MORGAN/GREELEY Rural AA/Black",
          "FT MORGAN/GREELEY Rural AA/Black",
          "FT MORGAN/GREELEY Rural AA/Black",
          "FT MORGAN/GREELEY Rural AA/Black",
          "FT MORGAN/GREELEY Rural AA/Black",
          "FT MORGAN/GREELEY Rural AA/Black",
          "FT MORGAN/GREELEY Rural AA/Black",
          "FT MORGAN/GREELEY Rural AA/Black",
          "FT MORGAN/GREELEY Rural AA/Black",
          "FT MORGAN/GREELEY Rural AA/Black",
          "FT MORGAN/GREELEY Rural AA/Black",
          "FT MORGAN/GREELEY Rural AA/Black",
          "FT MORGAN/GREELEY Rural AA/Black",
          "FT MORGAN/GREELEY Rural AA/Black",
          "FT MORGAN/GREELEY Rural AA/Black",
          "FT MORGAN/GREELEY Rural AA/Black",
          "FT MORGAN/GREELEY Rural AA/Black",
          "FT MORGAN/GREELEY Rural AA/Black",
          "FT MORGAN/GREELEY Rural AA/Black",
          "FT MORGAN/GREELEY Rural AA/Black",
          "FT MORGAN/GREELEY Rural AA/Black",
          "FT MORGAN/GREELEY Rural AA/Black",
          "FT MORGAN/GREELEY Rural AA/Black",
          "FT MORGAN/GREELEY Rural AA/Black",
          "FT MORGAN/GREELEY Rural AA/Black",
          "FT MORGAN/GREELEY Rural AA/Black",
          "FT MORGAN/GREELEY Rural AA/Black",
          "FT MORGAN/GREELEY Rural AA/Black",
          "FT MORGAN/GREELEY Rural AA/Black",
          "FT MORGAN/GREELEY Rural AA/Black",
          "FT MORGAN/GREELEY Rural AA/Black",
          "FT MORGAN/GREELEY Rural AA/Black",
          "FT MORGAN/GREELEY Rural AA/Black",
          "FT MORGAN/GREELEY Rural AA/Black",
          "FT MORGAN/GREELEY Rural AA/Black",
          "FT MORGAN/GREELEY Rural AA/Black",
          "FT MORGAN/GREELEY Rural AA/Black",
          "FT MORGAN/GREELEY Rural AA/Black",
          "FT MORGAN/GREELEY Rural AA/Black",
          "FT MORGAN/GREELEY Rural AA/Black",
          "FT MORGAN/GREELEY Rural AA/Black",
          "FT MORGAN/GREELEY Rural AA/Black",
          "FT MORGAN/GREELEY Rural AA/Black",
          "FT MORGAN/GREELEY Rural AA/Black",
          "FT MORGAN/GREELEY Rural AA/Black",
          "FT MORGAN/GREELEY Rural AA/Black",
          "FT MORGAN/GREELEY Rural AA/Black",
          "FT MORGAN/GREELEY Rural AA/Black",
          "FT MORGAN/GREELEY Rural AA/Black",
          "FT MORGAN/GREELEY Rural AA/Black",
          "FT MORGAN/GREELEY Rural AA/Black",
          "FT MORGAN/GREELEY Rural AA/Black",
          "FT MORGAN/GREELEY Rural AA/Black",
          "FT MORGAN/GREELEY Rural AA/Black",
          "FT MORGAN/GREELEY Rural AA/Black",
          "FT MORGAN/GREELEY Rural AA/Black",
          "FT MORGAN/GREELEY Rural AA/Black",
          "FT MORGAN/GREELEY Rural AA/Black",
          "FT MORGAN/GREELEY Rural AA/Black",
          "FT MORGAN/GREELEY Rural AA/Black",
          "FT MORGAN/GREELEY Rural AA/Black",
          "FT MORGAN/GREELEY Rural AA/Black",
          "FT MORGAN/GREELEY Rural AA/Black",
          "FT MORGAN/GREELEY Rural AA/Black",
          "FT MORGAN/GREELEY Rural AA/Black",
          "FT MORGAN/GREELEY Rural AA/Black",
          "FT MORGAN/GREELEY Rural AA/Black",
          "FT MORGAN/GREELEY Rural AA/Black",
          "FT MORGAN/GREELEY Rural AA/Black",
          "FT MORGAN/GREELEY Rural AA/Black",
          "FT MORGAN/GREELEY Rural AA/Black",
          "FT MORGAN/GREELEY Rural AA/Black",
          "FT MORGAN/GREELEY Rural AA/Black",
          "FT MORGAN/GREELEY Rural AA/Black",
          "FT MORGAN/GREELEY Rural AA/Black",
          "FT MORGAN/GREELEY Rural AA/Black",
          "FT MORGAN/GREELEY Rural AA/Black",
          "FT MORGAN/GREELEY Rural AA/Black",
          "FT MORGAN/GREELEY Rural AA/Black",
          "FT MORGAN/GREELEY Rural AA/Black",
          "FT MORGAN/GREELEY Rural AA/Black",
          "FT MORGAN/GREELEY Rural AA/Black",
          "FT MORGAN/GREELEY Rural AA/Black",
          "FT MORGAN/GREELEY Rural AA/Black",
          "FT MORGAN/GREELEY Rural AA/Black"
         ],
         "xaxis": "x",
         "y": [
          0,
          null,
          1,
          1,
          0,
          0,
          0,
          1,
          1,
          0,
          0,
          0,
          1,
          0,
          0,
          0,
          1,
          0,
          0,
          0,
          0,
          0,
          0,
          1,
          0,
          1,
          0,
          1,
          1,
          1,
          0,
          0,
          1,
          1,
          null,
          1,
          1,
          0,
          1,
          0,
          0,
          0,
          0,
          0,
          0,
          0,
          0,
          null,
          0,
          0,
          0,
          0,
          1,
          0,
          1,
          0,
          null,
          1,
          1,
          0,
          1,
          1,
          0,
          0,
          1,
          1,
          0,
          1,
          0,
          1,
          0,
          1,
          0,
          0,
          0,
          0,
          0,
          1,
          1,
          0,
          1,
          1,
          0,
          1,
          1,
          0,
          0,
          0,
          0,
          0,
          1,
          0,
          0,
          1,
          0,
          0,
          0,
          0,
          0,
          1,
          1,
          1,
          1,
          0,
          0,
          0,
          0,
          0,
          0,
          1,
          0,
          1,
          0,
          0,
          0,
          0,
          0,
          0,
          1,
          0,
          0,
          0,
          0,
          1,
          1,
          0,
          1,
          0,
          0,
          1,
          0,
          0,
          1,
          0,
          0,
          0,
          0,
          1,
          1,
          0,
          0,
          1,
          1,
          1,
          0,
          0,
          1,
          0,
          0,
          0,
          1,
          1,
          0,
          0,
          1,
          1,
          0,
          0,
          0,
          0,
          0,
          0,
          1,
          0,
          0,
          1,
          0,
          0,
          1,
          0,
          0,
          1,
          1,
          0,
          1,
          0,
          1,
          0,
          0,
          1,
          1,
          0,
          0,
          1,
          0
         ],
         "yaxis": "y"
        },
        {
         "alignmentgroup": "True",
         "hovertemplate": "Community=%{x}<br>ceal_testbehavior=%{y}<extra></extra>",
         "legendgroup": "DENVER Urban Latina/o/x",
         "marker": {
          "color": "#FFA15A",
          "pattern": {
           "shape": ""
          }
         },
         "name": "DENVER Urban Latina/o/x",
         "offsetgroup": "DENVER Urban Latina/o/x",
         "orientation": "v",
         "showlegend": true,
         "textposition": "auto",
         "type": "bar",
         "x": [
          "DENVER Urban Latina/o/x",
          "DENVER Urban Latina/o/x",
          "DENVER Urban Latina/o/x",
          "DENVER Urban Latina/o/x",
          "DENVER Urban Latina/o/x",
          "DENVER Urban Latina/o/x",
          "DENVER Urban Latina/o/x",
          "DENVER Urban Latina/o/x",
          "DENVER Urban Latina/o/x",
          "DENVER Urban Latina/o/x",
          "DENVER Urban Latina/o/x",
          "DENVER Urban Latina/o/x",
          "DENVER Urban Latina/o/x",
          "DENVER Urban Latina/o/x",
          "DENVER Urban Latina/o/x",
          "DENVER Urban Latina/o/x",
          "DENVER Urban Latina/o/x",
          "DENVER Urban Latina/o/x",
          "DENVER Urban Latina/o/x",
          "DENVER Urban Latina/o/x",
          "DENVER Urban Latina/o/x",
          "DENVER Urban Latina/o/x",
          "DENVER Urban Latina/o/x",
          "DENVER Urban Latina/o/x",
          "DENVER Urban Latina/o/x",
          "DENVER Urban Latina/o/x",
          "DENVER Urban Latina/o/x",
          "DENVER Urban Latina/o/x",
          "DENVER Urban Latina/o/x",
          "DENVER Urban Latina/o/x",
          "DENVER Urban Latina/o/x",
          "DENVER Urban Latina/o/x",
          "DENVER Urban Latina/o/x",
          "DENVER Urban Latina/o/x",
          "DENVER Urban Latina/o/x",
          "DENVER Urban Latina/o/x",
          "DENVER Urban Latina/o/x",
          "DENVER Urban Latina/o/x",
          "DENVER Urban Latina/o/x",
          "DENVER Urban Latina/o/x",
          "DENVER Urban Latina/o/x",
          "DENVER Urban Latina/o/x",
          "DENVER Urban Latina/o/x",
          "DENVER Urban Latina/o/x",
          "DENVER Urban Latina/o/x",
          "DENVER Urban Latina/o/x",
          "DENVER Urban Latina/o/x",
          "DENVER Urban Latina/o/x",
          "DENVER Urban Latina/o/x",
          "DENVER Urban Latina/o/x",
          "DENVER Urban Latina/o/x",
          "DENVER Urban Latina/o/x",
          "DENVER Urban Latina/o/x",
          "DENVER Urban Latina/o/x",
          "DENVER Urban Latina/o/x",
          "DENVER Urban Latina/o/x",
          "DENVER Urban Latina/o/x",
          "DENVER Urban Latina/o/x",
          "DENVER Urban Latina/o/x",
          "DENVER Urban Latina/o/x",
          "DENVER Urban Latina/o/x",
          "DENVER Urban Latina/o/x",
          "DENVER Urban Latina/o/x",
          "DENVER Urban Latina/o/x",
          "DENVER Urban Latina/o/x",
          "DENVER Urban Latina/o/x",
          "DENVER Urban Latina/o/x",
          "DENVER Urban Latina/o/x",
          "DENVER Urban Latina/o/x",
          "DENVER Urban Latina/o/x",
          "DENVER Urban Latina/o/x",
          "DENVER Urban Latina/o/x",
          "DENVER Urban Latina/o/x",
          "DENVER Urban Latina/o/x",
          "DENVER Urban Latina/o/x",
          "DENVER Urban Latina/o/x",
          "DENVER Urban Latina/o/x",
          "DENVER Urban Latina/o/x",
          "DENVER Urban Latina/o/x",
          "DENVER Urban Latina/o/x",
          "DENVER Urban Latina/o/x",
          "DENVER Urban Latina/o/x",
          "DENVER Urban Latina/o/x",
          "DENVER Urban Latina/o/x",
          "DENVER Urban Latina/o/x",
          "DENVER Urban Latina/o/x",
          "DENVER Urban Latina/o/x",
          "DENVER Urban Latina/o/x",
          "DENVER Urban Latina/o/x",
          "DENVER Urban Latina/o/x",
          "DENVER Urban Latina/o/x",
          "DENVER Urban Latina/o/x",
          "DENVER Urban Latina/o/x",
          "DENVER Urban Latina/o/x",
          "DENVER Urban Latina/o/x",
          "DENVER Urban Latina/o/x",
          "DENVER Urban Latina/o/x",
          "DENVER Urban Latina/o/x",
          "DENVER Urban Latina/o/x",
          "DENVER Urban Latina/o/x",
          "DENVER Urban Latina/o/x",
          "DENVER Urban Latina/o/x",
          "DENVER Urban Latina/o/x",
          "DENVER Urban Latina/o/x",
          "DENVER Urban Latina/o/x",
          "DENVER Urban Latina/o/x",
          "DENVER Urban Latina/o/x",
          "DENVER Urban Latina/o/x",
          "DENVER Urban Latina/o/x",
          "DENVER Urban Latina/o/x",
          "DENVER Urban Latina/o/x",
          "DENVER Urban Latina/o/x",
          "DENVER Urban Latina/o/x",
          "DENVER Urban Latina/o/x",
          "DENVER Urban Latina/o/x",
          "DENVER Urban Latina/o/x",
          "DENVER Urban Latina/o/x",
          "DENVER Urban Latina/o/x",
          "DENVER Urban Latina/o/x",
          "DENVER Urban Latina/o/x",
          "DENVER Urban Latina/o/x",
          "DENVER Urban Latina/o/x",
          "DENVER Urban Latina/o/x",
          "DENVER Urban Latina/o/x",
          "DENVER Urban Latina/o/x",
          "DENVER Urban Latina/o/x",
          "DENVER Urban Latina/o/x",
          "DENVER Urban Latina/o/x",
          "DENVER Urban Latina/o/x",
          "DENVER Urban Latina/o/x",
          "DENVER Urban Latina/o/x",
          "DENVER Urban Latina/o/x",
          "DENVER Urban Latina/o/x",
          "DENVER Urban Latina/o/x",
          "DENVER Urban Latina/o/x",
          "DENVER Urban Latina/o/x",
          "DENVER Urban Latina/o/x",
          "DENVER Urban Latina/o/x",
          "DENVER Urban Latina/o/x",
          "DENVER Urban Latina/o/x",
          "DENVER Urban Latina/o/x",
          "DENVER Urban Latina/o/x"
         ],
         "xaxis": "x",
         "y": [
          1,
          1,
          0,
          1,
          1,
          1,
          1,
          1,
          0,
          1,
          1,
          1,
          1,
          1,
          1,
          1,
          1,
          1,
          1,
          1,
          1,
          1,
          1,
          1,
          1,
          1,
          0,
          0,
          1,
          1,
          0,
          1,
          1,
          1,
          0,
          1,
          1,
          1,
          1,
          1,
          1,
          1,
          1,
          0,
          1,
          1,
          1,
          0,
          1,
          1,
          1,
          1,
          1,
          1,
          1,
          1,
          1,
          0,
          1,
          1,
          1,
          1,
          1,
          1,
          1,
          1,
          1,
          1,
          1,
          1,
          1,
          1,
          1,
          1,
          0,
          1,
          1,
          1,
          1,
          0,
          1,
          1,
          0,
          1,
          0,
          1,
          1,
          1,
          0,
          1,
          1,
          1,
          1,
          1,
          1,
          1,
          0,
          1,
          1,
          0,
          1,
          1,
          1,
          0,
          1,
          1,
          0,
          1,
          1,
          0,
          1,
          1,
          1,
          1,
          0,
          1,
          1,
          1,
          1,
          1,
          1,
          1,
          1,
          1,
          1,
          1,
          1,
          1,
          1,
          1,
          1,
          1,
          1,
          1,
          1,
          1,
          1,
          1,
          1,
          1,
          1,
          1
         ],
         "yaxis": "y"
        },
        {
         "alignmentgroup": "True",
         "hovertemplate": "Community=%{x}<br>ceal_testbehavior=%{y}<extra></extra>",
         "legendgroup": "DENVER Urban American Indian/Alaska Native",
         "marker": {
          "color": "#19d3f3",
          "pattern": {
           "shape": ""
          }
         },
         "name": "DENVER Urban American Indian/Alaska Native",
         "offsetgroup": "DENVER Urban American Indian/Alaska Native",
         "orientation": "v",
         "showlegend": true,
         "textposition": "auto",
         "type": "bar",
         "x": [
          "DENVER Urban American Indian/Alaska Native",
          "DENVER Urban American Indian/Alaska Native",
          "DENVER Urban American Indian/Alaska Native",
          "DENVER Urban American Indian/Alaska Native",
          "DENVER Urban American Indian/Alaska Native",
          "DENVER Urban American Indian/Alaska Native",
          "DENVER Urban American Indian/Alaska Native",
          "DENVER Urban American Indian/Alaska Native",
          "DENVER Urban American Indian/Alaska Native",
          "DENVER Urban American Indian/Alaska Native",
          "DENVER Urban American Indian/Alaska Native",
          "DENVER Urban American Indian/Alaska Native",
          "DENVER Urban American Indian/Alaska Native",
          "DENVER Urban American Indian/Alaska Native",
          "DENVER Urban American Indian/Alaska Native",
          "DENVER Urban American Indian/Alaska Native",
          "DENVER Urban American Indian/Alaska Native",
          "DENVER Urban American Indian/Alaska Native",
          "DENVER Urban American Indian/Alaska Native",
          "DENVER Urban American Indian/Alaska Native",
          "DENVER Urban American Indian/Alaska Native",
          "DENVER Urban American Indian/Alaska Native",
          "DENVER Urban American Indian/Alaska Native",
          "DENVER Urban American Indian/Alaska Native",
          "DENVER Urban American Indian/Alaska Native",
          "DENVER Urban American Indian/Alaska Native",
          "DENVER Urban American Indian/Alaska Native",
          "DENVER Urban American Indian/Alaska Native",
          "DENVER Urban American Indian/Alaska Native",
          "DENVER Urban American Indian/Alaska Native",
          "DENVER Urban American Indian/Alaska Native",
          "DENVER Urban American Indian/Alaska Native",
          "DENVER Urban American Indian/Alaska Native",
          "DENVER Urban American Indian/Alaska Native",
          "DENVER Urban American Indian/Alaska Native",
          "DENVER Urban American Indian/Alaska Native",
          "DENVER Urban American Indian/Alaska Native",
          "DENVER Urban American Indian/Alaska Native",
          "DENVER Urban American Indian/Alaska Native",
          "DENVER Urban American Indian/Alaska Native",
          "DENVER Urban American Indian/Alaska Native",
          "DENVER Urban American Indian/Alaska Native",
          "DENVER Urban American Indian/Alaska Native",
          "DENVER Urban American Indian/Alaska Native",
          "DENVER Urban American Indian/Alaska Native",
          "DENVER Urban American Indian/Alaska Native",
          "DENVER Urban American Indian/Alaska Native",
          "DENVER Urban American Indian/Alaska Native",
          "DENVER Urban American Indian/Alaska Native",
          "DENVER Urban American Indian/Alaska Native",
          "DENVER Urban American Indian/Alaska Native",
          "DENVER Urban American Indian/Alaska Native",
          "DENVER Urban American Indian/Alaska Native",
          "DENVER Urban American Indian/Alaska Native",
          "DENVER Urban American Indian/Alaska Native",
          "DENVER Urban American Indian/Alaska Native",
          "DENVER Urban American Indian/Alaska Native",
          "DENVER Urban American Indian/Alaska Native",
          "DENVER Urban American Indian/Alaska Native",
          "DENVER Urban American Indian/Alaska Native",
          "DENVER Urban American Indian/Alaska Native"
         ],
         "xaxis": "x",
         "y": [
          0,
          1,
          1,
          1,
          1,
          1,
          1,
          1,
          0,
          1,
          1,
          1,
          1,
          null,
          1,
          1,
          1,
          1,
          1,
          1,
          1,
          1,
          1,
          1,
          1,
          1,
          1,
          1,
          1,
          1,
          1,
          1,
          1,
          1,
          1,
          1,
          0,
          1,
          1,
          1,
          1,
          1,
          1,
          1,
          1,
          1,
          1,
          1,
          1,
          1,
          1,
          1,
          1,
          1,
          1,
          1,
          1,
          1,
          0,
          1,
          1
         ],
         "yaxis": "y"
        }
       ],
       "layout": {
        "barmode": "relative",
        "legend": {
         "title": {
          "text": "Community"
         },
         "tracegroupgap": 0
        },
        "template": {
         "data": {
          "bar": [
           {
            "error_x": {
             "color": "#2a3f5f"
            },
            "error_y": {
             "color": "#2a3f5f"
            },
            "marker": {
             "line": {
              "color": "#E5ECF6",
              "width": 0.5
             },
             "pattern": {
              "fillmode": "overlay",
              "size": 10,
              "solidity": 0.2
             }
            },
            "type": "bar"
           }
          ],
          "barpolar": [
           {
            "marker": {
             "line": {
              "color": "#E5ECF6",
              "width": 0.5
             },
             "pattern": {
              "fillmode": "overlay",
              "size": 10,
              "solidity": 0.2
             }
            },
            "type": "barpolar"
           }
          ],
          "carpet": [
           {
            "aaxis": {
             "endlinecolor": "#2a3f5f",
             "gridcolor": "white",
             "linecolor": "white",
             "minorgridcolor": "white",
             "startlinecolor": "#2a3f5f"
            },
            "baxis": {
             "endlinecolor": "#2a3f5f",
             "gridcolor": "white",
             "linecolor": "white",
             "minorgridcolor": "white",
             "startlinecolor": "#2a3f5f"
            },
            "type": "carpet"
           }
          ],
          "choropleth": [
           {
            "colorbar": {
             "outlinewidth": 0,
             "ticks": ""
            },
            "type": "choropleth"
           }
          ],
          "contour": [
           {
            "colorbar": {
             "outlinewidth": 0,
             "ticks": ""
            },
            "colorscale": [
             [
              0,
              "#0d0887"
             ],
             [
              0.1111111111111111,
              "#46039f"
             ],
             [
              0.2222222222222222,
              "#7201a8"
             ],
             [
              0.3333333333333333,
              "#9c179e"
             ],
             [
              0.4444444444444444,
              "#bd3786"
             ],
             [
              0.5555555555555556,
              "#d8576b"
             ],
             [
              0.6666666666666666,
              "#ed7953"
             ],
             [
              0.7777777777777778,
              "#fb9f3a"
             ],
             [
              0.8888888888888888,
              "#fdca26"
             ],
             [
              1,
              "#f0f921"
             ]
            ],
            "type": "contour"
           }
          ],
          "contourcarpet": [
           {
            "colorbar": {
             "outlinewidth": 0,
             "ticks": ""
            },
            "type": "contourcarpet"
           }
          ],
          "heatmap": [
           {
            "colorbar": {
             "outlinewidth": 0,
             "ticks": ""
            },
            "colorscale": [
             [
              0,
              "#0d0887"
             ],
             [
              0.1111111111111111,
              "#46039f"
             ],
             [
              0.2222222222222222,
              "#7201a8"
             ],
             [
              0.3333333333333333,
              "#9c179e"
             ],
             [
              0.4444444444444444,
              "#bd3786"
             ],
             [
              0.5555555555555556,
              "#d8576b"
             ],
             [
              0.6666666666666666,
              "#ed7953"
             ],
             [
              0.7777777777777778,
              "#fb9f3a"
             ],
             [
              0.8888888888888888,
              "#fdca26"
             ],
             [
              1,
              "#f0f921"
             ]
            ],
            "type": "heatmap"
           }
          ],
          "heatmapgl": [
           {
            "colorbar": {
             "outlinewidth": 0,
             "ticks": ""
            },
            "colorscale": [
             [
              0,
              "#0d0887"
             ],
             [
              0.1111111111111111,
              "#46039f"
             ],
             [
              0.2222222222222222,
              "#7201a8"
             ],
             [
              0.3333333333333333,
              "#9c179e"
             ],
             [
              0.4444444444444444,
              "#bd3786"
             ],
             [
              0.5555555555555556,
              "#d8576b"
             ],
             [
              0.6666666666666666,
              "#ed7953"
             ],
             [
              0.7777777777777778,
              "#fb9f3a"
             ],
             [
              0.8888888888888888,
              "#fdca26"
             ],
             [
              1,
              "#f0f921"
             ]
            ],
            "type": "heatmapgl"
           }
          ],
          "histogram": [
           {
            "marker": {
             "pattern": {
              "fillmode": "overlay",
              "size": 10,
              "solidity": 0.2
             }
            },
            "type": "histogram"
           }
          ],
          "histogram2d": [
           {
            "colorbar": {
             "outlinewidth": 0,
             "ticks": ""
            },
            "colorscale": [
             [
              0,
              "#0d0887"
             ],
             [
              0.1111111111111111,
              "#46039f"
             ],
             [
              0.2222222222222222,
              "#7201a8"
             ],
             [
              0.3333333333333333,
              "#9c179e"
             ],
             [
              0.4444444444444444,
              "#bd3786"
             ],
             [
              0.5555555555555556,
              "#d8576b"
             ],
             [
              0.6666666666666666,
              "#ed7953"
             ],
             [
              0.7777777777777778,
              "#fb9f3a"
             ],
             [
              0.8888888888888888,
              "#fdca26"
             ],
             [
              1,
              "#f0f921"
             ]
            ],
            "type": "histogram2d"
           }
          ],
          "histogram2dcontour": [
           {
            "colorbar": {
             "outlinewidth": 0,
             "ticks": ""
            },
            "colorscale": [
             [
              0,
              "#0d0887"
             ],
             [
              0.1111111111111111,
              "#46039f"
             ],
             [
              0.2222222222222222,
              "#7201a8"
             ],
             [
              0.3333333333333333,
              "#9c179e"
             ],
             [
              0.4444444444444444,
              "#bd3786"
             ],
             [
              0.5555555555555556,
              "#d8576b"
             ],
             [
              0.6666666666666666,
              "#ed7953"
             ],
             [
              0.7777777777777778,
              "#fb9f3a"
             ],
             [
              0.8888888888888888,
              "#fdca26"
             ],
             [
              1,
              "#f0f921"
             ]
            ],
            "type": "histogram2dcontour"
           }
          ],
          "mesh3d": [
           {
            "colorbar": {
             "outlinewidth": 0,
             "ticks": ""
            },
            "type": "mesh3d"
           }
          ],
          "parcoords": [
           {
            "line": {
             "colorbar": {
              "outlinewidth": 0,
              "ticks": ""
             }
            },
            "type": "parcoords"
           }
          ],
          "pie": [
           {
            "automargin": true,
            "type": "pie"
           }
          ],
          "scatter": [
           {
            "fillpattern": {
             "fillmode": "overlay",
             "size": 10,
             "solidity": 0.2
            },
            "type": "scatter"
           }
          ],
          "scatter3d": [
           {
            "line": {
             "colorbar": {
              "outlinewidth": 0,
              "ticks": ""
             }
            },
            "marker": {
             "colorbar": {
              "outlinewidth": 0,
              "ticks": ""
             }
            },
            "type": "scatter3d"
           }
          ],
          "scattercarpet": [
           {
            "marker": {
             "colorbar": {
              "outlinewidth": 0,
              "ticks": ""
             }
            },
            "type": "scattercarpet"
           }
          ],
          "scattergeo": [
           {
            "marker": {
             "colorbar": {
              "outlinewidth": 0,
              "ticks": ""
             }
            },
            "type": "scattergeo"
           }
          ],
          "scattergl": [
           {
            "marker": {
             "colorbar": {
              "outlinewidth": 0,
              "ticks": ""
             }
            },
            "type": "scattergl"
           }
          ],
          "scattermapbox": [
           {
            "marker": {
             "colorbar": {
              "outlinewidth": 0,
              "ticks": ""
             }
            },
            "type": "scattermapbox"
           }
          ],
          "scatterpolar": [
           {
            "marker": {
             "colorbar": {
              "outlinewidth": 0,
              "ticks": ""
             }
            },
            "type": "scatterpolar"
           }
          ],
          "scatterpolargl": [
           {
            "marker": {
             "colorbar": {
              "outlinewidth": 0,
              "ticks": ""
             }
            },
            "type": "scatterpolargl"
           }
          ],
          "scatterternary": [
           {
            "marker": {
             "colorbar": {
              "outlinewidth": 0,
              "ticks": ""
             }
            },
            "type": "scatterternary"
           }
          ],
          "surface": [
           {
            "colorbar": {
             "outlinewidth": 0,
             "ticks": ""
            },
            "colorscale": [
             [
              0,
              "#0d0887"
             ],
             [
              0.1111111111111111,
              "#46039f"
             ],
             [
              0.2222222222222222,
              "#7201a8"
             ],
             [
              0.3333333333333333,
              "#9c179e"
             ],
             [
              0.4444444444444444,
              "#bd3786"
             ],
             [
              0.5555555555555556,
              "#d8576b"
             ],
             [
              0.6666666666666666,
              "#ed7953"
             ],
             [
              0.7777777777777778,
              "#fb9f3a"
             ],
             [
              0.8888888888888888,
              "#fdca26"
             ],
             [
              1,
              "#f0f921"
             ]
            ],
            "type": "surface"
           }
          ],
          "table": [
           {
            "cells": {
             "fill": {
              "color": "#EBF0F8"
             },
             "line": {
              "color": "white"
             }
            },
            "header": {
             "fill": {
              "color": "#C8D4E3"
             },
             "line": {
              "color": "white"
             }
            },
            "type": "table"
           }
          ]
         },
         "layout": {
          "annotationdefaults": {
           "arrowcolor": "#2a3f5f",
           "arrowhead": 0,
           "arrowwidth": 1
          },
          "autotypenumbers": "strict",
          "coloraxis": {
           "colorbar": {
            "outlinewidth": 0,
            "ticks": ""
           }
          },
          "colorscale": {
           "diverging": [
            [
             0,
             "#8e0152"
            ],
            [
             0.1,
             "#c51b7d"
            ],
            [
             0.2,
             "#de77ae"
            ],
            [
             0.3,
             "#f1b6da"
            ],
            [
             0.4,
             "#fde0ef"
            ],
            [
             0.5,
             "#f7f7f7"
            ],
            [
             0.6,
             "#e6f5d0"
            ],
            [
             0.7,
             "#b8e186"
            ],
            [
             0.8,
             "#7fbc41"
            ],
            [
             0.9,
             "#4d9221"
            ],
            [
             1,
             "#276419"
            ]
           ],
           "sequential": [
            [
             0,
             "#0d0887"
            ],
            [
             0.1111111111111111,
             "#46039f"
            ],
            [
             0.2222222222222222,
             "#7201a8"
            ],
            [
             0.3333333333333333,
             "#9c179e"
            ],
            [
             0.4444444444444444,
             "#bd3786"
            ],
            [
             0.5555555555555556,
             "#d8576b"
            ],
            [
             0.6666666666666666,
             "#ed7953"
            ],
            [
             0.7777777777777778,
             "#fb9f3a"
            ],
            [
             0.8888888888888888,
             "#fdca26"
            ],
            [
             1,
             "#f0f921"
            ]
           ],
           "sequentialminus": [
            [
             0,
             "#0d0887"
            ],
            [
             0.1111111111111111,
             "#46039f"
            ],
            [
             0.2222222222222222,
             "#7201a8"
            ],
            [
             0.3333333333333333,
             "#9c179e"
            ],
            [
             0.4444444444444444,
             "#bd3786"
            ],
            [
             0.5555555555555556,
             "#d8576b"
            ],
            [
             0.6666666666666666,
             "#ed7953"
            ],
            [
             0.7777777777777778,
             "#fb9f3a"
            ],
            [
             0.8888888888888888,
             "#fdca26"
            ],
            [
             1,
             "#f0f921"
            ]
           ]
          },
          "colorway": [
           "#636efa",
           "#EF553B",
           "#00cc96",
           "#ab63fa",
           "#FFA15A",
           "#19d3f3",
           "#FF6692",
           "#B6E880",
           "#FF97FF",
           "#FECB52"
          ],
          "font": {
           "color": "#2a3f5f"
          },
          "geo": {
           "bgcolor": "white",
           "lakecolor": "white",
           "landcolor": "#E5ECF6",
           "showlakes": true,
           "showland": true,
           "subunitcolor": "white"
          },
          "hoverlabel": {
           "align": "left"
          },
          "hovermode": "closest",
          "mapbox": {
           "style": "light"
          },
          "paper_bgcolor": "white",
          "plot_bgcolor": "#E5ECF6",
          "polar": {
           "angularaxis": {
            "gridcolor": "white",
            "linecolor": "white",
            "ticks": ""
           },
           "bgcolor": "#E5ECF6",
           "radialaxis": {
            "gridcolor": "white",
            "linecolor": "white",
            "ticks": ""
           }
          },
          "scene": {
           "xaxis": {
            "backgroundcolor": "#E5ECF6",
            "gridcolor": "white",
            "gridwidth": 2,
            "linecolor": "white",
            "showbackground": true,
            "ticks": "",
            "zerolinecolor": "white"
           },
           "yaxis": {
            "backgroundcolor": "#E5ECF6",
            "gridcolor": "white",
            "gridwidth": 2,
            "linecolor": "white",
            "showbackground": true,
            "ticks": "",
            "zerolinecolor": "white"
           },
           "zaxis": {
            "backgroundcolor": "#E5ECF6",
            "gridcolor": "white",
            "gridwidth": 2,
            "linecolor": "white",
            "showbackground": true,
            "ticks": "",
            "zerolinecolor": "white"
           }
          },
          "shapedefaults": {
           "line": {
            "color": "#2a3f5f"
           }
          },
          "ternary": {
           "aaxis": {
            "gridcolor": "white",
            "linecolor": "white",
            "ticks": ""
           },
           "baxis": {
            "gridcolor": "white",
            "linecolor": "white",
            "ticks": ""
           },
           "bgcolor": "#E5ECF6",
           "caxis": {
            "gridcolor": "white",
            "linecolor": "white",
            "ticks": ""
           }
          },
          "title": {
           "x": 0.05
          },
          "xaxis": {
           "automargin": true,
           "gridcolor": "white",
           "linecolor": "white",
           "ticks": "",
           "title": {
            "standoff": 15
           },
           "zerolinecolor": "white",
           "zerolinewidth": 2
          },
          "yaxis": {
           "automargin": true,
           "gridcolor": "white",
           "linecolor": "white",
           "ticks": "",
           "title": {
            "standoff": 15
           },
           "zerolinecolor": "white",
           "zerolinewidth": 2
          }
         }
        },
        "title": {
         "text": "Difference Between Categories"
        },
        "xaxis": {
         "anchor": "y",
         "categoryarray": [
          "PUEBLO Urban Latina/o/x",
          "DENVER Urban AA/Black",
          "SLV Rural Latina/o/x",
          "FT MORGAN/GREELEY Rural AA/Black",
          "DENVER Urban Latina/o/x",
          "DENVER Urban American Indian/Alaska Native"
         ],
         "categoryorder": "array",
         "domain": [
          0,
          1
         ],
         "title": {
          "text": "Community"
         }
        },
        "yaxis": {
         "anchor": "x",
         "domain": [
          0,
          1
         ],
         "title": {
          "text": "ceal_testbehavior"
         }
        }
       }
      }
     },
     "metadata": {},
     "output_type": "display_data"
    }
   ],
   "source": [
    "fig = px.bar(wave2_df, x='Community', y='ceal_testbehavior', color='Community', title='Difference Between Categories')\n",
    "\n",
    "fig.update_layout(xaxis_title='Community', yaxis_title='ceal_testbehavior')\n",
    "fig.show()"
   ]
  },
  {
   "cell_type": "code",
   "execution_count": 135,
   "metadata": {},
   "outputs": [
    {
     "data": {
      "text/plain": [
       "0      78.000000\n",
       "1      80.327869\n",
       "2      80.327869\n",
       "3      80.327869\n",
       "4      81.347150\n",
       "         ...    \n",
       "864    80.327869\n",
       "865    78.000000\n",
       "866    80.327869\n",
       "867    81.347150\n",
       "868    80.327869\n",
       "Name: ceal_testbehavior, Length: 869, dtype: float64"
      ]
     },
     "execution_count": 135,
     "metadata": {},
     "output_type": "execute_result"
    }
   ],
   "source": [
    "(wave2_df.groupby('Community')['ceal_testbehavior'].transform('sum') / wave2_df.groupby('Community')['ceal_testbehavior'].transform('count')) * 100"
   ]
  },
  {
   "cell_type": "code",
   "execution_count": 141,
   "metadata": {},
   "outputs": [
    {
     "data": {
      "text/html": [
       "<div>\n",
       "<style scoped>\n",
       "    .dataframe tbody tr th:only-of-type {\n",
       "        vertical-align: middle;\n",
       "    }\n",
       "\n",
       "    .dataframe tbody tr th {\n",
       "        vertical-align: top;\n",
       "    }\n",
       "\n",
       "    .dataframe thead th {\n",
       "        text-align: right;\n",
       "    }\n",
       "</style>\n",
       "<table border=\"1\" class=\"dataframe\">\n",
       "  <thead>\n",
       "    <tr style=\"text-align: right;\">\n",
       "      <th></th>\n",
       "      <th>Community</th>\n",
       "      <th>ceal_testbehavior_percentage</th>\n",
       "    </tr>\n",
       "  </thead>\n",
       "  <tbody>\n",
       "    <tr>\n",
       "      <th>0</th>\n",
       "      <td>PUEBLO Urban Latina/o/x</td>\n",
       "      <td>78.000000</td>\n",
       "    </tr>\n",
       "    <tr>\n",
       "      <th>1</th>\n",
       "      <td>DENVER Urban AA/Black</td>\n",
       "      <td>80.327869</td>\n",
       "    </tr>\n",
       "    <tr>\n",
       "      <th>4</th>\n",
       "      <td>SLV Rural Latina/o/x</td>\n",
       "      <td>81.347150</td>\n",
       "    </tr>\n",
       "    <tr>\n",
       "      <th>9</th>\n",
       "      <td>FT MORGAN/GREELEY Rural AA/Black</td>\n",
       "      <td>37.016575</td>\n",
       "    </tr>\n",
       "    <tr>\n",
       "      <th>15</th>\n",
       "      <td>DENVER Urban Latina/o/x</td>\n",
       "      <td>85.915493</td>\n",
       "    </tr>\n",
       "    <tr>\n",
       "      <th>69</th>\n",
       "      <td>DENVER Urban American Indian/Alaska Native</td>\n",
       "      <td>93.333333</td>\n",
       "    </tr>\n",
       "  </tbody>\n",
       "</table>\n",
       "</div>"
      ],
      "text/plain": [
       "                                     Community  ceal_testbehavior_percentage\n",
       "0                      PUEBLO Urban Latina/o/x                     78.000000\n",
       "1                        DENVER Urban AA/Black                     80.327869\n",
       "4                         SLV Rural Latina/o/x                     81.347150\n",
       "9             FT MORGAN/GREELEY Rural AA/Black                     37.016575\n",
       "15                     DENVER Urban Latina/o/x                     85.915493\n",
       "69  DENVER Urban American Indian/Alaska Native                     93.333333"
      ]
     },
     "execution_count": 141,
     "metadata": {},
     "output_type": "execute_result"
    }
   ],
   "source": [
    "wave2_df[['Community','ceal_testbehavior_percentage']].drop_duplicates()"
   ]
  },
  {
   "cell_type": "code",
   "execution_count": 146,
   "metadata": {},
   "outputs": [
    {
     "data": {
      "text/html": [
       "<div>\n",
       "<style scoped>\n",
       "    .dataframe tbody tr th:only-of-type {\n",
       "        vertical-align: middle;\n",
       "    }\n",
       "\n",
       "    .dataframe tbody tr th {\n",
       "        vertical-align: top;\n",
       "    }\n",
       "\n",
       "    .dataframe thead th {\n",
       "        text-align: right;\n",
       "    }\n",
       "</style>\n",
       "<table border=\"1\" class=\"dataframe\">\n",
       "  <thead>\n",
       "    <tr style=\"text-align: right;\">\n",
       "      <th></th>\n",
       "      <th>Community</th>\n",
       "      <th>ceal_testbehavior</th>\n",
       "      <th>ceal_testbehavior_percentage</th>\n",
       "      <th>ceal_testbehavior_count</th>\n",
       "      <th>community_count</th>\n",
       "    </tr>\n",
       "  </thead>\n",
       "  <tbody>\n",
       "    <tr>\n",
       "      <th>0</th>\n",
       "      <td>PUEBLO Urban Latina/o/x</td>\n",
       "      <td>1.0</td>\n",
       "      <td>78.0</td>\n",
       "      <td>78.0</td>\n",
       "      <td>100</td>\n",
       "    </tr>\n",
       "    <tr>\n",
       "      <th>1</th>\n",
       "      <td>DENVER Urban AA/Black</td>\n",
       "      <td>1.0</td>\n",
       "      <td>80.3</td>\n",
       "      <td>147.0</td>\n",
       "      <td>183</td>\n",
       "    </tr>\n",
       "    <tr>\n",
       "      <th>2</th>\n",
       "      <td>DENVER Urban AA/Black</td>\n",
       "      <td>0.0</td>\n",
       "      <td>80.3</td>\n",
       "      <td>147.0</td>\n",
       "      <td>183</td>\n",
       "    </tr>\n",
       "    <tr>\n",
       "      <th>4</th>\n",
       "      <td>SLV Rural Latina/o/x</td>\n",
       "      <td>1.0</td>\n",
       "      <td>81.3</td>\n",
       "      <td>157.0</td>\n",
       "      <td>193</td>\n",
       "    </tr>\n",
       "    <tr>\n",
       "      <th>5</th>\n",
       "      <td>SLV Rural Latina/o/x</td>\n",
       "      <td>0.0</td>\n",
       "      <td>81.3</td>\n",
       "      <td>157.0</td>\n",
       "      <td>193</td>\n",
       "    </tr>\n",
       "    <tr>\n",
       "      <th>9</th>\n",
       "      <td>FT MORGAN/GREELEY Rural AA/Black</td>\n",
       "      <td>0.0</td>\n",
       "      <td>37.0</td>\n",
       "      <td>67.0</td>\n",
       "      <td>181</td>\n",
       "    </tr>\n",
       "    <tr>\n",
       "      <th>10</th>\n",
       "      <td>FT MORGAN/GREELEY Rural AA/Black</td>\n",
       "      <td>NaN</td>\n",
       "      <td>37.0</td>\n",
       "      <td>67.0</td>\n",
       "      <td>181</td>\n",
       "    </tr>\n",
       "    <tr>\n",
       "      <th>15</th>\n",
       "      <td>DENVER Urban Latina/o/x</td>\n",
       "      <td>1.0</td>\n",
       "      <td>85.9</td>\n",
       "      <td>122.0</td>\n",
       "      <td>142</td>\n",
       "    </tr>\n",
       "    <tr>\n",
       "      <th>23</th>\n",
       "      <td>DENVER Urban Latina/o/x</td>\n",
       "      <td>0.0</td>\n",
       "      <td>85.9</td>\n",
       "      <td>122.0</td>\n",
       "      <td>142</td>\n",
       "    </tr>\n",
       "    <tr>\n",
       "      <th>38</th>\n",
       "      <td>FT MORGAN/GREELEY Rural AA/Black</td>\n",
       "      <td>1.0</td>\n",
       "      <td>37.0</td>\n",
       "      <td>67.0</td>\n",
       "      <td>181</td>\n",
       "    </tr>\n",
       "    <tr>\n",
       "      <th>50</th>\n",
       "      <td>PUEBLO Urban Latina/o/x</td>\n",
       "      <td>0.0</td>\n",
       "      <td>78.0</td>\n",
       "      <td>78.0</td>\n",
       "      <td>100</td>\n",
       "    </tr>\n",
       "    <tr>\n",
       "      <th>69</th>\n",
       "      <td>DENVER Urban American Indian/Alaska Native</td>\n",
       "      <td>0.0</td>\n",
       "      <td>93.3</td>\n",
       "      <td>56.0</td>\n",
       "      <td>60</td>\n",
       "    </tr>\n",
       "    <tr>\n",
       "      <th>70</th>\n",
       "      <td>DENVER Urban American Indian/Alaska Native</td>\n",
       "      <td>1.0</td>\n",
       "      <td>93.3</td>\n",
       "      <td>56.0</td>\n",
       "      <td>60</td>\n",
       "    </tr>\n",
       "    <tr>\n",
       "      <th>79</th>\n",
       "      <td>DENVER Urban AA/Black</td>\n",
       "      <td>NaN</td>\n",
       "      <td>80.3</td>\n",
       "      <td>147.0</td>\n",
       "      <td>183</td>\n",
       "    </tr>\n",
       "    <tr>\n",
       "      <th>204</th>\n",
       "      <td>SLV Rural Latina/o/x</td>\n",
       "      <td>NaN</td>\n",
       "      <td>81.3</td>\n",
       "      <td>157.0</td>\n",
       "      <td>193</td>\n",
       "    </tr>\n",
       "    <tr>\n",
       "      <th>354</th>\n",
       "      <td>DENVER Urban American Indian/Alaska Native</td>\n",
       "      <td>NaN</td>\n",
       "      <td>93.3</td>\n",
       "      <td>56.0</td>\n",
       "      <td>60</td>\n",
       "    </tr>\n",
       "  </tbody>\n",
       "</table>\n",
       "</div>"
      ],
      "text/plain": [
       "                                      Community  ceal_testbehavior  \\\n",
       "0                       PUEBLO Urban Latina/o/x                1.0   \n",
       "1                         DENVER Urban AA/Black                1.0   \n",
       "2                         DENVER Urban AA/Black                0.0   \n",
       "4                          SLV Rural Latina/o/x                1.0   \n",
       "5                          SLV Rural Latina/o/x                0.0   \n",
       "9              FT MORGAN/GREELEY Rural AA/Black                0.0   \n",
       "10             FT MORGAN/GREELEY Rural AA/Black                NaN   \n",
       "15                      DENVER Urban Latina/o/x                1.0   \n",
       "23                      DENVER Urban Latina/o/x                0.0   \n",
       "38             FT MORGAN/GREELEY Rural AA/Black                1.0   \n",
       "50                      PUEBLO Urban Latina/o/x                0.0   \n",
       "69   DENVER Urban American Indian/Alaska Native                0.0   \n",
       "70   DENVER Urban American Indian/Alaska Native                1.0   \n",
       "79                        DENVER Urban AA/Black                NaN   \n",
       "204                        SLV Rural Latina/o/x                NaN   \n",
       "354  DENVER Urban American Indian/Alaska Native                NaN   \n",
       "\n",
       "     ceal_testbehavior_percentage  ceal_testbehavior_count  community_count  \n",
       "0                            78.0                     78.0              100  \n",
       "1                            80.3                    147.0              183  \n",
       "2                            80.3                    147.0              183  \n",
       "4                            81.3                    157.0              193  \n",
       "5                            81.3                    157.0              193  \n",
       "9                            37.0                     67.0              181  \n",
       "10                           37.0                     67.0              181  \n",
       "15                           85.9                    122.0              142  \n",
       "23                           85.9                    122.0              142  \n",
       "38                           37.0                     67.0              181  \n",
       "50                           78.0                     78.0              100  \n",
       "69                           93.3                     56.0               60  \n",
       "70                           93.3                     56.0               60  \n",
       "79                           80.3                    147.0              183  \n",
       "204                          81.3                    157.0              193  \n",
       "354                          93.3                     56.0               60  "
      ]
     },
     "execution_count": 146,
     "metadata": {},
     "output_type": "execute_result"
    }
   ],
   "source": [
    "temp_df"
   ]
  },
  {
   "cell_type": "code",
   "execution_count": 147,
   "metadata": {},
   "outputs": [
    {
     "data": {
      "application/vnd.plotly.v1+json": {
       "config": {
        "plotlyServerURL": "https://plot.ly"
       },
       "data": [
        {
         "alignmentgroup": "True",
         "hovertemplate": "Community=%{x}<br>ceal_testbehavior_percentage=%{y}<extra></extra>",
         "legendgroup": "",
         "marker": {
          "color": "#636efa",
          "pattern": {
           "shape": ""
          }
         },
         "name": "",
         "offsetgroup": "",
         "orientation": "v",
         "showlegend": false,
         "textposition": "auto",
         "type": "bar",
         "x": [
          "PUEBLO Urban Latina/o/x",
          "DENVER Urban AA/Black",
          "SLV Rural Latina/o/x",
          "FT MORGAN/GREELEY Rural AA/Black",
          "DENVER Urban Latina/o/x",
          "DENVER Urban American Indian/Alaska Native"
         ],
         "xaxis": "x",
         "y": [
          78,
          80.3,
          81.3,
          37,
          85.9,
          93.3
         ],
         "yaxis": "y"
        }
       ],
       "layout": {
        "barmode": "relative",
        "legend": {
         "tracegroupgap": 0
        },
        "template": {
         "data": {
          "bar": [
           {
            "error_x": {
             "color": "#2a3f5f"
            },
            "error_y": {
             "color": "#2a3f5f"
            },
            "marker": {
             "line": {
              "color": "#E5ECF6",
              "width": 0.5
             },
             "pattern": {
              "fillmode": "overlay",
              "size": 10,
              "solidity": 0.2
             }
            },
            "type": "bar"
           }
          ],
          "barpolar": [
           {
            "marker": {
             "line": {
              "color": "#E5ECF6",
              "width": 0.5
             },
             "pattern": {
              "fillmode": "overlay",
              "size": 10,
              "solidity": 0.2
             }
            },
            "type": "barpolar"
           }
          ],
          "carpet": [
           {
            "aaxis": {
             "endlinecolor": "#2a3f5f",
             "gridcolor": "white",
             "linecolor": "white",
             "minorgridcolor": "white",
             "startlinecolor": "#2a3f5f"
            },
            "baxis": {
             "endlinecolor": "#2a3f5f",
             "gridcolor": "white",
             "linecolor": "white",
             "minorgridcolor": "white",
             "startlinecolor": "#2a3f5f"
            },
            "type": "carpet"
           }
          ],
          "choropleth": [
           {
            "colorbar": {
             "outlinewidth": 0,
             "ticks": ""
            },
            "type": "choropleth"
           }
          ],
          "contour": [
           {
            "colorbar": {
             "outlinewidth": 0,
             "ticks": ""
            },
            "colorscale": [
             [
              0,
              "#0d0887"
             ],
             [
              0.1111111111111111,
              "#46039f"
             ],
             [
              0.2222222222222222,
              "#7201a8"
             ],
             [
              0.3333333333333333,
              "#9c179e"
             ],
             [
              0.4444444444444444,
              "#bd3786"
             ],
             [
              0.5555555555555556,
              "#d8576b"
             ],
             [
              0.6666666666666666,
              "#ed7953"
             ],
             [
              0.7777777777777778,
              "#fb9f3a"
             ],
             [
              0.8888888888888888,
              "#fdca26"
             ],
             [
              1,
              "#f0f921"
             ]
            ],
            "type": "contour"
           }
          ],
          "contourcarpet": [
           {
            "colorbar": {
             "outlinewidth": 0,
             "ticks": ""
            },
            "type": "contourcarpet"
           }
          ],
          "heatmap": [
           {
            "colorbar": {
             "outlinewidth": 0,
             "ticks": ""
            },
            "colorscale": [
             [
              0,
              "#0d0887"
             ],
             [
              0.1111111111111111,
              "#46039f"
             ],
             [
              0.2222222222222222,
              "#7201a8"
             ],
             [
              0.3333333333333333,
              "#9c179e"
             ],
             [
              0.4444444444444444,
              "#bd3786"
             ],
             [
              0.5555555555555556,
              "#d8576b"
             ],
             [
              0.6666666666666666,
              "#ed7953"
             ],
             [
              0.7777777777777778,
              "#fb9f3a"
             ],
             [
              0.8888888888888888,
              "#fdca26"
             ],
             [
              1,
              "#f0f921"
             ]
            ],
            "type": "heatmap"
           }
          ],
          "heatmapgl": [
           {
            "colorbar": {
             "outlinewidth": 0,
             "ticks": ""
            },
            "colorscale": [
             [
              0,
              "#0d0887"
             ],
             [
              0.1111111111111111,
              "#46039f"
             ],
             [
              0.2222222222222222,
              "#7201a8"
             ],
             [
              0.3333333333333333,
              "#9c179e"
             ],
             [
              0.4444444444444444,
              "#bd3786"
             ],
             [
              0.5555555555555556,
              "#d8576b"
             ],
             [
              0.6666666666666666,
              "#ed7953"
             ],
             [
              0.7777777777777778,
              "#fb9f3a"
             ],
             [
              0.8888888888888888,
              "#fdca26"
             ],
             [
              1,
              "#f0f921"
             ]
            ],
            "type": "heatmapgl"
           }
          ],
          "histogram": [
           {
            "marker": {
             "pattern": {
              "fillmode": "overlay",
              "size": 10,
              "solidity": 0.2
             }
            },
            "type": "histogram"
           }
          ],
          "histogram2d": [
           {
            "colorbar": {
             "outlinewidth": 0,
             "ticks": ""
            },
            "colorscale": [
             [
              0,
              "#0d0887"
             ],
             [
              0.1111111111111111,
              "#46039f"
             ],
             [
              0.2222222222222222,
              "#7201a8"
             ],
             [
              0.3333333333333333,
              "#9c179e"
             ],
             [
              0.4444444444444444,
              "#bd3786"
             ],
             [
              0.5555555555555556,
              "#d8576b"
             ],
             [
              0.6666666666666666,
              "#ed7953"
             ],
             [
              0.7777777777777778,
              "#fb9f3a"
             ],
             [
              0.8888888888888888,
              "#fdca26"
             ],
             [
              1,
              "#f0f921"
             ]
            ],
            "type": "histogram2d"
           }
          ],
          "histogram2dcontour": [
           {
            "colorbar": {
             "outlinewidth": 0,
             "ticks": ""
            },
            "colorscale": [
             [
              0,
              "#0d0887"
             ],
             [
              0.1111111111111111,
              "#46039f"
             ],
             [
              0.2222222222222222,
              "#7201a8"
             ],
             [
              0.3333333333333333,
              "#9c179e"
             ],
             [
              0.4444444444444444,
              "#bd3786"
             ],
             [
              0.5555555555555556,
              "#d8576b"
             ],
             [
              0.6666666666666666,
              "#ed7953"
             ],
             [
              0.7777777777777778,
              "#fb9f3a"
             ],
             [
              0.8888888888888888,
              "#fdca26"
             ],
             [
              1,
              "#f0f921"
             ]
            ],
            "type": "histogram2dcontour"
           }
          ],
          "mesh3d": [
           {
            "colorbar": {
             "outlinewidth": 0,
             "ticks": ""
            },
            "type": "mesh3d"
           }
          ],
          "parcoords": [
           {
            "line": {
             "colorbar": {
              "outlinewidth": 0,
              "ticks": ""
             }
            },
            "type": "parcoords"
           }
          ],
          "pie": [
           {
            "automargin": true,
            "type": "pie"
           }
          ],
          "scatter": [
           {
            "fillpattern": {
             "fillmode": "overlay",
             "size": 10,
             "solidity": 0.2
            },
            "type": "scatter"
           }
          ],
          "scatter3d": [
           {
            "line": {
             "colorbar": {
              "outlinewidth": 0,
              "ticks": ""
             }
            },
            "marker": {
             "colorbar": {
              "outlinewidth": 0,
              "ticks": ""
             }
            },
            "type": "scatter3d"
           }
          ],
          "scattercarpet": [
           {
            "marker": {
             "colorbar": {
              "outlinewidth": 0,
              "ticks": ""
             }
            },
            "type": "scattercarpet"
           }
          ],
          "scattergeo": [
           {
            "marker": {
             "colorbar": {
              "outlinewidth": 0,
              "ticks": ""
             }
            },
            "type": "scattergeo"
           }
          ],
          "scattergl": [
           {
            "marker": {
             "colorbar": {
              "outlinewidth": 0,
              "ticks": ""
             }
            },
            "type": "scattergl"
           }
          ],
          "scattermapbox": [
           {
            "marker": {
             "colorbar": {
              "outlinewidth": 0,
              "ticks": ""
             }
            },
            "type": "scattermapbox"
           }
          ],
          "scatterpolar": [
           {
            "marker": {
             "colorbar": {
              "outlinewidth": 0,
              "ticks": ""
             }
            },
            "type": "scatterpolar"
           }
          ],
          "scatterpolargl": [
           {
            "marker": {
             "colorbar": {
              "outlinewidth": 0,
              "ticks": ""
             }
            },
            "type": "scatterpolargl"
           }
          ],
          "scatterternary": [
           {
            "marker": {
             "colorbar": {
              "outlinewidth": 0,
              "ticks": ""
             }
            },
            "type": "scatterternary"
           }
          ],
          "surface": [
           {
            "colorbar": {
             "outlinewidth": 0,
             "ticks": ""
            },
            "colorscale": [
             [
              0,
              "#0d0887"
             ],
             [
              0.1111111111111111,
              "#46039f"
             ],
             [
              0.2222222222222222,
              "#7201a8"
             ],
             [
              0.3333333333333333,
              "#9c179e"
             ],
             [
              0.4444444444444444,
              "#bd3786"
             ],
             [
              0.5555555555555556,
              "#d8576b"
             ],
             [
              0.6666666666666666,
              "#ed7953"
             ],
             [
              0.7777777777777778,
              "#fb9f3a"
             ],
             [
              0.8888888888888888,
              "#fdca26"
             ],
             [
              1,
              "#f0f921"
             ]
            ],
            "type": "surface"
           }
          ],
          "table": [
           {
            "cells": {
             "fill": {
              "color": "#EBF0F8"
             },
             "line": {
              "color": "white"
             }
            },
            "header": {
             "fill": {
              "color": "#C8D4E3"
             },
             "line": {
              "color": "white"
             }
            },
            "type": "table"
           }
          ]
         },
         "layout": {
          "annotationdefaults": {
           "arrowcolor": "#2a3f5f",
           "arrowhead": 0,
           "arrowwidth": 1
          },
          "autotypenumbers": "strict",
          "coloraxis": {
           "colorbar": {
            "outlinewidth": 0,
            "ticks": ""
           }
          },
          "colorscale": {
           "diverging": [
            [
             0,
             "#8e0152"
            ],
            [
             0.1,
             "#c51b7d"
            ],
            [
             0.2,
             "#de77ae"
            ],
            [
             0.3,
             "#f1b6da"
            ],
            [
             0.4,
             "#fde0ef"
            ],
            [
             0.5,
             "#f7f7f7"
            ],
            [
             0.6,
             "#e6f5d0"
            ],
            [
             0.7,
             "#b8e186"
            ],
            [
             0.8,
             "#7fbc41"
            ],
            [
             0.9,
             "#4d9221"
            ],
            [
             1,
             "#276419"
            ]
           ],
           "sequential": [
            [
             0,
             "#0d0887"
            ],
            [
             0.1111111111111111,
             "#46039f"
            ],
            [
             0.2222222222222222,
             "#7201a8"
            ],
            [
             0.3333333333333333,
             "#9c179e"
            ],
            [
             0.4444444444444444,
             "#bd3786"
            ],
            [
             0.5555555555555556,
             "#d8576b"
            ],
            [
             0.6666666666666666,
             "#ed7953"
            ],
            [
             0.7777777777777778,
             "#fb9f3a"
            ],
            [
             0.8888888888888888,
             "#fdca26"
            ],
            [
             1,
             "#f0f921"
            ]
           ],
           "sequentialminus": [
            [
             0,
             "#0d0887"
            ],
            [
             0.1111111111111111,
             "#46039f"
            ],
            [
             0.2222222222222222,
             "#7201a8"
            ],
            [
             0.3333333333333333,
             "#9c179e"
            ],
            [
             0.4444444444444444,
             "#bd3786"
            ],
            [
             0.5555555555555556,
             "#d8576b"
            ],
            [
             0.6666666666666666,
             "#ed7953"
            ],
            [
             0.7777777777777778,
             "#fb9f3a"
            ],
            [
             0.8888888888888888,
             "#fdca26"
            ],
            [
             1,
             "#f0f921"
            ]
           ]
          },
          "colorway": [
           "#636efa",
           "#EF553B",
           "#00cc96",
           "#ab63fa",
           "#FFA15A",
           "#19d3f3",
           "#FF6692",
           "#B6E880",
           "#FF97FF",
           "#FECB52"
          ],
          "font": {
           "color": "#2a3f5f"
          },
          "geo": {
           "bgcolor": "white",
           "lakecolor": "white",
           "landcolor": "#E5ECF6",
           "showlakes": true,
           "showland": true,
           "subunitcolor": "white"
          },
          "hoverlabel": {
           "align": "left"
          },
          "hovermode": "closest",
          "mapbox": {
           "style": "light"
          },
          "paper_bgcolor": "white",
          "plot_bgcolor": "#E5ECF6",
          "polar": {
           "angularaxis": {
            "gridcolor": "white",
            "linecolor": "white",
            "ticks": ""
           },
           "bgcolor": "#E5ECF6",
           "radialaxis": {
            "gridcolor": "white",
            "linecolor": "white",
            "ticks": ""
           }
          },
          "scene": {
           "xaxis": {
            "backgroundcolor": "#E5ECF6",
            "gridcolor": "white",
            "gridwidth": 2,
            "linecolor": "white",
            "showbackground": true,
            "ticks": "",
            "zerolinecolor": "white"
           },
           "yaxis": {
            "backgroundcolor": "#E5ECF6",
            "gridcolor": "white",
            "gridwidth": 2,
            "linecolor": "white",
            "showbackground": true,
            "ticks": "",
            "zerolinecolor": "white"
           },
           "zaxis": {
            "backgroundcolor": "#E5ECF6",
            "gridcolor": "white",
            "gridwidth": 2,
            "linecolor": "white",
            "showbackground": true,
            "ticks": "",
            "zerolinecolor": "white"
           }
          },
          "shapedefaults": {
           "line": {
            "color": "#2a3f5f"
           }
          },
          "ternary": {
           "aaxis": {
            "gridcolor": "white",
            "linecolor": "white",
            "ticks": ""
           },
           "baxis": {
            "gridcolor": "white",
            "linecolor": "white",
            "ticks": ""
           },
           "bgcolor": "#E5ECF6",
           "caxis": {
            "gridcolor": "white",
            "linecolor": "white",
            "ticks": ""
           }
          },
          "title": {
           "x": 0.05
          },
          "xaxis": {
           "automargin": true,
           "gridcolor": "white",
           "linecolor": "white",
           "ticks": "",
           "title": {
            "standoff": 15
           },
           "zerolinecolor": "white",
           "zerolinewidth": 2
          },
          "yaxis": {
           "automargin": true,
           "gridcolor": "white",
           "linecolor": "white",
           "ticks": "",
           "title": {
            "standoff": 15
           },
           "zerolinecolor": "white",
           "zerolinewidth": 2
          }
         }
        },
        "title": {
         "text": "Difference Between Categories (Percentage)"
        },
        "xaxis": {
         "anchor": "y",
         "domain": [
          0,
          1
         ],
         "title": {
          "text": "Community"
         }
        },
        "yaxis": {
         "anchor": "x",
         "domain": [
          0,
          1
         ],
         "title": {
          "text": "Percentage of 1s"
         }
        }
       }
      }
     },
     "metadata": {},
     "output_type": "display_data"
    }
   ],
   "source": [
    "# Calculate the percentage of 1s in each category\n",
    "temp_df = wave2_df[['Community','ceal_testbehavior']].copy()\n",
    "temp_df['ceal_testbehavior_percentage'] = (temp_df.groupby('Community')['ceal_testbehavior'].transform('sum') / temp_df.groupby('Community')['ceal_testbehavior'].transform('count')) * 100\n",
    "temp_df['ceal_testbehavior_percentage'] = temp_df['ceal_testbehavior_percentage'].round(1)\n",
    "temp_df['ceal_testbehavior_count'] = temp_df.groupby('Community')['ceal_testbehavior'].transform('sum')\n",
    "temp_df['community_count'] = temp_df.groupby('Community')['ceal_testbehavior'].transform('count')\n",
    "temp_df.drop(columns=['ceal_testbehavior'],inplace=True)\n",
    "temp_df.drop_duplicates(inplace=True)\n",
    "# Create a bar chart\n",
    "fig = px.bar(temp_df, x='Community', y='ceal_testbehavior_percentage', title='Difference Between Categories (Percentage)')\n",
    "\n",
    "fig.update_layout(xaxis_title='Community', yaxis_title='Percentage of 1s')\n",
    "fig.show()"
   ]
  },
  {
   "cell_type": "code",
   "execution_count": 160,
   "metadata": {},
   "outputs": [],
   "source": [
    "columns_list = ['ceal_testbehavior','ceal2_testpositive']\n",
    "columns_list_new = ['% tested for COVID','% tested positive for COVID']"
   ]
  },
  {
   "cell_type": "code",
   "execution_count": 161,
   "metadata": {},
   "outputs": [
    {
     "data": {
      "text/html": [
       "<div>\n",
       "<style scoped>\n",
       "    .dataframe tbody tr th:only-of-type {\n",
       "        vertical-align: middle;\n",
       "    }\n",
       "\n",
       "    .dataframe tbody tr th {\n",
       "        vertical-align: top;\n",
       "    }\n",
       "\n",
       "    .dataframe thead th {\n",
       "        text-align: right;\n",
       "    }\n",
       "</style>\n",
       "<table border=\"1\" class=\"dataframe\">\n",
       "  <thead>\n",
       "    <tr style=\"text-align: right;\">\n",
       "      <th></th>\n",
       "      <th>Community</th>\n",
       "      <th>Count</th>\n",
       "      <th>% tested for COVID</th>\n",
       "      <th>% tested positive for COVID</th>\n",
       "    </tr>\n",
       "  </thead>\n",
       "  <tbody>\n",
       "    <tr>\n",
       "      <th>0</th>\n",
       "      <td>DENVER Urban AA/Black</td>\n",
       "      <td>187</td>\n",
       "      <td>78.6</td>\n",
       "      <td>27.8</td>\n",
       "    </tr>\n",
       "    <tr>\n",
       "      <th>1</th>\n",
       "      <td>DENVER Urban American Indian/Alaska Native</td>\n",
       "      <td>61</td>\n",
       "      <td>91.8</td>\n",
       "      <td>49.2</td>\n",
       "    </tr>\n",
       "    <tr>\n",
       "      <th>2</th>\n",
       "      <td>DENVER Urban Latina/o/x</td>\n",
       "      <td>142</td>\n",
       "      <td>85.9</td>\n",
       "      <td>46.5</td>\n",
       "    </tr>\n",
       "    <tr>\n",
       "      <th>3</th>\n",
       "      <td>FT MORGAN/GREELEY Rural AA/Black</td>\n",
       "      <td>185</td>\n",
       "      <td>36.2</td>\n",
       "      <td>3.2</td>\n",
       "    </tr>\n",
       "    <tr>\n",
       "      <th>4</th>\n",
       "      <td>PUEBLO Urban Latina/o/x</td>\n",
       "      <td>100</td>\n",
       "      <td>78.0</td>\n",
       "      <td>44.0</td>\n",
       "    </tr>\n",
       "    <tr>\n",
       "      <th>5</th>\n",
       "      <td>SLV Rural Latina/o/x</td>\n",
       "      <td>194</td>\n",
       "      <td>80.9</td>\n",
       "      <td>40.7</td>\n",
       "    </tr>\n",
       "  </tbody>\n",
       "</table>\n",
       "</div>"
      ],
      "text/plain": [
       "                                    Community  Count  % tested for COVID  \\\n",
       "0                       DENVER Urban AA/Black    187                78.6   \n",
       "1  DENVER Urban American Indian/Alaska Native     61                91.8   \n",
       "2                     DENVER Urban Latina/o/x    142                85.9   \n",
       "3            FT MORGAN/GREELEY Rural AA/Black    185                36.2   \n",
       "4                     PUEBLO Urban Latina/o/x    100                78.0   \n",
       "5                        SLV Rural Latina/o/x    194                80.9   \n",
       "\n",
       "   % tested positive for COVID  \n",
       "0                         27.8  \n",
       "1                         49.2  \n",
       "2                         46.5  \n",
       "3                          3.2  \n",
       "4                         44.0  \n",
       "5                         40.7  "
      ]
     },
     "execution_count": 161,
     "metadata": {},
     "output_type": "execute_result"
    }
   ],
   "source": [
    "grouped_df = wave2_df.groupby('Community').agg(Count=('Community', 'count'), **{col: (col, lambda x: (x==1).sum()) for col in columns_list}).reset_index()\n",
    "for col in columns_list:\n",
    "    grouped_df[col] = grouped_df[col] * 100 / grouped_df['Count']\n",
    "    grouped_df[col] = grouped_df[col].round(1)\n",
    "\n",
    "rename_dict = dict(zip(columns_list, columns_list_new))\n",
    "grouped_df.rename(columns=rename_dict, inplace=True)\n",
    "\n",
    "grouped_df"
   ]
  },
  {
   "cell_type": "code",
   "execution_count": 187,
   "metadata": {},
   "outputs": [
    {
     "data": {
      "text/plain": [
       "(75.23333333333333, 35.23333333333333)"
      ]
     },
     "execution_count": 187,
     "metadata": {},
     "output_type": "execute_result"
    }
   ],
   "source": [
    "constant_value1 = grouped_df['% tested for COVID'].mean()\n",
    "constant_value2 = grouped_df['% tested positive for COVID'].mean()\n",
    "constant_value1, constant_value2"
   ]
  },
  {
   "cell_type": "code",
   "execution_count": 176,
   "metadata": {},
   "outputs": [
    {
     "data": {
      "text/plain": [
       "6"
      ]
     },
     "execution_count": 176,
     "metadata": {},
     "output_type": "execute_result"
    }
   ],
   "source": [
    "grouped_df.shape[0]"
   ]
  },
  {
   "cell_type": "code",
   "execution_count": 186,
   "metadata": {},
   "outputs": [
    {
     "data": {
      "application/vnd.plotly.v1+json": {
       "config": {
        "plotlyServerURL": "https://plot.ly"
       },
       "data": [
        {
         "marker": {
          "color": "skyblue"
         },
         "name": "% tested for COVID",
         "type": "bar",
         "x": [
          "DENVER Urban AA/Black",
          "DENVER Urban American Indian/Alaska Native",
          "DENVER Urban Latina/o/x",
          "FT MORGAN/GREELEY Rural AA/Black",
          "PUEBLO Urban Latina/o/x",
          "SLV Rural Latina/o/x"
         ],
         "y": [
          78.6,
          91.8,
          85.9,
          36.2,
          78,
          80.9
         ]
        },
        {
         "marker": {
          "color": "lightsalmon"
         },
         "name": "% tested positive for COVID",
         "type": "bar",
         "x": [
          "DENVER Urban AA/Black",
          "DENVER Urban American Indian/Alaska Native",
          "DENVER Urban Latina/o/x",
          "FT MORGAN/GREELEY Rural AA/Black",
          "PUEBLO Urban Latina/o/x",
          "SLV Rural Latina/o/x"
         ],
         "y": [
          27.8,
          49.2,
          46.5,
          3.2,
          44,
          40.7
         ]
        }
       ],
       "layout": {
        "annotations": [
         {
          "font": {
           "color": "black",
           "size": 20
          },
          "showarrow": false,
          "text": "population average",
          "x": 6,
          "y": 80.23333333333333
         },
         {
          "font": {
           "color": "black",
           "size": 20
          },
          "showarrow": false,
          "text": "population average",
          "x": 6,
          "y": 40.23333333333333
         }
        ],
        "barmode": "group",
        "shapes": [
         {
          "line": {
           "color": "skyblue",
           "dash": "dash",
           "width": 4
          },
          "type": "line",
          "x0": -0.5,
          "x1": 6,
          "y0": 75.23333333333333,
          "y1": 75.23333333333333
         },
         {
          "line": {
           "color": "lightsalmon",
           "dash": "dash",
           "width": 4
          },
          "type": "line",
          "x0": 0,
          "x1": 6,
          "y0": 35.23333333333333,
          "y1": 35.23333333333333
         }
        ],
        "template": {
         "data": {
          "bar": [
           {
            "error_x": {
             "color": "#2a3f5f"
            },
            "error_y": {
             "color": "#2a3f5f"
            },
            "marker": {
             "line": {
              "color": "#E5ECF6",
              "width": 0.5
             },
             "pattern": {
              "fillmode": "overlay",
              "size": 10,
              "solidity": 0.2
             }
            },
            "type": "bar"
           }
          ],
          "barpolar": [
           {
            "marker": {
             "line": {
              "color": "#E5ECF6",
              "width": 0.5
             },
             "pattern": {
              "fillmode": "overlay",
              "size": 10,
              "solidity": 0.2
             }
            },
            "type": "barpolar"
           }
          ],
          "carpet": [
           {
            "aaxis": {
             "endlinecolor": "#2a3f5f",
             "gridcolor": "white",
             "linecolor": "white",
             "minorgridcolor": "white",
             "startlinecolor": "#2a3f5f"
            },
            "baxis": {
             "endlinecolor": "#2a3f5f",
             "gridcolor": "white",
             "linecolor": "white",
             "minorgridcolor": "white",
             "startlinecolor": "#2a3f5f"
            },
            "type": "carpet"
           }
          ],
          "choropleth": [
           {
            "colorbar": {
             "outlinewidth": 0,
             "ticks": ""
            },
            "type": "choropleth"
           }
          ],
          "contour": [
           {
            "colorbar": {
             "outlinewidth": 0,
             "ticks": ""
            },
            "colorscale": [
             [
              0,
              "#0d0887"
             ],
             [
              0.1111111111111111,
              "#46039f"
             ],
             [
              0.2222222222222222,
              "#7201a8"
             ],
             [
              0.3333333333333333,
              "#9c179e"
             ],
             [
              0.4444444444444444,
              "#bd3786"
             ],
             [
              0.5555555555555556,
              "#d8576b"
             ],
             [
              0.6666666666666666,
              "#ed7953"
             ],
             [
              0.7777777777777778,
              "#fb9f3a"
             ],
             [
              0.8888888888888888,
              "#fdca26"
             ],
             [
              1,
              "#f0f921"
             ]
            ],
            "type": "contour"
           }
          ],
          "contourcarpet": [
           {
            "colorbar": {
             "outlinewidth": 0,
             "ticks": ""
            },
            "type": "contourcarpet"
           }
          ],
          "heatmap": [
           {
            "colorbar": {
             "outlinewidth": 0,
             "ticks": ""
            },
            "colorscale": [
             [
              0,
              "#0d0887"
             ],
             [
              0.1111111111111111,
              "#46039f"
             ],
             [
              0.2222222222222222,
              "#7201a8"
             ],
             [
              0.3333333333333333,
              "#9c179e"
             ],
             [
              0.4444444444444444,
              "#bd3786"
             ],
             [
              0.5555555555555556,
              "#d8576b"
             ],
             [
              0.6666666666666666,
              "#ed7953"
             ],
             [
              0.7777777777777778,
              "#fb9f3a"
             ],
             [
              0.8888888888888888,
              "#fdca26"
             ],
             [
              1,
              "#f0f921"
             ]
            ],
            "type": "heatmap"
           }
          ],
          "heatmapgl": [
           {
            "colorbar": {
             "outlinewidth": 0,
             "ticks": ""
            },
            "colorscale": [
             [
              0,
              "#0d0887"
             ],
             [
              0.1111111111111111,
              "#46039f"
             ],
             [
              0.2222222222222222,
              "#7201a8"
             ],
             [
              0.3333333333333333,
              "#9c179e"
             ],
             [
              0.4444444444444444,
              "#bd3786"
             ],
             [
              0.5555555555555556,
              "#d8576b"
             ],
             [
              0.6666666666666666,
              "#ed7953"
             ],
             [
              0.7777777777777778,
              "#fb9f3a"
             ],
             [
              0.8888888888888888,
              "#fdca26"
             ],
             [
              1,
              "#f0f921"
             ]
            ],
            "type": "heatmapgl"
           }
          ],
          "histogram": [
           {
            "marker": {
             "pattern": {
              "fillmode": "overlay",
              "size": 10,
              "solidity": 0.2
             }
            },
            "type": "histogram"
           }
          ],
          "histogram2d": [
           {
            "colorbar": {
             "outlinewidth": 0,
             "ticks": ""
            },
            "colorscale": [
             [
              0,
              "#0d0887"
             ],
             [
              0.1111111111111111,
              "#46039f"
             ],
             [
              0.2222222222222222,
              "#7201a8"
             ],
             [
              0.3333333333333333,
              "#9c179e"
             ],
             [
              0.4444444444444444,
              "#bd3786"
             ],
             [
              0.5555555555555556,
              "#d8576b"
             ],
             [
              0.6666666666666666,
              "#ed7953"
             ],
             [
              0.7777777777777778,
              "#fb9f3a"
             ],
             [
              0.8888888888888888,
              "#fdca26"
             ],
             [
              1,
              "#f0f921"
             ]
            ],
            "type": "histogram2d"
           }
          ],
          "histogram2dcontour": [
           {
            "colorbar": {
             "outlinewidth": 0,
             "ticks": ""
            },
            "colorscale": [
             [
              0,
              "#0d0887"
             ],
             [
              0.1111111111111111,
              "#46039f"
             ],
             [
              0.2222222222222222,
              "#7201a8"
             ],
             [
              0.3333333333333333,
              "#9c179e"
             ],
             [
              0.4444444444444444,
              "#bd3786"
             ],
             [
              0.5555555555555556,
              "#d8576b"
             ],
             [
              0.6666666666666666,
              "#ed7953"
             ],
             [
              0.7777777777777778,
              "#fb9f3a"
             ],
             [
              0.8888888888888888,
              "#fdca26"
             ],
             [
              1,
              "#f0f921"
             ]
            ],
            "type": "histogram2dcontour"
           }
          ],
          "mesh3d": [
           {
            "colorbar": {
             "outlinewidth": 0,
             "ticks": ""
            },
            "type": "mesh3d"
           }
          ],
          "parcoords": [
           {
            "line": {
             "colorbar": {
              "outlinewidth": 0,
              "ticks": ""
             }
            },
            "type": "parcoords"
           }
          ],
          "pie": [
           {
            "automargin": true,
            "type": "pie"
           }
          ],
          "scatter": [
           {
            "fillpattern": {
             "fillmode": "overlay",
             "size": 10,
             "solidity": 0.2
            },
            "type": "scatter"
           }
          ],
          "scatter3d": [
           {
            "line": {
             "colorbar": {
              "outlinewidth": 0,
              "ticks": ""
             }
            },
            "marker": {
             "colorbar": {
              "outlinewidth": 0,
              "ticks": ""
             }
            },
            "type": "scatter3d"
           }
          ],
          "scattercarpet": [
           {
            "marker": {
             "colorbar": {
              "outlinewidth": 0,
              "ticks": ""
             }
            },
            "type": "scattercarpet"
           }
          ],
          "scattergeo": [
           {
            "marker": {
             "colorbar": {
              "outlinewidth": 0,
              "ticks": ""
             }
            },
            "type": "scattergeo"
           }
          ],
          "scattergl": [
           {
            "marker": {
             "colorbar": {
              "outlinewidth": 0,
              "ticks": ""
             }
            },
            "type": "scattergl"
           }
          ],
          "scattermapbox": [
           {
            "marker": {
             "colorbar": {
              "outlinewidth": 0,
              "ticks": ""
             }
            },
            "type": "scattermapbox"
           }
          ],
          "scatterpolar": [
           {
            "marker": {
             "colorbar": {
              "outlinewidth": 0,
              "ticks": ""
             }
            },
            "type": "scatterpolar"
           }
          ],
          "scatterpolargl": [
           {
            "marker": {
             "colorbar": {
              "outlinewidth": 0,
              "ticks": ""
             }
            },
            "type": "scatterpolargl"
           }
          ],
          "scatterternary": [
           {
            "marker": {
             "colorbar": {
              "outlinewidth": 0,
              "ticks": ""
             }
            },
            "type": "scatterternary"
           }
          ],
          "surface": [
           {
            "colorbar": {
             "outlinewidth": 0,
             "ticks": ""
            },
            "colorscale": [
             [
              0,
              "#0d0887"
             ],
             [
              0.1111111111111111,
              "#46039f"
             ],
             [
              0.2222222222222222,
              "#7201a8"
             ],
             [
              0.3333333333333333,
              "#9c179e"
             ],
             [
              0.4444444444444444,
              "#bd3786"
             ],
             [
              0.5555555555555556,
              "#d8576b"
             ],
             [
              0.6666666666666666,
              "#ed7953"
             ],
             [
              0.7777777777777778,
              "#fb9f3a"
             ],
             [
              0.8888888888888888,
              "#fdca26"
             ],
             [
              1,
              "#f0f921"
             ]
            ],
            "type": "surface"
           }
          ],
          "table": [
           {
            "cells": {
             "fill": {
              "color": "#EBF0F8"
             },
             "line": {
              "color": "white"
             }
            },
            "header": {
             "fill": {
              "color": "#C8D4E3"
             },
             "line": {
              "color": "white"
             }
            },
            "type": "table"
           }
          ]
         },
         "layout": {
          "annotationdefaults": {
           "arrowcolor": "#2a3f5f",
           "arrowhead": 0,
           "arrowwidth": 1
          },
          "autotypenumbers": "strict",
          "coloraxis": {
           "colorbar": {
            "outlinewidth": 0,
            "ticks": ""
           }
          },
          "colorscale": {
           "diverging": [
            [
             0,
             "#8e0152"
            ],
            [
             0.1,
             "#c51b7d"
            ],
            [
             0.2,
             "#de77ae"
            ],
            [
             0.3,
             "#f1b6da"
            ],
            [
             0.4,
             "#fde0ef"
            ],
            [
             0.5,
             "#f7f7f7"
            ],
            [
             0.6,
             "#e6f5d0"
            ],
            [
             0.7,
             "#b8e186"
            ],
            [
             0.8,
             "#7fbc41"
            ],
            [
             0.9,
             "#4d9221"
            ],
            [
             1,
             "#276419"
            ]
           ],
           "sequential": [
            [
             0,
             "#0d0887"
            ],
            [
             0.1111111111111111,
             "#46039f"
            ],
            [
             0.2222222222222222,
             "#7201a8"
            ],
            [
             0.3333333333333333,
             "#9c179e"
            ],
            [
             0.4444444444444444,
             "#bd3786"
            ],
            [
             0.5555555555555556,
             "#d8576b"
            ],
            [
             0.6666666666666666,
             "#ed7953"
            ],
            [
             0.7777777777777778,
             "#fb9f3a"
            ],
            [
             0.8888888888888888,
             "#fdca26"
            ],
            [
             1,
             "#f0f921"
            ]
           ],
           "sequentialminus": [
            [
             0,
             "#0d0887"
            ],
            [
             0.1111111111111111,
             "#46039f"
            ],
            [
             0.2222222222222222,
             "#7201a8"
            ],
            [
             0.3333333333333333,
             "#9c179e"
            ],
            [
             0.4444444444444444,
             "#bd3786"
            ],
            [
             0.5555555555555556,
             "#d8576b"
            ],
            [
             0.6666666666666666,
             "#ed7953"
            ],
            [
             0.7777777777777778,
             "#fb9f3a"
            ],
            [
             0.8888888888888888,
             "#fdca26"
            ],
            [
             1,
             "#f0f921"
            ]
           ]
          },
          "colorway": [
           "#636efa",
           "#EF553B",
           "#00cc96",
           "#ab63fa",
           "#FFA15A",
           "#19d3f3",
           "#FF6692",
           "#B6E880",
           "#FF97FF",
           "#FECB52"
          ],
          "font": {
           "color": "#2a3f5f"
          },
          "geo": {
           "bgcolor": "white",
           "lakecolor": "white",
           "landcolor": "#E5ECF6",
           "showlakes": true,
           "showland": true,
           "subunitcolor": "white"
          },
          "hoverlabel": {
           "align": "left"
          },
          "hovermode": "closest",
          "mapbox": {
           "style": "light"
          },
          "paper_bgcolor": "white",
          "plot_bgcolor": "#E5ECF6",
          "polar": {
           "angularaxis": {
            "gridcolor": "white",
            "linecolor": "white",
            "ticks": ""
           },
           "bgcolor": "#E5ECF6",
           "radialaxis": {
            "gridcolor": "white",
            "linecolor": "white",
            "ticks": ""
           }
          },
          "scene": {
           "xaxis": {
            "backgroundcolor": "#E5ECF6",
            "gridcolor": "white",
            "gridwidth": 2,
            "linecolor": "white",
            "showbackground": true,
            "ticks": "",
            "zerolinecolor": "white"
           },
           "yaxis": {
            "backgroundcolor": "#E5ECF6",
            "gridcolor": "white",
            "gridwidth": 2,
            "linecolor": "white",
            "showbackground": true,
            "ticks": "",
            "zerolinecolor": "white"
           },
           "zaxis": {
            "backgroundcolor": "#E5ECF6",
            "gridcolor": "white",
            "gridwidth": 2,
            "linecolor": "white",
            "showbackground": true,
            "ticks": "",
            "zerolinecolor": "white"
           }
          },
          "shapedefaults": {
           "line": {
            "color": "#2a3f5f"
           }
          },
          "ternary": {
           "aaxis": {
            "gridcolor": "white",
            "linecolor": "white",
            "ticks": ""
           },
           "baxis": {
            "gridcolor": "white",
            "linecolor": "white",
            "ticks": ""
           },
           "bgcolor": "#E5ECF6",
           "caxis": {
            "gridcolor": "white",
            "linecolor": "white",
            "ticks": ""
           }
          },
          "title": {
           "x": 0.05
          },
          "xaxis": {
           "automargin": true,
           "gridcolor": "white",
           "linecolor": "white",
           "ticks": "",
           "title": {
            "standoff": 15
           },
           "zerolinecolor": "white",
           "zerolinewidth": 2
          },
          "yaxis": {
           "automargin": true,
           "gridcolor": "white",
           "linecolor": "white",
           "ticks": "",
           "title": {
            "standoff": 15
           },
           "zerolinecolor": "white",
           "zerolinewidth": 2
          }
         }
        },
        "title": {
         "font": {
          "color": "#1369e2",
          "size": 20
         },
         "text": "something",
         "x": 0.5,
         "y": 0.95
        }
       }
      }
     },
     "metadata": {},
     "output_type": "display_data"
    }
   ],
   "source": [
    "fig = go.Figure(data=[\n",
    "    go.Bar(name='% tested for COVID', x=grouped_df['Community'], y=grouped_df['% tested for COVID'],marker_color='skyblue'),\n",
    "    go.Bar(name='% tested positive for COVID', x=grouped_df['Community'], y=grouped_df['% tested positive for COVID'],marker_color='lightsalmon')\n",
    "])\n",
    "\n",
    "# Add horizontal line for a constant value\n",
    "fig.add_shape(\n",
    "    type=\"line\", line=dict(dash=\"dash\", width=4, color=\"skyblue\"),x0=-0.5, x1=grouped_df.shape[0],\n",
    "    y0=constant_value1, y1=constant_value1\n",
    ")\n",
    "# Add label to the line\n",
    "fig.add_annotation(\n",
    "    x=grouped_df.shape[0], y=constant_value1+5,text=\"population average\",\n",
    "    showarrow=False,font=dict(size=20,color=\"black\"),)\n",
    "\n",
    "# Add another horizontal line for another constant value\n",
    "fig.add_shape(\n",
    "    type=\"line\", line=dict(dash=\"dash\", width=4, color=\"lightsalmon\"),x0=0, x1=grouped_df.shape[0],\n",
    "    y0=constant_value2, y1=constant_value2)\n",
    "fig.add_annotation(\n",
    "    x=grouped_df.shape[0], y=constant_value2+5,text=\"population average\",\n",
    "    showarrow=False,font=dict(size=20,color=\"black\"),)\n",
    "\n",
    "# Change the bar mode\n",
    "fig.update_layout(barmode='group')\n",
    "fig.update_layout(\n",
    "        title_text=\"something\",\n",
    "        title_font=dict(size=graph_title_font_size, color=graph_title_font_color),\n",
    "        title_x=0.5,  # Center align the title horizontally\n",
    "        title_y=0.95  # Adjust the vertical position of the title\n",
    "    )\n",
    "\n",
    "fig.show()"
   ]
  },
  {
   "cell_type": "code",
   "execution_count": null,
   "metadata": {},
   "outputs": [],
   "source": []
  }
 ],
 "metadata": {
  "kernelspec": {
   "display_name": "venv",
   "language": "python",
   "name": "python3"
  },
  "language_info": {
   "codemirror_mode": {
    "name": "ipython",
    "version": 3
   },
   "file_extension": ".py",
   "mimetype": "text/x-python",
   "name": "python",
   "nbconvert_exporter": "python",
   "pygments_lexer": "ipython3",
   "version": "3.9.1"
  }
 },
 "nbformat": 4,
 "nbformat_minor": 2
}
