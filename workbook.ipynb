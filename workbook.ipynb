{
 "cells": [
  {
   "cell_type": "code",
   "execution_count": 1,
   "metadata": {},
   "outputs": [
    {
     "data": {
      "text/plain": [
       "True"
      ]
     },
     "execution_count": 1,
     "metadata": {},
     "output_type": "execute_result"
    }
   ],
   "source": [
    "import dash_bootstrap_components as dbc\n",
    "from dash import html, dcc, callback, Input, Output\n",
    "import dash\n",
    "import pandas as pd\n",
    "from custom_functions.custom_functions import *\n",
    "import os\n",
    "from dotenv import load_dotenv\n",
    "import plotly.express as px\n",
    "load_dotenv()"
   ]
  },
  {
   "cell_type": "code",
   "execution_count": 2,
   "metadata": {},
   "outputs": [],
   "source": [
    "wave2_df = pd.read_excel(\"data/wave_2.xlsx\",engine='openpyxl')\n",
    "\n",
    "displayModeBar_str = os.environ.get(\"displayModeBar\", \"True\")\n",
    "displayModeBar = displayModeBar_str.lower() == \"true\"\n",
    "displaylogo_str = os.environ.get(\"displaylogo\", \"True\")\n",
    "displaylogo = displaylogo_str.lower() == \"true\""
   ]
  },
  {
   "cell_type": "code",
   "execution_count": 3,
   "metadata": {},
   "outputs": [
    {
     "data": {
      "text/plain": [
       "Community\n",
       "SLV Rural Latina/o/x                          194\n",
       "DENVER Urban AA/Black                         187\n",
       "FT MORGAN/GREELEY Rural AA/Black              185\n",
       "DENVER Urban Latina/o/x                       142\n",
       "PUEBLO Urban Latina/o/x                       100\n",
       "DENVER Urban American Indian/Alaska Native     61\n",
       "Name: count, dtype: int64"
      ]
     },
     "execution_count": 3,
     "metadata": {},
     "output_type": "execute_result"
    }
   ],
   "source": [
    "wave2_df['Community'].value_counts(dropna=False)"
   ]
  },
  {
   "cell_type": "code",
   "execution_count": 4,
   "metadata": {},
   "outputs": [
    {
     "data": {
      "text/plain": [
       "Are you Hispanic or Latino? \n",
       "Yes                     439\n",
       "No                      420\n",
       "Prefer not to answer      9\n",
       "NaN                       1\n",
       "Name: count, dtype: int64"
      ]
     },
     "execution_count": 4,
     "metadata": {},
     "output_type": "execute_result"
    }
   ],
   "source": [
    "wave2_df['Are you Hispanic or Latino? '].value_counts(dropna=False)"
   ]
  },
  {
   "cell_type": "code",
   "execution_count": 5,
   "metadata": {},
   "outputs": [],
   "source": [
    "wave2_df['Are you Hispanic or Latino? '].fillna('Unknown',inplace=True)"
   ]
  },
  {
   "cell_type": "code",
   "execution_count": 90,
   "metadata": {},
   "outputs": [
    {
     "data": {
      "application/vnd.plotly.v1+json": {
       "config": {
        "plotlyServerURL": "https://plot.ly"
       },
       "data": [
        {
         "branchvalues": "total",
         "domain": {
          "x": [
           0,
           1
          ],
          "y": [
           0,
           1
          ]
         },
         "hovertemplate": "labels=%{label}<br>counter_column=%{value}<br>parent=%{parent}<br>id=%{id}<extra></extra>",
         "ids": [
          "DENVER Urban AA/Black/No",
          "DENVER Urban American Indian/Alaska Native/No",
          "DENVER Urban Latina/o/x/No",
          "FT MORGAN/GREELEY Rural AA/Black/No",
          "PUEBLO Urban Latina/o/x/No",
          "SLV Rural Latina/o/x/No",
          "DENVER Urban AA/Black/Prefer not to answer",
          "DENVER Urban American Indian/Alaska Native/Prefer not to answer",
          "DENVER Urban Latina/o/x/Prefer not to answer",
          "PUEBLO Urban Latina/o/x/Prefer not to answer",
          "SLV Rural Latina/o/x/Prefer not to answer",
          "DENVER Urban AA/Black/Unknown",
          "DENVER Urban AA/Black/Yes",
          "DENVER Urban American Indian/Alaska Native/Yes",
          "DENVER Urban Latina/o/x/Yes",
          "FT MORGAN/GREELEY Rural AA/Black/Yes",
          "PUEBLO Urban Latina/o/x/Yes",
          "SLV Rural Latina/o/x/Yes",
          "DENVER Urban AA/Black",
          "DENVER Urban American Indian/Alaska Native",
          "DENVER Urban Latina/o/x",
          "FT MORGAN/GREELEY Rural AA/Black",
          "PUEBLO Urban Latina/o/x",
          "SLV Rural Latina/o/x"
         ],
         "labels": [
          "No",
          "No",
          "No",
          "No",
          "No",
          "No",
          "Prefer not to answer",
          "Prefer not to answer",
          "Prefer not to answer",
          "Prefer not to answer",
          "Prefer not to answer",
          "Unknown",
          "Yes",
          "Yes",
          "Yes",
          "Yes",
          "Yes",
          "Yes",
          "DENVER Urban AA/Black",
          "DENVER Urban American Indian/Alaska Native",
          "DENVER Urban Latina/o/x",
          "FT MORGAN/GREELEY Rural AA/Black",
          "PUEBLO Urban Latina/o/x",
          "SLV Rural Latina/o/x"
         ],
         "name": "",
         "parents": [
          "DENVER Urban AA/Black",
          "DENVER Urban American Indian/Alaska Native",
          "DENVER Urban Latina/o/x",
          "FT MORGAN/GREELEY Rural AA/Black",
          "PUEBLO Urban Latina/o/x",
          "SLV Rural Latina/o/x",
          "DENVER Urban AA/Black",
          "DENVER Urban American Indian/Alaska Native",
          "DENVER Urban Latina/o/x",
          "PUEBLO Urban Latina/o/x",
          "SLV Rural Latina/o/x",
          "DENVER Urban AA/Black",
          "DENVER Urban AA/Black",
          "DENVER Urban American Indian/Alaska Native",
          "DENVER Urban Latina/o/x",
          "FT MORGAN/GREELEY Rural AA/Black",
          "PUEBLO Urban Latina/o/x",
          "SLV Rural Latina/o/x",
          "",
          "",
          "",
          "",
          "",
          ""
         ],
         "type": "sunburst",
         "values": [
          176,
          45,
          2,
          183,
          8,
          6,
          3,
          1,
          1,
          2,
          2,
          1,
          7,
          15,
          139,
          2,
          90,
          186,
          187,
          61,
          142,
          185,
          100,
          194
         ]
        }
       ],
       "layout": {
        "legend": {
         "tracegroupgap": 0
        },
        "margin": {
         "t": 60
        },
        "template": {
         "data": {
          "bar": [
           {
            "error_x": {
             "color": "#2a3f5f"
            },
            "error_y": {
             "color": "#2a3f5f"
            },
            "marker": {
             "line": {
              "color": "#E5ECF6",
              "width": 0.5
             },
             "pattern": {
              "fillmode": "overlay",
              "size": 10,
              "solidity": 0.2
             }
            },
            "type": "bar"
           }
          ],
          "barpolar": [
           {
            "marker": {
             "line": {
              "color": "#E5ECF6",
              "width": 0.5
             },
             "pattern": {
              "fillmode": "overlay",
              "size": 10,
              "solidity": 0.2
             }
            },
            "type": "barpolar"
           }
          ],
          "carpet": [
           {
            "aaxis": {
             "endlinecolor": "#2a3f5f",
             "gridcolor": "white",
             "linecolor": "white",
             "minorgridcolor": "white",
             "startlinecolor": "#2a3f5f"
            },
            "baxis": {
             "endlinecolor": "#2a3f5f",
             "gridcolor": "white",
             "linecolor": "white",
             "minorgridcolor": "white",
             "startlinecolor": "#2a3f5f"
            },
            "type": "carpet"
           }
          ],
          "choropleth": [
           {
            "colorbar": {
             "outlinewidth": 0,
             "ticks": ""
            },
            "type": "choropleth"
           }
          ],
          "contour": [
           {
            "colorbar": {
             "outlinewidth": 0,
             "ticks": ""
            },
            "colorscale": [
             [
              0,
              "#0d0887"
             ],
             [
              0.1111111111111111,
              "#46039f"
             ],
             [
              0.2222222222222222,
              "#7201a8"
             ],
             [
              0.3333333333333333,
              "#9c179e"
             ],
             [
              0.4444444444444444,
              "#bd3786"
             ],
             [
              0.5555555555555556,
              "#d8576b"
             ],
             [
              0.6666666666666666,
              "#ed7953"
             ],
             [
              0.7777777777777778,
              "#fb9f3a"
             ],
             [
              0.8888888888888888,
              "#fdca26"
             ],
             [
              1,
              "#f0f921"
             ]
            ],
            "type": "contour"
           }
          ],
          "contourcarpet": [
           {
            "colorbar": {
             "outlinewidth": 0,
             "ticks": ""
            },
            "type": "contourcarpet"
           }
          ],
          "heatmap": [
           {
            "colorbar": {
             "outlinewidth": 0,
             "ticks": ""
            },
            "colorscale": [
             [
              0,
              "#0d0887"
             ],
             [
              0.1111111111111111,
              "#46039f"
             ],
             [
              0.2222222222222222,
              "#7201a8"
             ],
             [
              0.3333333333333333,
              "#9c179e"
             ],
             [
              0.4444444444444444,
              "#bd3786"
             ],
             [
              0.5555555555555556,
              "#d8576b"
             ],
             [
              0.6666666666666666,
              "#ed7953"
             ],
             [
              0.7777777777777778,
              "#fb9f3a"
             ],
             [
              0.8888888888888888,
              "#fdca26"
             ],
             [
              1,
              "#f0f921"
             ]
            ],
            "type": "heatmap"
           }
          ],
          "heatmapgl": [
           {
            "colorbar": {
             "outlinewidth": 0,
             "ticks": ""
            },
            "colorscale": [
             [
              0,
              "#0d0887"
             ],
             [
              0.1111111111111111,
              "#46039f"
             ],
             [
              0.2222222222222222,
              "#7201a8"
             ],
             [
              0.3333333333333333,
              "#9c179e"
             ],
             [
              0.4444444444444444,
              "#bd3786"
             ],
             [
              0.5555555555555556,
              "#d8576b"
             ],
             [
              0.6666666666666666,
              "#ed7953"
             ],
             [
              0.7777777777777778,
              "#fb9f3a"
             ],
             [
              0.8888888888888888,
              "#fdca26"
             ],
             [
              1,
              "#f0f921"
             ]
            ],
            "type": "heatmapgl"
           }
          ],
          "histogram": [
           {
            "marker": {
             "pattern": {
              "fillmode": "overlay",
              "size": 10,
              "solidity": 0.2
             }
            },
            "type": "histogram"
           }
          ],
          "histogram2d": [
           {
            "colorbar": {
             "outlinewidth": 0,
             "ticks": ""
            },
            "colorscale": [
             [
              0,
              "#0d0887"
             ],
             [
              0.1111111111111111,
              "#46039f"
             ],
             [
              0.2222222222222222,
              "#7201a8"
             ],
             [
              0.3333333333333333,
              "#9c179e"
             ],
             [
              0.4444444444444444,
              "#bd3786"
             ],
             [
              0.5555555555555556,
              "#d8576b"
             ],
             [
              0.6666666666666666,
              "#ed7953"
             ],
             [
              0.7777777777777778,
              "#fb9f3a"
             ],
             [
              0.8888888888888888,
              "#fdca26"
             ],
             [
              1,
              "#f0f921"
             ]
            ],
            "type": "histogram2d"
           }
          ],
          "histogram2dcontour": [
           {
            "colorbar": {
             "outlinewidth": 0,
             "ticks": ""
            },
            "colorscale": [
             [
              0,
              "#0d0887"
             ],
             [
              0.1111111111111111,
              "#46039f"
             ],
             [
              0.2222222222222222,
              "#7201a8"
             ],
             [
              0.3333333333333333,
              "#9c179e"
             ],
             [
              0.4444444444444444,
              "#bd3786"
             ],
             [
              0.5555555555555556,
              "#d8576b"
             ],
             [
              0.6666666666666666,
              "#ed7953"
             ],
             [
              0.7777777777777778,
              "#fb9f3a"
             ],
             [
              0.8888888888888888,
              "#fdca26"
             ],
             [
              1,
              "#f0f921"
             ]
            ],
            "type": "histogram2dcontour"
           }
          ],
          "mesh3d": [
           {
            "colorbar": {
             "outlinewidth": 0,
             "ticks": ""
            },
            "type": "mesh3d"
           }
          ],
          "parcoords": [
           {
            "line": {
             "colorbar": {
              "outlinewidth": 0,
              "ticks": ""
             }
            },
            "type": "parcoords"
           }
          ],
          "pie": [
           {
            "automargin": true,
            "type": "pie"
           }
          ],
          "scatter": [
           {
            "fillpattern": {
             "fillmode": "overlay",
             "size": 10,
             "solidity": 0.2
            },
            "type": "scatter"
           }
          ],
          "scatter3d": [
           {
            "line": {
             "colorbar": {
              "outlinewidth": 0,
              "ticks": ""
             }
            },
            "marker": {
             "colorbar": {
              "outlinewidth": 0,
              "ticks": ""
             }
            },
            "type": "scatter3d"
           }
          ],
          "scattercarpet": [
           {
            "marker": {
             "colorbar": {
              "outlinewidth": 0,
              "ticks": ""
             }
            },
            "type": "scattercarpet"
           }
          ],
          "scattergeo": [
           {
            "marker": {
             "colorbar": {
              "outlinewidth": 0,
              "ticks": ""
             }
            },
            "type": "scattergeo"
           }
          ],
          "scattergl": [
           {
            "marker": {
             "colorbar": {
              "outlinewidth": 0,
              "ticks": ""
             }
            },
            "type": "scattergl"
           }
          ],
          "scattermapbox": [
           {
            "marker": {
             "colorbar": {
              "outlinewidth": 0,
              "ticks": ""
             }
            },
            "type": "scattermapbox"
           }
          ],
          "scatterpolar": [
           {
            "marker": {
             "colorbar": {
              "outlinewidth": 0,
              "ticks": ""
             }
            },
            "type": "scatterpolar"
           }
          ],
          "scatterpolargl": [
           {
            "marker": {
             "colorbar": {
              "outlinewidth": 0,
              "ticks": ""
             }
            },
            "type": "scatterpolargl"
           }
          ],
          "scatterternary": [
           {
            "marker": {
             "colorbar": {
              "outlinewidth": 0,
              "ticks": ""
             }
            },
            "type": "scatterternary"
           }
          ],
          "surface": [
           {
            "colorbar": {
             "outlinewidth": 0,
             "ticks": ""
            },
            "colorscale": [
             [
              0,
              "#0d0887"
             ],
             [
              0.1111111111111111,
              "#46039f"
             ],
             [
              0.2222222222222222,
              "#7201a8"
             ],
             [
              0.3333333333333333,
              "#9c179e"
             ],
             [
              0.4444444444444444,
              "#bd3786"
             ],
             [
              0.5555555555555556,
              "#d8576b"
             ],
             [
              0.6666666666666666,
              "#ed7953"
             ],
             [
              0.7777777777777778,
              "#fb9f3a"
             ],
             [
              0.8888888888888888,
              "#fdca26"
             ],
             [
              1,
              "#f0f921"
             ]
            ],
            "type": "surface"
           }
          ],
          "table": [
           {
            "cells": {
             "fill": {
              "color": "#EBF0F8"
             },
             "line": {
              "color": "white"
             }
            },
            "header": {
             "fill": {
              "color": "#C8D4E3"
             },
             "line": {
              "color": "white"
             }
            },
            "type": "table"
           }
          ]
         },
         "layout": {
          "annotationdefaults": {
           "arrowcolor": "#2a3f5f",
           "arrowhead": 0,
           "arrowwidth": 1
          },
          "autotypenumbers": "strict",
          "coloraxis": {
           "colorbar": {
            "outlinewidth": 0,
            "ticks": ""
           }
          },
          "colorscale": {
           "diverging": [
            [
             0,
             "#8e0152"
            ],
            [
             0.1,
             "#c51b7d"
            ],
            [
             0.2,
             "#de77ae"
            ],
            [
             0.3,
             "#f1b6da"
            ],
            [
             0.4,
             "#fde0ef"
            ],
            [
             0.5,
             "#f7f7f7"
            ],
            [
             0.6,
             "#e6f5d0"
            ],
            [
             0.7,
             "#b8e186"
            ],
            [
             0.8,
             "#7fbc41"
            ],
            [
             0.9,
             "#4d9221"
            ],
            [
             1,
             "#276419"
            ]
           ],
           "sequential": [
            [
             0,
             "#0d0887"
            ],
            [
             0.1111111111111111,
             "#46039f"
            ],
            [
             0.2222222222222222,
             "#7201a8"
            ],
            [
             0.3333333333333333,
             "#9c179e"
            ],
            [
             0.4444444444444444,
             "#bd3786"
            ],
            [
             0.5555555555555556,
             "#d8576b"
            ],
            [
             0.6666666666666666,
             "#ed7953"
            ],
            [
             0.7777777777777778,
             "#fb9f3a"
            ],
            [
             0.8888888888888888,
             "#fdca26"
            ],
            [
             1,
             "#f0f921"
            ]
           ],
           "sequentialminus": [
            [
             0,
             "#0d0887"
            ],
            [
             0.1111111111111111,
             "#46039f"
            ],
            [
             0.2222222222222222,
             "#7201a8"
            ],
            [
             0.3333333333333333,
             "#9c179e"
            ],
            [
             0.4444444444444444,
             "#bd3786"
            ],
            [
             0.5555555555555556,
             "#d8576b"
            ],
            [
             0.6666666666666666,
             "#ed7953"
            ],
            [
             0.7777777777777778,
             "#fb9f3a"
            ],
            [
             0.8888888888888888,
             "#fdca26"
            ],
            [
             1,
             "#f0f921"
            ]
           ]
          },
          "colorway": [
           "#636efa",
           "#EF553B",
           "#00cc96",
           "#ab63fa",
           "#FFA15A",
           "#19d3f3",
           "#FF6692",
           "#B6E880",
           "#FF97FF",
           "#FECB52"
          ],
          "font": {
           "color": "#2a3f5f"
          },
          "geo": {
           "bgcolor": "white",
           "lakecolor": "white",
           "landcolor": "#E5ECF6",
           "showlakes": true,
           "showland": true,
           "subunitcolor": "white"
          },
          "hoverlabel": {
           "align": "left"
          },
          "hovermode": "closest",
          "mapbox": {
           "style": "light"
          },
          "paper_bgcolor": "white",
          "plot_bgcolor": "#E5ECF6",
          "polar": {
           "angularaxis": {
            "gridcolor": "white",
            "linecolor": "white",
            "ticks": ""
           },
           "bgcolor": "#E5ECF6",
           "radialaxis": {
            "gridcolor": "white",
            "linecolor": "white",
            "ticks": ""
           }
          },
          "scene": {
           "xaxis": {
            "backgroundcolor": "#E5ECF6",
            "gridcolor": "white",
            "gridwidth": 2,
            "linecolor": "white",
            "showbackground": true,
            "ticks": "",
            "zerolinecolor": "white"
           },
           "yaxis": {
            "backgroundcolor": "#E5ECF6",
            "gridcolor": "white",
            "gridwidth": 2,
            "linecolor": "white",
            "showbackground": true,
            "ticks": "",
            "zerolinecolor": "white"
           },
           "zaxis": {
            "backgroundcolor": "#E5ECF6",
            "gridcolor": "white",
            "gridwidth": 2,
            "linecolor": "white",
            "showbackground": true,
            "ticks": "",
            "zerolinecolor": "white"
           }
          },
          "shapedefaults": {
           "line": {
            "color": "#2a3f5f"
           }
          },
          "ternary": {
           "aaxis": {
            "gridcolor": "white",
            "linecolor": "white",
            "ticks": ""
           },
           "baxis": {
            "gridcolor": "white",
            "linecolor": "white",
            "ticks": ""
           },
           "bgcolor": "#E5ECF6",
           "caxis": {
            "gridcolor": "white",
            "linecolor": "white",
            "ticks": ""
           }
          },
          "title": {
           "x": 0.05
          },
          "xaxis": {
           "automargin": true,
           "gridcolor": "white",
           "linecolor": "white",
           "ticks": "",
           "title": {
            "standoff": 15
           },
           "zerolinecolor": "white",
           "zerolinewidth": 2
          },
          "yaxis": {
           "automargin": true,
           "gridcolor": "white",
           "linecolor": "white",
           "ticks": "",
           "title": {
            "standoff": 15
           },
           "zerolinecolor": "white",
           "zerolinewidth": 2
          }
         }
        }
       }
      }
     },
     "metadata": {},
     "output_type": "display_data"
    }
   ],
   "source": [
    "px.sunburst(wave2_df, path=['Community','Are you Hispanic or Latino? '], values='counter_column', branchvalues='total')"
   ]
  },
  {
   "cell_type": "code",
   "execution_count": 51,
   "metadata": {},
   "outputs": [
    {
     "data": {
      "application/vnd.plotly.v1+json": {
       "config": {
        "plotlyServerURL": "https://plot.ly"
       },
       "data": [
        {
         "branchvalues": "total",
         "labels": [
          "Eve",
          "Cain",
          "Seth",
          "Enos",
          "Noam",
          "Abel",
          "Awan",
          "Enoch",
          "Azura"
         ],
         "parents": [
          "",
          "Eve",
          "Eve",
          "Seth",
          "Seth",
          "Eve",
          "Eve",
          "Awan",
          "Eve"
         ],
         "type": "sunburst",
         "values": [
          65,
          14,
          12,
          10,
          2,
          6,
          6,
          4,
          4
         ]
        }
       ],
       "layout": {
        "margin": {
         "b": 0,
         "l": 0,
         "r": 0,
         "t": 0
        },
        "template": {
         "data": {
          "bar": [
           {
            "error_x": {
             "color": "#2a3f5f"
            },
            "error_y": {
             "color": "#2a3f5f"
            },
            "marker": {
             "line": {
              "color": "#E5ECF6",
              "width": 0.5
             },
             "pattern": {
              "fillmode": "overlay",
              "size": 10,
              "solidity": 0.2
             }
            },
            "type": "bar"
           }
          ],
          "barpolar": [
           {
            "marker": {
             "line": {
              "color": "#E5ECF6",
              "width": 0.5
             },
             "pattern": {
              "fillmode": "overlay",
              "size": 10,
              "solidity": 0.2
             }
            },
            "type": "barpolar"
           }
          ],
          "carpet": [
           {
            "aaxis": {
             "endlinecolor": "#2a3f5f",
             "gridcolor": "white",
             "linecolor": "white",
             "minorgridcolor": "white",
             "startlinecolor": "#2a3f5f"
            },
            "baxis": {
             "endlinecolor": "#2a3f5f",
             "gridcolor": "white",
             "linecolor": "white",
             "minorgridcolor": "white",
             "startlinecolor": "#2a3f5f"
            },
            "type": "carpet"
           }
          ],
          "choropleth": [
           {
            "colorbar": {
             "outlinewidth": 0,
             "ticks": ""
            },
            "type": "choropleth"
           }
          ],
          "contour": [
           {
            "colorbar": {
             "outlinewidth": 0,
             "ticks": ""
            },
            "colorscale": [
             [
              0,
              "#0d0887"
             ],
             [
              0.1111111111111111,
              "#46039f"
             ],
             [
              0.2222222222222222,
              "#7201a8"
             ],
             [
              0.3333333333333333,
              "#9c179e"
             ],
             [
              0.4444444444444444,
              "#bd3786"
             ],
             [
              0.5555555555555556,
              "#d8576b"
             ],
             [
              0.6666666666666666,
              "#ed7953"
             ],
             [
              0.7777777777777778,
              "#fb9f3a"
             ],
             [
              0.8888888888888888,
              "#fdca26"
             ],
             [
              1,
              "#f0f921"
             ]
            ],
            "type": "contour"
           }
          ],
          "contourcarpet": [
           {
            "colorbar": {
             "outlinewidth": 0,
             "ticks": ""
            },
            "type": "contourcarpet"
           }
          ],
          "heatmap": [
           {
            "colorbar": {
             "outlinewidth": 0,
             "ticks": ""
            },
            "colorscale": [
             [
              0,
              "#0d0887"
             ],
             [
              0.1111111111111111,
              "#46039f"
             ],
             [
              0.2222222222222222,
              "#7201a8"
             ],
             [
              0.3333333333333333,
              "#9c179e"
             ],
             [
              0.4444444444444444,
              "#bd3786"
             ],
             [
              0.5555555555555556,
              "#d8576b"
             ],
             [
              0.6666666666666666,
              "#ed7953"
             ],
             [
              0.7777777777777778,
              "#fb9f3a"
             ],
             [
              0.8888888888888888,
              "#fdca26"
             ],
             [
              1,
              "#f0f921"
             ]
            ],
            "type": "heatmap"
           }
          ],
          "heatmapgl": [
           {
            "colorbar": {
             "outlinewidth": 0,
             "ticks": ""
            },
            "colorscale": [
             [
              0,
              "#0d0887"
             ],
             [
              0.1111111111111111,
              "#46039f"
             ],
             [
              0.2222222222222222,
              "#7201a8"
             ],
             [
              0.3333333333333333,
              "#9c179e"
             ],
             [
              0.4444444444444444,
              "#bd3786"
             ],
             [
              0.5555555555555556,
              "#d8576b"
             ],
             [
              0.6666666666666666,
              "#ed7953"
             ],
             [
              0.7777777777777778,
              "#fb9f3a"
             ],
             [
              0.8888888888888888,
              "#fdca26"
             ],
             [
              1,
              "#f0f921"
             ]
            ],
            "type": "heatmapgl"
           }
          ],
          "histogram": [
           {
            "marker": {
             "pattern": {
              "fillmode": "overlay",
              "size": 10,
              "solidity": 0.2
             }
            },
            "type": "histogram"
           }
          ],
          "histogram2d": [
           {
            "colorbar": {
             "outlinewidth": 0,
             "ticks": ""
            },
            "colorscale": [
             [
              0,
              "#0d0887"
             ],
             [
              0.1111111111111111,
              "#46039f"
             ],
             [
              0.2222222222222222,
              "#7201a8"
             ],
             [
              0.3333333333333333,
              "#9c179e"
             ],
             [
              0.4444444444444444,
              "#bd3786"
             ],
             [
              0.5555555555555556,
              "#d8576b"
             ],
             [
              0.6666666666666666,
              "#ed7953"
             ],
             [
              0.7777777777777778,
              "#fb9f3a"
             ],
             [
              0.8888888888888888,
              "#fdca26"
             ],
             [
              1,
              "#f0f921"
             ]
            ],
            "type": "histogram2d"
           }
          ],
          "histogram2dcontour": [
           {
            "colorbar": {
             "outlinewidth": 0,
             "ticks": ""
            },
            "colorscale": [
             [
              0,
              "#0d0887"
             ],
             [
              0.1111111111111111,
              "#46039f"
             ],
             [
              0.2222222222222222,
              "#7201a8"
             ],
             [
              0.3333333333333333,
              "#9c179e"
             ],
             [
              0.4444444444444444,
              "#bd3786"
             ],
             [
              0.5555555555555556,
              "#d8576b"
             ],
             [
              0.6666666666666666,
              "#ed7953"
             ],
             [
              0.7777777777777778,
              "#fb9f3a"
             ],
             [
              0.8888888888888888,
              "#fdca26"
             ],
             [
              1,
              "#f0f921"
             ]
            ],
            "type": "histogram2dcontour"
           }
          ],
          "mesh3d": [
           {
            "colorbar": {
             "outlinewidth": 0,
             "ticks": ""
            },
            "type": "mesh3d"
           }
          ],
          "parcoords": [
           {
            "line": {
             "colorbar": {
              "outlinewidth": 0,
              "ticks": ""
             }
            },
            "type": "parcoords"
           }
          ],
          "pie": [
           {
            "automargin": true,
            "type": "pie"
           }
          ],
          "scatter": [
           {
            "fillpattern": {
             "fillmode": "overlay",
             "size": 10,
             "solidity": 0.2
            },
            "type": "scatter"
           }
          ],
          "scatter3d": [
           {
            "line": {
             "colorbar": {
              "outlinewidth": 0,
              "ticks": ""
             }
            },
            "marker": {
             "colorbar": {
              "outlinewidth": 0,
              "ticks": ""
             }
            },
            "type": "scatter3d"
           }
          ],
          "scattercarpet": [
           {
            "marker": {
             "colorbar": {
              "outlinewidth": 0,
              "ticks": ""
             }
            },
            "type": "scattercarpet"
           }
          ],
          "scattergeo": [
           {
            "marker": {
             "colorbar": {
              "outlinewidth": 0,
              "ticks": ""
             }
            },
            "type": "scattergeo"
           }
          ],
          "scattergl": [
           {
            "marker": {
             "colorbar": {
              "outlinewidth": 0,
              "ticks": ""
             }
            },
            "type": "scattergl"
           }
          ],
          "scattermapbox": [
           {
            "marker": {
             "colorbar": {
              "outlinewidth": 0,
              "ticks": ""
             }
            },
            "type": "scattermapbox"
           }
          ],
          "scatterpolar": [
           {
            "marker": {
             "colorbar": {
              "outlinewidth": 0,
              "ticks": ""
             }
            },
            "type": "scatterpolar"
           }
          ],
          "scatterpolargl": [
           {
            "marker": {
             "colorbar": {
              "outlinewidth": 0,
              "ticks": ""
             }
            },
            "type": "scatterpolargl"
           }
          ],
          "scatterternary": [
           {
            "marker": {
             "colorbar": {
              "outlinewidth": 0,
              "ticks": ""
             }
            },
            "type": "scatterternary"
           }
          ],
          "surface": [
           {
            "colorbar": {
             "outlinewidth": 0,
             "ticks": ""
            },
            "colorscale": [
             [
              0,
              "#0d0887"
             ],
             [
              0.1111111111111111,
              "#46039f"
             ],
             [
              0.2222222222222222,
              "#7201a8"
             ],
             [
              0.3333333333333333,
              "#9c179e"
             ],
             [
              0.4444444444444444,
              "#bd3786"
             ],
             [
              0.5555555555555556,
              "#d8576b"
             ],
             [
              0.6666666666666666,
              "#ed7953"
             ],
             [
              0.7777777777777778,
              "#fb9f3a"
             ],
             [
              0.8888888888888888,
              "#fdca26"
             ],
             [
              1,
              "#f0f921"
             ]
            ],
            "type": "surface"
           }
          ],
          "table": [
           {
            "cells": {
             "fill": {
              "color": "#EBF0F8"
             },
             "line": {
              "color": "white"
             }
            },
            "header": {
             "fill": {
              "color": "#C8D4E3"
             },
             "line": {
              "color": "white"
             }
            },
            "type": "table"
           }
          ]
         },
         "layout": {
          "annotationdefaults": {
           "arrowcolor": "#2a3f5f",
           "arrowhead": 0,
           "arrowwidth": 1
          },
          "autotypenumbers": "strict",
          "coloraxis": {
           "colorbar": {
            "outlinewidth": 0,
            "ticks": ""
           }
          },
          "colorscale": {
           "diverging": [
            [
             0,
             "#8e0152"
            ],
            [
             0.1,
             "#c51b7d"
            ],
            [
             0.2,
             "#de77ae"
            ],
            [
             0.3,
             "#f1b6da"
            ],
            [
             0.4,
             "#fde0ef"
            ],
            [
             0.5,
             "#f7f7f7"
            ],
            [
             0.6,
             "#e6f5d0"
            ],
            [
             0.7,
             "#b8e186"
            ],
            [
             0.8,
             "#7fbc41"
            ],
            [
             0.9,
             "#4d9221"
            ],
            [
             1,
             "#276419"
            ]
           ],
           "sequential": [
            [
             0,
             "#0d0887"
            ],
            [
             0.1111111111111111,
             "#46039f"
            ],
            [
             0.2222222222222222,
             "#7201a8"
            ],
            [
             0.3333333333333333,
             "#9c179e"
            ],
            [
             0.4444444444444444,
             "#bd3786"
            ],
            [
             0.5555555555555556,
             "#d8576b"
            ],
            [
             0.6666666666666666,
             "#ed7953"
            ],
            [
             0.7777777777777778,
             "#fb9f3a"
            ],
            [
             0.8888888888888888,
             "#fdca26"
            ],
            [
             1,
             "#f0f921"
            ]
           ],
           "sequentialminus": [
            [
             0,
             "#0d0887"
            ],
            [
             0.1111111111111111,
             "#46039f"
            ],
            [
             0.2222222222222222,
             "#7201a8"
            ],
            [
             0.3333333333333333,
             "#9c179e"
            ],
            [
             0.4444444444444444,
             "#bd3786"
            ],
            [
             0.5555555555555556,
             "#d8576b"
            ],
            [
             0.6666666666666666,
             "#ed7953"
            ],
            [
             0.7777777777777778,
             "#fb9f3a"
            ],
            [
             0.8888888888888888,
             "#fdca26"
            ],
            [
             1,
             "#f0f921"
            ]
           ]
          },
          "colorway": [
           "#636efa",
           "#EF553B",
           "#00cc96",
           "#ab63fa",
           "#FFA15A",
           "#19d3f3",
           "#FF6692",
           "#B6E880",
           "#FF97FF",
           "#FECB52"
          ],
          "font": {
           "color": "#2a3f5f"
          },
          "geo": {
           "bgcolor": "white",
           "lakecolor": "white",
           "landcolor": "#E5ECF6",
           "showlakes": true,
           "showland": true,
           "subunitcolor": "white"
          },
          "hoverlabel": {
           "align": "left"
          },
          "hovermode": "closest",
          "mapbox": {
           "style": "light"
          },
          "paper_bgcolor": "white",
          "plot_bgcolor": "#E5ECF6",
          "polar": {
           "angularaxis": {
            "gridcolor": "white",
            "linecolor": "white",
            "ticks": ""
           },
           "bgcolor": "#E5ECF6",
           "radialaxis": {
            "gridcolor": "white",
            "linecolor": "white",
            "ticks": ""
           }
          },
          "scene": {
           "xaxis": {
            "backgroundcolor": "#E5ECF6",
            "gridcolor": "white",
            "gridwidth": 2,
            "linecolor": "white",
            "showbackground": true,
            "ticks": "",
            "zerolinecolor": "white"
           },
           "yaxis": {
            "backgroundcolor": "#E5ECF6",
            "gridcolor": "white",
            "gridwidth": 2,
            "linecolor": "white",
            "showbackground": true,
            "ticks": "",
            "zerolinecolor": "white"
           },
           "zaxis": {
            "backgroundcolor": "#E5ECF6",
            "gridcolor": "white",
            "gridwidth": 2,
            "linecolor": "white",
            "showbackground": true,
            "ticks": "",
            "zerolinecolor": "white"
           }
          },
          "shapedefaults": {
           "line": {
            "color": "#2a3f5f"
           }
          },
          "ternary": {
           "aaxis": {
            "gridcolor": "white",
            "linecolor": "white",
            "ticks": ""
           },
           "baxis": {
            "gridcolor": "white",
            "linecolor": "white",
            "ticks": ""
           },
           "bgcolor": "#E5ECF6",
           "caxis": {
            "gridcolor": "white",
            "linecolor": "white",
            "ticks": ""
           }
          },
          "title": {
           "x": 0.05
          },
          "xaxis": {
           "automargin": true,
           "gridcolor": "white",
           "linecolor": "white",
           "ticks": "",
           "title": {
            "standoff": 15
           },
           "zerolinecolor": "white",
           "zerolinewidth": 2
          },
          "yaxis": {
           "automargin": true,
           "gridcolor": "white",
           "linecolor": "white",
           "ticks": "",
           "title": {
            "standoff": 15
           },
           "zerolinecolor": "white",
           "zerolinewidth": 2
          }
         }
        }
       }
      }
     },
     "metadata": {},
     "output_type": "display_data"
    }
   ],
   "source": [
    "fig =go.Figure(go.Sunburst(\n",
    "    labels=[ \"Eve\", \"Cain\", \"Seth\", \"Enos\", \"Noam\", \"Abel\", \"Awan\", \"Enoch\", \"Azura\"],\n",
    "    parents=[\"\",    \"Eve\",  \"Eve\",  \"Seth\", \"Seth\", \"Eve\",  \"Eve\",  \"Awan\",  \"Eve\" ],\n",
    "    values=[  65,    14,     12,     10,     2,      6,      6,      4,       4],\n",
    "    branchvalues=\"total\",\n",
    "))\n",
    "fig.update_layout(margin = dict(t=0, l=0, r=0, b=0))\n",
    "\n",
    "fig.show()"
   ]
  },
  {
   "cell_type": "code",
   "execution_count": 116,
   "metadata": {},
   "outputs": [
    {
     "data": {
      "application/vnd.plotly.v1+json": {
       "config": {
        "plotlyServerURL": "https://plot.ly"
       },
       "data": [
        {
         "branchvalues": "total",
         "customdata": [
          [
           176
          ],
          [
           45
          ],
          [
           2
          ],
          [
           183
          ],
          [
           8
          ],
          [
           6
          ],
          [
           3
          ],
          [
           1
          ],
          [
           1
          ],
          [
           2
          ],
          [
           2
          ],
          [
           1
          ],
          [
           7
          ],
          [
           15
          ],
          [
           139
          ],
          [
           2
          ],
          [
           90
          ],
          [
           186
          ],
          [
           187
          ],
          [
           61
          ],
          [
           142
          ],
          [
           185
          ],
          [
           100
          ],
          [
           194
          ],
          [
           869
          ]
         ],
         "domain": {
          "x": [
           0,
           1
          ],
          "y": [
           0,
           1
          ]
         },
         "hovertemplate": "labels=%{label}<br>counter_column=%{customdata[0]}<br>parent=%{parent}<br>id=%{id}<extra></extra>",
         "ids": [
          "Total/DENVER Urban AA/Black/No",
          "Total/DENVER Urban American Indian/Alaska Native/No",
          "Total/DENVER Urban Latina/o/x/No",
          "Total/FT MORGAN/GREELEY Rural AA/Black/No",
          "Total/PUEBLO Urban Latina/o/x/No",
          "Total/SLV Rural Latina/o/x/No",
          "Total/DENVER Urban AA/Black/Prefer not to answer",
          "Total/DENVER Urban American Indian/Alaska Native/Prefer not to answer",
          "Total/DENVER Urban Latina/o/x/Prefer not to answer",
          "Total/PUEBLO Urban Latina/o/x/Prefer not to answer",
          "Total/SLV Rural Latina/o/x/Prefer not to answer",
          "Total/DENVER Urban AA/Black/Unknown",
          "Total/DENVER Urban AA/Black/Yes",
          "Total/DENVER Urban American Indian/Alaska Native/Yes",
          "Total/DENVER Urban Latina/o/x/Yes",
          "Total/FT MORGAN/GREELEY Rural AA/Black/Yes",
          "Total/PUEBLO Urban Latina/o/x/Yes",
          "Total/SLV Rural Latina/o/x/Yes",
          "Total/DENVER Urban AA/Black",
          "Total/DENVER Urban American Indian/Alaska Native",
          "Total/DENVER Urban Latina/o/x",
          "Total/FT MORGAN/GREELEY Rural AA/Black",
          "Total/PUEBLO Urban Latina/o/x",
          "Total/SLV Rural Latina/o/x",
          "Total"
         ],
         "labels": [
          "No",
          "No",
          "No",
          "No",
          "No",
          "No",
          "Prefer not to answer",
          "Prefer not to answer",
          "Prefer not to answer",
          "Prefer not to answer",
          "Prefer not to answer",
          "Unknown",
          "Yes",
          "Yes",
          "Yes",
          "Yes",
          "Yes",
          "Yes",
          "DENVER Urban AA/Black",
          "DENVER Urban American Indian/Alaska Native",
          "DENVER Urban Latina/o/x",
          "FT MORGAN/GREELEY Rural AA/Black",
          "PUEBLO Urban Latina/o/x",
          "SLV Rural Latina/o/x",
          "Total"
         ],
         "name": "",
         "parents": [
          "Total/DENVER Urban AA/Black",
          "Total/DENVER Urban American Indian/Alaska Native",
          "Total/DENVER Urban Latina/o/x",
          "Total/FT MORGAN/GREELEY Rural AA/Black",
          "Total/PUEBLO Urban Latina/o/x",
          "Total/SLV Rural Latina/o/x",
          "Total/DENVER Urban AA/Black",
          "Total/DENVER Urban American Indian/Alaska Native",
          "Total/DENVER Urban Latina/o/x",
          "Total/PUEBLO Urban Latina/o/x",
          "Total/SLV Rural Latina/o/x",
          "Total/DENVER Urban AA/Black",
          "Total/DENVER Urban AA/Black",
          "Total/DENVER Urban American Indian/Alaska Native",
          "Total/DENVER Urban Latina/o/x",
          "Total/FT MORGAN/GREELEY Rural AA/Black",
          "Total/PUEBLO Urban Latina/o/x",
          "Total/SLV Rural Latina/o/x",
          "Total",
          "Total",
          "Total",
          "Total",
          "Total",
          "Total",
          ""
         ],
         "root": {
          "color": "cyan"
         },
         "texttemplate": "%{label}<br>Count: %{value}",
         "type": "icicle",
         "values": [
          176,
          45,
          2,
          183,
          8,
          6,
          3,
          1,
          1,
          2,
          2,
          1,
          7,
          15,
          139,
          2,
          90,
          186,
          187,
          61,
          142,
          185,
          100,
          194,
          869
         ]
        }
       ],
       "layout": {
        "legend": {
         "tracegroupgap": 0
        },
        "margin": {
         "b": 25,
         "l": 25,
         "r": 25,
         "t": 50
        },
        "template": {
         "data": {
          "bar": [
           {
            "error_x": {
             "color": "#2a3f5f"
            },
            "error_y": {
             "color": "#2a3f5f"
            },
            "marker": {
             "line": {
              "color": "#E5ECF6",
              "width": 0.5
             },
             "pattern": {
              "fillmode": "overlay",
              "size": 10,
              "solidity": 0.2
             }
            },
            "type": "bar"
           }
          ],
          "barpolar": [
           {
            "marker": {
             "line": {
              "color": "#E5ECF6",
              "width": 0.5
             },
             "pattern": {
              "fillmode": "overlay",
              "size": 10,
              "solidity": 0.2
             }
            },
            "type": "barpolar"
           }
          ],
          "carpet": [
           {
            "aaxis": {
             "endlinecolor": "#2a3f5f",
             "gridcolor": "white",
             "linecolor": "white",
             "minorgridcolor": "white",
             "startlinecolor": "#2a3f5f"
            },
            "baxis": {
             "endlinecolor": "#2a3f5f",
             "gridcolor": "white",
             "linecolor": "white",
             "minorgridcolor": "white",
             "startlinecolor": "#2a3f5f"
            },
            "type": "carpet"
           }
          ],
          "choropleth": [
           {
            "colorbar": {
             "outlinewidth": 0,
             "ticks": ""
            },
            "type": "choropleth"
           }
          ],
          "contour": [
           {
            "colorbar": {
             "outlinewidth": 0,
             "ticks": ""
            },
            "colorscale": [
             [
              0,
              "#0d0887"
             ],
             [
              0.1111111111111111,
              "#46039f"
             ],
             [
              0.2222222222222222,
              "#7201a8"
             ],
             [
              0.3333333333333333,
              "#9c179e"
             ],
             [
              0.4444444444444444,
              "#bd3786"
             ],
             [
              0.5555555555555556,
              "#d8576b"
             ],
             [
              0.6666666666666666,
              "#ed7953"
             ],
             [
              0.7777777777777778,
              "#fb9f3a"
             ],
             [
              0.8888888888888888,
              "#fdca26"
             ],
             [
              1,
              "#f0f921"
             ]
            ],
            "type": "contour"
           }
          ],
          "contourcarpet": [
           {
            "colorbar": {
             "outlinewidth": 0,
             "ticks": ""
            },
            "type": "contourcarpet"
           }
          ],
          "heatmap": [
           {
            "colorbar": {
             "outlinewidth": 0,
             "ticks": ""
            },
            "colorscale": [
             [
              0,
              "#0d0887"
             ],
             [
              0.1111111111111111,
              "#46039f"
             ],
             [
              0.2222222222222222,
              "#7201a8"
             ],
             [
              0.3333333333333333,
              "#9c179e"
             ],
             [
              0.4444444444444444,
              "#bd3786"
             ],
             [
              0.5555555555555556,
              "#d8576b"
             ],
             [
              0.6666666666666666,
              "#ed7953"
             ],
             [
              0.7777777777777778,
              "#fb9f3a"
             ],
             [
              0.8888888888888888,
              "#fdca26"
             ],
             [
              1,
              "#f0f921"
             ]
            ],
            "type": "heatmap"
           }
          ],
          "heatmapgl": [
           {
            "colorbar": {
             "outlinewidth": 0,
             "ticks": ""
            },
            "colorscale": [
             [
              0,
              "#0d0887"
             ],
             [
              0.1111111111111111,
              "#46039f"
             ],
             [
              0.2222222222222222,
              "#7201a8"
             ],
             [
              0.3333333333333333,
              "#9c179e"
             ],
             [
              0.4444444444444444,
              "#bd3786"
             ],
             [
              0.5555555555555556,
              "#d8576b"
             ],
             [
              0.6666666666666666,
              "#ed7953"
             ],
             [
              0.7777777777777778,
              "#fb9f3a"
             ],
             [
              0.8888888888888888,
              "#fdca26"
             ],
             [
              1,
              "#f0f921"
             ]
            ],
            "type": "heatmapgl"
           }
          ],
          "histogram": [
           {
            "marker": {
             "pattern": {
              "fillmode": "overlay",
              "size": 10,
              "solidity": 0.2
             }
            },
            "type": "histogram"
           }
          ],
          "histogram2d": [
           {
            "colorbar": {
             "outlinewidth": 0,
             "ticks": ""
            },
            "colorscale": [
             [
              0,
              "#0d0887"
             ],
             [
              0.1111111111111111,
              "#46039f"
             ],
             [
              0.2222222222222222,
              "#7201a8"
             ],
             [
              0.3333333333333333,
              "#9c179e"
             ],
             [
              0.4444444444444444,
              "#bd3786"
             ],
             [
              0.5555555555555556,
              "#d8576b"
             ],
             [
              0.6666666666666666,
              "#ed7953"
             ],
             [
              0.7777777777777778,
              "#fb9f3a"
             ],
             [
              0.8888888888888888,
              "#fdca26"
             ],
             [
              1,
              "#f0f921"
             ]
            ],
            "type": "histogram2d"
           }
          ],
          "histogram2dcontour": [
           {
            "colorbar": {
             "outlinewidth": 0,
             "ticks": ""
            },
            "colorscale": [
             [
              0,
              "#0d0887"
             ],
             [
              0.1111111111111111,
              "#46039f"
             ],
             [
              0.2222222222222222,
              "#7201a8"
             ],
             [
              0.3333333333333333,
              "#9c179e"
             ],
             [
              0.4444444444444444,
              "#bd3786"
             ],
             [
              0.5555555555555556,
              "#d8576b"
             ],
             [
              0.6666666666666666,
              "#ed7953"
             ],
             [
              0.7777777777777778,
              "#fb9f3a"
             ],
             [
              0.8888888888888888,
              "#fdca26"
             ],
             [
              1,
              "#f0f921"
             ]
            ],
            "type": "histogram2dcontour"
           }
          ],
          "mesh3d": [
           {
            "colorbar": {
             "outlinewidth": 0,
             "ticks": ""
            },
            "type": "mesh3d"
           }
          ],
          "parcoords": [
           {
            "line": {
             "colorbar": {
              "outlinewidth": 0,
              "ticks": ""
             }
            },
            "type": "parcoords"
           }
          ],
          "pie": [
           {
            "automargin": true,
            "type": "pie"
           }
          ],
          "scatter": [
           {
            "fillpattern": {
             "fillmode": "overlay",
             "size": 10,
             "solidity": 0.2
            },
            "type": "scatter"
           }
          ],
          "scatter3d": [
           {
            "line": {
             "colorbar": {
              "outlinewidth": 0,
              "ticks": ""
             }
            },
            "marker": {
             "colorbar": {
              "outlinewidth": 0,
              "ticks": ""
             }
            },
            "type": "scatter3d"
           }
          ],
          "scattercarpet": [
           {
            "marker": {
             "colorbar": {
              "outlinewidth": 0,
              "ticks": ""
             }
            },
            "type": "scattercarpet"
           }
          ],
          "scattergeo": [
           {
            "marker": {
             "colorbar": {
              "outlinewidth": 0,
              "ticks": ""
             }
            },
            "type": "scattergeo"
           }
          ],
          "scattergl": [
           {
            "marker": {
             "colorbar": {
              "outlinewidth": 0,
              "ticks": ""
             }
            },
            "type": "scattergl"
           }
          ],
          "scattermapbox": [
           {
            "marker": {
             "colorbar": {
              "outlinewidth": 0,
              "ticks": ""
             }
            },
            "type": "scattermapbox"
           }
          ],
          "scatterpolar": [
           {
            "marker": {
             "colorbar": {
              "outlinewidth": 0,
              "ticks": ""
             }
            },
            "type": "scatterpolar"
           }
          ],
          "scatterpolargl": [
           {
            "marker": {
             "colorbar": {
              "outlinewidth": 0,
              "ticks": ""
             }
            },
            "type": "scatterpolargl"
           }
          ],
          "scatterternary": [
           {
            "marker": {
             "colorbar": {
              "outlinewidth": 0,
              "ticks": ""
             }
            },
            "type": "scatterternary"
           }
          ],
          "surface": [
           {
            "colorbar": {
             "outlinewidth": 0,
             "ticks": ""
            },
            "colorscale": [
             [
              0,
              "#0d0887"
             ],
             [
              0.1111111111111111,
              "#46039f"
             ],
             [
              0.2222222222222222,
              "#7201a8"
             ],
             [
              0.3333333333333333,
              "#9c179e"
             ],
             [
              0.4444444444444444,
              "#bd3786"
             ],
             [
              0.5555555555555556,
              "#d8576b"
             ],
             [
              0.6666666666666666,
              "#ed7953"
             ],
             [
              0.7777777777777778,
              "#fb9f3a"
             ],
             [
              0.8888888888888888,
              "#fdca26"
             ],
             [
              1,
              "#f0f921"
             ]
            ],
            "type": "surface"
           }
          ],
          "table": [
           {
            "cells": {
             "fill": {
              "color": "#EBF0F8"
             },
             "line": {
              "color": "white"
             }
            },
            "header": {
             "fill": {
              "color": "#C8D4E3"
             },
             "line": {
              "color": "white"
             }
            },
            "type": "table"
           }
          ]
         },
         "layout": {
          "annotationdefaults": {
           "arrowcolor": "#2a3f5f",
           "arrowhead": 0,
           "arrowwidth": 1
          },
          "autotypenumbers": "strict",
          "coloraxis": {
           "colorbar": {
            "outlinewidth": 0,
            "ticks": ""
           }
          },
          "colorscale": {
           "diverging": [
            [
             0,
             "#8e0152"
            ],
            [
             0.1,
             "#c51b7d"
            ],
            [
             0.2,
             "#de77ae"
            ],
            [
             0.3,
             "#f1b6da"
            ],
            [
             0.4,
             "#fde0ef"
            ],
            [
             0.5,
             "#f7f7f7"
            ],
            [
             0.6,
             "#e6f5d0"
            ],
            [
             0.7,
             "#b8e186"
            ],
            [
             0.8,
             "#7fbc41"
            ],
            [
             0.9,
             "#4d9221"
            ],
            [
             1,
             "#276419"
            ]
           ],
           "sequential": [
            [
             0,
             "#0d0887"
            ],
            [
             0.1111111111111111,
             "#46039f"
            ],
            [
             0.2222222222222222,
             "#7201a8"
            ],
            [
             0.3333333333333333,
             "#9c179e"
            ],
            [
             0.4444444444444444,
             "#bd3786"
            ],
            [
             0.5555555555555556,
             "#d8576b"
            ],
            [
             0.6666666666666666,
             "#ed7953"
            ],
            [
             0.7777777777777778,
             "#fb9f3a"
            ],
            [
             0.8888888888888888,
             "#fdca26"
            ],
            [
             1,
             "#f0f921"
            ]
           ],
           "sequentialminus": [
            [
             0,
             "#0d0887"
            ],
            [
             0.1111111111111111,
             "#46039f"
            ],
            [
             0.2222222222222222,
             "#7201a8"
            ],
            [
             0.3333333333333333,
             "#9c179e"
            ],
            [
             0.4444444444444444,
             "#bd3786"
            ],
            [
             0.5555555555555556,
             "#d8576b"
            ],
            [
             0.6666666666666666,
             "#ed7953"
            ],
            [
             0.7777777777777778,
             "#fb9f3a"
            ],
            [
             0.8888888888888888,
             "#fdca26"
            ],
            [
             1,
             "#f0f921"
            ]
           ]
          },
          "colorway": [
           "#636efa",
           "#EF553B",
           "#00cc96",
           "#ab63fa",
           "#FFA15A",
           "#19d3f3",
           "#FF6692",
           "#B6E880",
           "#FF97FF",
           "#FECB52"
          ],
          "font": {
           "color": "#2a3f5f"
          },
          "geo": {
           "bgcolor": "white",
           "lakecolor": "white",
           "landcolor": "#E5ECF6",
           "showlakes": true,
           "showland": true,
           "subunitcolor": "white"
          },
          "hoverlabel": {
           "align": "left"
          },
          "hovermode": "closest",
          "mapbox": {
           "style": "light"
          },
          "paper_bgcolor": "white",
          "plot_bgcolor": "#E5ECF6",
          "polar": {
           "angularaxis": {
            "gridcolor": "white",
            "linecolor": "white",
            "ticks": ""
           },
           "bgcolor": "#E5ECF6",
           "radialaxis": {
            "gridcolor": "white",
            "linecolor": "white",
            "ticks": ""
           }
          },
          "scene": {
           "xaxis": {
            "backgroundcolor": "#E5ECF6",
            "gridcolor": "white",
            "gridwidth": 2,
            "linecolor": "white",
            "showbackground": true,
            "ticks": "",
            "zerolinecolor": "white"
           },
           "yaxis": {
            "backgroundcolor": "#E5ECF6",
            "gridcolor": "white",
            "gridwidth": 2,
            "linecolor": "white",
            "showbackground": true,
            "ticks": "",
            "zerolinecolor": "white"
           },
           "zaxis": {
            "backgroundcolor": "#E5ECF6",
            "gridcolor": "white",
            "gridwidth": 2,
            "linecolor": "white",
            "showbackground": true,
            "ticks": "",
            "zerolinecolor": "white"
           }
          },
          "shapedefaults": {
           "line": {
            "color": "#2a3f5f"
           }
          },
          "ternary": {
           "aaxis": {
            "gridcolor": "white",
            "linecolor": "white",
            "ticks": ""
           },
           "baxis": {
            "gridcolor": "white",
            "linecolor": "white",
            "ticks": ""
           },
           "bgcolor": "#E5ECF6",
           "caxis": {
            "gridcolor": "white",
            "linecolor": "white",
            "ticks": ""
           }
          },
          "title": {
           "x": 0.05
          },
          "xaxis": {
           "automargin": true,
           "gridcolor": "white",
           "linecolor": "white",
           "ticks": "",
           "title": {
            "standoff": 15
           },
           "zerolinecolor": "white",
           "zerolinewidth": 2
          },
          "yaxis": {
           "automargin": true,
           "gridcolor": "white",
           "linecolor": "white",
           "ticks": "",
           "title": {
            "standoff": 15
           },
           "zerolinecolor": "white",
           "zerolinewidth": 2
          }
         }
        }
       }
      }
     },
     "metadata": {},
     "output_type": "display_data"
    }
   ],
   "source": [
    "fig = px.icicle(wave2_df, path=[px.Constant(\"Total\"), 'Community','Are you Hispanic or Latino? '], values='counter_column', \n",
    "                hover_data=['counter_column'])\n",
    "fig.update_traces(root_color=\"cyan\")\n",
    "fig.update_traces(texttemplate=\"%{label}<br>Count: %{value}\")\n",
    "fig.update_layout(margin = dict(t=50, l=25, r=25, b=25))"
   ]
  },
  {
   "cell_type": "code",
   "execution_count": 129,
   "metadata": {},
   "outputs": [
    {
     "data": {
      "application/vnd.plotly.v1+json": {
       "config": {
        "plotlyServerURL": "https://plot.ly"
       },
       "data": [
        {
         "branchvalues": "total",
         "customdata": [
          [
           7
          ],
          [
           15
          ],
          [
           139
          ],
          [
           2
          ],
          [
           90
          ],
          [
           186
          ],
          [
           176
          ],
          [
           45
          ],
          [
           2
          ],
          [
           183
          ],
          [
           8
          ],
          [
           6
          ],
          [
           3
          ],
          [
           1
          ],
          [
           1
          ],
          [
           2
          ],
          [
           2
          ],
          [
           1
          ],
          [
           187
          ],
          [
           61
          ],
          [
           142
          ],
          [
           185
          ],
          [
           100
          ],
          [
           194
          ],
          [
           869
          ]
         ],
         "domain": {
          "x": [
           0,
           1
          ],
          "y": [
           0,
           1
          ]
         },
         "hovertemplate": "labels=%{label}<br>counter_column=%{customdata[0]}<br>parent=%{parent}<br>id=%{id}<extra></extra>",
         "ids": [
          "Total/DENVER Urban AA/Black/Hispanic",
          "Total/DENVER Urban American Indian/Alaska Native/Hispanic",
          "Total/DENVER Urban Latina/o/x/Hispanic",
          "Total/FT MORGAN/GREELEY Rural AA/Black/Hispanic",
          "Total/PUEBLO Urban Latina/o/x/Hispanic",
          "Total/SLV Rural Latina/o/x/Hispanic",
          "Total/DENVER Urban AA/Black/Not Hispanic or Latino",
          "Total/DENVER Urban American Indian/Alaska Native/Not Hispanic or Latino",
          "Total/DENVER Urban Latina/o/x/Not Hispanic or Latino",
          "Total/FT MORGAN/GREELEY Rural AA/Black/Not Hispanic or Latino",
          "Total/PUEBLO Urban Latina/o/x/Not Hispanic or Latino",
          "Total/SLV Rural Latina/o/x/Not Hispanic or Latino",
          "Total/DENVER Urban AA/Black/Prefer not to answer",
          "Total/DENVER Urban American Indian/Alaska Native/Prefer not to answer",
          "Total/DENVER Urban Latina/o/x/Prefer not to answer",
          "Total/PUEBLO Urban Latina/o/x/Prefer not to answer",
          "Total/SLV Rural Latina/o/x/Prefer not to answer",
          "Total/DENVER Urban AA/Black/Unknown",
          "Total/DENVER Urban AA/Black",
          "Total/DENVER Urban American Indian/Alaska Native",
          "Total/DENVER Urban Latina/o/x",
          "Total/FT MORGAN/GREELEY Rural AA/Black",
          "Total/PUEBLO Urban Latina/o/x",
          "Total/SLV Rural Latina/o/x",
          "Total"
         ],
         "labels": [
          "Hispanic",
          "Hispanic",
          "Hispanic",
          "Hispanic",
          "Hispanic",
          "Hispanic",
          "Not Hispanic or Latino",
          "Not Hispanic or Latino",
          "Not Hispanic or Latino",
          "Not Hispanic or Latino",
          "Not Hispanic or Latino",
          "Not Hispanic or Latino",
          "Prefer not to answer",
          "Prefer not to answer",
          "Prefer not to answer",
          "Prefer not to answer",
          "Prefer not to answer",
          "Unknown",
          "DENVER Urban AA/Black",
          "DENVER Urban American Indian/Alaska Native",
          "DENVER Urban Latina/o/x",
          "FT MORGAN/GREELEY Rural AA/Black",
          "PUEBLO Urban Latina/o/x",
          "SLV Rural Latina/o/x",
          "Total"
         ],
         "name": "",
         "parents": [
          "Total/DENVER Urban AA/Black",
          "Total/DENVER Urban American Indian/Alaska Native",
          "Total/DENVER Urban Latina/o/x",
          "Total/FT MORGAN/GREELEY Rural AA/Black",
          "Total/PUEBLO Urban Latina/o/x",
          "Total/SLV Rural Latina/o/x",
          "Total/DENVER Urban AA/Black",
          "Total/DENVER Urban American Indian/Alaska Native",
          "Total/DENVER Urban Latina/o/x",
          "Total/FT MORGAN/GREELEY Rural AA/Black",
          "Total/PUEBLO Urban Latina/o/x",
          "Total/SLV Rural Latina/o/x",
          "Total/DENVER Urban AA/Black",
          "Total/DENVER Urban American Indian/Alaska Native",
          "Total/DENVER Urban Latina/o/x",
          "Total/PUEBLO Urban Latina/o/x",
          "Total/SLV Rural Latina/o/x",
          "Total/DENVER Urban AA/Black",
          "Total",
          "Total",
          "Total",
          "Total",
          "Total",
          "Total",
          ""
         ],
         "root": {
          "color": "cyan"
         },
         "texttemplate": "%{label}<br>Count: %{value}",
         "type": "treemap",
         "values": [
          7,
          15,
          139,
          2,
          90,
          186,
          176,
          45,
          2,
          183,
          8,
          6,
          3,
          1,
          1,
          2,
          2,
          1,
          187,
          61,
          142,
          185,
          100,
          194,
          869
         ]
        }
       ],
       "layout": {
        "legend": {
         "tracegroupgap": 0
        },
        "margin": {
         "b": 25,
         "l": 25,
         "r": 25,
         "t": 50
        },
        "template": {
         "data": {
          "bar": [
           {
            "error_x": {
             "color": "#2a3f5f"
            },
            "error_y": {
             "color": "#2a3f5f"
            },
            "marker": {
             "line": {
              "color": "#E5ECF6",
              "width": 0.5
             },
             "pattern": {
              "fillmode": "overlay",
              "size": 10,
              "solidity": 0.2
             }
            },
            "type": "bar"
           }
          ],
          "barpolar": [
           {
            "marker": {
             "line": {
              "color": "#E5ECF6",
              "width": 0.5
             },
             "pattern": {
              "fillmode": "overlay",
              "size": 10,
              "solidity": 0.2
             }
            },
            "type": "barpolar"
           }
          ],
          "carpet": [
           {
            "aaxis": {
             "endlinecolor": "#2a3f5f",
             "gridcolor": "white",
             "linecolor": "white",
             "minorgridcolor": "white",
             "startlinecolor": "#2a3f5f"
            },
            "baxis": {
             "endlinecolor": "#2a3f5f",
             "gridcolor": "white",
             "linecolor": "white",
             "minorgridcolor": "white",
             "startlinecolor": "#2a3f5f"
            },
            "type": "carpet"
           }
          ],
          "choropleth": [
           {
            "colorbar": {
             "outlinewidth": 0,
             "ticks": ""
            },
            "type": "choropleth"
           }
          ],
          "contour": [
           {
            "colorbar": {
             "outlinewidth": 0,
             "ticks": ""
            },
            "colorscale": [
             [
              0,
              "#0d0887"
             ],
             [
              0.1111111111111111,
              "#46039f"
             ],
             [
              0.2222222222222222,
              "#7201a8"
             ],
             [
              0.3333333333333333,
              "#9c179e"
             ],
             [
              0.4444444444444444,
              "#bd3786"
             ],
             [
              0.5555555555555556,
              "#d8576b"
             ],
             [
              0.6666666666666666,
              "#ed7953"
             ],
             [
              0.7777777777777778,
              "#fb9f3a"
             ],
             [
              0.8888888888888888,
              "#fdca26"
             ],
             [
              1,
              "#f0f921"
             ]
            ],
            "type": "contour"
           }
          ],
          "contourcarpet": [
           {
            "colorbar": {
             "outlinewidth": 0,
             "ticks": ""
            },
            "type": "contourcarpet"
           }
          ],
          "heatmap": [
           {
            "colorbar": {
             "outlinewidth": 0,
             "ticks": ""
            },
            "colorscale": [
             [
              0,
              "#0d0887"
             ],
             [
              0.1111111111111111,
              "#46039f"
             ],
             [
              0.2222222222222222,
              "#7201a8"
             ],
             [
              0.3333333333333333,
              "#9c179e"
             ],
             [
              0.4444444444444444,
              "#bd3786"
             ],
             [
              0.5555555555555556,
              "#d8576b"
             ],
             [
              0.6666666666666666,
              "#ed7953"
             ],
             [
              0.7777777777777778,
              "#fb9f3a"
             ],
             [
              0.8888888888888888,
              "#fdca26"
             ],
             [
              1,
              "#f0f921"
             ]
            ],
            "type": "heatmap"
           }
          ],
          "heatmapgl": [
           {
            "colorbar": {
             "outlinewidth": 0,
             "ticks": ""
            },
            "colorscale": [
             [
              0,
              "#0d0887"
             ],
             [
              0.1111111111111111,
              "#46039f"
             ],
             [
              0.2222222222222222,
              "#7201a8"
             ],
             [
              0.3333333333333333,
              "#9c179e"
             ],
             [
              0.4444444444444444,
              "#bd3786"
             ],
             [
              0.5555555555555556,
              "#d8576b"
             ],
             [
              0.6666666666666666,
              "#ed7953"
             ],
             [
              0.7777777777777778,
              "#fb9f3a"
             ],
             [
              0.8888888888888888,
              "#fdca26"
             ],
             [
              1,
              "#f0f921"
             ]
            ],
            "type": "heatmapgl"
           }
          ],
          "histogram": [
           {
            "marker": {
             "pattern": {
              "fillmode": "overlay",
              "size": 10,
              "solidity": 0.2
             }
            },
            "type": "histogram"
           }
          ],
          "histogram2d": [
           {
            "colorbar": {
             "outlinewidth": 0,
             "ticks": ""
            },
            "colorscale": [
             [
              0,
              "#0d0887"
             ],
             [
              0.1111111111111111,
              "#46039f"
             ],
             [
              0.2222222222222222,
              "#7201a8"
             ],
             [
              0.3333333333333333,
              "#9c179e"
             ],
             [
              0.4444444444444444,
              "#bd3786"
             ],
             [
              0.5555555555555556,
              "#d8576b"
             ],
             [
              0.6666666666666666,
              "#ed7953"
             ],
             [
              0.7777777777777778,
              "#fb9f3a"
             ],
             [
              0.8888888888888888,
              "#fdca26"
             ],
             [
              1,
              "#f0f921"
             ]
            ],
            "type": "histogram2d"
           }
          ],
          "histogram2dcontour": [
           {
            "colorbar": {
             "outlinewidth": 0,
             "ticks": ""
            },
            "colorscale": [
             [
              0,
              "#0d0887"
             ],
             [
              0.1111111111111111,
              "#46039f"
             ],
             [
              0.2222222222222222,
              "#7201a8"
             ],
             [
              0.3333333333333333,
              "#9c179e"
             ],
             [
              0.4444444444444444,
              "#bd3786"
             ],
             [
              0.5555555555555556,
              "#d8576b"
             ],
             [
              0.6666666666666666,
              "#ed7953"
             ],
             [
              0.7777777777777778,
              "#fb9f3a"
             ],
             [
              0.8888888888888888,
              "#fdca26"
             ],
             [
              1,
              "#f0f921"
             ]
            ],
            "type": "histogram2dcontour"
           }
          ],
          "mesh3d": [
           {
            "colorbar": {
             "outlinewidth": 0,
             "ticks": ""
            },
            "type": "mesh3d"
           }
          ],
          "parcoords": [
           {
            "line": {
             "colorbar": {
              "outlinewidth": 0,
              "ticks": ""
             }
            },
            "type": "parcoords"
           }
          ],
          "pie": [
           {
            "automargin": true,
            "type": "pie"
           }
          ],
          "scatter": [
           {
            "fillpattern": {
             "fillmode": "overlay",
             "size": 10,
             "solidity": 0.2
            },
            "type": "scatter"
           }
          ],
          "scatter3d": [
           {
            "line": {
             "colorbar": {
              "outlinewidth": 0,
              "ticks": ""
             }
            },
            "marker": {
             "colorbar": {
              "outlinewidth": 0,
              "ticks": ""
             }
            },
            "type": "scatter3d"
           }
          ],
          "scattercarpet": [
           {
            "marker": {
             "colorbar": {
              "outlinewidth": 0,
              "ticks": ""
             }
            },
            "type": "scattercarpet"
           }
          ],
          "scattergeo": [
           {
            "marker": {
             "colorbar": {
              "outlinewidth": 0,
              "ticks": ""
             }
            },
            "type": "scattergeo"
           }
          ],
          "scattergl": [
           {
            "marker": {
             "colorbar": {
              "outlinewidth": 0,
              "ticks": ""
             }
            },
            "type": "scattergl"
           }
          ],
          "scattermapbox": [
           {
            "marker": {
             "colorbar": {
              "outlinewidth": 0,
              "ticks": ""
             }
            },
            "type": "scattermapbox"
           }
          ],
          "scatterpolar": [
           {
            "marker": {
             "colorbar": {
              "outlinewidth": 0,
              "ticks": ""
             }
            },
            "type": "scatterpolar"
           }
          ],
          "scatterpolargl": [
           {
            "marker": {
             "colorbar": {
              "outlinewidth": 0,
              "ticks": ""
             }
            },
            "type": "scatterpolargl"
           }
          ],
          "scatterternary": [
           {
            "marker": {
             "colorbar": {
              "outlinewidth": 0,
              "ticks": ""
             }
            },
            "type": "scatterternary"
           }
          ],
          "surface": [
           {
            "colorbar": {
             "outlinewidth": 0,
             "ticks": ""
            },
            "colorscale": [
             [
              0,
              "#0d0887"
             ],
             [
              0.1111111111111111,
              "#46039f"
             ],
             [
              0.2222222222222222,
              "#7201a8"
             ],
             [
              0.3333333333333333,
              "#9c179e"
             ],
             [
              0.4444444444444444,
              "#bd3786"
             ],
             [
              0.5555555555555556,
              "#d8576b"
             ],
             [
              0.6666666666666666,
              "#ed7953"
             ],
             [
              0.7777777777777778,
              "#fb9f3a"
             ],
             [
              0.8888888888888888,
              "#fdca26"
             ],
             [
              1,
              "#f0f921"
             ]
            ],
            "type": "surface"
           }
          ],
          "table": [
           {
            "cells": {
             "fill": {
              "color": "#EBF0F8"
             },
             "line": {
              "color": "white"
             }
            },
            "header": {
             "fill": {
              "color": "#C8D4E3"
             },
             "line": {
              "color": "white"
             }
            },
            "type": "table"
           }
          ]
         },
         "layout": {
          "annotationdefaults": {
           "arrowcolor": "#2a3f5f",
           "arrowhead": 0,
           "arrowwidth": 1
          },
          "autotypenumbers": "strict",
          "coloraxis": {
           "colorbar": {
            "outlinewidth": 0,
            "ticks": ""
           }
          },
          "colorscale": {
           "diverging": [
            [
             0,
             "#8e0152"
            ],
            [
             0.1,
             "#c51b7d"
            ],
            [
             0.2,
             "#de77ae"
            ],
            [
             0.3,
             "#f1b6da"
            ],
            [
             0.4,
             "#fde0ef"
            ],
            [
             0.5,
             "#f7f7f7"
            ],
            [
             0.6,
             "#e6f5d0"
            ],
            [
             0.7,
             "#b8e186"
            ],
            [
             0.8,
             "#7fbc41"
            ],
            [
             0.9,
             "#4d9221"
            ],
            [
             1,
             "#276419"
            ]
           ],
           "sequential": [
            [
             0,
             "#0d0887"
            ],
            [
             0.1111111111111111,
             "#46039f"
            ],
            [
             0.2222222222222222,
             "#7201a8"
            ],
            [
             0.3333333333333333,
             "#9c179e"
            ],
            [
             0.4444444444444444,
             "#bd3786"
            ],
            [
             0.5555555555555556,
             "#d8576b"
            ],
            [
             0.6666666666666666,
             "#ed7953"
            ],
            [
             0.7777777777777778,
             "#fb9f3a"
            ],
            [
             0.8888888888888888,
             "#fdca26"
            ],
            [
             1,
             "#f0f921"
            ]
           ],
           "sequentialminus": [
            [
             0,
             "#0d0887"
            ],
            [
             0.1111111111111111,
             "#46039f"
            ],
            [
             0.2222222222222222,
             "#7201a8"
            ],
            [
             0.3333333333333333,
             "#9c179e"
            ],
            [
             0.4444444444444444,
             "#bd3786"
            ],
            [
             0.5555555555555556,
             "#d8576b"
            ],
            [
             0.6666666666666666,
             "#ed7953"
            ],
            [
             0.7777777777777778,
             "#fb9f3a"
            ],
            [
             0.8888888888888888,
             "#fdca26"
            ],
            [
             1,
             "#f0f921"
            ]
           ]
          },
          "colorway": [
           "#636efa",
           "#EF553B",
           "#00cc96",
           "#ab63fa",
           "#FFA15A",
           "#19d3f3",
           "#FF6692",
           "#B6E880",
           "#FF97FF",
           "#FECB52"
          ],
          "font": {
           "color": "#2a3f5f"
          },
          "geo": {
           "bgcolor": "white",
           "lakecolor": "white",
           "landcolor": "#E5ECF6",
           "showlakes": true,
           "showland": true,
           "subunitcolor": "white"
          },
          "hoverlabel": {
           "align": "left"
          },
          "hovermode": "closest",
          "mapbox": {
           "style": "light"
          },
          "paper_bgcolor": "white",
          "plot_bgcolor": "#E5ECF6",
          "polar": {
           "angularaxis": {
            "gridcolor": "white",
            "linecolor": "white",
            "ticks": ""
           },
           "bgcolor": "#E5ECF6",
           "radialaxis": {
            "gridcolor": "white",
            "linecolor": "white",
            "ticks": ""
           }
          },
          "scene": {
           "xaxis": {
            "backgroundcolor": "#E5ECF6",
            "gridcolor": "white",
            "gridwidth": 2,
            "linecolor": "white",
            "showbackground": true,
            "ticks": "",
            "zerolinecolor": "white"
           },
           "yaxis": {
            "backgroundcolor": "#E5ECF6",
            "gridcolor": "white",
            "gridwidth": 2,
            "linecolor": "white",
            "showbackground": true,
            "ticks": "",
            "zerolinecolor": "white"
           },
           "zaxis": {
            "backgroundcolor": "#E5ECF6",
            "gridcolor": "white",
            "gridwidth": 2,
            "linecolor": "white",
            "showbackground": true,
            "ticks": "",
            "zerolinecolor": "white"
           }
          },
          "shapedefaults": {
           "line": {
            "color": "#2a3f5f"
           }
          },
          "ternary": {
           "aaxis": {
            "gridcolor": "white",
            "linecolor": "white",
            "ticks": ""
           },
           "baxis": {
            "gridcolor": "white",
            "linecolor": "white",
            "ticks": ""
           },
           "bgcolor": "#E5ECF6",
           "caxis": {
            "gridcolor": "white",
            "linecolor": "white",
            "ticks": ""
           }
          },
          "title": {
           "x": 0.05
          },
          "xaxis": {
           "automargin": true,
           "gridcolor": "white",
           "linecolor": "white",
           "ticks": "",
           "title": {
            "standoff": 15
           },
           "zerolinecolor": "white",
           "zerolinewidth": 2
          },
          "yaxis": {
           "automargin": true,
           "gridcolor": "white",
           "linecolor": "white",
           "ticks": "",
           "title": {
            "standoff": 15
           },
           "zerolinecolor": "white",
           "zerolinewidth": 2
          }
         }
        }
       }
      }
     },
     "metadata": {},
     "output_type": "display_data"
    }
   ],
   "source": [
    "fig = px.treemap(wave2_df, path=[px.Constant(\"Total\"), 'Community','Are you Hispanic or Latino? '], values='counter_column', \n",
    "                hover_data=['counter_column'])\n",
    "fig.update_traces(root_color=\"cyan\")\n",
    "fig.update_traces(texttemplate=\"%{label}<br>Count: %{value}\")\n",
    "fig.update_layout(margin = dict(t=50, l=25, r=25, b=25))"
   ]
  },
  {
   "cell_type": "code",
   "execution_count": 130,
   "metadata": {},
   "outputs": [
    {
     "data": {
      "text/plain": [
       "ceal_testbehavior\n",
       "1.0    627\n",
       "0.0    232\n",
       "NaN     10\n",
       "Name: count, dtype: int64"
      ]
     },
     "execution_count": 130,
     "metadata": {},
     "output_type": "execute_result"
    }
   ],
   "source": [
    "wave2_df['ceal_testbehavior'].value_counts(dropna=False)"
   ]
  },
  {
   "cell_type": "code",
   "execution_count": 132,
   "metadata": {},
   "outputs": [
    {
     "data": {
      "application/vnd.plotly.v1+json": {
       "config": {
        "plotlyServerURL": "https://plot.ly"
       },
       "data": [
        {
         "alignmentgroup": "True",
         "hovertemplate": "Community=%{x}<br>ceal_testbehavior=%{y}<extra></extra>",
         "legendgroup": "PUEBLO Urban Latina/o/x",
         "marker": {
          "color": "#636efa",
          "pattern": {
           "shape": ""
          }
         },
         "name": "PUEBLO Urban Latina/o/x",
         "offsetgroup": "PUEBLO Urban Latina/o/x",
         "orientation": "v",
         "showlegend": true,
         "textposition": "auto",
         "type": "bar",
         "x": [
          "PUEBLO Urban Latina/o/x",
          "PUEBLO Urban Latina/o/x",
          "PUEBLO Urban Latina/o/x",
          "PUEBLO Urban Latina/o/x",
          "PUEBLO Urban Latina/o/x",
          "PUEBLO Urban Latina/o/x",
          "PUEBLO Urban Latina/o/x",
          "PUEBLO Urban Latina/o/x",
          "PUEBLO Urban Latina/o/x",
          "PUEBLO Urban Latina/o/x",
          "PUEBLO Urban Latina/o/x",
          "PUEBLO Urban Latina/o/x",
          "PUEBLO Urban Latina/o/x",
          "PUEBLO Urban Latina/o/x",
          "PUEBLO Urban Latina/o/x",
          "PUEBLO Urban Latina/o/x",
          "PUEBLO Urban Latina/o/x",
          "PUEBLO Urban Latina/o/x",
          "PUEBLO Urban Latina/o/x",
          "PUEBLO Urban Latina/o/x",
          "PUEBLO Urban Latina/o/x",
          "PUEBLO Urban Latina/o/x",
          "PUEBLO Urban Latina/o/x",
          "PUEBLO Urban Latina/o/x",
          "PUEBLO Urban Latina/o/x",
          "PUEBLO Urban Latina/o/x",
          "PUEBLO Urban Latina/o/x",
          "PUEBLO Urban Latina/o/x",
          "PUEBLO Urban Latina/o/x",
          "PUEBLO Urban Latina/o/x",
          "PUEBLO Urban Latina/o/x",
          "PUEBLO Urban Latina/o/x",
          "PUEBLO Urban Latina/o/x",
          "PUEBLO Urban Latina/o/x",
          "PUEBLO Urban Latina/o/x",
          "PUEBLO Urban Latina/o/x",
          "PUEBLO Urban Latina/o/x",
          "PUEBLO Urban Latina/o/x",
          "PUEBLO Urban Latina/o/x",
          "PUEBLO Urban Latina/o/x",
          "PUEBLO Urban Latina/o/x",
          "PUEBLO Urban Latina/o/x",
          "PUEBLO Urban Latina/o/x",
          "PUEBLO Urban Latina/o/x",
          "PUEBLO Urban Latina/o/x",
          "PUEBLO Urban Latina/o/x",
          "PUEBLO Urban Latina/o/x",
          "PUEBLO Urban Latina/o/x",
          "PUEBLO Urban Latina/o/x",
          "PUEBLO Urban Latina/o/x",
          "PUEBLO Urban Latina/o/x",
          "PUEBLO Urban Latina/o/x",
          "PUEBLO Urban Latina/o/x",
          "PUEBLO Urban Latina/o/x",
          "PUEBLO Urban Latina/o/x",
          "PUEBLO Urban Latina/o/x",
          "PUEBLO Urban Latina/o/x",
          "PUEBLO Urban Latina/o/x",
          "PUEBLO Urban Latina/o/x",
          "PUEBLO Urban Latina/o/x",
          "PUEBLO Urban Latina/o/x",
          "PUEBLO Urban Latina/o/x",
          "PUEBLO Urban Latina/o/x",
          "PUEBLO Urban Latina/o/x",
          "PUEBLO Urban Latina/o/x",
          "PUEBLO Urban Latina/o/x",
          "PUEBLO Urban Latina/o/x",
          "PUEBLO Urban Latina/o/x",
          "PUEBLO Urban Latina/o/x",
          "PUEBLO Urban Latina/o/x",
          "PUEBLO Urban Latina/o/x",
          "PUEBLO Urban Latina/o/x",
          "PUEBLO Urban Latina/o/x",
          "PUEBLO Urban Latina/o/x",
          "PUEBLO Urban Latina/o/x",
          "PUEBLO Urban Latina/o/x",
          "PUEBLO Urban Latina/o/x",
          "PUEBLO Urban Latina/o/x",
          "PUEBLO Urban Latina/o/x",
          "PUEBLO Urban Latina/o/x",
          "PUEBLO Urban Latina/o/x",
          "PUEBLO Urban Latina/o/x",
          "PUEBLO Urban Latina/o/x",
          "PUEBLO Urban Latina/o/x",
          "PUEBLO Urban Latina/o/x",
          "PUEBLO Urban Latina/o/x",
          "PUEBLO Urban Latina/o/x",
          "PUEBLO Urban Latina/o/x",
          "PUEBLO Urban Latina/o/x",
          "PUEBLO Urban Latina/o/x",
          "PUEBLO Urban Latina/o/x",
          "PUEBLO Urban Latina/o/x",
          "PUEBLO Urban Latina/o/x",
          "PUEBLO Urban Latina/o/x",
          "PUEBLO Urban Latina/o/x",
          "PUEBLO Urban Latina/o/x",
          "PUEBLO Urban Latina/o/x",
          "PUEBLO Urban Latina/o/x",
          "PUEBLO Urban Latina/o/x",
          "PUEBLO Urban Latina/o/x"
         ],
         "xaxis": "x",
         "y": [
          1,
          1,
          1,
          1,
          0,
          1,
          1,
          1,
          0,
          0,
          1,
          0,
          1,
          1,
          1,
          1,
          0,
          1,
          1,
          1,
          1,
          0,
          1,
          1,
          1,
          1,
          1,
          1,
          1,
          1,
          1,
          1,
          1,
          1,
          1,
          1,
          1,
          1,
          1,
          1,
          1,
          0,
          1,
          0,
          1,
          1,
          0,
          1,
          1,
          1,
          1,
          1,
          0,
          0,
          1,
          1,
          1,
          1,
          0,
          1,
          1,
          1,
          0,
          1,
          0,
          1,
          1,
          1,
          0,
          1,
          1,
          1,
          1,
          0,
          1,
          1,
          1,
          1,
          1,
          1,
          1,
          1,
          1,
          1,
          0,
          1,
          1,
          1,
          1,
          0,
          1,
          0,
          0,
          1,
          1,
          1,
          1,
          0,
          0,
          1
         ],
         "yaxis": "y"
        },
        {
         "alignmentgroup": "True",
         "hovertemplate": "Community=%{x}<br>ceal_testbehavior=%{y}<extra></extra>",
         "legendgroup": "DENVER Urban AA/Black",
         "marker": {
          "color": "#EF553B",
          "pattern": {
           "shape": ""
          }
         },
         "name": "DENVER Urban AA/Black",
         "offsetgroup": "DENVER Urban AA/Black",
         "orientation": "v",
         "showlegend": true,
         "textposition": "auto",
         "type": "bar",
         "x": [
          "DENVER Urban AA/Black",
          "DENVER Urban AA/Black",
          "DENVER Urban AA/Black",
          "DENVER Urban AA/Black",
          "DENVER Urban AA/Black",
          "DENVER Urban AA/Black",
          "DENVER Urban AA/Black",
          "DENVER Urban AA/Black",
          "DENVER Urban AA/Black",
          "DENVER Urban AA/Black",
          "DENVER Urban AA/Black",
          "DENVER Urban AA/Black",
          "DENVER Urban AA/Black",
          "DENVER Urban AA/Black",
          "DENVER Urban AA/Black",
          "DENVER Urban AA/Black",
          "DENVER Urban AA/Black",
          "DENVER Urban AA/Black",
          "DENVER Urban AA/Black",
          "DENVER Urban AA/Black",
          "DENVER Urban AA/Black",
          "DENVER Urban AA/Black",
          "DENVER Urban AA/Black",
          "DENVER Urban AA/Black",
          "DENVER Urban AA/Black",
          "DENVER Urban AA/Black",
          "DENVER Urban AA/Black",
          "DENVER Urban AA/Black",
          "DENVER Urban AA/Black",
          "DENVER Urban AA/Black",
          "DENVER Urban AA/Black",
          "DENVER Urban AA/Black",
          "DENVER Urban AA/Black",
          "DENVER Urban AA/Black",
          "DENVER Urban AA/Black",
          "DENVER Urban AA/Black",
          "DENVER Urban AA/Black",
          "DENVER Urban AA/Black",
          "DENVER Urban AA/Black",
          "DENVER Urban AA/Black",
          "DENVER Urban AA/Black",
          "DENVER Urban AA/Black",
          "DENVER Urban AA/Black",
          "DENVER Urban AA/Black",
          "DENVER Urban AA/Black",
          "DENVER Urban AA/Black",
          "DENVER Urban AA/Black",
          "DENVER Urban AA/Black",
          "DENVER Urban AA/Black",
          "DENVER Urban AA/Black",
          "DENVER Urban AA/Black",
          "DENVER Urban AA/Black",
          "DENVER Urban AA/Black",
          "DENVER Urban AA/Black",
          "DENVER Urban AA/Black",
          "DENVER Urban AA/Black",
          "DENVER Urban AA/Black",
          "DENVER Urban AA/Black",
          "DENVER Urban AA/Black",
          "DENVER Urban AA/Black",
          "DENVER Urban AA/Black",
          "DENVER Urban AA/Black",
          "DENVER Urban AA/Black",
          "DENVER Urban AA/Black",
          "DENVER Urban AA/Black",
          "DENVER Urban AA/Black",
          "DENVER Urban AA/Black",
          "DENVER Urban AA/Black",
          "DENVER Urban AA/Black",
          "DENVER Urban AA/Black",
          "DENVER Urban AA/Black",
          "DENVER Urban AA/Black",
          "DENVER Urban AA/Black",
          "DENVER Urban AA/Black",
          "DENVER Urban AA/Black",
          "DENVER Urban AA/Black",
          "DENVER Urban AA/Black",
          "DENVER Urban AA/Black",
          "DENVER Urban AA/Black",
          "DENVER Urban AA/Black",
          "DENVER Urban AA/Black",
          "DENVER Urban AA/Black",
          "DENVER Urban AA/Black",
          "DENVER Urban AA/Black",
          "DENVER Urban AA/Black",
          "DENVER Urban AA/Black",
          "DENVER Urban AA/Black",
          "DENVER Urban AA/Black",
          "DENVER Urban AA/Black",
          "DENVER Urban AA/Black",
          "DENVER Urban AA/Black",
          "DENVER Urban AA/Black",
          "DENVER Urban AA/Black",
          "DENVER Urban AA/Black",
          "DENVER Urban AA/Black",
          "DENVER Urban AA/Black",
          "DENVER Urban AA/Black",
          "DENVER Urban AA/Black",
          "DENVER Urban AA/Black",
          "DENVER Urban AA/Black",
          "DENVER Urban AA/Black",
          "DENVER Urban AA/Black",
          "DENVER Urban AA/Black",
          "DENVER Urban AA/Black",
          "DENVER Urban AA/Black",
          "DENVER Urban AA/Black",
          "DENVER Urban AA/Black",
          "DENVER Urban AA/Black",
          "DENVER Urban AA/Black",
          "DENVER Urban AA/Black",
          "DENVER Urban AA/Black",
          "DENVER Urban AA/Black",
          "DENVER Urban AA/Black",
          "DENVER Urban AA/Black",
          "DENVER Urban AA/Black",
          "DENVER Urban AA/Black",
          "DENVER Urban AA/Black",
          "DENVER Urban AA/Black",
          "DENVER Urban AA/Black",
          "DENVER Urban AA/Black",
          "DENVER Urban AA/Black",
          "DENVER Urban AA/Black",
          "DENVER Urban AA/Black",
          "DENVER Urban AA/Black",
          "DENVER Urban AA/Black",
          "DENVER Urban AA/Black",
          "DENVER Urban AA/Black",
          "DENVER Urban AA/Black",
          "DENVER Urban AA/Black",
          "DENVER Urban AA/Black",
          "DENVER Urban AA/Black",
          "DENVER Urban AA/Black",
          "DENVER Urban AA/Black",
          "DENVER Urban AA/Black",
          "DENVER Urban AA/Black",
          "DENVER Urban AA/Black",
          "DENVER Urban AA/Black",
          "DENVER Urban AA/Black",
          "DENVER Urban AA/Black",
          "DENVER Urban AA/Black",
          "DENVER Urban AA/Black",
          "DENVER Urban AA/Black",
          "DENVER Urban AA/Black",
          "DENVER Urban AA/Black",
          "DENVER Urban AA/Black",
          "DENVER Urban AA/Black",
          "DENVER Urban AA/Black",
          "DENVER Urban AA/Black",
          "DENVER Urban AA/Black",
          "DENVER Urban AA/Black",
          "DENVER Urban AA/Black",
          "DENVER Urban AA/Black",
          "DENVER Urban AA/Black",
          "DENVER Urban AA/Black",
          "DENVER Urban AA/Black",
          "DENVER Urban AA/Black",
          "DENVER Urban AA/Black",
          "DENVER Urban AA/Black",
          "DENVER Urban AA/Black",
          "DENVER Urban AA/Black",
          "DENVER Urban AA/Black",
          "DENVER Urban AA/Black",
          "DENVER Urban AA/Black",
          "DENVER Urban AA/Black",
          "DENVER Urban AA/Black",
          "DENVER Urban AA/Black",
          "DENVER Urban AA/Black",
          "DENVER Urban AA/Black",
          "DENVER Urban AA/Black",
          "DENVER Urban AA/Black",
          "DENVER Urban AA/Black",
          "DENVER Urban AA/Black",
          "DENVER Urban AA/Black",
          "DENVER Urban AA/Black",
          "DENVER Urban AA/Black",
          "DENVER Urban AA/Black",
          "DENVER Urban AA/Black",
          "DENVER Urban AA/Black",
          "DENVER Urban AA/Black",
          "DENVER Urban AA/Black",
          "DENVER Urban AA/Black",
          "DENVER Urban AA/Black",
          "DENVER Urban AA/Black",
          "DENVER Urban AA/Black",
          "DENVER Urban AA/Black",
          "DENVER Urban AA/Black",
          "DENVER Urban AA/Black"
         ],
         "xaxis": "x",
         "y": [
          1,
          0,
          1,
          0,
          0,
          0,
          0,
          1,
          0,
          0,
          1,
          1,
          1,
          1,
          0,
          1,
          1,
          1,
          0,
          1,
          0,
          1,
          1,
          1,
          0,
          1,
          1,
          1,
          1,
          1,
          1,
          1,
          1,
          null,
          1,
          1,
          1,
          1,
          1,
          1,
          1,
          1,
          0,
          1,
          1,
          1,
          1,
          1,
          1,
          1,
          1,
          0,
          1,
          1,
          0,
          1,
          1,
          1,
          1,
          1,
          0,
          1,
          1,
          0,
          1,
          0,
          0,
          0,
          1,
          1,
          1,
          1,
          1,
          1,
          1,
          1,
          1,
          0,
          1,
          0,
          0,
          1,
          1,
          1,
          1,
          1,
          1,
          1,
          1,
          1,
          0,
          1,
          1,
          1,
          1,
          1,
          1,
          0,
          1,
          0,
          1,
          1,
          1,
          1,
          1,
          1,
          1,
          1,
          1,
          1,
          0,
          1,
          1,
          1,
          1,
          1,
          1,
          1,
          1,
          1,
          1,
          1,
          1,
          1,
          0,
          1,
          1,
          1,
          1,
          0,
          1,
          1,
          1,
          0,
          1,
          null,
          1,
          0,
          1,
          1,
          1,
          1,
          null,
          1,
          1,
          1,
          1,
          1,
          1,
          1,
          1,
          1,
          1,
          1,
          0,
          0,
          1,
          1,
          1,
          1,
          1,
          0,
          1,
          0,
          1,
          1,
          1,
          1,
          1,
          0,
          null,
          1,
          1,
          1,
          1,
          1,
          1,
          1,
          1,
          1,
          1,
          1,
          1,
          1,
          0,
          1,
          1
         ],
         "yaxis": "y"
        },
        {
         "alignmentgroup": "True",
         "hovertemplate": "Community=%{x}<br>ceal_testbehavior=%{y}<extra></extra>",
         "legendgroup": "SLV Rural Latina/o/x",
         "marker": {
          "color": "#00cc96",
          "pattern": {
           "shape": ""
          }
         },
         "name": "SLV Rural Latina/o/x",
         "offsetgroup": "SLV Rural Latina/o/x",
         "orientation": "v",
         "showlegend": true,
         "textposition": "auto",
         "type": "bar",
         "x": [
          "SLV Rural Latina/o/x",
          "SLV Rural Latina/o/x",
          "SLV Rural Latina/o/x",
          "SLV Rural Latina/o/x",
          "SLV Rural Latina/o/x",
          "SLV Rural Latina/o/x",
          "SLV Rural Latina/o/x",
          "SLV Rural Latina/o/x",
          "SLV Rural Latina/o/x",
          "SLV Rural Latina/o/x",
          "SLV Rural Latina/o/x",
          "SLV Rural Latina/o/x",
          "SLV Rural Latina/o/x",
          "SLV Rural Latina/o/x",
          "SLV Rural Latina/o/x",
          "SLV Rural Latina/o/x",
          "SLV Rural Latina/o/x",
          "SLV Rural Latina/o/x",
          "SLV Rural Latina/o/x",
          "SLV Rural Latina/o/x",
          "SLV Rural Latina/o/x",
          "SLV Rural Latina/o/x",
          "SLV Rural Latina/o/x",
          "SLV Rural Latina/o/x",
          "SLV Rural Latina/o/x",
          "SLV Rural Latina/o/x",
          "SLV Rural Latina/o/x",
          "SLV Rural Latina/o/x",
          "SLV Rural Latina/o/x",
          "SLV Rural Latina/o/x",
          "SLV Rural Latina/o/x",
          "SLV Rural Latina/o/x",
          "SLV Rural Latina/o/x",
          "SLV Rural Latina/o/x",
          "SLV Rural Latina/o/x",
          "SLV Rural Latina/o/x",
          "SLV Rural Latina/o/x",
          "SLV Rural Latina/o/x",
          "SLV Rural Latina/o/x",
          "SLV Rural Latina/o/x",
          "SLV Rural Latina/o/x",
          "SLV Rural Latina/o/x",
          "SLV Rural Latina/o/x",
          "SLV Rural Latina/o/x",
          "SLV Rural Latina/o/x",
          "SLV Rural Latina/o/x",
          "SLV Rural Latina/o/x",
          "SLV Rural Latina/o/x",
          "SLV Rural Latina/o/x",
          "SLV Rural Latina/o/x",
          "SLV Rural Latina/o/x",
          "SLV Rural Latina/o/x",
          "SLV Rural Latina/o/x",
          "SLV Rural Latina/o/x",
          "SLV Rural Latina/o/x",
          "SLV Rural Latina/o/x",
          "SLV Rural Latina/o/x",
          "SLV Rural Latina/o/x",
          "SLV Rural Latina/o/x",
          "SLV Rural Latina/o/x",
          "SLV Rural Latina/o/x",
          "SLV Rural Latina/o/x",
          "SLV Rural Latina/o/x",
          "SLV Rural Latina/o/x",
          "SLV Rural Latina/o/x",
          "SLV Rural Latina/o/x",
          "SLV Rural Latina/o/x",
          "SLV Rural Latina/o/x",
          "SLV Rural Latina/o/x",
          "SLV Rural Latina/o/x",
          "SLV Rural Latina/o/x",
          "SLV Rural Latina/o/x",
          "SLV Rural Latina/o/x",
          "SLV Rural Latina/o/x",
          "SLV Rural Latina/o/x",
          "SLV Rural Latina/o/x",
          "SLV Rural Latina/o/x",
          "SLV Rural Latina/o/x",
          "SLV Rural Latina/o/x",
          "SLV Rural Latina/o/x",
          "SLV Rural Latina/o/x",
          "SLV Rural Latina/o/x",
          "SLV Rural Latina/o/x",
          "SLV Rural Latina/o/x",
          "SLV Rural Latina/o/x",
          "SLV Rural Latina/o/x",
          "SLV Rural Latina/o/x",
          "SLV Rural Latina/o/x",
          "SLV Rural Latina/o/x",
          "SLV Rural Latina/o/x",
          "SLV Rural Latina/o/x",
          "SLV Rural Latina/o/x",
          "SLV Rural Latina/o/x",
          "SLV Rural Latina/o/x",
          "SLV Rural Latina/o/x",
          "SLV Rural Latina/o/x",
          "SLV Rural Latina/o/x",
          "SLV Rural Latina/o/x",
          "SLV Rural Latina/o/x",
          "SLV Rural Latina/o/x",
          "SLV Rural Latina/o/x",
          "SLV Rural Latina/o/x",
          "SLV Rural Latina/o/x",
          "SLV Rural Latina/o/x",
          "SLV Rural Latina/o/x",
          "SLV Rural Latina/o/x",
          "SLV Rural Latina/o/x",
          "SLV Rural Latina/o/x",
          "SLV Rural Latina/o/x",
          "SLV Rural Latina/o/x",
          "SLV Rural Latina/o/x",
          "SLV Rural Latina/o/x",
          "SLV Rural Latina/o/x",
          "SLV Rural Latina/o/x",
          "SLV Rural Latina/o/x",
          "SLV Rural Latina/o/x",
          "SLV Rural Latina/o/x",
          "SLV Rural Latina/o/x",
          "SLV Rural Latina/o/x",
          "SLV Rural Latina/o/x",
          "SLV Rural Latina/o/x",
          "SLV Rural Latina/o/x",
          "SLV Rural Latina/o/x",
          "SLV Rural Latina/o/x",
          "SLV Rural Latina/o/x",
          "SLV Rural Latina/o/x",
          "SLV Rural Latina/o/x",
          "SLV Rural Latina/o/x",
          "SLV Rural Latina/o/x",
          "SLV Rural Latina/o/x",
          "SLV Rural Latina/o/x",
          "SLV Rural Latina/o/x",
          "SLV Rural Latina/o/x",
          "SLV Rural Latina/o/x",
          "SLV Rural Latina/o/x",
          "SLV Rural Latina/o/x",
          "SLV Rural Latina/o/x",
          "SLV Rural Latina/o/x",
          "SLV Rural Latina/o/x",
          "SLV Rural Latina/o/x",
          "SLV Rural Latina/o/x",
          "SLV Rural Latina/o/x",
          "SLV Rural Latina/o/x",
          "SLV Rural Latina/o/x",
          "SLV Rural Latina/o/x",
          "SLV Rural Latina/o/x",
          "SLV Rural Latina/o/x",
          "SLV Rural Latina/o/x",
          "SLV Rural Latina/o/x",
          "SLV Rural Latina/o/x",
          "SLV Rural Latina/o/x",
          "SLV Rural Latina/o/x",
          "SLV Rural Latina/o/x",
          "SLV Rural Latina/o/x",
          "SLV Rural Latina/o/x",
          "SLV Rural Latina/o/x",
          "SLV Rural Latina/o/x",
          "SLV Rural Latina/o/x",
          "SLV Rural Latina/o/x",
          "SLV Rural Latina/o/x",
          "SLV Rural Latina/o/x",
          "SLV Rural Latina/o/x",
          "SLV Rural Latina/o/x",
          "SLV Rural Latina/o/x",
          "SLV Rural Latina/o/x",
          "SLV Rural Latina/o/x",
          "SLV Rural Latina/o/x",
          "SLV Rural Latina/o/x",
          "SLV Rural Latina/o/x",
          "SLV Rural Latina/o/x",
          "SLV Rural Latina/o/x",
          "SLV Rural Latina/o/x",
          "SLV Rural Latina/o/x",
          "SLV Rural Latina/o/x",
          "SLV Rural Latina/o/x",
          "SLV Rural Latina/o/x",
          "SLV Rural Latina/o/x",
          "SLV Rural Latina/o/x",
          "SLV Rural Latina/o/x",
          "SLV Rural Latina/o/x",
          "SLV Rural Latina/o/x",
          "SLV Rural Latina/o/x",
          "SLV Rural Latina/o/x",
          "SLV Rural Latina/o/x",
          "SLV Rural Latina/o/x",
          "SLV Rural Latina/o/x",
          "SLV Rural Latina/o/x",
          "SLV Rural Latina/o/x",
          "SLV Rural Latina/o/x",
          "SLV Rural Latina/o/x",
          "SLV Rural Latina/o/x",
          "SLV Rural Latina/o/x",
          "SLV Rural Latina/o/x",
          "SLV Rural Latina/o/x"
         ],
         "xaxis": "x",
         "y": [
          1,
          0,
          1,
          0,
          1,
          1,
          1,
          1,
          0,
          1,
          1,
          1,
          1,
          0,
          1,
          1,
          1,
          1,
          1,
          1,
          0,
          1,
          1,
          1,
          1,
          1,
          1,
          1,
          1,
          1,
          1,
          1,
          1,
          1,
          1,
          1,
          1,
          1,
          1,
          null,
          0,
          0,
          1,
          1,
          0,
          1,
          1,
          1,
          0,
          0,
          1,
          1,
          1,
          0,
          1,
          0,
          0,
          1,
          1,
          0,
          1,
          1,
          1,
          1,
          0,
          1,
          1,
          1,
          0,
          1,
          1,
          1,
          1,
          1,
          0,
          1,
          1,
          0,
          1,
          0,
          1,
          1,
          1,
          1,
          1,
          1,
          1,
          1,
          1,
          1,
          1,
          1,
          1,
          1,
          1,
          1,
          1,
          1,
          1,
          0,
          1,
          1,
          1,
          1,
          1,
          1,
          1,
          1,
          1,
          1,
          1,
          1,
          0,
          1,
          1,
          1,
          0,
          1,
          1,
          1,
          1,
          1,
          1,
          0,
          1,
          1,
          1,
          1,
          1,
          1,
          1,
          1,
          1,
          1,
          1,
          1,
          1,
          0,
          1,
          1,
          1,
          1,
          1,
          0,
          0,
          1,
          1,
          1,
          0,
          0,
          1,
          1,
          1,
          1,
          1,
          1,
          1,
          1,
          1,
          1,
          1,
          1,
          1,
          1,
          1,
          1,
          1,
          1,
          1,
          1,
          1,
          1,
          0,
          1,
          1,
          1,
          1,
          1,
          1,
          0,
          0,
          1,
          1,
          1,
          1,
          0,
          1,
          1,
          0,
          0,
          0,
          0,
          1,
          1
         ],
         "yaxis": "y"
        },
        {
         "alignmentgroup": "True",
         "hovertemplate": "Community=%{x}<br>ceal_testbehavior=%{y}<extra></extra>",
         "legendgroup": "FT MORGAN/GREELEY Rural AA/Black",
         "marker": {
          "color": "#ab63fa",
          "pattern": {
           "shape": ""
          }
         },
         "name": "FT MORGAN/GREELEY Rural AA/Black",
         "offsetgroup": "FT MORGAN/GREELEY Rural AA/Black",
         "orientation": "v",
         "showlegend": true,
         "textposition": "auto",
         "type": "bar",
         "x": [
          "FT MORGAN/GREELEY Rural AA/Black",
          "FT MORGAN/GREELEY Rural AA/Black",
          "FT MORGAN/GREELEY Rural AA/Black",
          "FT MORGAN/GREELEY Rural AA/Black",
          "FT MORGAN/GREELEY Rural AA/Black",
          "FT MORGAN/GREELEY Rural AA/Black",
          "FT MORGAN/GREELEY Rural AA/Black",
          "FT MORGAN/GREELEY Rural AA/Black",
          "FT MORGAN/GREELEY Rural AA/Black",
          "FT MORGAN/GREELEY Rural AA/Black",
          "FT MORGAN/GREELEY Rural AA/Black",
          "FT MORGAN/GREELEY Rural AA/Black",
          "FT MORGAN/GREELEY Rural AA/Black",
          "FT MORGAN/GREELEY Rural AA/Black",
          "FT MORGAN/GREELEY Rural AA/Black",
          "FT MORGAN/GREELEY Rural AA/Black",
          "FT MORGAN/GREELEY Rural AA/Black",
          "FT MORGAN/GREELEY Rural AA/Black",
          "FT MORGAN/GREELEY Rural AA/Black",
          "FT MORGAN/GREELEY Rural AA/Black",
          "FT MORGAN/GREELEY Rural AA/Black",
          "FT MORGAN/GREELEY Rural AA/Black",
          "FT MORGAN/GREELEY Rural AA/Black",
          "FT MORGAN/GREELEY Rural AA/Black",
          "FT MORGAN/GREELEY Rural AA/Black",
          "FT MORGAN/GREELEY Rural AA/Black",
          "FT MORGAN/GREELEY Rural AA/Black",
          "FT MORGAN/GREELEY Rural AA/Black",
          "FT MORGAN/GREELEY Rural AA/Black",
          "FT MORGAN/GREELEY Rural AA/Black",
          "FT MORGAN/GREELEY Rural AA/Black",
          "FT MORGAN/GREELEY Rural AA/Black",
          "FT MORGAN/GREELEY Rural AA/Black",
          "FT MORGAN/GREELEY Rural AA/Black",
          "FT MORGAN/GREELEY Rural AA/Black",
          "FT MORGAN/GREELEY Rural AA/Black",
          "FT MORGAN/GREELEY Rural AA/Black",
          "FT MORGAN/GREELEY Rural AA/Black",
          "FT MORGAN/GREELEY Rural AA/Black",
          "FT MORGAN/GREELEY Rural AA/Black",
          "FT MORGAN/GREELEY Rural AA/Black",
          "FT MORGAN/GREELEY Rural AA/Black",
          "FT MORGAN/GREELEY Rural AA/Black",
          "FT MORGAN/GREELEY Rural AA/Black",
          "FT MORGAN/GREELEY Rural AA/Black",
          "FT MORGAN/GREELEY Rural AA/Black",
          "FT MORGAN/GREELEY Rural AA/Black",
          "FT MORGAN/GREELEY Rural AA/Black",
          "FT MORGAN/GREELEY Rural AA/Black",
          "FT MORGAN/GREELEY Rural AA/Black",
          "FT MORGAN/GREELEY Rural AA/Black",
          "FT MORGAN/GREELEY Rural AA/Black",
          "FT MORGAN/GREELEY Rural AA/Black",
          "FT MORGAN/GREELEY Rural AA/Black",
          "FT MORGAN/GREELEY Rural AA/Black",
          "FT MORGAN/GREELEY Rural AA/Black",
          "FT MORGAN/GREELEY Rural AA/Black",
          "FT MORGAN/GREELEY Rural AA/Black",
          "FT MORGAN/GREELEY Rural AA/Black",
          "FT MORGAN/GREELEY Rural AA/Black",
          "FT MORGAN/GREELEY Rural AA/Black",
          "FT MORGAN/GREELEY Rural AA/Black",
          "FT MORGAN/GREELEY Rural AA/Black",
          "FT MORGAN/GREELEY Rural AA/Black",
          "FT MORGAN/GREELEY Rural AA/Black",
          "FT MORGAN/GREELEY Rural AA/Black",
          "FT MORGAN/GREELEY Rural AA/Black",
          "FT MORGAN/GREELEY Rural AA/Black",
          "FT MORGAN/GREELEY Rural AA/Black",
          "FT MORGAN/GREELEY Rural AA/Black",
          "FT MORGAN/GREELEY Rural AA/Black",
          "FT MORGAN/GREELEY Rural AA/Black",
          "FT MORGAN/GREELEY Rural AA/Black",
          "FT MORGAN/GREELEY Rural AA/Black",
          "FT MORGAN/GREELEY Rural AA/Black",
          "FT MORGAN/GREELEY Rural AA/Black",
          "FT MORGAN/GREELEY Rural AA/Black",
          "FT MORGAN/GREELEY Rural AA/Black",
          "FT MORGAN/GREELEY Rural AA/Black",
          "FT MORGAN/GREELEY Rural AA/Black",
          "FT MORGAN/GREELEY Rural AA/Black",
          "FT MORGAN/GREELEY Rural AA/Black",
          "FT MORGAN/GREELEY Rural AA/Black",
          "FT MORGAN/GREELEY Rural AA/Black",
          "FT MORGAN/GREELEY Rural AA/Black",
          "FT MORGAN/GREELEY Rural AA/Black",
          "FT MORGAN/GREELEY Rural AA/Black",
          "FT MORGAN/GREELEY Rural AA/Black",
          "FT MORGAN/GREELEY Rural AA/Black",
          "FT MORGAN/GREELEY Rural AA/Black",
          "FT MORGAN/GREELEY Rural AA/Black",
          "FT MORGAN/GREELEY Rural AA/Black",
          "FT MORGAN/GREELEY Rural AA/Black",
          "FT MORGAN/GREELEY Rural AA/Black",
          "FT MORGAN/GREELEY Rural AA/Black",
          "FT MORGAN/GREELEY Rural AA/Black",
          "FT MORGAN/GREELEY Rural AA/Black",
          "FT MORGAN/GREELEY Rural AA/Black",
          "FT MORGAN/GREELEY Rural AA/Black",
          "FT MORGAN/GREELEY Rural AA/Black",
          "FT MORGAN/GREELEY Rural AA/Black",
          "FT MORGAN/GREELEY Rural AA/Black",
          "FT MORGAN/GREELEY Rural AA/Black",
          "FT MORGAN/GREELEY Rural AA/Black",
          "FT MORGAN/GREELEY Rural AA/Black",
          "FT MORGAN/GREELEY Rural AA/Black",
          "FT MORGAN/GREELEY Rural AA/Black",
          "FT MORGAN/GREELEY Rural AA/Black",
          "FT MORGAN/GREELEY Rural AA/Black",
          "FT MORGAN/GREELEY Rural AA/Black",
          "FT MORGAN/GREELEY Rural AA/Black",
          "FT MORGAN/GREELEY Rural AA/Black",
          "FT MORGAN/GREELEY Rural AA/Black",
          "FT MORGAN/GREELEY Rural AA/Black",
          "FT MORGAN/GREELEY Rural AA/Black",
          "FT MORGAN/GREELEY Rural AA/Black",
          "FT MORGAN/GREELEY Rural AA/Black",
          "FT MORGAN/GREELEY Rural AA/Black",
          "FT MORGAN/GREELEY Rural AA/Black",
          "FT MORGAN/GREELEY Rural AA/Black",
          "FT MORGAN/GREELEY Rural AA/Black",
          "FT MORGAN/GREELEY Rural AA/Black",
          "FT MORGAN/GREELEY Rural AA/Black",
          "FT MORGAN/GREELEY Rural AA/Black",
          "FT MORGAN/GREELEY Rural AA/Black",
          "FT MORGAN/GREELEY Rural AA/Black",
          "FT MORGAN/GREELEY Rural AA/Black",
          "FT MORGAN/GREELEY Rural AA/Black",
          "FT MORGAN/GREELEY Rural AA/Black",
          "FT MORGAN/GREELEY Rural AA/Black",
          "FT MORGAN/GREELEY Rural AA/Black",
          "FT MORGAN/GREELEY Rural AA/Black",
          "FT MORGAN/GREELEY Rural AA/Black",
          "FT MORGAN/GREELEY Rural AA/Black",
          "FT MORGAN/GREELEY Rural AA/Black",
          "FT MORGAN/GREELEY Rural AA/Black",
          "FT MORGAN/GREELEY Rural AA/Black",
          "FT MORGAN/GREELEY Rural AA/Black",
          "FT MORGAN/GREELEY Rural AA/Black",
          "FT MORGAN/GREELEY Rural AA/Black",
          "FT MORGAN/GREELEY Rural AA/Black",
          "FT MORGAN/GREELEY Rural AA/Black",
          "FT MORGAN/GREELEY Rural AA/Black",
          "FT MORGAN/GREELEY Rural AA/Black",
          "FT MORGAN/GREELEY Rural AA/Black",
          "FT MORGAN/GREELEY Rural AA/Black",
          "FT MORGAN/GREELEY Rural AA/Black",
          "FT MORGAN/GREELEY Rural AA/Black",
          "FT MORGAN/GREELEY Rural AA/Black",
          "FT MORGAN/GREELEY Rural AA/Black",
          "FT MORGAN/GREELEY Rural AA/Black",
          "FT MORGAN/GREELEY Rural AA/Black",
          "FT MORGAN/GREELEY Rural AA/Black",
          "FT MORGAN/GREELEY Rural AA/Black",
          "FT MORGAN/GREELEY Rural AA/Black",
          "FT MORGAN/GREELEY Rural AA/Black",
          "FT MORGAN/GREELEY Rural AA/Black",
          "FT MORGAN/GREELEY Rural AA/Black",
          "FT MORGAN/GREELEY Rural AA/Black",
          "FT MORGAN/GREELEY Rural AA/Black",
          "FT MORGAN/GREELEY Rural AA/Black",
          "FT MORGAN/GREELEY Rural AA/Black",
          "FT MORGAN/GREELEY Rural AA/Black",
          "FT MORGAN/GREELEY Rural AA/Black",
          "FT MORGAN/GREELEY Rural AA/Black",
          "FT MORGAN/GREELEY Rural AA/Black",
          "FT MORGAN/GREELEY Rural AA/Black",
          "FT MORGAN/GREELEY Rural AA/Black",
          "FT MORGAN/GREELEY Rural AA/Black",
          "FT MORGAN/GREELEY Rural AA/Black",
          "FT MORGAN/GREELEY Rural AA/Black",
          "FT MORGAN/GREELEY Rural AA/Black",
          "FT MORGAN/GREELEY Rural AA/Black",
          "FT MORGAN/GREELEY Rural AA/Black",
          "FT MORGAN/GREELEY Rural AA/Black",
          "FT MORGAN/GREELEY Rural AA/Black",
          "FT MORGAN/GREELEY Rural AA/Black",
          "FT MORGAN/GREELEY Rural AA/Black",
          "FT MORGAN/GREELEY Rural AA/Black",
          "FT MORGAN/GREELEY Rural AA/Black",
          "FT MORGAN/GREELEY Rural AA/Black",
          "FT MORGAN/GREELEY Rural AA/Black",
          "FT MORGAN/GREELEY Rural AA/Black",
          "FT MORGAN/GREELEY Rural AA/Black",
          "FT MORGAN/GREELEY Rural AA/Black"
         ],
         "xaxis": "x",
         "y": [
          0,
          null,
          1,
          1,
          0,
          0,
          0,
          1,
          1,
          0,
          0,
          0,
          1,
          0,
          0,
          0,
          1,
          0,
          0,
          0,
          0,
          0,
          0,
          1,
          0,
          1,
          0,
          1,
          1,
          1,
          0,
          0,
          1,
          1,
          null,
          1,
          1,
          0,
          1,
          0,
          0,
          0,
          0,
          0,
          0,
          0,
          0,
          null,
          0,
          0,
          0,
          0,
          1,
          0,
          1,
          0,
          null,
          1,
          1,
          0,
          1,
          1,
          0,
          0,
          1,
          1,
          0,
          1,
          0,
          1,
          0,
          1,
          0,
          0,
          0,
          0,
          0,
          1,
          1,
          0,
          1,
          1,
          0,
          1,
          1,
          0,
          0,
          0,
          0,
          0,
          1,
          0,
          0,
          1,
          0,
          0,
          0,
          0,
          0,
          1,
          1,
          1,
          1,
          0,
          0,
          0,
          0,
          0,
          0,
          1,
          0,
          1,
          0,
          0,
          0,
          0,
          0,
          0,
          1,
          0,
          0,
          0,
          0,
          1,
          1,
          0,
          1,
          0,
          0,
          1,
          0,
          0,
          1,
          0,
          0,
          0,
          0,
          1,
          1,
          0,
          0,
          1,
          1,
          1,
          0,
          0,
          1,
          0,
          0,
          0,
          1,
          1,
          0,
          0,
          1,
          1,
          0,
          0,
          0,
          0,
          0,
          0,
          1,
          0,
          0,
          1,
          0,
          0,
          1,
          0,
          0,
          1,
          1,
          0,
          1,
          0,
          1,
          0,
          0,
          1,
          1,
          0,
          0,
          1,
          0
         ],
         "yaxis": "y"
        },
        {
         "alignmentgroup": "True",
         "hovertemplate": "Community=%{x}<br>ceal_testbehavior=%{y}<extra></extra>",
         "legendgroup": "DENVER Urban Latina/o/x",
         "marker": {
          "color": "#FFA15A",
          "pattern": {
           "shape": ""
          }
         },
         "name": "DENVER Urban Latina/o/x",
         "offsetgroup": "DENVER Urban Latina/o/x",
         "orientation": "v",
         "showlegend": true,
         "textposition": "auto",
         "type": "bar",
         "x": [
          "DENVER Urban Latina/o/x",
          "DENVER Urban Latina/o/x",
          "DENVER Urban Latina/o/x",
          "DENVER Urban Latina/o/x",
          "DENVER Urban Latina/o/x",
          "DENVER Urban Latina/o/x",
          "DENVER Urban Latina/o/x",
          "DENVER Urban Latina/o/x",
          "DENVER Urban Latina/o/x",
          "DENVER Urban Latina/o/x",
          "DENVER Urban Latina/o/x",
          "DENVER Urban Latina/o/x",
          "DENVER Urban Latina/o/x",
          "DENVER Urban Latina/o/x",
          "DENVER Urban Latina/o/x",
          "DENVER Urban Latina/o/x",
          "DENVER Urban Latina/o/x",
          "DENVER Urban Latina/o/x",
          "DENVER Urban Latina/o/x",
          "DENVER Urban Latina/o/x",
          "DENVER Urban Latina/o/x",
          "DENVER Urban Latina/o/x",
          "DENVER Urban Latina/o/x",
          "DENVER Urban Latina/o/x",
          "DENVER Urban Latina/o/x",
          "DENVER Urban Latina/o/x",
          "DENVER Urban Latina/o/x",
          "DENVER Urban Latina/o/x",
          "DENVER Urban Latina/o/x",
          "DENVER Urban Latina/o/x",
          "DENVER Urban Latina/o/x",
          "DENVER Urban Latina/o/x",
          "DENVER Urban Latina/o/x",
          "DENVER Urban Latina/o/x",
          "DENVER Urban Latina/o/x",
          "DENVER Urban Latina/o/x",
          "DENVER Urban Latina/o/x",
          "DENVER Urban Latina/o/x",
          "DENVER Urban Latina/o/x",
          "DENVER Urban Latina/o/x",
          "DENVER Urban Latina/o/x",
          "DENVER Urban Latina/o/x",
          "DENVER Urban Latina/o/x",
          "DENVER Urban Latina/o/x",
          "DENVER Urban Latina/o/x",
          "DENVER Urban Latina/o/x",
          "DENVER Urban Latina/o/x",
          "DENVER Urban Latina/o/x",
          "DENVER Urban Latina/o/x",
          "DENVER Urban Latina/o/x",
          "DENVER Urban Latina/o/x",
          "DENVER Urban Latina/o/x",
          "DENVER Urban Latina/o/x",
          "DENVER Urban Latina/o/x",
          "DENVER Urban Latina/o/x",
          "DENVER Urban Latina/o/x",
          "DENVER Urban Latina/o/x",
          "DENVER Urban Latina/o/x",
          "DENVER Urban Latina/o/x",
          "DENVER Urban Latina/o/x",
          "DENVER Urban Latina/o/x",
          "DENVER Urban Latina/o/x",
          "DENVER Urban Latina/o/x",
          "DENVER Urban Latina/o/x",
          "DENVER Urban Latina/o/x",
          "DENVER Urban Latina/o/x",
          "DENVER Urban Latina/o/x",
          "DENVER Urban Latina/o/x",
          "DENVER Urban Latina/o/x",
          "DENVER Urban Latina/o/x",
          "DENVER Urban Latina/o/x",
          "DENVER Urban Latina/o/x",
          "DENVER Urban Latina/o/x",
          "DENVER Urban Latina/o/x",
          "DENVER Urban Latina/o/x",
          "DENVER Urban Latina/o/x",
          "DENVER Urban Latina/o/x",
          "DENVER Urban Latina/o/x",
          "DENVER Urban Latina/o/x",
          "DENVER Urban Latina/o/x",
          "DENVER Urban Latina/o/x",
          "DENVER Urban Latina/o/x",
          "DENVER Urban Latina/o/x",
          "DENVER Urban Latina/o/x",
          "DENVER Urban Latina/o/x",
          "DENVER Urban Latina/o/x",
          "DENVER Urban Latina/o/x",
          "DENVER Urban Latina/o/x",
          "DENVER Urban Latina/o/x",
          "DENVER Urban Latina/o/x",
          "DENVER Urban Latina/o/x",
          "DENVER Urban Latina/o/x",
          "DENVER Urban Latina/o/x",
          "DENVER Urban Latina/o/x",
          "DENVER Urban Latina/o/x",
          "DENVER Urban Latina/o/x",
          "DENVER Urban Latina/o/x",
          "DENVER Urban Latina/o/x",
          "DENVER Urban Latina/o/x",
          "DENVER Urban Latina/o/x",
          "DENVER Urban Latina/o/x",
          "DENVER Urban Latina/o/x",
          "DENVER Urban Latina/o/x",
          "DENVER Urban Latina/o/x",
          "DENVER Urban Latina/o/x",
          "DENVER Urban Latina/o/x",
          "DENVER Urban Latina/o/x",
          "DENVER Urban Latina/o/x",
          "DENVER Urban Latina/o/x",
          "DENVER Urban Latina/o/x",
          "DENVER Urban Latina/o/x",
          "DENVER Urban Latina/o/x",
          "DENVER Urban Latina/o/x",
          "DENVER Urban Latina/o/x",
          "DENVER Urban Latina/o/x",
          "DENVER Urban Latina/o/x",
          "DENVER Urban Latina/o/x",
          "DENVER Urban Latina/o/x",
          "DENVER Urban Latina/o/x",
          "DENVER Urban Latina/o/x",
          "DENVER Urban Latina/o/x",
          "DENVER Urban Latina/o/x",
          "DENVER Urban Latina/o/x",
          "DENVER Urban Latina/o/x",
          "DENVER Urban Latina/o/x",
          "DENVER Urban Latina/o/x",
          "DENVER Urban Latina/o/x",
          "DENVER Urban Latina/o/x",
          "DENVER Urban Latina/o/x",
          "DENVER Urban Latina/o/x",
          "DENVER Urban Latina/o/x",
          "DENVER Urban Latina/o/x",
          "DENVER Urban Latina/o/x",
          "DENVER Urban Latina/o/x",
          "DENVER Urban Latina/o/x",
          "DENVER Urban Latina/o/x",
          "DENVER Urban Latina/o/x",
          "DENVER Urban Latina/o/x",
          "DENVER Urban Latina/o/x",
          "DENVER Urban Latina/o/x",
          "DENVER Urban Latina/o/x",
          "DENVER Urban Latina/o/x"
         ],
         "xaxis": "x",
         "y": [
          1,
          1,
          0,
          1,
          1,
          1,
          1,
          1,
          0,
          1,
          1,
          1,
          1,
          1,
          1,
          1,
          1,
          1,
          1,
          1,
          1,
          1,
          1,
          1,
          1,
          1,
          0,
          0,
          1,
          1,
          0,
          1,
          1,
          1,
          0,
          1,
          1,
          1,
          1,
          1,
          1,
          1,
          1,
          0,
          1,
          1,
          1,
          0,
          1,
          1,
          1,
          1,
          1,
          1,
          1,
          1,
          1,
          0,
          1,
          1,
          1,
          1,
          1,
          1,
          1,
          1,
          1,
          1,
          1,
          1,
          1,
          1,
          1,
          1,
          0,
          1,
          1,
          1,
          1,
          0,
          1,
          1,
          0,
          1,
          0,
          1,
          1,
          1,
          0,
          1,
          1,
          1,
          1,
          1,
          1,
          1,
          0,
          1,
          1,
          0,
          1,
          1,
          1,
          0,
          1,
          1,
          0,
          1,
          1,
          0,
          1,
          1,
          1,
          1,
          0,
          1,
          1,
          1,
          1,
          1,
          1,
          1,
          1,
          1,
          1,
          1,
          1,
          1,
          1,
          1,
          1,
          1,
          1,
          1,
          1,
          1,
          1,
          1,
          1,
          1,
          1,
          1
         ],
         "yaxis": "y"
        },
        {
         "alignmentgroup": "True",
         "hovertemplate": "Community=%{x}<br>ceal_testbehavior=%{y}<extra></extra>",
         "legendgroup": "DENVER Urban American Indian/Alaska Native",
         "marker": {
          "color": "#19d3f3",
          "pattern": {
           "shape": ""
          }
         },
         "name": "DENVER Urban American Indian/Alaska Native",
         "offsetgroup": "DENVER Urban American Indian/Alaska Native",
         "orientation": "v",
         "showlegend": true,
         "textposition": "auto",
         "type": "bar",
         "x": [
          "DENVER Urban American Indian/Alaska Native",
          "DENVER Urban American Indian/Alaska Native",
          "DENVER Urban American Indian/Alaska Native",
          "DENVER Urban American Indian/Alaska Native",
          "DENVER Urban American Indian/Alaska Native",
          "DENVER Urban American Indian/Alaska Native",
          "DENVER Urban American Indian/Alaska Native",
          "DENVER Urban American Indian/Alaska Native",
          "DENVER Urban American Indian/Alaska Native",
          "DENVER Urban American Indian/Alaska Native",
          "DENVER Urban American Indian/Alaska Native",
          "DENVER Urban American Indian/Alaska Native",
          "DENVER Urban American Indian/Alaska Native",
          "DENVER Urban American Indian/Alaska Native",
          "DENVER Urban American Indian/Alaska Native",
          "DENVER Urban American Indian/Alaska Native",
          "DENVER Urban American Indian/Alaska Native",
          "DENVER Urban American Indian/Alaska Native",
          "DENVER Urban American Indian/Alaska Native",
          "DENVER Urban American Indian/Alaska Native",
          "DENVER Urban American Indian/Alaska Native",
          "DENVER Urban American Indian/Alaska Native",
          "DENVER Urban American Indian/Alaska Native",
          "DENVER Urban American Indian/Alaska Native",
          "DENVER Urban American Indian/Alaska Native",
          "DENVER Urban American Indian/Alaska Native",
          "DENVER Urban American Indian/Alaska Native",
          "DENVER Urban American Indian/Alaska Native",
          "DENVER Urban American Indian/Alaska Native",
          "DENVER Urban American Indian/Alaska Native",
          "DENVER Urban American Indian/Alaska Native",
          "DENVER Urban American Indian/Alaska Native",
          "DENVER Urban American Indian/Alaska Native",
          "DENVER Urban American Indian/Alaska Native",
          "DENVER Urban American Indian/Alaska Native",
          "DENVER Urban American Indian/Alaska Native",
          "DENVER Urban American Indian/Alaska Native",
          "DENVER Urban American Indian/Alaska Native",
          "DENVER Urban American Indian/Alaska Native",
          "DENVER Urban American Indian/Alaska Native",
          "DENVER Urban American Indian/Alaska Native",
          "DENVER Urban American Indian/Alaska Native",
          "DENVER Urban American Indian/Alaska Native",
          "DENVER Urban American Indian/Alaska Native",
          "DENVER Urban American Indian/Alaska Native",
          "DENVER Urban American Indian/Alaska Native",
          "DENVER Urban American Indian/Alaska Native",
          "DENVER Urban American Indian/Alaska Native",
          "DENVER Urban American Indian/Alaska Native",
          "DENVER Urban American Indian/Alaska Native",
          "DENVER Urban American Indian/Alaska Native",
          "DENVER Urban American Indian/Alaska Native",
          "DENVER Urban American Indian/Alaska Native",
          "DENVER Urban American Indian/Alaska Native",
          "DENVER Urban American Indian/Alaska Native",
          "DENVER Urban American Indian/Alaska Native",
          "DENVER Urban American Indian/Alaska Native",
          "DENVER Urban American Indian/Alaska Native",
          "DENVER Urban American Indian/Alaska Native",
          "DENVER Urban American Indian/Alaska Native",
          "DENVER Urban American Indian/Alaska Native"
         ],
         "xaxis": "x",
         "y": [
          0,
          1,
          1,
          1,
          1,
          1,
          1,
          1,
          0,
          1,
          1,
          1,
          1,
          null,
          1,
          1,
          1,
          1,
          1,
          1,
          1,
          1,
          1,
          1,
          1,
          1,
          1,
          1,
          1,
          1,
          1,
          1,
          1,
          1,
          1,
          1,
          0,
          1,
          1,
          1,
          1,
          1,
          1,
          1,
          1,
          1,
          1,
          1,
          1,
          1,
          1,
          1,
          1,
          1,
          1,
          1,
          1,
          1,
          0,
          1,
          1
         ],
         "yaxis": "y"
        }
       ],
       "layout": {
        "barmode": "relative",
        "legend": {
         "title": {
          "text": "Community"
         },
         "tracegroupgap": 0
        },
        "template": {
         "data": {
          "bar": [
           {
            "error_x": {
             "color": "#2a3f5f"
            },
            "error_y": {
             "color": "#2a3f5f"
            },
            "marker": {
             "line": {
              "color": "#E5ECF6",
              "width": 0.5
             },
             "pattern": {
              "fillmode": "overlay",
              "size": 10,
              "solidity": 0.2
             }
            },
            "type": "bar"
           }
          ],
          "barpolar": [
           {
            "marker": {
             "line": {
              "color": "#E5ECF6",
              "width": 0.5
             },
             "pattern": {
              "fillmode": "overlay",
              "size": 10,
              "solidity": 0.2
             }
            },
            "type": "barpolar"
           }
          ],
          "carpet": [
           {
            "aaxis": {
             "endlinecolor": "#2a3f5f",
             "gridcolor": "white",
             "linecolor": "white",
             "minorgridcolor": "white",
             "startlinecolor": "#2a3f5f"
            },
            "baxis": {
             "endlinecolor": "#2a3f5f",
             "gridcolor": "white",
             "linecolor": "white",
             "minorgridcolor": "white",
             "startlinecolor": "#2a3f5f"
            },
            "type": "carpet"
           }
          ],
          "choropleth": [
           {
            "colorbar": {
             "outlinewidth": 0,
             "ticks": ""
            },
            "type": "choropleth"
           }
          ],
          "contour": [
           {
            "colorbar": {
             "outlinewidth": 0,
             "ticks": ""
            },
            "colorscale": [
             [
              0,
              "#0d0887"
             ],
             [
              0.1111111111111111,
              "#46039f"
             ],
             [
              0.2222222222222222,
              "#7201a8"
             ],
             [
              0.3333333333333333,
              "#9c179e"
             ],
             [
              0.4444444444444444,
              "#bd3786"
             ],
             [
              0.5555555555555556,
              "#d8576b"
             ],
             [
              0.6666666666666666,
              "#ed7953"
             ],
             [
              0.7777777777777778,
              "#fb9f3a"
             ],
             [
              0.8888888888888888,
              "#fdca26"
             ],
             [
              1,
              "#f0f921"
             ]
            ],
            "type": "contour"
           }
          ],
          "contourcarpet": [
           {
            "colorbar": {
             "outlinewidth": 0,
             "ticks": ""
            },
            "type": "contourcarpet"
           }
          ],
          "heatmap": [
           {
            "colorbar": {
             "outlinewidth": 0,
             "ticks": ""
            },
            "colorscale": [
             [
              0,
              "#0d0887"
             ],
             [
              0.1111111111111111,
              "#46039f"
             ],
             [
              0.2222222222222222,
              "#7201a8"
             ],
             [
              0.3333333333333333,
              "#9c179e"
             ],
             [
              0.4444444444444444,
              "#bd3786"
             ],
             [
              0.5555555555555556,
              "#d8576b"
             ],
             [
              0.6666666666666666,
              "#ed7953"
             ],
             [
              0.7777777777777778,
              "#fb9f3a"
             ],
             [
              0.8888888888888888,
              "#fdca26"
             ],
             [
              1,
              "#f0f921"
             ]
            ],
            "type": "heatmap"
           }
          ],
          "heatmapgl": [
           {
            "colorbar": {
             "outlinewidth": 0,
             "ticks": ""
            },
            "colorscale": [
             [
              0,
              "#0d0887"
             ],
             [
              0.1111111111111111,
              "#46039f"
             ],
             [
              0.2222222222222222,
              "#7201a8"
             ],
             [
              0.3333333333333333,
              "#9c179e"
             ],
             [
              0.4444444444444444,
              "#bd3786"
             ],
             [
              0.5555555555555556,
              "#d8576b"
             ],
             [
              0.6666666666666666,
              "#ed7953"
             ],
             [
              0.7777777777777778,
              "#fb9f3a"
             ],
             [
              0.8888888888888888,
              "#fdca26"
             ],
             [
              1,
              "#f0f921"
             ]
            ],
            "type": "heatmapgl"
           }
          ],
          "histogram": [
           {
            "marker": {
             "pattern": {
              "fillmode": "overlay",
              "size": 10,
              "solidity": 0.2
             }
            },
            "type": "histogram"
           }
          ],
          "histogram2d": [
           {
            "colorbar": {
             "outlinewidth": 0,
             "ticks": ""
            },
            "colorscale": [
             [
              0,
              "#0d0887"
             ],
             [
              0.1111111111111111,
              "#46039f"
             ],
             [
              0.2222222222222222,
              "#7201a8"
             ],
             [
              0.3333333333333333,
              "#9c179e"
             ],
             [
              0.4444444444444444,
              "#bd3786"
             ],
             [
              0.5555555555555556,
              "#d8576b"
             ],
             [
              0.6666666666666666,
              "#ed7953"
             ],
             [
              0.7777777777777778,
              "#fb9f3a"
             ],
             [
              0.8888888888888888,
              "#fdca26"
             ],
             [
              1,
              "#f0f921"
             ]
            ],
            "type": "histogram2d"
           }
          ],
          "histogram2dcontour": [
           {
            "colorbar": {
             "outlinewidth": 0,
             "ticks": ""
            },
            "colorscale": [
             [
              0,
              "#0d0887"
             ],
             [
              0.1111111111111111,
              "#46039f"
             ],
             [
              0.2222222222222222,
              "#7201a8"
             ],
             [
              0.3333333333333333,
              "#9c179e"
             ],
             [
              0.4444444444444444,
              "#bd3786"
             ],
             [
              0.5555555555555556,
              "#d8576b"
             ],
             [
              0.6666666666666666,
              "#ed7953"
             ],
             [
              0.7777777777777778,
              "#fb9f3a"
             ],
             [
              0.8888888888888888,
              "#fdca26"
             ],
             [
              1,
              "#f0f921"
             ]
            ],
            "type": "histogram2dcontour"
           }
          ],
          "mesh3d": [
           {
            "colorbar": {
             "outlinewidth": 0,
             "ticks": ""
            },
            "type": "mesh3d"
           }
          ],
          "parcoords": [
           {
            "line": {
             "colorbar": {
              "outlinewidth": 0,
              "ticks": ""
             }
            },
            "type": "parcoords"
           }
          ],
          "pie": [
           {
            "automargin": true,
            "type": "pie"
           }
          ],
          "scatter": [
           {
            "fillpattern": {
             "fillmode": "overlay",
             "size": 10,
             "solidity": 0.2
            },
            "type": "scatter"
           }
          ],
          "scatter3d": [
           {
            "line": {
             "colorbar": {
              "outlinewidth": 0,
              "ticks": ""
             }
            },
            "marker": {
             "colorbar": {
              "outlinewidth": 0,
              "ticks": ""
             }
            },
            "type": "scatter3d"
           }
          ],
          "scattercarpet": [
           {
            "marker": {
             "colorbar": {
              "outlinewidth": 0,
              "ticks": ""
             }
            },
            "type": "scattercarpet"
           }
          ],
          "scattergeo": [
           {
            "marker": {
             "colorbar": {
              "outlinewidth": 0,
              "ticks": ""
             }
            },
            "type": "scattergeo"
           }
          ],
          "scattergl": [
           {
            "marker": {
             "colorbar": {
              "outlinewidth": 0,
              "ticks": ""
             }
            },
            "type": "scattergl"
           }
          ],
          "scattermapbox": [
           {
            "marker": {
             "colorbar": {
              "outlinewidth": 0,
              "ticks": ""
             }
            },
            "type": "scattermapbox"
           }
          ],
          "scatterpolar": [
           {
            "marker": {
             "colorbar": {
              "outlinewidth": 0,
              "ticks": ""
             }
            },
            "type": "scatterpolar"
           }
          ],
          "scatterpolargl": [
           {
            "marker": {
             "colorbar": {
              "outlinewidth": 0,
              "ticks": ""
             }
            },
            "type": "scatterpolargl"
           }
          ],
          "scatterternary": [
           {
            "marker": {
             "colorbar": {
              "outlinewidth": 0,
              "ticks": ""
             }
            },
            "type": "scatterternary"
           }
          ],
          "surface": [
           {
            "colorbar": {
             "outlinewidth": 0,
             "ticks": ""
            },
            "colorscale": [
             [
              0,
              "#0d0887"
             ],
             [
              0.1111111111111111,
              "#46039f"
             ],
             [
              0.2222222222222222,
              "#7201a8"
             ],
             [
              0.3333333333333333,
              "#9c179e"
             ],
             [
              0.4444444444444444,
              "#bd3786"
             ],
             [
              0.5555555555555556,
              "#d8576b"
             ],
             [
              0.6666666666666666,
              "#ed7953"
             ],
             [
              0.7777777777777778,
              "#fb9f3a"
             ],
             [
              0.8888888888888888,
              "#fdca26"
             ],
             [
              1,
              "#f0f921"
             ]
            ],
            "type": "surface"
           }
          ],
          "table": [
           {
            "cells": {
             "fill": {
              "color": "#EBF0F8"
             },
             "line": {
              "color": "white"
             }
            },
            "header": {
             "fill": {
              "color": "#C8D4E3"
             },
             "line": {
              "color": "white"
             }
            },
            "type": "table"
           }
          ]
         },
         "layout": {
          "annotationdefaults": {
           "arrowcolor": "#2a3f5f",
           "arrowhead": 0,
           "arrowwidth": 1
          },
          "autotypenumbers": "strict",
          "coloraxis": {
           "colorbar": {
            "outlinewidth": 0,
            "ticks": ""
           }
          },
          "colorscale": {
           "diverging": [
            [
             0,
             "#8e0152"
            ],
            [
             0.1,
             "#c51b7d"
            ],
            [
             0.2,
             "#de77ae"
            ],
            [
             0.3,
             "#f1b6da"
            ],
            [
             0.4,
             "#fde0ef"
            ],
            [
             0.5,
             "#f7f7f7"
            ],
            [
             0.6,
             "#e6f5d0"
            ],
            [
             0.7,
             "#b8e186"
            ],
            [
             0.8,
             "#7fbc41"
            ],
            [
             0.9,
             "#4d9221"
            ],
            [
             1,
             "#276419"
            ]
           ],
           "sequential": [
            [
             0,
             "#0d0887"
            ],
            [
             0.1111111111111111,
             "#46039f"
            ],
            [
             0.2222222222222222,
             "#7201a8"
            ],
            [
             0.3333333333333333,
             "#9c179e"
            ],
            [
             0.4444444444444444,
             "#bd3786"
            ],
            [
             0.5555555555555556,
             "#d8576b"
            ],
            [
             0.6666666666666666,
             "#ed7953"
            ],
            [
             0.7777777777777778,
             "#fb9f3a"
            ],
            [
             0.8888888888888888,
             "#fdca26"
            ],
            [
             1,
             "#f0f921"
            ]
           ],
           "sequentialminus": [
            [
             0,
             "#0d0887"
            ],
            [
             0.1111111111111111,
             "#46039f"
            ],
            [
             0.2222222222222222,
             "#7201a8"
            ],
            [
             0.3333333333333333,
             "#9c179e"
            ],
            [
             0.4444444444444444,
             "#bd3786"
            ],
            [
             0.5555555555555556,
             "#d8576b"
            ],
            [
             0.6666666666666666,
             "#ed7953"
            ],
            [
             0.7777777777777778,
             "#fb9f3a"
            ],
            [
             0.8888888888888888,
             "#fdca26"
            ],
            [
             1,
             "#f0f921"
            ]
           ]
          },
          "colorway": [
           "#636efa",
           "#EF553B",
           "#00cc96",
           "#ab63fa",
           "#FFA15A",
           "#19d3f3",
           "#FF6692",
           "#B6E880",
           "#FF97FF",
           "#FECB52"
          ],
          "font": {
           "color": "#2a3f5f"
          },
          "geo": {
           "bgcolor": "white",
           "lakecolor": "white",
           "landcolor": "#E5ECF6",
           "showlakes": true,
           "showland": true,
           "subunitcolor": "white"
          },
          "hoverlabel": {
           "align": "left"
          },
          "hovermode": "closest",
          "mapbox": {
           "style": "light"
          },
          "paper_bgcolor": "white",
          "plot_bgcolor": "#E5ECF6",
          "polar": {
           "angularaxis": {
            "gridcolor": "white",
            "linecolor": "white",
            "ticks": ""
           },
           "bgcolor": "#E5ECF6",
           "radialaxis": {
            "gridcolor": "white",
            "linecolor": "white",
            "ticks": ""
           }
          },
          "scene": {
           "xaxis": {
            "backgroundcolor": "#E5ECF6",
            "gridcolor": "white",
            "gridwidth": 2,
            "linecolor": "white",
            "showbackground": true,
            "ticks": "",
            "zerolinecolor": "white"
           },
           "yaxis": {
            "backgroundcolor": "#E5ECF6",
            "gridcolor": "white",
            "gridwidth": 2,
            "linecolor": "white",
            "showbackground": true,
            "ticks": "",
            "zerolinecolor": "white"
           },
           "zaxis": {
            "backgroundcolor": "#E5ECF6",
            "gridcolor": "white",
            "gridwidth": 2,
            "linecolor": "white",
            "showbackground": true,
            "ticks": "",
            "zerolinecolor": "white"
           }
          },
          "shapedefaults": {
           "line": {
            "color": "#2a3f5f"
           }
          },
          "ternary": {
           "aaxis": {
            "gridcolor": "white",
            "linecolor": "white",
            "ticks": ""
           },
           "baxis": {
            "gridcolor": "white",
            "linecolor": "white",
            "ticks": ""
           },
           "bgcolor": "#E5ECF6",
           "caxis": {
            "gridcolor": "white",
            "linecolor": "white",
            "ticks": ""
           }
          },
          "title": {
           "x": 0.05
          },
          "xaxis": {
           "automargin": true,
           "gridcolor": "white",
           "linecolor": "white",
           "ticks": "",
           "title": {
            "standoff": 15
           },
           "zerolinecolor": "white",
           "zerolinewidth": 2
          },
          "yaxis": {
           "automargin": true,
           "gridcolor": "white",
           "linecolor": "white",
           "ticks": "",
           "title": {
            "standoff": 15
           },
           "zerolinecolor": "white",
           "zerolinewidth": 2
          }
         }
        },
        "title": {
         "text": "Difference Between Categories"
        },
        "xaxis": {
         "anchor": "y",
         "categoryarray": [
          "PUEBLO Urban Latina/o/x",
          "DENVER Urban AA/Black",
          "SLV Rural Latina/o/x",
          "FT MORGAN/GREELEY Rural AA/Black",
          "DENVER Urban Latina/o/x",
          "DENVER Urban American Indian/Alaska Native"
         ],
         "categoryorder": "array",
         "domain": [
          0,
          1
         ],
         "title": {
          "text": "Community"
         }
        },
        "yaxis": {
         "anchor": "x",
         "domain": [
          0,
          1
         ],
         "title": {
          "text": "ceal_testbehavior"
         }
        }
       }
      }
     },
     "metadata": {},
     "output_type": "display_data"
    }
   ],
   "source": [
    "fig = px.bar(wave2_df, x='Community', y='ceal_testbehavior', color='Community', title='Difference Between Categories')\n",
    "\n",
    "fig.update_layout(xaxis_title='Community', yaxis_title='ceal_testbehavior')\n",
    "fig.show()"
   ]
  },
  {
   "cell_type": "code",
   "execution_count": 135,
   "metadata": {},
   "outputs": [
    {
     "data": {
      "text/plain": [
       "0      78.000000\n",
       "1      80.327869\n",
       "2      80.327869\n",
       "3      80.327869\n",
       "4      81.347150\n",
       "         ...    \n",
       "864    80.327869\n",
       "865    78.000000\n",
       "866    80.327869\n",
       "867    81.347150\n",
       "868    80.327869\n",
       "Name: ceal_testbehavior, Length: 869, dtype: float64"
      ]
     },
     "execution_count": 135,
     "metadata": {},
     "output_type": "execute_result"
    }
   ],
   "source": [
    "(wave2_df.groupby('Community')['ceal_testbehavior'].transform('sum') / wave2_df.groupby('Community')['ceal_testbehavior'].transform('count')) * 100"
   ]
  },
  {
   "cell_type": "code",
   "execution_count": 141,
   "metadata": {},
   "outputs": [
    {
     "data": {
      "text/html": [
       "<div>\n",
       "<style scoped>\n",
       "    .dataframe tbody tr th:only-of-type {\n",
       "        vertical-align: middle;\n",
       "    }\n",
       "\n",
       "    .dataframe tbody tr th {\n",
       "        vertical-align: top;\n",
       "    }\n",
       "\n",
       "    .dataframe thead th {\n",
       "        text-align: right;\n",
       "    }\n",
       "</style>\n",
       "<table border=\"1\" class=\"dataframe\">\n",
       "  <thead>\n",
       "    <tr style=\"text-align: right;\">\n",
       "      <th></th>\n",
       "      <th>Community</th>\n",
       "      <th>ceal_testbehavior_percentage</th>\n",
       "    </tr>\n",
       "  </thead>\n",
       "  <tbody>\n",
       "    <tr>\n",
       "      <th>0</th>\n",
       "      <td>PUEBLO Urban Latina/o/x</td>\n",
       "      <td>78.000000</td>\n",
       "    </tr>\n",
       "    <tr>\n",
       "      <th>1</th>\n",
       "      <td>DENVER Urban AA/Black</td>\n",
       "      <td>80.327869</td>\n",
       "    </tr>\n",
       "    <tr>\n",
       "      <th>4</th>\n",
       "      <td>SLV Rural Latina/o/x</td>\n",
       "      <td>81.347150</td>\n",
       "    </tr>\n",
       "    <tr>\n",
       "      <th>9</th>\n",
       "      <td>FT MORGAN/GREELEY Rural AA/Black</td>\n",
       "      <td>37.016575</td>\n",
       "    </tr>\n",
       "    <tr>\n",
       "      <th>15</th>\n",
       "      <td>DENVER Urban Latina/o/x</td>\n",
       "      <td>85.915493</td>\n",
       "    </tr>\n",
       "    <tr>\n",
       "      <th>69</th>\n",
       "      <td>DENVER Urban American Indian/Alaska Native</td>\n",
       "      <td>93.333333</td>\n",
       "    </tr>\n",
       "  </tbody>\n",
       "</table>\n",
       "</div>"
      ],
      "text/plain": [
       "                                     Community  ceal_testbehavior_percentage\n",
       "0                      PUEBLO Urban Latina/o/x                     78.000000\n",
       "1                        DENVER Urban AA/Black                     80.327869\n",
       "4                         SLV Rural Latina/o/x                     81.347150\n",
       "9             FT MORGAN/GREELEY Rural AA/Black                     37.016575\n",
       "15                     DENVER Urban Latina/o/x                     85.915493\n",
       "69  DENVER Urban American Indian/Alaska Native                     93.333333"
      ]
     },
     "execution_count": 141,
     "metadata": {},
     "output_type": "execute_result"
    }
   ],
   "source": [
    "wave2_df[['Community','ceal_testbehavior_percentage']].drop_duplicates()"
   ]
  },
  {
   "cell_type": "code",
   "execution_count": 146,
   "metadata": {},
   "outputs": [
    {
     "data": {
      "text/html": [
       "<div>\n",
       "<style scoped>\n",
       "    .dataframe tbody tr th:only-of-type {\n",
       "        vertical-align: middle;\n",
       "    }\n",
       "\n",
       "    .dataframe tbody tr th {\n",
       "        vertical-align: top;\n",
       "    }\n",
       "\n",
       "    .dataframe thead th {\n",
       "        text-align: right;\n",
       "    }\n",
       "</style>\n",
       "<table border=\"1\" class=\"dataframe\">\n",
       "  <thead>\n",
       "    <tr style=\"text-align: right;\">\n",
       "      <th></th>\n",
       "      <th>Community</th>\n",
       "      <th>ceal_testbehavior</th>\n",
       "      <th>ceal_testbehavior_percentage</th>\n",
       "      <th>ceal_testbehavior_count</th>\n",
       "      <th>community_count</th>\n",
       "    </tr>\n",
       "  </thead>\n",
       "  <tbody>\n",
       "    <tr>\n",
       "      <th>0</th>\n",
       "      <td>PUEBLO Urban Latina/o/x</td>\n",
       "      <td>1.0</td>\n",
       "      <td>78.0</td>\n",
       "      <td>78.0</td>\n",
       "      <td>100</td>\n",
       "    </tr>\n",
       "    <tr>\n",
       "      <th>1</th>\n",
       "      <td>DENVER Urban AA/Black</td>\n",
       "      <td>1.0</td>\n",
       "      <td>80.3</td>\n",
       "      <td>147.0</td>\n",
       "      <td>183</td>\n",
       "    </tr>\n",
       "    <tr>\n",
       "      <th>2</th>\n",
       "      <td>DENVER Urban AA/Black</td>\n",
       "      <td>0.0</td>\n",
       "      <td>80.3</td>\n",
       "      <td>147.0</td>\n",
       "      <td>183</td>\n",
       "    </tr>\n",
       "    <tr>\n",
       "      <th>4</th>\n",
       "      <td>SLV Rural Latina/o/x</td>\n",
       "      <td>1.0</td>\n",
       "      <td>81.3</td>\n",
       "      <td>157.0</td>\n",
       "      <td>193</td>\n",
       "    </tr>\n",
       "    <tr>\n",
       "      <th>5</th>\n",
       "      <td>SLV Rural Latina/o/x</td>\n",
       "      <td>0.0</td>\n",
       "      <td>81.3</td>\n",
       "      <td>157.0</td>\n",
       "      <td>193</td>\n",
       "    </tr>\n",
       "    <tr>\n",
       "      <th>9</th>\n",
       "      <td>FT MORGAN/GREELEY Rural AA/Black</td>\n",
       "      <td>0.0</td>\n",
       "      <td>37.0</td>\n",
       "      <td>67.0</td>\n",
       "      <td>181</td>\n",
       "    </tr>\n",
       "    <tr>\n",
       "      <th>10</th>\n",
       "      <td>FT MORGAN/GREELEY Rural AA/Black</td>\n",
       "      <td>NaN</td>\n",
       "      <td>37.0</td>\n",
       "      <td>67.0</td>\n",
       "      <td>181</td>\n",
       "    </tr>\n",
       "    <tr>\n",
       "      <th>15</th>\n",
       "      <td>DENVER Urban Latina/o/x</td>\n",
       "      <td>1.0</td>\n",
       "      <td>85.9</td>\n",
       "      <td>122.0</td>\n",
       "      <td>142</td>\n",
       "    </tr>\n",
       "    <tr>\n",
       "      <th>23</th>\n",
       "      <td>DENVER Urban Latina/o/x</td>\n",
       "      <td>0.0</td>\n",
       "      <td>85.9</td>\n",
       "      <td>122.0</td>\n",
       "      <td>142</td>\n",
       "    </tr>\n",
       "    <tr>\n",
       "      <th>38</th>\n",
       "      <td>FT MORGAN/GREELEY Rural AA/Black</td>\n",
       "      <td>1.0</td>\n",
       "      <td>37.0</td>\n",
       "      <td>67.0</td>\n",
       "      <td>181</td>\n",
       "    </tr>\n",
       "    <tr>\n",
       "      <th>50</th>\n",
       "      <td>PUEBLO Urban Latina/o/x</td>\n",
       "      <td>0.0</td>\n",
       "      <td>78.0</td>\n",
       "      <td>78.0</td>\n",
       "      <td>100</td>\n",
       "    </tr>\n",
       "    <tr>\n",
       "      <th>69</th>\n",
       "      <td>DENVER Urban American Indian/Alaska Native</td>\n",
       "      <td>0.0</td>\n",
       "      <td>93.3</td>\n",
       "      <td>56.0</td>\n",
       "      <td>60</td>\n",
       "    </tr>\n",
       "    <tr>\n",
       "      <th>70</th>\n",
       "      <td>DENVER Urban American Indian/Alaska Native</td>\n",
       "      <td>1.0</td>\n",
       "      <td>93.3</td>\n",
       "      <td>56.0</td>\n",
       "      <td>60</td>\n",
       "    </tr>\n",
       "    <tr>\n",
       "      <th>79</th>\n",
       "      <td>DENVER Urban AA/Black</td>\n",
       "      <td>NaN</td>\n",
       "      <td>80.3</td>\n",
       "      <td>147.0</td>\n",
       "      <td>183</td>\n",
       "    </tr>\n",
       "    <tr>\n",
       "      <th>204</th>\n",
       "      <td>SLV Rural Latina/o/x</td>\n",
       "      <td>NaN</td>\n",
       "      <td>81.3</td>\n",
       "      <td>157.0</td>\n",
       "      <td>193</td>\n",
       "    </tr>\n",
       "    <tr>\n",
       "      <th>354</th>\n",
       "      <td>DENVER Urban American Indian/Alaska Native</td>\n",
       "      <td>NaN</td>\n",
       "      <td>93.3</td>\n",
       "      <td>56.0</td>\n",
       "      <td>60</td>\n",
       "    </tr>\n",
       "  </tbody>\n",
       "</table>\n",
       "</div>"
      ],
      "text/plain": [
       "                                      Community  ceal_testbehavior  \\\n",
       "0                       PUEBLO Urban Latina/o/x                1.0   \n",
       "1                         DENVER Urban AA/Black                1.0   \n",
       "2                         DENVER Urban AA/Black                0.0   \n",
       "4                          SLV Rural Latina/o/x                1.0   \n",
       "5                          SLV Rural Latina/o/x                0.0   \n",
       "9              FT MORGAN/GREELEY Rural AA/Black                0.0   \n",
       "10             FT MORGAN/GREELEY Rural AA/Black                NaN   \n",
       "15                      DENVER Urban Latina/o/x                1.0   \n",
       "23                      DENVER Urban Latina/o/x                0.0   \n",
       "38             FT MORGAN/GREELEY Rural AA/Black                1.0   \n",
       "50                      PUEBLO Urban Latina/o/x                0.0   \n",
       "69   DENVER Urban American Indian/Alaska Native                0.0   \n",
       "70   DENVER Urban American Indian/Alaska Native                1.0   \n",
       "79                        DENVER Urban AA/Black                NaN   \n",
       "204                        SLV Rural Latina/o/x                NaN   \n",
       "354  DENVER Urban American Indian/Alaska Native                NaN   \n",
       "\n",
       "     ceal_testbehavior_percentage  ceal_testbehavior_count  community_count  \n",
       "0                            78.0                     78.0              100  \n",
       "1                            80.3                    147.0              183  \n",
       "2                            80.3                    147.0              183  \n",
       "4                            81.3                    157.0              193  \n",
       "5                            81.3                    157.0              193  \n",
       "9                            37.0                     67.0              181  \n",
       "10                           37.0                     67.0              181  \n",
       "15                           85.9                    122.0              142  \n",
       "23                           85.9                    122.0              142  \n",
       "38                           37.0                     67.0              181  \n",
       "50                           78.0                     78.0              100  \n",
       "69                           93.3                     56.0               60  \n",
       "70                           93.3                     56.0               60  \n",
       "79                           80.3                    147.0              183  \n",
       "204                          81.3                    157.0              193  \n",
       "354                          93.3                     56.0               60  "
      ]
     },
     "execution_count": 146,
     "metadata": {},
     "output_type": "execute_result"
    }
   ],
   "source": [
    "temp_df"
   ]
  },
  {
   "cell_type": "code",
   "execution_count": 147,
   "metadata": {},
   "outputs": [
    {
     "data": {
      "application/vnd.plotly.v1+json": {
       "config": {
        "plotlyServerURL": "https://plot.ly"
       },
       "data": [
        {
         "alignmentgroup": "True",
         "hovertemplate": "Community=%{x}<br>ceal_testbehavior_percentage=%{y}<extra></extra>",
         "legendgroup": "",
         "marker": {
          "color": "#636efa",
          "pattern": {
           "shape": ""
          }
         },
         "name": "",
         "offsetgroup": "",
         "orientation": "v",
         "showlegend": false,
         "textposition": "auto",
         "type": "bar",
         "x": [
          "PUEBLO Urban Latina/o/x",
          "DENVER Urban AA/Black",
          "SLV Rural Latina/o/x",
          "FT MORGAN/GREELEY Rural AA/Black",
          "DENVER Urban Latina/o/x",
          "DENVER Urban American Indian/Alaska Native"
         ],
         "xaxis": "x",
         "y": [
          78,
          80.3,
          81.3,
          37,
          85.9,
          93.3
         ],
         "yaxis": "y"
        }
       ],
       "layout": {
        "barmode": "relative",
        "legend": {
         "tracegroupgap": 0
        },
        "template": {
         "data": {
          "bar": [
           {
            "error_x": {
             "color": "#2a3f5f"
            },
            "error_y": {
             "color": "#2a3f5f"
            },
            "marker": {
             "line": {
              "color": "#E5ECF6",
              "width": 0.5
             },
             "pattern": {
              "fillmode": "overlay",
              "size": 10,
              "solidity": 0.2
             }
            },
            "type": "bar"
           }
          ],
          "barpolar": [
           {
            "marker": {
             "line": {
              "color": "#E5ECF6",
              "width": 0.5
             },
             "pattern": {
              "fillmode": "overlay",
              "size": 10,
              "solidity": 0.2
             }
            },
            "type": "barpolar"
           }
          ],
          "carpet": [
           {
            "aaxis": {
             "endlinecolor": "#2a3f5f",
             "gridcolor": "white",
             "linecolor": "white",
             "minorgridcolor": "white",
             "startlinecolor": "#2a3f5f"
            },
            "baxis": {
             "endlinecolor": "#2a3f5f",
             "gridcolor": "white",
             "linecolor": "white",
             "minorgridcolor": "white",
             "startlinecolor": "#2a3f5f"
            },
            "type": "carpet"
           }
          ],
          "choropleth": [
           {
            "colorbar": {
             "outlinewidth": 0,
             "ticks": ""
            },
            "type": "choropleth"
           }
          ],
          "contour": [
           {
            "colorbar": {
             "outlinewidth": 0,
             "ticks": ""
            },
            "colorscale": [
             [
              0,
              "#0d0887"
             ],
             [
              0.1111111111111111,
              "#46039f"
             ],
             [
              0.2222222222222222,
              "#7201a8"
             ],
             [
              0.3333333333333333,
              "#9c179e"
             ],
             [
              0.4444444444444444,
              "#bd3786"
             ],
             [
              0.5555555555555556,
              "#d8576b"
             ],
             [
              0.6666666666666666,
              "#ed7953"
             ],
             [
              0.7777777777777778,
              "#fb9f3a"
             ],
             [
              0.8888888888888888,
              "#fdca26"
             ],
             [
              1,
              "#f0f921"
             ]
            ],
            "type": "contour"
           }
          ],
          "contourcarpet": [
           {
            "colorbar": {
             "outlinewidth": 0,
             "ticks": ""
            },
            "type": "contourcarpet"
           }
          ],
          "heatmap": [
           {
            "colorbar": {
             "outlinewidth": 0,
             "ticks": ""
            },
            "colorscale": [
             [
              0,
              "#0d0887"
             ],
             [
              0.1111111111111111,
              "#46039f"
             ],
             [
              0.2222222222222222,
              "#7201a8"
             ],
             [
              0.3333333333333333,
              "#9c179e"
             ],
             [
              0.4444444444444444,
              "#bd3786"
             ],
             [
              0.5555555555555556,
              "#d8576b"
             ],
             [
              0.6666666666666666,
              "#ed7953"
             ],
             [
              0.7777777777777778,
              "#fb9f3a"
             ],
             [
              0.8888888888888888,
              "#fdca26"
             ],
             [
              1,
              "#f0f921"
             ]
            ],
            "type": "heatmap"
           }
          ],
          "heatmapgl": [
           {
            "colorbar": {
             "outlinewidth": 0,
             "ticks": ""
            },
            "colorscale": [
             [
              0,
              "#0d0887"
             ],
             [
              0.1111111111111111,
              "#46039f"
             ],
             [
              0.2222222222222222,
              "#7201a8"
             ],
             [
              0.3333333333333333,
              "#9c179e"
             ],
             [
              0.4444444444444444,
              "#bd3786"
             ],
             [
              0.5555555555555556,
              "#d8576b"
             ],
             [
              0.6666666666666666,
              "#ed7953"
             ],
             [
              0.7777777777777778,
              "#fb9f3a"
             ],
             [
              0.8888888888888888,
              "#fdca26"
             ],
             [
              1,
              "#f0f921"
             ]
            ],
            "type": "heatmapgl"
           }
          ],
          "histogram": [
           {
            "marker": {
             "pattern": {
              "fillmode": "overlay",
              "size": 10,
              "solidity": 0.2
             }
            },
            "type": "histogram"
           }
          ],
          "histogram2d": [
           {
            "colorbar": {
             "outlinewidth": 0,
             "ticks": ""
            },
            "colorscale": [
             [
              0,
              "#0d0887"
             ],
             [
              0.1111111111111111,
              "#46039f"
             ],
             [
              0.2222222222222222,
              "#7201a8"
             ],
             [
              0.3333333333333333,
              "#9c179e"
             ],
             [
              0.4444444444444444,
              "#bd3786"
             ],
             [
              0.5555555555555556,
              "#d8576b"
             ],
             [
              0.6666666666666666,
              "#ed7953"
             ],
             [
              0.7777777777777778,
              "#fb9f3a"
             ],
             [
              0.8888888888888888,
              "#fdca26"
             ],
             [
              1,
              "#f0f921"
             ]
            ],
            "type": "histogram2d"
           }
          ],
          "histogram2dcontour": [
           {
            "colorbar": {
             "outlinewidth": 0,
             "ticks": ""
            },
            "colorscale": [
             [
              0,
              "#0d0887"
             ],
             [
              0.1111111111111111,
              "#46039f"
             ],
             [
              0.2222222222222222,
              "#7201a8"
             ],
             [
              0.3333333333333333,
              "#9c179e"
             ],
             [
              0.4444444444444444,
              "#bd3786"
             ],
             [
              0.5555555555555556,
              "#d8576b"
             ],
             [
              0.6666666666666666,
              "#ed7953"
             ],
             [
              0.7777777777777778,
              "#fb9f3a"
             ],
             [
              0.8888888888888888,
              "#fdca26"
             ],
             [
              1,
              "#f0f921"
             ]
            ],
            "type": "histogram2dcontour"
           }
          ],
          "mesh3d": [
           {
            "colorbar": {
             "outlinewidth": 0,
             "ticks": ""
            },
            "type": "mesh3d"
           }
          ],
          "parcoords": [
           {
            "line": {
             "colorbar": {
              "outlinewidth": 0,
              "ticks": ""
             }
            },
            "type": "parcoords"
           }
          ],
          "pie": [
           {
            "automargin": true,
            "type": "pie"
           }
          ],
          "scatter": [
           {
            "fillpattern": {
             "fillmode": "overlay",
             "size": 10,
             "solidity": 0.2
            },
            "type": "scatter"
           }
          ],
          "scatter3d": [
           {
            "line": {
             "colorbar": {
              "outlinewidth": 0,
              "ticks": ""
             }
            },
            "marker": {
             "colorbar": {
              "outlinewidth": 0,
              "ticks": ""
             }
            },
            "type": "scatter3d"
           }
          ],
          "scattercarpet": [
           {
            "marker": {
             "colorbar": {
              "outlinewidth": 0,
              "ticks": ""
             }
            },
            "type": "scattercarpet"
           }
          ],
          "scattergeo": [
           {
            "marker": {
             "colorbar": {
              "outlinewidth": 0,
              "ticks": ""
             }
            },
            "type": "scattergeo"
           }
          ],
          "scattergl": [
           {
            "marker": {
             "colorbar": {
              "outlinewidth": 0,
              "ticks": ""
             }
            },
            "type": "scattergl"
           }
          ],
          "scattermapbox": [
           {
            "marker": {
             "colorbar": {
              "outlinewidth": 0,
              "ticks": ""
             }
            },
            "type": "scattermapbox"
           }
          ],
          "scatterpolar": [
           {
            "marker": {
             "colorbar": {
              "outlinewidth": 0,
              "ticks": ""
             }
            },
            "type": "scatterpolar"
           }
          ],
          "scatterpolargl": [
           {
            "marker": {
             "colorbar": {
              "outlinewidth": 0,
              "ticks": ""
             }
            },
            "type": "scatterpolargl"
           }
          ],
          "scatterternary": [
           {
            "marker": {
             "colorbar": {
              "outlinewidth": 0,
              "ticks": ""
             }
            },
            "type": "scatterternary"
           }
          ],
          "surface": [
           {
            "colorbar": {
             "outlinewidth": 0,
             "ticks": ""
            },
            "colorscale": [
             [
              0,
              "#0d0887"
             ],
             [
              0.1111111111111111,
              "#46039f"
             ],
             [
              0.2222222222222222,
              "#7201a8"
             ],
             [
              0.3333333333333333,
              "#9c179e"
             ],
             [
              0.4444444444444444,
              "#bd3786"
             ],
             [
              0.5555555555555556,
              "#d8576b"
             ],
             [
              0.6666666666666666,
              "#ed7953"
             ],
             [
              0.7777777777777778,
              "#fb9f3a"
             ],
             [
              0.8888888888888888,
              "#fdca26"
             ],
             [
              1,
              "#f0f921"
             ]
            ],
            "type": "surface"
           }
          ],
          "table": [
           {
            "cells": {
             "fill": {
              "color": "#EBF0F8"
             },
             "line": {
              "color": "white"
             }
            },
            "header": {
             "fill": {
              "color": "#C8D4E3"
             },
             "line": {
              "color": "white"
             }
            },
            "type": "table"
           }
          ]
         },
         "layout": {
          "annotationdefaults": {
           "arrowcolor": "#2a3f5f",
           "arrowhead": 0,
           "arrowwidth": 1
          },
          "autotypenumbers": "strict",
          "coloraxis": {
           "colorbar": {
            "outlinewidth": 0,
            "ticks": ""
           }
          },
          "colorscale": {
           "diverging": [
            [
             0,
             "#8e0152"
            ],
            [
             0.1,
             "#c51b7d"
            ],
            [
             0.2,
             "#de77ae"
            ],
            [
             0.3,
             "#f1b6da"
            ],
            [
             0.4,
             "#fde0ef"
            ],
            [
             0.5,
             "#f7f7f7"
            ],
            [
             0.6,
             "#e6f5d0"
            ],
            [
             0.7,
             "#b8e186"
            ],
            [
             0.8,
             "#7fbc41"
            ],
            [
             0.9,
             "#4d9221"
            ],
            [
             1,
             "#276419"
            ]
           ],
           "sequential": [
            [
             0,
             "#0d0887"
            ],
            [
             0.1111111111111111,
             "#46039f"
            ],
            [
             0.2222222222222222,
             "#7201a8"
            ],
            [
             0.3333333333333333,
             "#9c179e"
            ],
            [
             0.4444444444444444,
             "#bd3786"
            ],
            [
             0.5555555555555556,
             "#d8576b"
            ],
            [
             0.6666666666666666,
             "#ed7953"
            ],
            [
             0.7777777777777778,
             "#fb9f3a"
            ],
            [
             0.8888888888888888,
             "#fdca26"
            ],
            [
             1,
             "#f0f921"
            ]
           ],
           "sequentialminus": [
            [
             0,
             "#0d0887"
            ],
            [
             0.1111111111111111,
             "#46039f"
            ],
            [
             0.2222222222222222,
             "#7201a8"
            ],
            [
             0.3333333333333333,
             "#9c179e"
            ],
            [
             0.4444444444444444,
             "#bd3786"
            ],
            [
             0.5555555555555556,
             "#d8576b"
            ],
            [
             0.6666666666666666,
             "#ed7953"
            ],
            [
             0.7777777777777778,
             "#fb9f3a"
            ],
            [
             0.8888888888888888,
             "#fdca26"
            ],
            [
             1,
             "#f0f921"
            ]
           ]
          },
          "colorway": [
           "#636efa",
           "#EF553B",
           "#00cc96",
           "#ab63fa",
           "#FFA15A",
           "#19d3f3",
           "#FF6692",
           "#B6E880",
           "#FF97FF",
           "#FECB52"
          ],
          "font": {
           "color": "#2a3f5f"
          },
          "geo": {
           "bgcolor": "white",
           "lakecolor": "white",
           "landcolor": "#E5ECF6",
           "showlakes": true,
           "showland": true,
           "subunitcolor": "white"
          },
          "hoverlabel": {
           "align": "left"
          },
          "hovermode": "closest",
          "mapbox": {
           "style": "light"
          },
          "paper_bgcolor": "white",
          "plot_bgcolor": "#E5ECF6",
          "polar": {
           "angularaxis": {
            "gridcolor": "white",
            "linecolor": "white",
            "ticks": ""
           },
           "bgcolor": "#E5ECF6",
           "radialaxis": {
            "gridcolor": "white",
            "linecolor": "white",
            "ticks": ""
           }
          },
          "scene": {
           "xaxis": {
            "backgroundcolor": "#E5ECF6",
            "gridcolor": "white",
            "gridwidth": 2,
            "linecolor": "white",
            "showbackground": true,
            "ticks": "",
            "zerolinecolor": "white"
           },
           "yaxis": {
            "backgroundcolor": "#E5ECF6",
            "gridcolor": "white",
            "gridwidth": 2,
            "linecolor": "white",
            "showbackground": true,
            "ticks": "",
            "zerolinecolor": "white"
           },
           "zaxis": {
            "backgroundcolor": "#E5ECF6",
            "gridcolor": "white",
            "gridwidth": 2,
            "linecolor": "white",
            "showbackground": true,
            "ticks": "",
            "zerolinecolor": "white"
           }
          },
          "shapedefaults": {
           "line": {
            "color": "#2a3f5f"
           }
          },
          "ternary": {
           "aaxis": {
            "gridcolor": "white",
            "linecolor": "white",
            "ticks": ""
           },
           "baxis": {
            "gridcolor": "white",
            "linecolor": "white",
            "ticks": ""
           },
           "bgcolor": "#E5ECF6",
           "caxis": {
            "gridcolor": "white",
            "linecolor": "white",
            "ticks": ""
           }
          },
          "title": {
           "x": 0.05
          },
          "xaxis": {
           "automargin": true,
           "gridcolor": "white",
           "linecolor": "white",
           "ticks": "",
           "title": {
            "standoff": 15
           },
           "zerolinecolor": "white",
           "zerolinewidth": 2
          },
          "yaxis": {
           "automargin": true,
           "gridcolor": "white",
           "linecolor": "white",
           "ticks": "",
           "title": {
            "standoff": 15
           },
           "zerolinecolor": "white",
           "zerolinewidth": 2
          }
         }
        },
        "title": {
         "text": "Difference Between Categories (Percentage)"
        },
        "xaxis": {
         "anchor": "y",
         "domain": [
          0,
          1
         ],
         "title": {
          "text": "Community"
         }
        },
        "yaxis": {
         "anchor": "x",
         "domain": [
          0,
          1
         ],
         "title": {
          "text": "Percentage of 1s"
         }
        }
       }
      }
     },
     "metadata": {},
     "output_type": "display_data"
    }
   ],
   "source": [
    "# Calculate the percentage of 1s in each category\n",
    "temp_df = wave2_df[['Community','ceal_testbehavior']].copy()\n",
    "temp_df['ceal_testbehavior_percentage'] = (temp_df.groupby('Community')['ceal_testbehavior'].transform('sum') / temp_df.groupby('Community')['ceal_testbehavior'].transform('count')) * 100\n",
    "temp_df['ceal_testbehavior_percentage'] = temp_df['ceal_testbehavior_percentage'].round(1)\n",
    "temp_df['ceal_testbehavior_count'] = temp_df.groupby('Community')['ceal_testbehavior'].transform('sum')\n",
    "temp_df['community_count'] = temp_df.groupby('Community')['ceal_testbehavior'].transform('count')\n",
    "temp_df.drop(columns=['ceal_testbehavior'],inplace=True)\n",
    "temp_df.drop_duplicates(inplace=True)\n",
    "# Create a bar chart\n",
    "fig = px.bar(temp_df, x='Community', y='ceal_testbehavior_percentage', title='Difference Between Categories (Percentage)')\n",
    "\n",
    "fig.update_layout(xaxis_title='Community', yaxis_title='Percentage of 1s')\n",
    "fig.show()"
   ]
  },
  {
   "cell_type": "code",
   "execution_count": 4,
   "metadata": {},
   "outputs": [],
   "source": [
    "columns_list = ['ceal_testbehavior','ceal2_testpositive']\n",
    "columns_list_new = ['% tested for COVID','% tested positive for COVID']"
   ]
  },
  {
   "cell_type": "code",
   "execution_count": 5,
   "metadata": {},
   "outputs": [
    {
     "data": {
      "text/html": [
       "<div>\n",
       "<style scoped>\n",
       "    .dataframe tbody tr th:only-of-type {\n",
       "        vertical-align: middle;\n",
       "    }\n",
       "\n",
       "    .dataframe tbody tr th {\n",
       "        vertical-align: top;\n",
       "    }\n",
       "\n",
       "    .dataframe thead th {\n",
       "        text-align: right;\n",
       "    }\n",
       "</style>\n",
       "<table border=\"1\" class=\"dataframe\">\n",
       "  <thead>\n",
       "    <tr style=\"text-align: right;\">\n",
       "      <th></th>\n",
       "      <th>Community</th>\n",
       "      <th>Count</th>\n",
       "      <th>% tested for COVID</th>\n",
       "      <th>% tested positive for COVID</th>\n",
       "    </tr>\n",
       "  </thead>\n",
       "  <tbody>\n",
       "    <tr>\n",
       "      <th>0</th>\n",
       "      <td>DENVER Urban AA/Black</td>\n",
       "      <td>187</td>\n",
       "      <td>78.6</td>\n",
       "      <td>27.8</td>\n",
       "    </tr>\n",
       "    <tr>\n",
       "      <th>1</th>\n",
       "      <td>DENVER Urban American Indian/Alaska Native</td>\n",
       "      <td>61</td>\n",
       "      <td>91.8</td>\n",
       "      <td>49.2</td>\n",
       "    </tr>\n",
       "    <tr>\n",
       "      <th>2</th>\n",
       "      <td>DENVER Urban Latina/o/x</td>\n",
       "      <td>142</td>\n",
       "      <td>85.9</td>\n",
       "      <td>46.5</td>\n",
       "    </tr>\n",
       "    <tr>\n",
       "      <th>3</th>\n",
       "      <td>FT MORGAN/GREELEY Rural AA/Black</td>\n",
       "      <td>185</td>\n",
       "      <td>36.2</td>\n",
       "      <td>3.2</td>\n",
       "    </tr>\n",
       "    <tr>\n",
       "      <th>4</th>\n",
       "      <td>PUEBLO Urban Latina/o/x</td>\n",
       "      <td>100</td>\n",
       "      <td>78.0</td>\n",
       "      <td>44.0</td>\n",
       "    </tr>\n",
       "    <tr>\n",
       "      <th>5</th>\n",
       "      <td>SLV Rural Latina/o/x</td>\n",
       "      <td>194</td>\n",
       "      <td>80.9</td>\n",
       "      <td>40.7</td>\n",
       "    </tr>\n",
       "  </tbody>\n",
       "</table>\n",
       "</div>"
      ],
      "text/plain": [
       "                                    Community  Count  % tested for COVID  \\\n",
       "0                       DENVER Urban AA/Black    187                78.6   \n",
       "1  DENVER Urban American Indian/Alaska Native     61                91.8   \n",
       "2                     DENVER Urban Latina/o/x    142                85.9   \n",
       "3            FT MORGAN/GREELEY Rural AA/Black    185                36.2   \n",
       "4                     PUEBLO Urban Latina/o/x    100                78.0   \n",
       "5                        SLV Rural Latina/o/x    194                80.9   \n",
       "\n",
       "   % tested positive for COVID  \n",
       "0                         27.8  \n",
       "1                         49.2  \n",
       "2                         46.5  \n",
       "3                          3.2  \n",
       "4                         44.0  \n",
       "5                         40.7  "
      ]
     },
     "execution_count": 5,
     "metadata": {},
     "output_type": "execute_result"
    }
   ],
   "source": [
    "columns_list = ['ceal_testbehavior','ceal2_testpositive']\n",
    "columns_list_new = ['% tested for COVID','% tested positive for COVID']\n",
    "grouped_df = wave2_df.groupby('Community').agg(Count=('Community', 'count'), **{col: (col, lambda x: (x==1).sum()) for col in columns_list}).reset_index()\n",
    "for col in columns_list:\n",
    "    grouped_df[col] = grouped_df[col] * 100 / grouped_df['Count']\n",
    "    grouped_df[col] = grouped_df[col].round(1)\n",
    "\n",
    "rename_dict = dict(zip(columns_list, columns_list_new))\n",
    "grouped_df.rename(columns=rename_dict, inplace=True)\n",
    "\n",
    "grouped_df"
   ]
  },
  {
   "cell_type": "code",
   "execution_count": 187,
   "metadata": {},
   "outputs": [
    {
     "data": {
      "text/plain": [
       "(75.23333333333333, 35.23333333333333)"
      ]
     },
     "execution_count": 187,
     "metadata": {},
     "output_type": "execute_result"
    }
   ],
   "source": [
    "constant_value1 = grouped_df['% tested for COVID'].mean()\n",
    "constant_value2 = grouped_df['% tested positive for COVID'].mean()\n",
    "constant_value1, constant_value2"
   ]
  },
  {
   "cell_type": "code",
   "execution_count": 176,
   "metadata": {},
   "outputs": [
    {
     "data": {
      "text/plain": [
       "6"
      ]
     },
     "execution_count": 176,
     "metadata": {},
     "output_type": "execute_result"
    }
   ],
   "source": [
    "grouped_df.shape[0]"
   ]
  },
  {
   "cell_type": "code",
   "execution_count": 208,
   "metadata": {},
   "outputs": [
    {
     "data": {
      "text/html": [
       "<div>\n",
       "<style scoped>\n",
       "    .dataframe tbody tr th:only-of-type {\n",
       "        vertical-align: middle;\n",
       "    }\n",
       "\n",
       "    .dataframe tbody tr th {\n",
       "        vertical-align: top;\n",
       "    }\n",
       "\n",
       "    .dataframe thead th {\n",
       "        text-align: right;\n",
       "    }\n",
       "</style>\n",
       "<table border=\"1\" class=\"dataframe\">\n",
       "  <thead>\n",
       "    <tr style=\"text-align: right;\">\n",
       "      <th></th>\n",
       "      <th>Community</th>\n",
       "      <th>% vaccinated for flu</th>\n",
       "    </tr>\n",
       "  </thead>\n",
       "  <tbody>\n",
       "    <tr>\n",
       "      <th>0</th>\n",
       "      <td>DENVER Urban AA/Black</td>\n",
       "      <td>52.4</td>\n",
       "    </tr>\n",
       "    <tr>\n",
       "      <th>1</th>\n",
       "      <td>DENVER Urban American Indian/Alaska Native</td>\n",
       "      <td>63.9</td>\n",
       "    </tr>\n",
       "    <tr>\n",
       "      <th>2</th>\n",
       "      <td>DENVER Urban Latina/o/x</td>\n",
       "      <td>57.0</td>\n",
       "    </tr>\n",
       "    <tr>\n",
       "      <th>3</th>\n",
       "      <td>FT MORGAN/GREELEY Rural AA/Black</td>\n",
       "      <td>74.1</td>\n",
       "    </tr>\n",
       "    <tr>\n",
       "      <th>4</th>\n",
       "      <td>PUEBLO Urban Latina/o/x</td>\n",
       "      <td>50.0</td>\n",
       "    </tr>\n",
       "    <tr>\n",
       "      <th>5</th>\n",
       "      <td>SLV Rural Latina/o/x</td>\n",
       "      <td>55.2</td>\n",
       "    </tr>\n",
       "  </tbody>\n",
       "</table>\n",
       "</div>"
      ],
      "text/plain": [
       "                                    Community  % vaccinated for flu\n",
       "0                       DENVER Urban AA/Black                  52.4\n",
       "1  DENVER Urban American Indian/Alaska Native                  63.9\n",
       "2                     DENVER Urban Latina/o/x                  57.0\n",
       "3            FT MORGAN/GREELEY Rural AA/Black                  74.1\n",
       "4                     PUEBLO Urban Latina/o/x                  50.0\n",
       "5                        SLV Rural Latina/o/x                  55.2"
      ]
     },
     "execution_count": 208,
     "metadata": {},
     "output_type": "execute_result"
    }
   ],
   "source": [
    "temp_flu_df = wave2_df.groupby('Community').agg(Count=('Community', 'count'), **{'flu_vax_season21_22': ('flu_vax_season21_22', lambda x: (x==1).sum())}).reset_index()\n",
    "col = 'flu_vax_season21_22'\n",
    "temp_flu_df[col] = temp_flu_df[col] * 100 / temp_flu_df['Count']\n",
    "temp_flu_df[col] = temp_flu_df[col].round(1)\n",
    "temp_flu_df.rename(columns={'flu_vax_season21_22': '% vaccinated for flu'}, inplace=True)\n",
    "temp_flu_df.drop(columns=['Count'], inplace=True)\n",
    "temp_flu_df"
   ]
  },
  {
   "cell_type": "code",
   "execution_count": 209,
   "metadata": {},
   "outputs": [
    {
     "data": {
      "text/html": [
       "<div>\n",
       "<style scoped>\n",
       "    .dataframe tbody tr th:only-of-type {\n",
       "        vertical-align: middle;\n",
       "    }\n",
       "\n",
       "    .dataframe tbody tr th {\n",
       "        vertical-align: top;\n",
       "    }\n",
       "\n",
       "    .dataframe thead th {\n",
       "        text-align: right;\n",
       "    }\n",
       "</style>\n",
       "<table border=\"1\" class=\"dataframe\">\n",
       "  <thead>\n",
       "    <tr style=\"text-align: right;\">\n",
       "      <th></th>\n",
       "      <th>Community</th>\n",
       "      <th>% vaccinated children for flu</th>\n",
       "    </tr>\n",
       "  </thead>\n",
       "  <tbody>\n",
       "    <tr>\n",
       "      <th>0</th>\n",
       "      <td>DENVER Urban AA/Black</td>\n",
       "      <td>40.4</td>\n",
       "    </tr>\n",
       "    <tr>\n",
       "      <th>1</th>\n",
       "      <td>DENVER Urban American Indian/Alaska Native</td>\n",
       "      <td>60.7</td>\n",
       "    </tr>\n",
       "    <tr>\n",
       "      <th>2</th>\n",
       "      <td>DENVER Urban Latina/o/x</td>\n",
       "      <td>68.2</td>\n",
       "    </tr>\n",
       "    <tr>\n",
       "      <th>3</th>\n",
       "      <td>FT MORGAN/GREELEY Rural AA/Black</td>\n",
       "      <td>75.0</td>\n",
       "    </tr>\n",
       "    <tr>\n",
       "      <th>4</th>\n",
       "      <td>PUEBLO Urban Latina/o/x</td>\n",
       "      <td>48.8</td>\n",
       "    </tr>\n",
       "    <tr>\n",
       "      <th>5</th>\n",
       "      <td>SLV Rural Latina/o/x</td>\n",
       "      <td>57.0</td>\n",
       "    </tr>\n",
       "  </tbody>\n",
       "</table>\n",
       "</div>"
      ],
      "text/plain": [
       "                                    Community  % vaccinated children for flu\n",
       "0                       DENVER Urban AA/Black                           40.4\n",
       "1  DENVER Urban American Indian/Alaska Native                           60.7\n",
       "2                     DENVER Urban Latina/o/x                           68.2\n",
       "3            FT MORGAN/GREELEY Rural AA/Black                           75.0\n",
       "4                     PUEBLO Urban Latina/o/x                           48.8\n",
       "5                        SLV Rural Latina/o/x                           57.0"
      ]
     },
     "execution_count": 209,
     "metadata": {},
     "output_type": "execute_result"
    }
   ],
   "source": [
    "temp_ch_df = wave2_df[(wave2_df[\"parent_ch1217\"]==1) | (wave2_df[\"parent_ch511\"]==1) | (wave2_df[\"parent_ch04\"]==1)]\n",
    "temp_ch_df = temp_ch_df.groupby('Community').agg(Count=('Community', 'count'), **{'flu_vax_season21_22_ch': ('flu_vax_season21_22_ch', lambda x: (x==1).sum())}).reset_index()\n",
    "col = 'flu_vax_season21_22_ch'\n",
    "temp_ch_df[col] = temp_ch_df[col] * 100 / temp_ch_df['Count']\n",
    "temp_ch_df[col] = temp_ch_df[col].round(1)\n",
    "temp_ch_df.rename(columns={'flu_vax_season21_22_ch': '% vaccinated children for flu'}, inplace=True)\n",
    "temp_ch_df.drop(columns=['Count'], inplace=True)\n",
    "temp_ch_df"
   ]
  },
  {
   "cell_type": "code",
   "execution_count": 211,
   "metadata": {},
   "outputs": [
    {
     "data": {
      "text/html": [
       "<div>\n",
       "<style scoped>\n",
       "    .dataframe tbody tr th:only-of-type {\n",
       "        vertical-align: middle;\n",
       "    }\n",
       "\n",
       "    .dataframe tbody tr th {\n",
       "        vertical-align: top;\n",
       "    }\n",
       "\n",
       "    .dataframe thead th {\n",
       "        text-align: right;\n",
       "    }\n",
       "</style>\n",
       "<table border=\"1\" class=\"dataframe\">\n",
       "  <thead>\n",
       "    <tr style=\"text-align: right;\">\n",
       "      <th></th>\n",
       "      <th>Community</th>\n",
       "      <th>% vaccinated children for flu</th>\n",
       "      <th>% vaccinated for flu</th>\n",
       "    </tr>\n",
       "  </thead>\n",
       "  <tbody>\n",
       "    <tr>\n",
       "      <th>0</th>\n",
       "      <td>DENVER Urban AA/Black</td>\n",
       "      <td>40.4</td>\n",
       "      <td>52.4</td>\n",
       "    </tr>\n",
       "    <tr>\n",
       "      <th>1</th>\n",
       "      <td>DENVER Urban American Indian/Alaska Native</td>\n",
       "      <td>60.7</td>\n",
       "      <td>63.9</td>\n",
       "    </tr>\n",
       "    <tr>\n",
       "      <th>2</th>\n",
       "      <td>DENVER Urban Latina/o/x</td>\n",
       "      <td>68.2</td>\n",
       "      <td>57.0</td>\n",
       "    </tr>\n",
       "    <tr>\n",
       "      <th>3</th>\n",
       "      <td>FT MORGAN/GREELEY Rural AA/Black</td>\n",
       "      <td>75.0</td>\n",
       "      <td>74.1</td>\n",
       "    </tr>\n",
       "    <tr>\n",
       "      <th>4</th>\n",
       "      <td>PUEBLO Urban Latina/o/x</td>\n",
       "      <td>48.8</td>\n",
       "      <td>50.0</td>\n",
       "    </tr>\n",
       "    <tr>\n",
       "      <th>5</th>\n",
       "      <td>SLV Rural Latina/o/x</td>\n",
       "      <td>57.0</td>\n",
       "      <td>55.2</td>\n",
       "    </tr>\n",
       "  </tbody>\n",
       "</table>\n",
       "</div>"
      ],
      "text/plain": [
       "                                    Community  % vaccinated children for flu  \\\n",
       "0                       DENVER Urban AA/Black                           40.4   \n",
       "1  DENVER Urban American Indian/Alaska Native                           60.7   \n",
       "2                     DENVER Urban Latina/o/x                           68.2   \n",
       "3            FT MORGAN/GREELEY Rural AA/Black                           75.0   \n",
       "4                     PUEBLO Urban Latina/o/x                           48.8   \n",
       "5                        SLV Rural Latina/o/x                           57.0   \n",
       "\n",
       "   % vaccinated for flu  \n",
       "0                  52.4  \n",
       "1                  63.9  \n",
       "2                  57.0  \n",
       "3                  74.1  \n",
       "4                  50.0  \n",
       "5                  55.2  "
      ]
     },
     "execution_count": 211,
     "metadata": {},
     "output_type": "execute_result"
    }
   ],
   "source": [
    "flu_df = pd.merge(temp_ch_df, temp_flu_df, on='Community')\n",
    "flu_df"
   ]
  },
  {
   "cell_type": "code",
   "execution_count": 214,
   "metadata": {},
   "outputs": [],
   "source": [
    "constant_value1 = flu_df['% vaccinated for flu'].mean()\n",
    "constant_value2 = flu_df['% vaccinated children for flu'].mean()"
   ]
  },
  {
   "cell_type": "code",
   "execution_count": 223,
   "metadata": {},
   "outputs": [
    {
     "data": {
      "application/vnd.plotly.v1+json": {
       "config": {
        "plotlyServerURL": "https://plot.ly"
       },
       "data": [
        {
         "marker": {
          "color": "#2E91E5"
         },
         "name": "% vaccinated for flu",
         "orientation": "h",
         "type": "bar",
         "x": [
          52.4,
          63.9,
          57,
          74.1,
          50,
          55.2
         ],
         "y": [
          "DENVER Urban AA/Black",
          "DENVER Urban American Indian/Alaska Native",
          "DENVER Urban Latina/o/x",
          "FT MORGAN/GREELEY Rural AA/Black",
          "PUEBLO Urban Latina/o/x",
          "SLV Rural Latina/o/x"
         ]
        },
        {
         "marker": {
          "color": "#E15F99"
         },
         "name": "% vaccinated children for flu",
         "orientation": "h",
         "type": "bar",
         "x": [
          40.4,
          60.7,
          68.2,
          75,
          48.8,
          57
         ],
         "y": [
          "DENVER Urban AA/Black",
          "DENVER Urban American Indian/Alaska Native",
          "DENVER Urban Latina/o/x",
          "FT MORGAN/GREELEY Rural AA/Black",
          "PUEBLO Urban Latina/o/x",
          "SLV Rural Latina/o/x"
         ]
        }
       ],
       "layout": {
        "annotations": [
         {
          "font": {
           "color": "#2E91E5",
           "size": 10
          },
          "showarrow": false,
          "text": "avg: 58.8",
          "x": 60.76666666666666,
          "y": 6
         },
         {
          "font": {
           "color": "#E15F99",
           "size": 10
          },
          "showarrow": false,
          "text": "avg: 58.3",
          "x": 56.35,
          "y": 6
         }
        ],
        "barmode": "group",
        "legend": {
         "orientation": "h",
         "x": 1,
         "xanchor": "right",
         "y": 1,
         "yanchor": "bottom"
        },
        "shapes": [
         {
          "line": {
           "color": "#2E91E5",
           "dash": "dash",
           "width": 4
          },
          "type": "line",
          "x0": 58.76666666666666,
          "x1": 58.76666666666666,
          "y0": -0.5,
          "y1": 6
         },
         {
          "line": {
           "color": "#E15F99",
           "dash": "dash",
           "width": 4
          },
          "type": "line",
          "x0": 58.35,
          "x1": 58.35,
          "y0": 0,
          "y1": 6
         }
        ],
        "template": {
         "data": {
          "bar": [
           {
            "error_x": {
             "color": "#2a3f5f"
            },
            "error_y": {
             "color": "#2a3f5f"
            },
            "marker": {
             "line": {
              "color": "#E5ECF6",
              "width": 0.5
             },
             "pattern": {
              "fillmode": "overlay",
              "size": 10,
              "solidity": 0.2
             }
            },
            "type": "bar"
           }
          ],
          "barpolar": [
           {
            "marker": {
             "line": {
              "color": "#E5ECF6",
              "width": 0.5
             },
             "pattern": {
              "fillmode": "overlay",
              "size": 10,
              "solidity": 0.2
             }
            },
            "type": "barpolar"
           }
          ],
          "carpet": [
           {
            "aaxis": {
             "endlinecolor": "#2a3f5f",
             "gridcolor": "white",
             "linecolor": "white",
             "minorgridcolor": "white",
             "startlinecolor": "#2a3f5f"
            },
            "baxis": {
             "endlinecolor": "#2a3f5f",
             "gridcolor": "white",
             "linecolor": "white",
             "minorgridcolor": "white",
             "startlinecolor": "#2a3f5f"
            },
            "type": "carpet"
           }
          ],
          "choropleth": [
           {
            "colorbar": {
             "outlinewidth": 0,
             "ticks": ""
            },
            "type": "choropleth"
           }
          ],
          "contour": [
           {
            "colorbar": {
             "outlinewidth": 0,
             "ticks": ""
            },
            "colorscale": [
             [
              0,
              "#0d0887"
             ],
             [
              0.1111111111111111,
              "#46039f"
             ],
             [
              0.2222222222222222,
              "#7201a8"
             ],
             [
              0.3333333333333333,
              "#9c179e"
             ],
             [
              0.4444444444444444,
              "#bd3786"
             ],
             [
              0.5555555555555556,
              "#d8576b"
             ],
             [
              0.6666666666666666,
              "#ed7953"
             ],
             [
              0.7777777777777778,
              "#fb9f3a"
             ],
             [
              0.8888888888888888,
              "#fdca26"
             ],
             [
              1,
              "#f0f921"
             ]
            ],
            "type": "contour"
           }
          ],
          "contourcarpet": [
           {
            "colorbar": {
             "outlinewidth": 0,
             "ticks": ""
            },
            "type": "contourcarpet"
           }
          ],
          "heatmap": [
           {
            "colorbar": {
             "outlinewidth": 0,
             "ticks": ""
            },
            "colorscale": [
             [
              0,
              "#0d0887"
             ],
             [
              0.1111111111111111,
              "#46039f"
             ],
             [
              0.2222222222222222,
              "#7201a8"
             ],
             [
              0.3333333333333333,
              "#9c179e"
             ],
             [
              0.4444444444444444,
              "#bd3786"
             ],
             [
              0.5555555555555556,
              "#d8576b"
             ],
             [
              0.6666666666666666,
              "#ed7953"
             ],
             [
              0.7777777777777778,
              "#fb9f3a"
             ],
             [
              0.8888888888888888,
              "#fdca26"
             ],
             [
              1,
              "#f0f921"
             ]
            ],
            "type": "heatmap"
           }
          ],
          "heatmapgl": [
           {
            "colorbar": {
             "outlinewidth": 0,
             "ticks": ""
            },
            "colorscale": [
             [
              0,
              "#0d0887"
             ],
             [
              0.1111111111111111,
              "#46039f"
             ],
             [
              0.2222222222222222,
              "#7201a8"
             ],
             [
              0.3333333333333333,
              "#9c179e"
             ],
             [
              0.4444444444444444,
              "#bd3786"
             ],
             [
              0.5555555555555556,
              "#d8576b"
             ],
             [
              0.6666666666666666,
              "#ed7953"
             ],
             [
              0.7777777777777778,
              "#fb9f3a"
             ],
             [
              0.8888888888888888,
              "#fdca26"
             ],
             [
              1,
              "#f0f921"
             ]
            ],
            "type": "heatmapgl"
           }
          ],
          "histogram": [
           {
            "marker": {
             "pattern": {
              "fillmode": "overlay",
              "size": 10,
              "solidity": 0.2
             }
            },
            "type": "histogram"
           }
          ],
          "histogram2d": [
           {
            "colorbar": {
             "outlinewidth": 0,
             "ticks": ""
            },
            "colorscale": [
             [
              0,
              "#0d0887"
             ],
             [
              0.1111111111111111,
              "#46039f"
             ],
             [
              0.2222222222222222,
              "#7201a8"
             ],
             [
              0.3333333333333333,
              "#9c179e"
             ],
             [
              0.4444444444444444,
              "#bd3786"
             ],
             [
              0.5555555555555556,
              "#d8576b"
             ],
             [
              0.6666666666666666,
              "#ed7953"
             ],
             [
              0.7777777777777778,
              "#fb9f3a"
             ],
             [
              0.8888888888888888,
              "#fdca26"
             ],
             [
              1,
              "#f0f921"
             ]
            ],
            "type": "histogram2d"
           }
          ],
          "histogram2dcontour": [
           {
            "colorbar": {
             "outlinewidth": 0,
             "ticks": ""
            },
            "colorscale": [
             [
              0,
              "#0d0887"
             ],
             [
              0.1111111111111111,
              "#46039f"
             ],
             [
              0.2222222222222222,
              "#7201a8"
             ],
             [
              0.3333333333333333,
              "#9c179e"
             ],
             [
              0.4444444444444444,
              "#bd3786"
             ],
             [
              0.5555555555555556,
              "#d8576b"
             ],
             [
              0.6666666666666666,
              "#ed7953"
             ],
             [
              0.7777777777777778,
              "#fb9f3a"
             ],
             [
              0.8888888888888888,
              "#fdca26"
             ],
             [
              1,
              "#f0f921"
             ]
            ],
            "type": "histogram2dcontour"
           }
          ],
          "mesh3d": [
           {
            "colorbar": {
             "outlinewidth": 0,
             "ticks": ""
            },
            "type": "mesh3d"
           }
          ],
          "parcoords": [
           {
            "line": {
             "colorbar": {
              "outlinewidth": 0,
              "ticks": ""
             }
            },
            "type": "parcoords"
           }
          ],
          "pie": [
           {
            "automargin": true,
            "type": "pie"
           }
          ],
          "scatter": [
           {
            "fillpattern": {
             "fillmode": "overlay",
             "size": 10,
             "solidity": 0.2
            },
            "type": "scatter"
           }
          ],
          "scatter3d": [
           {
            "line": {
             "colorbar": {
              "outlinewidth": 0,
              "ticks": ""
             }
            },
            "marker": {
             "colorbar": {
              "outlinewidth": 0,
              "ticks": ""
             }
            },
            "type": "scatter3d"
           }
          ],
          "scattercarpet": [
           {
            "marker": {
             "colorbar": {
              "outlinewidth": 0,
              "ticks": ""
             }
            },
            "type": "scattercarpet"
           }
          ],
          "scattergeo": [
           {
            "marker": {
             "colorbar": {
              "outlinewidth": 0,
              "ticks": ""
             }
            },
            "type": "scattergeo"
           }
          ],
          "scattergl": [
           {
            "marker": {
             "colorbar": {
              "outlinewidth": 0,
              "ticks": ""
             }
            },
            "type": "scattergl"
           }
          ],
          "scattermapbox": [
           {
            "marker": {
             "colorbar": {
              "outlinewidth": 0,
              "ticks": ""
             }
            },
            "type": "scattermapbox"
           }
          ],
          "scatterpolar": [
           {
            "marker": {
             "colorbar": {
              "outlinewidth": 0,
              "ticks": ""
             }
            },
            "type": "scatterpolar"
           }
          ],
          "scatterpolargl": [
           {
            "marker": {
             "colorbar": {
              "outlinewidth": 0,
              "ticks": ""
             }
            },
            "type": "scatterpolargl"
           }
          ],
          "scatterternary": [
           {
            "marker": {
             "colorbar": {
              "outlinewidth": 0,
              "ticks": ""
             }
            },
            "type": "scatterternary"
           }
          ],
          "surface": [
           {
            "colorbar": {
             "outlinewidth": 0,
             "ticks": ""
            },
            "colorscale": [
             [
              0,
              "#0d0887"
             ],
             [
              0.1111111111111111,
              "#46039f"
             ],
             [
              0.2222222222222222,
              "#7201a8"
             ],
             [
              0.3333333333333333,
              "#9c179e"
             ],
             [
              0.4444444444444444,
              "#bd3786"
             ],
             [
              0.5555555555555556,
              "#d8576b"
             ],
             [
              0.6666666666666666,
              "#ed7953"
             ],
             [
              0.7777777777777778,
              "#fb9f3a"
             ],
             [
              0.8888888888888888,
              "#fdca26"
             ],
             [
              1,
              "#f0f921"
             ]
            ],
            "type": "surface"
           }
          ],
          "table": [
           {
            "cells": {
             "fill": {
              "color": "#EBF0F8"
             },
             "line": {
              "color": "white"
             }
            },
            "header": {
             "fill": {
              "color": "#C8D4E3"
             },
             "line": {
              "color": "white"
             }
            },
            "type": "table"
           }
          ]
         },
         "layout": {
          "annotationdefaults": {
           "arrowcolor": "#2a3f5f",
           "arrowhead": 0,
           "arrowwidth": 1
          },
          "autotypenumbers": "strict",
          "coloraxis": {
           "colorbar": {
            "outlinewidth": 0,
            "ticks": ""
           }
          },
          "colorscale": {
           "diverging": [
            [
             0,
             "#8e0152"
            ],
            [
             0.1,
             "#c51b7d"
            ],
            [
             0.2,
             "#de77ae"
            ],
            [
             0.3,
             "#f1b6da"
            ],
            [
             0.4,
             "#fde0ef"
            ],
            [
             0.5,
             "#f7f7f7"
            ],
            [
             0.6,
             "#e6f5d0"
            ],
            [
             0.7,
             "#b8e186"
            ],
            [
             0.8,
             "#7fbc41"
            ],
            [
             0.9,
             "#4d9221"
            ],
            [
             1,
             "#276419"
            ]
           ],
           "sequential": [
            [
             0,
             "#0d0887"
            ],
            [
             0.1111111111111111,
             "#46039f"
            ],
            [
             0.2222222222222222,
             "#7201a8"
            ],
            [
             0.3333333333333333,
             "#9c179e"
            ],
            [
             0.4444444444444444,
             "#bd3786"
            ],
            [
             0.5555555555555556,
             "#d8576b"
            ],
            [
             0.6666666666666666,
             "#ed7953"
            ],
            [
             0.7777777777777778,
             "#fb9f3a"
            ],
            [
             0.8888888888888888,
             "#fdca26"
            ],
            [
             1,
             "#f0f921"
            ]
           ],
           "sequentialminus": [
            [
             0,
             "#0d0887"
            ],
            [
             0.1111111111111111,
             "#46039f"
            ],
            [
             0.2222222222222222,
             "#7201a8"
            ],
            [
             0.3333333333333333,
             "#9c179e"
            ],
            [
             0.4444444444444444,
             "#bd3786"
            ],
            [
             0.5555555555555556,
             "#d8576b"
            ],
            [
             0.6666666666666666,
             "#ed7953"
            ],
            [
             0.7777777777777778,
             "#fb9f3a"
            ],
            [
             0.8888888888888888,
             "#fdca26"
            ],
            [
             1,
             "#f0f921"
            ]
           ]
          },
          "colorway": [
           "#636efa",
           "#EF553B",
           "#00cc96",
           "#ab63fa",
           "#FFA15A",
           "#19d3f3",
           "#FF6692",
           "#B6E880",
           "#FF97FF",
           "#FECB52"
          ],
          "font": {
           "color": "#2a3f5f"
          },
          "geo": {
           "bgcolor": "white",
           "lakecolor": "white",
           "landcolor": "#E5ECF6",
           "showlakes": true,
           "showland": true,
           "subunitcolor": "white"
          },
          "hoverlabel": {
           "align": "left"
          },
          "hovermode": "closest",
          "mapbox": {
           "style": "light"
          },
          "paper_bgcolor": "white",
          "plot_bgcolor": "#E5ECF6",
          "polar": {
           "angularaxis": {
            "gridcolor": "white",
            "linecolor": "white",
            "ticks": ""
           },
           "bgcolor": "#E5ECF6",
           "radialaxis": {
            "gridcolor": "white",
            "linecolor": "white",
            "ticks": ""
           }
          },
          "scene": {
           "xaxis": {
            "backgroundcolor": "#E5ECF6",
            "gridcolor": "white",
            "gridwidth": 2,
            "linecolor": "white",
            "showbackground": true,
            "ticks": "",
            "zerolinecolor": "white"
           },
           "yaxis": {
            "backgroundcolor": "#E5ECF6",
            "gridcolor": "white",
            "gridwidth": 2,
            "linecolor": "white",
            "showbackground": true,
            "ticks": "",
            "zerolinecolor": "white"
           },
           "zaxis": {
            "backgroundcolor": "#E5ECF6",
            "gridcolor": "white",
            "gridwidth": 2,
            "linecolor": "white",
            "showbackground": true,
            "ticks": "",
            "zerolinecolor": "white"
           }
          },
          "shapedefaults": {
           "line": {
            "color": "#2a3f5f"
           }
          },
          "ternary": {
           "aaxis": {
            "gridcolor": "white",
            "linecolor": "white",
            "ticks": ""
           },
           "baxis": {
            "gridcolor": "white",
            "linecolor": "white",
            "ticks": ""
           },
           "bgcolor": "#E5ECF6",
           "caxis": {
            "gridcolor": "white",
            "linecolor": "white",
            "ticks": ""
           }
          },
          "title": {
           "x": 0.05
          },
          "xaxis": {
           "automargin": true,
           "gridcolor": "white",
           "linecolor": "white",
           "ticks": "",
           "title": {
            "standoff": 15
           },
           "zerolinecolor": "white",
           "zerolinewidth": 2
          },
          "yaxis": {
           "automargin": true,
           "gridcolor": "white",
           "linecolor": "white",
           "ticks": "",
           "title": {
            "standoff": 15
           },
           "zerolinecolor": "white",
           "zerolinewidth": 2
          }
         }
        },
        "title": {
         "font": {
          "color": "#1369e2",
          "size": 20
         },
         "text": "Flu vaccine behaviour",
         "x": 0.5,
         "y": 0.95
        },
        "xaxis": {
         "title": {
          "text": "percentage"
         }
        },
        "yaxis": {
         "tickfont": {
          "size": 11
         }
        }
       }
      }
     },
     "metadata": {},
     "output_type": "display_data"
    }
   ],
   "source": [
    "\n",
    "fig = go.Figure(data=[\n",
    "go.Bar(name='% vaccinated for flu', y=flu_df['Community'], x=flu_df['% vaccinated for flu'], orientation='h', marker_color=px.colors.qualitative.Dark24[0]),\n",
    "go.Bar(name='% vaccinated children for flu', y=flu_df['Community'], x=flu_df['% vaccinated children for flu'], orientation='h', marker_color=px.colors.qualitative.Dark24[1])\n",
    "])\n",
    "\n",
    "# Add vertical line for a constant value\n",
    "fig.add_shape(\n",
    "    type=\"line\", line=dict(dash=\"dash\", width=4, color=px.colors.qualitative.Dark24[0]), y0=-0.5, y1=grouped_df.shape[0],\n",
    "    x0=constant_value1, x1=constant_value1\n",
    ")\n",
    "# Add label to the line\n",
    "fig.add_annotation(\n",
    "    y=grouped_df.shape[0], x=constant_value1+2,text=\"avg: 58.8\",\n",
    "    showarrow=False,font=dict(size=10,color=px.colors.qualitative.Dark24[0]),)\n",
    "\n",
    "# Add another vertical line for another constant value\n",
    "fig.add_shape(\n",
    "    type=\"line\", line=dict(dash=\"dash\", width=4, color=px.colors.qualitative.Dark24[1]), y0=0, y1=grouped_df.shape[0],\n",
    "    x0=constant_value2, x1=constant_value2)\n",
    "fig.add_annotation(\n",
    "    y=grouped_df.shape[0], x=constant_value2-2,text=\"avg: 58.3\",\n",
    "    showarrow=False,font=dict(size=10,color=px.colors.qualitative.Dark24[1]),)\n",
    "\n",
    "# Change the bar mode\n",
    "fig.update_layout(barmode='group')\n",
    "fig.update_layout(\n",
    "    title_text=\"Flu vaccine behaviour\",\n",
    "    title_font=dict(size=graph_title_font_size, color=graph_title_font_color),\n",
    "    title_x=0.5,  # Center align the title horizontally\n",
    "    title_y=0.95,  # Adjust the vertical position of the title\n",
    "    yaxis=dict(tickfont=dict(size=11)),\n",
    "    xaxis=dict(title=\"percentage\"),\n",
    "    legend=dict(orientation=\"h\",yanchor=\"bottom\",y=1,xanchor=\"right\",x=1)  # Decrease font size for x axis labels\n",
    ")\n",
    "fig.show()"
   ]
  },
  {
   "cell_type": "code",
   "execution_count": 7,
   "metadata": {},
   "outputs": [
    {
     "data": {
      "text/html": [
       "<div>\n",
       "<style scoped>\n",
       "    .dataframe tbody tr th:only-of-type {\n",
       "        vertical-align: middle;\n",
       "    }\n",
       "\n",
       "    .dataframe tbody tr th {\n",
       "        vertical-align: top;\n",
       "    }\n",
       "\n",
       "    .dataframe thead th {\n",
       "        text-align: right;\n",
       "    }\n",
       "</style>\n",
       "<table border=\"1\" class=\"dataframe\">\n",
       "  <thead>\n",
       "    <tr style=\"text-align: right;\">\n",
       "      <th></th>\n",
       "      <th>Community</th>\n",
       "      <th>% tested for COVID</th>\n",
       "      <th>% tested positive for COVID</th>\n",
       "    </tr>\n",
       "  </thead>\n",
       "  <tbody>\n",
       "    <tr>\n",
       "      <th>0</th>\n",
       "      <td>DENVER Urban AA/Black</td>\n",
       "      <td>78.6</td>\n",
       "      <td>27.8</td>\n",
       "    </tr>\n",
       "    <tr>\n",
       "      <th>1</th>\n",
       "      <td>DENVER Urban American Indian/Alaska Native</td>\n",
       "      <td>91.8</td>\n",
       "      <td>49.2</td>\n",
       "    </tr>\n",
       "    <tr>\n",
       "      <th>2</th>\n",
       "      <td>DENVER Urban Latina/o/x</td>\n",
       "      <td>85.9</td>\n",
       "      <td>46.5</td>\n",
       "    </tr>\n",
       "    <tr>\n",
       "      <th>3</th>\n",
       "      <td>FT MORGAN/GREELEY Rural AA/Black</td>\n",
       "      <td>36.2</td>\n",
       "      <td>3.2</td>\n",
       "    </tr>\n",
       "    <tr>\n",
       "      <th>4</th>\n",
       "      <td>PUEBLO Urban Latina/o/x</td>\n",
       "      <td>78.0</td>\n",
       "      <td>44.0</td>\n",
       "    </tr>\n",
       "    <tr>\n",
       "      <th>5</th>\n",
       "      <td>SLV Rural Latina/o/x</td>\n",
       "      <td>80.9</td>\n",
       "      <td>40.7</td>\n",
       "    </tr>\n",
       "  </tbody>\n",
       "</table>\n",
       "</div>"
      ],
      "text/plain": [
       "                                    Community  % tested for COVID  \\\n",
       "0                       DENVER Urban AA/Black                78.6   \n",
       "1  DENVER Urban American Indian/Alaska Native                91.8   \n",
       "2                     DENVER Urban Latina/o/x                85.9   \n",
       "3            FT MORGAN/GREELEY Rural AA/Black                36.2   \n",
       "4                     PUEBLO Urban Latina/o/x                78.0   \n",
       "5                        SLV Rural Latina/o/x                80.9   \n",
       "\n",
       "   % tested positive for COVID  \n",
       "0                         27.8  \n",
       "1                         49.2  \n",
       "2                         46.5  \n",
       "3                          3.2  \n",
       "4                         44.0  \n",
       "5                         40.7  "
      ]
     },
     "execution_count": 7,
     "metadata": {},
     "output_type": "execute_result"
    }
   ],
   "source": [
    "columns_list = ['ceal_testbehavior','ceal2_testpositive']\n",
    "columns_list_new = ['% tested for COVID','% tested positive for COVID']\n",
    "grouped_df = wave2_df.groupby('Community').agg(Count=('Community', 'count'), **{col: (col, lambda x: (x==1).sum()) for col in columns_list}).reset_index()\n",
    "for col in columns_list:\n",
    "    grouped_df[col] = grouped_df[col] * 100 / grouped_df['Count']\n",
    "    grouped_df[col] = grouped_df[col].round(1)\n",
    "\n",
    "rename_dict = dict(zip(columns_list, columns_list_new))\n",
    "grouped_df.rename(columns=rename_dict, inplace=True)\n",
    "grouped_df.drop(columns=['Count'], inplace=True)\n",
    "grouped_df"
   ]
  },
  {
   "cell_type": "code",
   "execution_count": 8,
   "metadata": {},
   "outputs": [],
   "source": [
    "temp_flu_df = wave2_df.groupby('Community').agg(Count=('Community', 'count'), **{'flu_vax_season21_22': ('flu_vax_season21_22', lambda x: (x==1).sum())}).reset_index()\n",
    "col = 'flu_vax_season21_22'\n",
    "temp_flu_df[col] = temp_flu_df[col] * 100 / temp_flu_df['Count']\n",
    "temp_flu_df[col] = temp_flu_df[col].round(1)\n",
    "temp_flu_df.rename(columns={'flu_vax_season21_22': '% vaccinated for flu'}, inplace=True)\n",
    "temp_flu_df.drop(columns=['Count'], inplace=True)\n",
    "temp_ch_df = wave2_df[(wave2_df[\"parent_ch1217\"]==1) | (wave2_df[\"parent_ch511\"]==1) | (wave2_df[\"parent_ch04\"]==1)]\n",
    "temp_ch_df = temp_ch_df.groupby('Community').agg(Count=('Community', 'count'), **{'flu_vax_season21_22_ch': ('flu_vax_season21_22_ch', lambda x: (x==1).sum())}).reset_index()\n",
    "col = 'flu_vax_season21_22_ch'\n",
    "temp_ch_df[col] = temp_ch_df[col] * 100 / temp_ch_df['Count']\n",
    "temp_ch_df[col] = temp_ch_df[col].round(1)\n",
    "temp_ch_df.rename(columns={'flu_vax_season21_22_ch': '% vaccinated children for flu'}, inplace=True)\n",
    "temp_ch_df.drop(columns=['Count'], inplace=True)\n",
    "\n",
    "flu_df = pd.merge(temp_ch_df, temp_flu_df, on='Community')"
   ]
  },
  {
   "cell_type": "code",
   "execution_count": 9,
   "metadata": {},
   "outputs": [
    {
     "data": {
      "text/plain": [
       "(75.23333333333333, 35.23333333333333, 58.76666666666666, 58.35)"
      ]
     },
     "execution_count": 9,
     "metadata": {},
     "output_type": "execute_result"
    }
   ],
   "source": [
    "avg_tested_for_covid = grouped_df['% tested for COVID'].mean()\n",
    "avg_tested_pos_for_covid = grouped_df['% tested positive for COVID'].mean()\n",
    "avg_vac_for_flu = flu_df['% vaccinated for flu'].mean()\n",
    "avg_vac_chld_for_flu = flu_df['% vaccinated children for flu'].mean()\n",
    "avg_tested_for_covid, avg_tested_pos_for_covid, avg_vac_for_flu, avg_vac_chld_for_flu"
   ]
  },
  {
   "cell_type": "code",
   "execution_count": 10,
   "metadata": {},
   "outputs": [
    {
     "data": {
      "text/html": [
       "<div>\n",
       "<style scoped>\n",
       "    .dataframe tbody tr th:only-of-type {\n",
       "        vertical-align: middle;\n",
       "    }\n",
       "\n",
       "    .dataframe tbody tr th {\n",
       "        vertical-align: top;\n",
       "    }\n",
       "\n",
       "    .dataframe thead th {\n",
       "        text-align: right;\n",
       "    }\n",
       "</style>\n",
       "<table border=\"1\" class=\"dataframe\">\n",
       "  <thead>\n",
       "    <tr style=\"text-align: right;\">\n",
       "      <th></th>\n",
       "      <th>Community</th>\n",
       "      <th>% tested for COVID</th>\n",
       "      <th>% tested positive for COVID</th>\n",
       "      <th>% vaccinated children for flu</th>\n",
       "      <th>% vaccinated for flu</th>\n",
       "    </tr>\n",
       "  </thead>\n",
       "  <tbody>\n",
       "    <tr>\n",
       "      <th>0</th>\n",
       "      <td>DENVER Urban AA/Black</td>\n",
       "      <td>78.6</td>\n",
       "      <td>27.8</td>\n",
       "      <td>40.4</td>\n",
       "      <td>52.4</td>\n",
       "    </tr>\n",
       "    <tr>\n",
       "      <th>1</th>\n",
       "      <td>DENVER Urban American Indian/Alaska Native</td>\n",
       "      <td>91.8</td>\n",
       "      <td>49.2</td>\n",
       "      <td>60.7</td>\n",
       "      <td>63.9</td>\n",
       "    </tr>\n",
       "    <tr>\n",
       "      <th>2</th>\n",
       "      <td>DENVER Urban Latina/o/x</td>\n",
       "      <td>85.9</td>\n",
       "      <td>46.5</td>\n",
       "      <td>68.2</td>\n",
       "      <td>57.0</td>\n",
       "    </tr>\n",
       "    <tr>\n",
       "      <th>3</th>\n",
       "      <td>FT MORGAN/GREELEY Rural AA/Black</td>\n",
       "      <td>36.2</td>\n",
       "      <td>3.2</td>\n",
       "      <td>75.0</td>\n",
       "      <td>74.1</td>\n",
       "    </tr>\n",
       "    <tr>\n",
       "      <th>4</th>\n",
       "      <td>PUEBLO Urban Latina/o/x</td>\n",
       "      <td>78.0</td>\n",
       "      <td>44.0</td>\n",
       "      <td>48.8</td>\n",
       "      <td>50.0</td>\n",
       "    </tr>\n",
       "    <tr>\n",
       "      <th>5</th>\n",
       "      <td>SLV Rural Latina/o/x</td>\n",
       "      <td>80.9</td>\n",
       "      <td>40.7</td>\n",
       "      <td>57.0</td>\n",
       "      <td>55.2</td>\n",
       "    </tr>\n",
       "  </tbody>\n",
       "</table>\n",
       "</div>"
      ],
      "text/plain": [
       "                                    Community  % tested for COVID  \\\n",
       "0                       DENVER Urban AA/Black                78.6   \n",
       "1  DENVER Urban American Indian/Alaska Native                91.8   \n",
       "2                     DENVER Urban Latina/o/x                85.9   \n",
       "3            FT MORGAN/GREELEY Rural AA/Black                36.2   \n",
       "4                     PUEBLO Urban Latina/o/x                78.0   \n",
       "5                        SLV Rural Latina/o/x                80.9   \n",
       "\n",
       "   % tested positive for COVID  % vaccinated children for flu  \\\n",
       "0                         27.8                           40.4   \n",
       "1                         49.2                           60.7   \n",
       "2                         46.5                           68.2   \n",
       "3                          3.2                           75.0   \n",
       "4                         44.0                           48.8   \n",
       "5                         40.7                           57.0   \n",
       "\n",
       "   % vaccinated for flu  \n",
       "0                  52.4  \n",
       "1                  63.9  \n",
       "2                  57.0  \n",
       "3                  74.1  \n",
       "4                  50.0  \n",
       "5                  55.2  "
      ]
     },
     "execution_count": 10,
     "metadata": {},
     "output_type": "execute_result"
    }
   ],
   "source": [
    "vaccine_df = pd.merge(grouped_df, flu_df, on='Community')\n",
    "vaccine_df"
   ]
  },
  {
   "cell_type": "code",
   "execution_count": 23,
   "metadata": {},
   "outputs": [
    {
     "data": {
      "application/vnd.plotly.v1+json": {
       "config": {
        "plotlyServerURL": "https://plot.ly"
       },
       "data": [
        {
         "marker": {
          "color": "#2E91E5"
         },
         "name": "% tested for COVID",
         "type": "bar",
         "x": [
          "DENVER Urban AA/Black",
          "DENVER Urban American Indian/Alaska Native",
          "DENVER Urban Latina/o/x",
          "FT MORGAN/GREELEY Rural AA/Black",
          "PUEBLO Urban Latina/o/x",
          "SLV Rural Latina/o/x"
         ],
         "y": [
          78.6,
          91.8,
          85.9,
          36.2,
          78,
          80.9
         ]
        },
        {
         "marker": {
          "color": "#E15F99"
         },
         "name": "% tested positive for COVID",
         "type": "bar",
         "x": [
          "DENVER Urban AA/Black",
          "DENVER Urban American Indian/Alaska Native",
          "DENVER Urban Latina/o/x",
          "FT MORGAN/GREELEY Rural AA/Black",
          "PUEBLO Urban Latina/o/x",
          "SLV Rural Latina/o/x"
         ],
         "y": [
          27.8,
          49.2,
          46.5,
          3.2,
          44,
          40.7
         ]
        },
        {
         "marker": {
          "color": "#1CA71C"
         },
         "name": "% vaccinated for flu",
         "type": "bar",
         "x": [
          "DENVER Urban AA/Black",
          "DENVER Urban American Indian/Alaska Native",
          "DENVER Urban Latina/o/x",
          "FT MORGAN/GREELEY Rural AA/Black",
          "PUEBLO Urban Latina/o/x",
          "SLV Rural Latina/o/x"
         ],
         "y": [
          52.4,
          63.9,
          57,
          74.1,
          50,
          55.2
         ]
        },
        {
         "marker": {
          "color": "#FB0D0D"
         },
         "name": "% vaccinated children for flu",
         "type": "bar",
         "x": [
          "DENVER Urban AA/Black",
          "DENVER Urban American Indian/Alaska Native",
          "DENVER Urban Latina/o/x",
          "FT MORGAN/GREELEY Rural AA/Black",
          "PUEBLO Urban Latina/o/x",
          "SLV Rural Latina/o/x"
         ],
         "y": [
          40.4,
          60.7,
          68.2,
          75,
          48.8,
          57
         ]
        }
       ],
       "layout": {
        "shapes": [
         {
          "line": {
           "color": "#2E91E5",
           "dash": "dash",
           "width": 4
          },
          "type": "line",
          "x0": -0.5,
          "x1": 5.5,
          "y0": 75.23333333333333,
          "y1": 75.23333333333333
         }
        ],
        "template": {
         "data": {
          "bar": [
           {
            "error_x": {
             "color": "#2a3f5f"
            },
            "error_y": {
             "color": "#2a3f5f"
            },
            "marker": {
             "line": {
              "color": "#E5ECF6",
              "width": 0.5
             },
             "pattern": {
              "fillmode": "overlay",
              "size": 10,
              "solidity": 0.2
             }
            },
            "type": "bar"
           }
          ],
          "barpolar": [
           {
            "marker": {
             "line": {
              "color": "#E5ECF6",
              "width": 0.5
             },
             "pattern": {
              "fillmode": "overlay",
              "size": 10,
              "solidity": 0.2
             }
            },
            "type": "barpolar"
           }
          ],
          "carpet": [
           {
            "aaxis": {
             "endlinecolor": "#2a3f5f",
             "gridcolor": "white",
             "linecolor": "white",
             "minorgridcolor": "white",
             "startlinecolor": "#2a3f5f"
            },
            "baxis": {
             "endlinecolor": "#2a3f5f",
             "gridcolor": "white",
             "linecolor": "white",
             "minorgridcolor": "white",
             "startlinecolor": "#2a3f5f"
            },
            "type": "carpet"
           }
          ],
          "choropleth": [
           {
            "colorbar": {
             "outlinewidth": 0,
             "ticks": ""
            },
            "type": "choropleth"
           }
          ],
          "contour": [
           {
            "colorbar": {
             "outlinewidth": 0,
             "ticks": ""
            },
            "colorscale": [
             [
              0,
              "#0d0887"
             ],
             [
              0.1111111111111111,
              "#46039f"
             ],
             [
              0.2222222222222222,
              "#7201a8"
             ],
             [
              0.3333333333333333,
              "#9c179e"
             ],
             [
              0.4444444444444444,
              "#bd3786"
             ],
             [
              0.5555555555555556,
              "#d8576b"
             ],
             [
              0.6666666666666666,
              "#ed7953"
             ],
             [
              0.7777777777777778,
              "#fb9f3a"
             ],
             [
              0.8888888888888888,
              "#fdca26"
             ],
             [
              1,
              "#f0f921"
             ]
            ],
            "type": "contour"
           }
          ],
          "contourcarpet": [
           {
            "colorbar": {
             "outlinewidth": 0,
             "ticks": ""
            },
            "type": "contourcarpet"
           }
          ],
          "heatmap": [
           {
            "colorbar": {
             "outlinewidth": 0,
             "ticks": ""
            },
            "colorscale": [
             [
              0,
              "#0d0887"
             ],
             [
              0.1111111111111111,
              "#46039f"
             ],
             [
              0.2222222222222222,
              "#7201a8"
             ],
             [
              0.3333333333333333,
              "#9c179e"
             ],
             [
              0.4444444444444444,
              "#bd3786"
             ],
             [
              0.5555555555555556,
              "#d8576b"
             ],
             [
              0.6666666666666666,
              "#ed7953"
             ],
             [
              0.7777777777777778,
              "#fb9f3a"
             ],
             [
              0.8888888888888888,
              "#fdca26"
             ],
             [
              1,
              "#f0f921"
             ]
            ],
            "type": "heatmap"
           }
          ],
          "heatmapgl": [
           {
            "colorbar": {
             "outlinewidth": 0,
             "ticks": ""
            },
            "colorscale": [
             [
              0,
              "#0d0887"
             ],
             [
              0.1111111111111111,
              "#46039f"
             ],
             [
              0.2222222222222222,
              "#7201a8"
             ],
             [
              0.3333333333333333,
              "#9c179e"
             ],
             [
              0.4444444444444444,
              "#bd3786"
             ],
             [
              0.5555555555555556,
              "#d8576b"
             ],
             [
              0.6666666666666666,
              "#ed7953"
             ],
             [
              0.7777777777777778,
              "#fb9f3a"
             ],
             [
              0.8888888888888888,
              "#fdca26"
             ],
             [
              1,
              "#f0f921"
             ]
            ],
            "type": "heatmapgl"
           }
          ],
          "histogram": [
           {
            "marker": {
             "pattern": {
              "fillmode": "overlay",
              "size": 10,
              "solidity": 0.2
             }
            },
            "type": "histogram"
           }
          ],
          "histogram2d": [
           {
            "colorbar": {
             "outlinewidth": 0,
             "ticks": ""
            },
            "colorscale": [
             [
              0,
              "#0d0887"
             ],
             [
              0.1111111111111111,
              "#46039f"
             ],
             [
              0.2222222222222222,
              "#7201a8"
             ],
             [
              0.3333333333333333,
              "#9c179e"
             ],
             [
              0.4444444444444444,
              "#bd3786"
             ],
             [
              0.5555555555555556,
              "#d8576b"
             ],
             [
              0.6666666666666666,
              "#ed7953"
             ],
             [
              0.7777777777777778,
              "#fb9f3a"
             ],
             [
              0.8888888888888888,
              "#fdca26"
             ],
             [
              1,
              "#f0f921"
             ]
            ],
            "type": "histogram2d"
           }
          ],
          "histogram2dcontour": [
           {
            "colorbar": {
             "outlinewidth": 0,
             "ticks": ""
            },
            "colorscale": [
             [
              0,
              "#0d0887"
             ],
             [
              0.1111111111111111,
              "#46039f"
             ],
             [
              0.2222222222222222,
              "#7201a8"
             ],
             [
              0.3333333333333333,
              "#9c179e"
             ],
             [
              0.4444444444444444,
              "#bd3786"
             ],
             [
              0.5555555555555556,
              "#d8576b"
             ],
             [
              0.6666666666666666,
              "#ed7953"
             ],
             [
              0.7777777777777778,
              "#fb9f3a"
             ],
             [
              0.8888888888888888,
              "#fdca26"
             ],
             [
              1,
              "#f0f921"
             ]
            ],
            "type": "histogram2dcontour"
           }
          ],
          "mesh3d": [
           {
            "colorbar": {
             "outlinewidth": 0,
             "ticks": ""
            },
            "type": "mesh3d"
           }
          ],
          "parcoords": [
           {
            "line": {
             "colorbar": {
              "outlinewidth": 0,
              "ticks": ""
             }
            },
            "type": "parcoords"
           }
          ],
          "pie": [
           {
            "automargin": true,
            "type": "pie"
           }
          ],
          "scatter": [
           {
            "fillpattern": {
             "fillmode": "overlay",
             "size": 10,
             "solidity": 0.2
            },
            "type": "scatter"
           }
          ],
          "scatter3d": [
           {
            "line": {
             "colorbar": {
              "outlinewidth": 0,
              "ticks": ""
             }
            },
            "marker": {
             "colorbar": {
              "outlinewidth": 0,
              "ticks": ""
             }
            },
            "type": "scatter3d"
           }
          ],
          "scattercarpet": [
           {
            "marker": {
             "colorbar": {
              "outlinewidth": 0,
              "ticks": ""
             }
            },
            "type": "scattercarpet"
           }
          ],
          "scattergeo": [
           {
            "marker": {
             "colorbar": {
              "outlinewidth": 0,
              "ticks": ""
             }
            },
            "type": "scattergeo"
           }
          ],
          "scattergl": [
           {
            "marker": {
             "colorbar": {
              "outlinewidth": 0,
              "ticks": ""
             }
            },
            "type": "scattergl"
           }
          ],
          "scattermapbox": [
           {
            "marker": {
             "colorbar": {
              "outlinewidth": 0,
              "ticks": ""
             }
            },
            "type": "scattermapbox"
           }
          ],
          "scatterpolar": [
           {
            "marker": {
             "colorbar": {
              "outlinewidth": 0,
              "ticks": ""
             }
            },
            "type": "scatterpolar"
           }
          ],
          "scatterpolargl": [
           {
            "marker": {
             "colorbar": {
              "outlinewidth": 0,
              "ticks": ""
             }
            },
            "type": "scatterpolargl"
           }
          ],
          "scatterternary": [
           {
            "marker": {
             "colorbar": {
              "outlinewidth": 0,
              "ticks": ""
             }
            },
            "type": "scatterternary"
           }
          ],
          "surface": [
           {
            "colorbar": {
             "outlinewidth": 0,
             "ticks": ""
            },
            "colorscale": [
             [
              0,
              "#0d0887"
             ],
             [
              0.1111111111111111,
              "#46039f"
             ],
             [
              0.2222222222222222,
              "#7201a8"
             ],
             [
              0.3333333333333333,
              "#9c179e"
             ],
             [
              0.4444444444444444,
              "#bd3786"
             ],
             [
              0.5555555555555556,
              "#d8576b"
             ],
             [
              0.6666666666666666,
              "#ed7953"
             ],
             [
              0.7777777777777778,
              "#fb9f3a"
             ],
             [
              0.8888888888888888,
              "#fdca26"
             ],
             [
              1,
              "#f0f921"
             ]
            ],
            "type": "surface"
           }
          ],
          "table": [
           {
            "cells": {
             "fill": {
              "color": "#EBF0F8"
             },
             "line": {
              "color": "white"
             }
            },
            "header": {
             "fill": {
              "color": "#C8D4E3"
             },
             "line": {
              "color": "white"
             }
            },
            "type": "table"
           }
          ]
         },
         "layout": {
          "annotationdefaults": {
           "arrowcolor": "#2a3f5f",
           "arrowhead": 0,
           "arrowwidth": 1
          },
          "autotypenumbers": "strict",
          "coloraxis": {
           "colorbar": {
            "outlinewidth": 0,
            "ticks": ""
           }
          },
          "colorscale": {
           "diverging": [
            [
             0,
             "#8e0152"
            ],
            [
             0.1,
             "#c51b7d"
            ],
            [
             0.2,
             "#de77ae"
            ],
            [
             0.3,
             "#f1b6da"
            ],
            [
             0.4,
             "#fde0ef"
            ],
            [
             0.5,
             "#f7f7f7"
            ],
            [
             0.6,
             "#e6f5d0"
            ],
            [
             0.7,
             "#b8e186"
            ],
            [
             0.8,
             "#7fbc41"
            ],
            [
             0.9,
             "#4d9221"
            ],
            [
             1,
             "#276419"
            ]
           ],
           "sequential": [
            [
             0,
             "#0d0887"
            ],
            [
             0.1111111111111111,
             "#46039f"
            ],
            [
             0.2222222222222222,
             "#7201a8"
            ],
            [
             0.3333333333333333,
             "#9c179e"
            ],
            [
             0.4444444444444444,
             "#bd3786"
            ],
            [
             0.5555555555555556,
             "#d8576b"
            ],
            [
             0.6666666666666666,
             "#ed7953"
            ],
            [
             0.7777777777777778,
             "#fb9f3a"
            ],
            [
             0.8888888888888888,
             "#fdca26"
            ],
            [
             1,
             "#f0f921"
            ]
           ],
           "sequentialminus": [
            [
             0,
             "#0d0887"
            ],
            [
             0.1111111111111111,
             "#46039f"
            ],
            [
             0.2222222222222222,
             "#7201a8"
            ],
            [
             0.3333333333333333,
             "#9c179e"
            ],
            [
             0.4444444444444444,
             "#bd3786"
            ],
            [
             0.5555555555555556,
             "#d8576b"
            ],
            [
             0.6666666666666666,
             "#ed7953"
            ],
            [
             0.7777777777777778,
             "#fb9f3a"
            ],
            [
             0.8888888888888888,
             "#fdca26"
            ],
            [
             1,
             "#f0f921"
            ]
           ]
          },
          "colorway": [
           "#636efa",
           "#EF553B",
           "#00cc96",
           "#ab63fa",
           "#FFA15A",
           "#19d3f3",
           "#FF6692",
           "#B6E880",
           "#FF97FF",
           "#FECB52"
          ],
          "font": {
           "color": "#2a3f5f"
          },
          "geo": {
           "bgcolor": "white",
           "lakecolor": "white",
           "landcolor": "#E5ECF6",
           "showlakes": true,
           "showland": true,
           "subunitcolor": "white"
          },
          "hoverlabel": {
           "align": "left"
          },
          "hovermode": "closest",
          "mapbox": {
           "style": "light"
          },
          "paper_bgcolor": "white",
          "plot_bgcolor": "#E5ECF6",
          "polar": {
           "angularaxis": {
            "gridcolor": "white",
            "linecolor": "white",
            "ticks": ""
           },
           "bgcolor": "#E5ECF6",
           "radialaxis": {
            "gridcolor": "white",
            "linecolor": "white",
            "ticks": ""
           }
          },
          "scene": {
           "xaxis": {
            "backgroundcolor": "#E5ECF6",
            "gridcolor": "white",
            "gridwidth": 2,
            "linecolor": "white",
            "showbackground": true,
            "ticks": "",
            "zerolinecolor": "white"
           },
           "yaxis": {
            "backgroundcolor": "#E5ECF6",
            "gridcolor": "white",
            "gridwidth": 2,
            "linecolor": "white",
            "showbackground": true,
            "ticks": "",
            "zerolinecolor": "white"
           },
           "zaxis": {
            "backgroundcolor": "#E5ECF6",
            "gridcolor": "white",
            "gridwidth": 2,
            "linecolor": "white",
            "showbackground": true,
            "ticks": "",
            "zerolinecolor": "white"
           }
          },
          "shapedefaults": {
           "line": {
            "color": "#2a3f5f"
           }
          },
          "ternary": {
           "aaxis": {
            "gridcolor": "white",
            "linecolor": "white",
            "ticks": ""
           },
           "baxis": {
            "gridcolor": "white",
            "linecolor": "white",
            "ticks": ""
           },
           "bgcolor": "#E5ECF6",
           "caxis": {
            "gridcolor": "white",
            "linecolor": "white",
            "ticks": ""
           }
          },
          "title": {
           "x": 0.05
          },
          "xaxis": {
           "automargin": true,
           "gridcolor": "white",
           "linecolor": "white",
           "ticks": "",
           "title": {
            "standoff": 15
           },
           "zerolinecolor": "white",
           "zerolinewidth": 2
          },
          "yaxis": {
           "automargin": true,
           "gridcolor": "white",
           "linecolor": "white",
           "ticks": "",
           "title": {
            "standoff": 15
           },
           "zerolinecolor": "white",
           "zerolinewidth": 2
          }
         }
        }
       }
      }
     },
     "metadata": {},
     "output_type": "display_data"
    }
   ],
   "source": [
    "fig = go.Figure(data=[\n",
    "go.Bar(name='% tested for COVID', x=vaccine_df['Community'], y=vaccine_df['% tested for COVID'], marker_color=px.colors.qualitative.Dark24[0]),\n",
    "go.Bar(name='% tested positive for COVID', x=vaccine_df['Community'], y=vaccine_df['% tested positive for COVID'], marker_color=px.colors.qualitative.Dark24[1]),\n",
    "go.Bar(name='% vaccinated for flu', x=vaccine_df['Community'], y=vaccine_df['% vaccinated for flu'], marker_color=px.colors.qualitative.Dark24[2]),\n",
    "go.Bar(name='% vaccinated children for flu', x=vaccine_df['Community'], y=vaccine_df['% vaccinated children for flu'], marker_color=px.colors.qualitative.Dark24[3])\n",
    "])\n",
    "\n",
    "fig.add_shape(type=\"line\", line=dict(dash=\"dash\", width=4, color=px.colors.qualitative.Dark24[0]), y0=avg_tested_for_covid, y1=avg_tested_for_covid,x0=0-0.5,x1=vaccine_df.shape[0]-0.5)\n",
    "\n",
    "\n",
    "fig.show()"
   ]
  },
  {
   "cell_type": "code",
   "execution_count": 46,
   "metadata": {},
   "outputs": [
    {
     "data": {
      "text/plain": [
       "['trust_ceal_friendsfam',\n",
       " 'trust_ceal_coworkers',\n",
       " 'trust_ceal_news',\n",
       " 'trust_ceal2_fedgov',\n",
       " 'trust_ceal2_stgov',\n",
       " 'trust_ceal2_cdc',\n",
       " 'trust_ceal_dr_r2',\n",
       " 'trust_ceal_faith_r2',\n",
       " 'trust_ceal_socialmed_r2',\n",
       " 'trust_ceal2_tribal',\n",
       " 'trust_ceal2_commorg']"
      ]
     },
     "execution_count": 46,
     "metadata": {},
     "output_type": "execute_result"
    }
   ],
   "source": [
    "trust_cols = [col for col in wave2_df.columns if 'trust_ceal' in col and 'trial' not in col]\n",
    "trust_cols"
   ]
  },
  {
   "cell_type": "code",
   "execution_count": 73,
   "metadata": {},
   "outputs": [
    {
     "data": {
      "text/html": [
       "<div>\n",
       "<style scoped>\n",
       "    .dataframe tbody tr th:only-of-type {\n",
       "        vertical-align: middle;\n",
       "    }\n",
       "\n",
       "    .dataframe tbody tr th {\n",
       "        vertical-align: top;\n",
       "    }\n",
       "\n",
       "    .dataframe thead th {\n",
       "        text-align: right;\n",
       "    }\n",
       "</style>\n",
       "<table border=\"1\" class=\"dataframe\">\n",
       "  <thead>\n",
       "    <tr style=\"text-align: right;\">\n",
       "      <th></th>\n",
       "      <th>Community</th>\n",
       "      <th>trust_ceal_friendsfam</th>\n",
       "      <th>trust_ceal_coworkers</th>\n",
       "      <th>trust_ceal_news</th>\n",
       "      <th>trust_ceal2_fedgov</th>\n",
       "      <th>trust_ceal2_stgov</th>\n",
       "      <th>trust_ceal2_cdc</th>\n",
       "      <th>trust_ceal_dr_r2</th>\n",
       "      <th>trust_ceal_faith_r2</th>\n",
       "      <th>trust_ceal_socialmed_r2</th>\n",
       "      <th>trust_ceal2_tribal</th>\n",
       "      <th>trust_ceal2_commorg</th>\n",
       "      <th>trust_avg</th>\n",
       "    </tr>\n",
       "  </thead>\n",
       "  <tbody>\n",
       "    <tr>\n",
       "      <th>0</th>\n",
       "      <td>DENVER Urban AA/Black</td>\n",
       "      <td>1.346154</td>\n",
       "      <td>0.892045</td>\n",
       "      <td>1.116667</td>\n",
       "      <td>1.039326</td>\n",
       "      <td>1.134831</td>\n",
       "      <td>1.342697</td>\n",
       "      <td>1.672316</td>\n",
       "      <td>1.30137</td>\n",
       "      <td>0.553333</td>\n",
       "      <td>0.698413</td>\n",
       "      <td>1.070423</td>\n",
       "      <td>1.106143</td>\n",
       "    </tr>\n",
       "    <tr>\n",
       "      <th>1</th>\n",
       "      <td>DENVER Urban American Indian/Alaska Native</td>\n",
       "      <td>1.440678</td>\n",
       "      <td>1.169492</td>\n",
       "      <td>1.116667</td>\n",
       "      <td>1.152542</td>\n",
       "      <td>1.224138</td>\n",
       "      <td>1.474576</td>\n",
       "      <td>1.77193</td>\n",
       "      <td>1.040816</td>\n",
       "      <td>0.637931</td>\n",
       "      <td>1.089286</td>\n",
       "      <td>1.163636</td>\n",
       "      <td>1.207427</td>\n",
       "    </tr>\n",
       "    <tr>\n",
       "      <th>2</th>\n",
       "      <td>DENVER Urban Latina/o/x</td>\n",
       "      <td>1.10219</td>\n",
       "      <td>0.790698</td>\n",
       "      <td>1.029197</td>\n",
       "      <td>1.035971</td>\n",
       "      <td>1.101449</td>\n",
       "      <td>1.514286</td>\n",
       "      <td>1.656</td>\n",
       "      <td>0.75</td>\n",
       "      <td>0.459677</td>\n",
       "      <td>0.542857</td>\n",
       "      <td>0.990196</td>\n",
       "      <td>0.997502</td>\n",
       "    </tr>\n",
       "    <tr>\n",
       "      <th>3</th>\n",
       "      <td>FT MORGAN/GREELEY Rural AA/Black</td>\n",
       "      <td>1.469945</td>\n",
       "      <td>1.394444</td>\n",
       "      <td>1.17033</td>\n",
       "      <td>1.81768</td>\n",
       "      <td>1.865169</td>\n",
       "      <td>1.883333</td>\n",
       "      <td>1.954286</td>\n",
       "      <td>1.595376</td>\n",
       "      <td>1.212291</td>\n",
       "      <td>1.241379</td>\n",
       "      <td>1.543353</td>\n",
       "      <td>1.558871</td>\n",
       "    </tr>\n",
       "    <tr>\n",
       "      <th>4</th>\n",
       "      <td>PUEBLO Urban Latina/o/x</td>\n",
       "      <td>1.360825</td>\n",
       "      <td>1.095745</td>\n",
       "      <td>0.90625</td>\n",
       "      <td>0.902174</td>\n",
       "      <td>0.989247</td>\n",
       "      <td>1.166667</td>\n",
       "      <td>1.715789</td>\n",
       "      <td>1.1875</td>\n",
       "      <td>0.703704</td>\n",
       "      <td>0.711538</td>\n",
       "      <td>1.265823</td>\n",
       "      <td>1.091387</td>\n",
       "    </tr>\n",
       "    <tr>\n",
       "      <th>5</th>\n",
       "      <td>SLV Rural Latina/o/x</td>\n",
       "      <td>1.357143</td>\n",
       "      <td>1.05618</td>\n",
       "      <td>1.049724</td>\n",
       "      <td>1.166667</td>\n",
       "      <td>1.172222</td>\n",
       "      <td>1.344444</td>\n",
       "      <td>1.63587</td>\n",
       "      <td>1.204082</td>\n",
       "      <td>0.66242</td>\n",
       "      <td>0.715686</td>\n",
       "      <td>1.068493</td>\n",
       "      <td>1.130266</td>\n",
       "    </tr>\n",
       "  </tbody>\n",
       "</table>\n",
       "</div>"
      ],
      "text/plain": [
       "                                    Community trust_ceal_friendsfam  \\\n",
       "0                       DENVER Urban AA/Black              1.346154   \n",
       "1  DENVER Urban American Indian/Alaska Native              1.440678   \n",
       "2                     DENVER Urban Latina/o/x               1.10219   \n",
       "3            FT MORGAN/GREELEY Rural AA/Black              1.469945   \n",
       "4                     PUEBLO Urban Latina/o/x              1.360825   \n",
       "5                        SLV Rural Latina/o/x              1.357143   \n",
       "\n",
       "  trust_ceal_coworkers trust_ceal_news trust_ceal2_fedgov trust_ceal2_stgov  \\\n",
       "0             0.892045        1.116667           1.039326          1.134831   \n",
       "1             1.169492        1.116667           1.152542          1.224138   \n",
       "2             0.790698        1.029197           1.035971          1.101449   \n",
       "3             1.394444         1.17033            1.81768          1.865169   \n",
       "4             1.095745         0.90625           0.902174          0.989247   \n",
       "5              1.05618        1.049724           1.166667          1.172222   \n",
       "\n",
       "  trust_ceal2_cdc trust_ceal_dr_r2 trust_ceal_faith_r2  \\\n",
       "0        1.342697         1.672316             1.30137   \n",
       "1        1.474576          1.77193            1.040816   \n",
       "2        1.514286            1.656                0.75   \n",
       "3        1.883333         1.954286            1.595376   \n",
       "4        1.166667         1.715789              1.1875   \n",
       "5        1.344444          1.63587            1.204082   \n",
       "\n",
       "  trust_ceal_socialmed_r2 trust_ceal2_tribal trust_ceal2_commorg trust_avg  \n",
       "0                0.553333           0.698413            1.070423  1.106143  \n",
       "1                0.637931           1.089286            1.163636  1.207427  \n",
       "2                0.459677           0.542857            0.990196  0.997502  \n",
       "3                1.212291           1.241379            1.543353  1.558871  \n",
       "4                0.703704           0.711538            1.265823  1.091387  \n",
       "5                 0.66242           0.715686            1.068493  1.130266  "
      ]
     },
     "execution_count": 73,
     "metadata": {},
     "output_type": "execute_result"
    }
   ],
   "source": [
    "temp_df = wave2_df.copy()\n",
    "trust_cols = [col for col in temp_df.columns if 'trust_ceal' in col and 'trial' not in col]\n",
    "temp_df[trust_cols] = temp_df[trust_cols].replace(98, None)\n",
    "temp_df[trust_cols] = temp_df[trust_cols].replace(990, None)\n",
    "temp_df = temp_df.groupby('Community')[trust_cols].mean().reset_index()\n",
    "temp_df['trust_avg'] = temp_df[trust_cols].mean(axis=1)\n",
    "temp_df"
   ]
  },
  {
   "cell_type": "code",
   "execution_count": 74,
   "metadata": {},
   "outputs": [
    {
     "data": {
      "text/html": [
       "<div>\n",
       "<style scoped>\n",
       "    .dataframe tbody tr th:only-of-type {\n",
       "        vertical-align: middle;\n",
       "    }\n",
       "\n",
       "    .dataframe tbody tr th {\n",
       "        vertical-align: top;\n",
       "    }\n",
       "\n",
       "    .dataframe thead th {\n",
       "        text-align: right;\n",
       "    }\n",
       "</style>\n",
       "<table border=\"1\" class=\"dataframe\">\n",
       "  <thead>\n",
       "    <tr style=\"text-align: right;\">\n",
       "      <th></th>\n",
       "      <th>Community</th>\n",
       "      <th>variable</th>\n",
       "      <th>value</th>\n",
       "    </tr>\n",
       "  </thead>\n",
       "  <tbody>\n",
       "    <tr>\n",
       "      <th>0</th>\n",
       "      <td>DENVER Urban AA/Black</td>\n",
       "      <td>trust_ceal_friendsfam</td>\n",
       "      <td>1.346154</td>\n",
       "    </tr>\n",
       "    <tr>\n",
       "      <th>1</th>\n",
       "      <td>DENVER Urban American Indian/Alaska Native</td>\n",
       "      <td>trust_ceal_friendsfam</td>\n",
       "      <td>1.440678</td>\n",
       "    </tr>\n",
       "    <tr>\n",
       "      <th>2</th>\n",
       "      <td>DENVER Urban Latina/o/x</td>\n",
       "      <td>trust_ceal_friendsfam</td>\n",
       "      <td>1.10219</td>\n",
       "    </tr>\n",
       "    <tr>\n",
       "      <th>3</th>\n",
       "      <td>FT MORGAN/GREELEY Rural AA/Black</td>\n",
       "      <td>trust_ceal_friendsfam</td>\n",
       "      <td>1.469945</td>\n",
       "    </tr>\n",
       "    <tr>\n",
       "      <th>4</th>\n",
       "      <td>PUEBLO Urban Latina/o/x</td>\n",
       "      <td>trust_ceal_friendsfam</td>\n",
       "      <td>1.360825</td>\n",
       "    </tr>\n",
       "    <tr>\n",
       "      <th>...</th>\n",
       "      <td>...</td>\n",
       "      <td>...</td>\n",
       "      <td>...</td>\n",
       "    </tr>\n",
       "    <tr>\n",
       "      <th>67</th>\n",
       "      <td>DENVER Urban American Indian/Alaska Native</td>\n",
       "      <td>trust_avg</td>\n",
       "      <td>1.207427</td>\n",
       "    </tr>\n",
       "    <tr>\n",
       "      <th>68</th>\n",
       "      <td>DENVER Urban Latina/o/x</td>\n",
       "      <td>trust_avg</td>\n",
       "      <td>0.997502</td>\n",
       "    </tr>\n",
       "    <tr>\n",
       "      <th>69</th>\n",
       "      <td>FT MORGAN/GREELEY Rural AA/Black</td>\n",
       "      <td>trust_avg</td>\n",
       "      <td>1.558871</td>\n",
       "    </tr>\n",
       "    <tr>\n",
       "      <th>70</th>\n",
       "      <td>PUEBLO Urban Latina/o/x</td>\n",
       "      <td>trust_avg</td>\n",
       "      <td>1.091387</td>\n",
       "    </tr>\n",
       "    <tr>\n",
       "      <th>71</th>\n",
       "      <td>SLV Rural Latina/o/x</td>\n",
       "      <td>trust_avg</td>\n",
       "      <td>1.130266</td>\n",
       "    </tr>\n",
       "  </tbody>\n",
       "</table>\n",
       "<p>72 rows × 3 columns</p>\n",
       "</div>"
      ],
      "text/plain": [
       "                                     Community               variable  \\\n",
       "0                        DENVER Urban AA/Black  trust_ceal_friendsfam   \n",
       "1   DENVER Urban American Indian/Alaska Native  trust_ceal_friendsfam   \n",
       "2                      DENVER Urban Latina/o/x  trust_ceal_friendsfam   \n",
       "3             FT MORGAN/GREELEY Rural AA/Black  trust_ceal_friendsfam   \n",
       "4                      PUEBLO Urban Latina/o/x  trust_ceal_friendsfam   \n",
       "..                                         ...                    ...   \n",
       "67  DENVER Urban American Indian/Alaska Native              trust_avg   \n",
       "68                     DENVER Urban Latina/o/x              trust_avg   \n",
       "69            FT MORGAN/GREELEY Rural AA/Black              trust_avg   \n",
       "70                     PUEBLO Urban Latina/o/x              trust_avg   \n",
       "71                        SLV Rural Latina/o/x              trust_avg   \n",
       "\n",
       "       value  \n",
       "0   1.346154  \n",
       "1   1.440678  \n",
       "2    1.10219  \n",
       "3   1.469945  \n",
       "4   1.360825  \n",
       "..       ...  \n",
       "67  1.207427  \n",
       "68  0.997502  \n",
       "69  1.558871  \n",
       "70  1.091387  \n",
       "71  1.130266  \n",
       "\n",
       "[72 rows x 3 columns]"
      ]
     },
     "execution_count": 74,
     "metadata": {},
     "output_type": "execute_result"
    }
   ],
   "source": [
    "temp_df_melted = pd.melt(temp_df, id_vars=[\"Community\"], var_name=\"variable\", value_name=\"value\")\n",
    "temp_df_melted"
   ]
  },
  {
   "cell_type": "code",
   "execution_count": 75,
   "metadata": {},
   "outputs": [
    {
     "data": {
      "text/html": [
       "<div>\n",
       "<style scoped>\n",
       "    .dataframe tbody tr th:only-of-type {\n",
       "        vertical-align: middle;\n",
       "    }\n",
       "\n",
       "    .dataframe tbody tr th {\n",
       "        vertical-align: top;\n",
       "    }\n",
       "\n",
       "    .dataframe thead th {\n",
       "        text-align: right;\n",
       "    }\n",
       "</style>\n",
       "<table border=\"1\" class=\"dataframe\">\n",
       "  <thead>\n",
       "    <tr style=\"text-align: right;\">\n",
       "      <th></th>\n",
       "      <th>Community</th>\n",
       "      <th>variable</th>\n",
       "      <th>value</th>\n",
       "    </tr>\n",
       "  </thead>\n",
       "  <tbody>\n",
       "    <tr>\n",
       "      <th>5</th>\n",
       "      <td>SLV Rural Latina/o/x</td>\n",
       "      <td>trust_ceal_friendsfam</td>\n",
       "      <td>1.357143</td>\n",
       "    </tr>\n",
       "    <tr>\n",
       "      <th>11</th>\n",
       "      <td>SLV Rural Latina/o/x</td>\n",
       "      <td>trust_ceal_coworkers</td>\n",
       "      <td>1.05618</td>\n",
       "    </tr>\n",
       "    <tr>\n",
       "      <th>17</th>\n",
       "      <td>SLV Rural Latina/o/x</td>\n",
       "      <td>trust_ceal_news</td>\n",
       "      <td>1.049724</td>\n",
       "    </tr>\n",
       "    <tr>\n",
       "      <th>23</th>\n",
       "      <td>SLV Rural Latina/o/x</td>\n",
       "      <td>trust_ceal2_fedgov</td>\n",
       "      <td>1.166667</td>\n",
       "    </tr>\n",
       "    <tr>\n",
       "      <th>29</th>\n",
       "      <td>SLV Rural Latina/o/x</td>\n",
       "      <td>trust_ceal2_stgov</td>\n",
       "      <td>1.172222</td>\n",
       "    </tr>\n",
       "    <tr>\n",
       "      <th>35</th>\n",
       "      <td>SLV Rural Latina/o/x</td>\n",
       "      <td>trust_ceal2_cdc</td>\n",
       "      <td>1.344444</td>\n",
       "    </tr>\n",
       "    <tr>\n",
       "      <th>41</th>\n",
       "      <td>SLV Rural Latina/o/x</td>\n",
       "      <td>trust_ceal_dr_r2</td>\n",
       "      <td>1.63587</td>\n",
       "    </tr>\n",
       "    <tr>\n",
       "      <th>47</th>\n",
       "      <td>SLV Rural Latina/o/x</td>\n",
       "      <td>trust_ceal_faith_r2</td>\n",
       "      <td>1.204082</td>\n",
       "    </tr>\n",
       "    <tr>\n",
       "      <th>53</th>\n",
       "      <td>SLV Rural Latina/o/x</td>\n",
       "      <td>trust_ceal_socialmed_r2</td>\n",
       "      <td>0.66242</td>\n",
       "    </tr>\n",
       "    <tr>\n",
       "      <th>59</th>\n",
       "      <td>SLV Rural Latina/o/x</td>\n",
       "      <td>trust_ceal2_tribal</td>\n",
       "      <td>0.715686</td>\n",
       "    </tr>\n",
       "    <tr>\n",
       "      <th>65</th>\n",
       "      <td>SLV Rural Latina/o/x</td>\n",
       "      <td>trust_ceal2_commorg</td>\n",
       "      <td>1.068493</td>\n",
       "    </tr>\n",
       "    <tr>\n",
       "      <th>71</th>\n",
       "      <td>SLV Rural Latina/o/x</td>\n",
       "      <td>trust_avg</td>\n",
       "      <td>1.130266</td>\n",
       "    </tr>\n",
       "  </tbody>\n",
       "</table>\n",
       "</div>"
      ],
      "text/plain": [
       "               Community                 variable     value\n",
       "5   SLV Rural Latina/o/x    trust_ceal_friendsfam  1.357143\n",
       "11  SLV Rural Latina/o/x     trust_ceal_coworkers   1.05618\n",
       "17  SLV Rural Latina/o/x          trust_ceal_news  1.049724\n",
       "23  SLV Rural Latina/o/x       trust_ceal2_fedgov  1.166667\n",
       "29  SLV Rural Latina/o/x        trust_ceal2_stgov  1.172222\n",
       "35  SLV Rural Latina/o/x          trust_ceal2_cdc  1.344444\n",
       "41  SLV Rural Latina/o/x         trust_ceal_dr_r2   1.63587\n",
       "47  SLV Rural Latina/o/x      trust_ceal_faith_r2  1.204082\n",
       "53  SLV Rural Latina/o/x  trust_ceal_socialmed_r2   0.66242\n",
       "59  SLV Rural Latina/o/x       trust_ceal2_tribal  0.715686\n",
       "65  SLV Rural Latina/o/x      trust_ceal2_commorg  1.068493\n",
       "71  SLV Rural Latina/o/x                trust_avg  1.130266"
      ]
     },
     "execution_count": 75,
     "metadata": {},
     "output_type": "execute_result"
    }
   ],
   "source": [
    "temp_df_melted[temp_df_melted['Community']=='SLV Rural Latina/o/x']"
   ]
  },
  {
   "cell_type": "code",
   "execution_count": 77,
   "metadata": {},
   "outputs": [
    {
     "data": {
      "text/plain": [
       "array(['trust_ceal_friendsfam', 'trust_ceal_coworkers', 'trust_ceal_news',\n",
       "       'trust_ceal2_fedgov', 'trust_ceal2_stgov', 'trust_ceal2_cdc',\n",
       "       'trust_ceal_dr_r2', 'trust_ceal_faith_r2',\n",
       "       'trust_ceal_socialmed_r2', 'trust_ceal2_tribal',\n",
       "       'trust_ceal2_commorg', 'trust_avg'], dtype=object)"
      ]
     },
     "execution_count": 77,
     "metadata": {},
     "output_type": "execute_result"
    }
   ],
   "source": [
    "temp_df_melted['variable'].unique()"
   ]
  },
  {
   "cell_type": "code",
   "execution_count": null,
   "metadata": {},
   "outputs": [],
   "source": []
  }
 ],
 "metadata": {
  "kernelspec": {
   "display_name": "venv",
   "language": "python",
   "name": "python3"
  },
  "language_info": {
   "codemirror_mode": {
    "name": "ipython",
    "version": 3
   },
   "file_extension": ".py",
   "mimetype": "text/x-python",
   "name": "python",
   "nbconvert_exporter": "python",
   "pygments_lexer": "ipython3",
   "version": "3.9.1"
  }
 },
 "nbformat": 4,
 "nbformat_minor": 2
}
